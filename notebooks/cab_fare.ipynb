{
 "cells": [
  {
   "cell_type": "markdown",
   "metadata": {},
   "source": [
    "## Predict cab fare\n"
   ]
  },
  {
   "cell_type": "code",
   "execution_count": 1,
   "metadata": {},
   "outputs": [
    {
     "name": "stderr",
     "output_type": "stream",
     "text": [
      "Using TensorFlow backend.\n"
     ]
    }
   ],
   "source": [
    "import sys\n",
    "#Change path to wherever you place this project\n",
    "sys.path.append('C:\\\\Users\\\\PAT\\\\Documents\\\\edwisor\\\\projects\\\\cab_fare')\n",
    "\n",
    "#Do all imports\n",
    "from cab_fare import *\n",
    "from cab_fare.config import *\n",
    "from utils import *\n",
    "from utils.utils_ import *\n"
   ]
  },
  {
   "cell_type": "code",
   "execution_count": 2,
   "metadata": {},
   "outputs": [],
   "source": [
    "data = pd.read_csv(train_data_path,parse_dates=['pickup_datetime'])\n",
    "test = pd.read_csv(test_data_path,parse_dates=['pickup_datetime'])\n",
    "\n",
    "full_data = [data,test]\n",
    "\n"
   ]
  },
  {
   "cell_type": "code",
   "execution_count": 3,
   "metadata": {},
   "outputs": [
    {
     "data": {
      "text/html": [
       "<div>\n",
       "<style scoped>\n",
       "    .dataframe tbody tr th:only-of-type {\n",
       "        vertical-align: middle;\n",
       "    }\n",
       "\n",
       "    .dataframe tbody tr th {\n",
       "        vertical-align: top;\n",
       "    }\n",
       "\n",
       "    .dataframe thead th {\n",
       "        text-align: right;\n",
       "    }\n",
       "</style>\n",
       "<table border=\"1\" class=\"dataframe\">\n",
       "  <thead>\n",
       "    <tr style=\"text-align: right;\">\n",
       "      <th></th>\n",
       "      <th>fare_amount</th>\n",
       "      <th>pickup_datetime</th>\n",
       "      <th>pickup_longitude</th>\n",
       "      <th>pickup_latitude</th>\n",
       "      <th>dropoff_longitude</th>\n",
       "      <th>dropoff_latitude</th>\n",
       "      <th>passenger_count</th>\n",
       "    </tr>\n",
       "  </thead>\n",
       "  <tbody>\n",
       "    <tr>\n",
       "      <th>0</th>\n",
       "      <td>4.5</td>\n",
       "      <td>2009-06-15 17:26:21 UTC</td>\n",
       "      <td>-73.844311</td>\n",
       "      <td>40.721319</td>\n",
       "      <td>-73.841610</td>\n",
       "      <td>40.712278</td>\n",
       "      <td>1.0</td>\n",
       "    </tr>\n",
       "    <tr>\n",
       "      <th>1</th>\n",
       "      <td>16.9</td>\n",
       "      <td>2010-01-05 16:52:16 UTC</td>\n",
       "      <td>-74.016048</td>\n",
       "      <td>40.711303</td>\n",
       "      <td>-73.979268</td>\n",
       "      <td>40.782004</td>\n",
       "      <td>1.0</td>\n",
       "    </tr>\n",
       "  </tbody>\n",
       "</table>\n",
       "</div>"
      ],
      "text/plain": [
       "  fare_amount          pickup_datetime  pickup_longitude  pickup_latitude  \\\n",
       "0         4.5  2009-06-15 17:26:21 UTC        -73.844311        40.721319   \n",
       "1        16.9  2010-01-05 16:52:16 UTC        -74.016048        40.711303   \n",
       "\n",
       "   dropoff_longitude  dropoff_latitude  passenger_count  \n",
       "0         -73.841610         40.712278              1.0  \n",
       "1         -73.979268         40.782004              1.0  "
      ]
     },
     "execution_count": 3,
     "metadata": {},
     "output_type": "execute_result"
    }
   ],
   "source": [
    "data.head(2)"
   ]
  },
  {
   "cell_type": "code",
   "execution_count": 4,
   "metadata": {},
   "outputs": [
    {
     "data": {
      "text/plain": [
       "((16067, 7), (9914, 6))"
      ]
     },
     "execution_count": 4,
     "metadata": {},
     "output_type": "execute_result"
    }
   ],
   "source": [
    "#Size of dataset and testset\n",
    "data.shape,test.shape"
   ]
  },
  {
   "cell_type": "code",
   "execution_count": 5,
   "metadata": {},
   "outputs": [
    {
     "data": {
      "text/plain": [
       "fare_amount           object\n",
       "pickup_datetime       object\n",
       "pickup_longitude     float64\n",
       "pickup_latitude      float64\n",
       "dropoff_longitude    float64\n",
       "dropoff_latitude     float64\n",
       "passenger_count      float64\n",
       "dtype: object"
      ]
     },
     "execution_count": 5,
     "metadata": {},
     "output_type": "execute_result"
    }
   ],
   "source": [
    "data.dtypes"
   ]
  },
  {
   "cell_type": "markdown",
   "metadata": {},
   "source": [
    "#### Although passenger count is numeric in dataset, actually it has a fewer values, and hence it is not  continous but rather a discrete variable.\n",
    "- but for calculation ease, let us keep numeric and later convert to catgerical(type str/object)\n",
    "- However it wont serve any purpose to see mean,median or other statistics like 25%,75%, so label it under catgerical tag(See below)"
   ]
  },
  {
   "cell_type": "code",
   "execution_count": 6,
   "metadata": {},
   "outputs": [
    {
     "name": "stdout",
     "output_type": "stream",
     "text": [
      "Need to define this col - passenger_count in categ variable\n"
     ]
    },
    {
     "data": {
      "text/plain": [
       "(['pickup_longitude',\n",
       "  'pickup_latitude',\n",
       "  'dropoff_longitude',\n",
       "  'dropoff_latitude',\n",
       "  'passenger_count'],\n",
       " ['fare_amount', 'pickup_datetime'])"
      ]
     },
     "execution_count": 6,
     "metadata": {},
     "output_type": "execute_result"
    }
   ],
   "source": [
    "continous_names, cat_names, iv,dv,testparams = iv_dv_get_col_names_dist_based(data,'fare_amount')\n",
    "continous_names, cat_names"
   ]
  },
  {
   "cell_type": "markdown",
   "metadata": {},
   "source": [
    "# Univariate analysis"
   ]
  },
  {
   "cell_type": "markdown",
   "metadata": {},
   "source": [
    "## i. fare_amount\n",
    "- datatype conversions\n",
    "\n",
    "fare_amount is an object type, and has non-numeric characters , so lets make it numeric\n",
    "#### Negative values\n",
    "- 2 values have negative sign\n",
    "- negative sign is placed after a number has no significance, may be by mistake, so lets ignore those"
   ]
  },
  {
   "cell_type": "code",
   "execution_count": 7,
   "metadata": {},
   "outputs": [
    {
     "data": {
      "text/plain": [
       "fare_amount                             430-\n",
       "pickup_datetime      2009-09-22 19:01:01 UTC\n",
       "pickup_longitude                    -73.9796\n",
       "pickup_latitude                      40.7713\n",
       "dropoff_longitude                   -73.9758\n",
       "dropoff_latitude                      40.782\n",
       "passenger_count                            1\n",
       "Name: 1123, dtype: object"
      ]
     },
     "execution_count": 7,
     "metadata": {},
     "output_type": "execute_result"
    }
   ],
   "source": [
    "#before, notice minus sign in fare amount\n",
    "data.iloc[1123]"
   ]
  },
  {
   "cell_type": "code",
   "execution_count": 8,
   "metadata": {},
   "outputs": [
    {
     "name": "stdout",
     "output_type": "stream",
     "text": [
      "fare has these values with - sign\n",
      "430- : 1123\n",
      "-2.9 : 2039\n",
      "-2.5 : 2486\n",
      "-3 : 13032\n"
     ]
    }
   ],
   "source": [
    "#clean fare amount and convert to float\n",
    "data.fare_amount = clean_num(data,data.fare_amount,'fare_amount')\n",
    "data.fare_amount= data.fare_amount.astype('float')\n",
    "\n",
    "############# these observations decrease our model performance, and since they were negative, so deleting\n",
    "#drop these indexes of negative fares\n",
    "data = data.drop([1123,2039,2486,13032]).reset_index().drop('index',axis=1)\n",
    "\n",
    "\n",
    "\n",
    "\n"
   ]
  },
  {
   "cell_type": "code",
   "execution_count": 9,
   "metadata": {},
   "outputs": [
    {
     "data": {
      "text/html": [
       "<div>\n",
       "<style scoped>\n",
       "    .dataframe tbody tr th:only-of-type {\n",
       "        vertical-align: middle;\n",
       "    }\n",
       "\n",
       "    .dataframe tbody tr th {\n",
       "        vertical-align: top;\n",
       "    }\n",
       "\n",
       "    .dataframe thead th {\n",
       "        text-align: right;\n",
       "    }\n",
       "</style>\n",
       "<table border=\"1\" class=\"dataframe\">\n",
       "  <thead>\n",
       "    <tr style=\"text-align: right;\">\n",
       "      <th></th>\n",
       "      <th>fare_amount</th>\n",
       "      <th>pickup_datetime</th>\n",
       "      <th>pickup_longitude</th>\n",
       "      <th>pickup_latitude</th>\n",
       "      <th>dropoff_longitude</th>\n",
       "      <th>dropoff_latitude</th>\n",
       "      <th>passenger_count</th>\n",
       "    </tr>\n",
       "  </thead>\n",
       "  <tbody>\n",
       "    <tr>\n",
       "      <th>2777</th>\n",
       "      <td>0.01</td>\n",
       "      <td>2015-05-01 15:38:41 UTC</td>\n",
       "      <td>-73.939041</td>\n",
       "      <td>40.713963</td>\n",
       "      <td>-73.941673</td>\n",
       "      <td>40.713997</td>\n",
       "      <td>1.0</td>\n",
       "    </tr>\n",
       "    <tr>\n",
       "      <th>9999</th>\n",
       "      <td>0.00</td>\n",
       "      <td>2010-02-15 14:26:01 UTC</td>\n",
       "      <td>-73.987115</td>\n",
       "      <td>40.738808</td>\n",
       "      <td>-74.005911</td>\n",
       "      <td>40.713960</td>\n",
       "      <td>1.0</td>\n",
       "    </tr>\n",
       "  </tbody>\n",
       "</table>\n",
       "</div>"
      ],
      "text/plain": [
       "      fare_amount          pickup_datetime  pickup_longitude  pickup_latitude  \\\n",
       "2777         0.01  2015-05-01 15:38:41 UTC        -73.939041        40.713963   \n",
       "9999         0.00  2010-02-15 14:26:01 UTC        -73.987115        40.738808   \n",
       "\n",
       "      dropoff_longitude  dropoff_latitude  passenger_count  \n",
       "2777         -73.941673         40.713997              1.0  \n",
       "9999         -74.005911         40.713960              1.0  "
      ]
     },
     "execution_count": 9,
     "metadata": {},
     "output_type": "execute_result"
    }
   ],
   "source": [
    "data[data.fare_amount<=1]"
   ]
  },
  {
   "cell_type": "markdown",
   "metadata": {},
   "source": [
    "#### may be these rides had a pass applied, but they will confuse our model, let remove"
   ]
  },
  {
   "cell_type": "code",
   "execution_count": 10,
   "metadata": {},
   "outputs": [],
   "source": [
    "#Remove rides with fare amount<=1\n",
    "data = data.drop(data[data.fare_amount<=1].index)\n",
    "#Reset the indexes\n",
    "data = data.reset_index().drop('index',axis=1)"
   ]
  },
  {
   "cell_type": "markdown",
   "metadata": {},
   "source": [
    "### Missing value analysis\n"
   ]
  },
  {
   "cell_type": "code",
   "execution_count": 11,
   "metadata": {},
   "outputs": [
    {
     "name": "stdout",
     "output_type": "stream",
     "text": [
      "Missing values exist in train\n",
      "No Missing values in  test\n"
     ]
    }
   ],
   "source": [
    "print_missing_val_summary(full_data)"
   ]
  },
  {
   "cell_type": "markdown",
   "metadata": {},
   "source": [
    "### Missing value percentages\n",
    "We need to see percentage wise and drop column if >30% is missing"
   ]
  },
  {
   "cell_type": "code",
   "execution_count": 12,
   "metadata": {},
   "outputs": [],
   "source": [
    "full_data = [data,test]\n",
    "missing_per = {}\n",
    "missing_per = get_missing_val_per(full_data,missing_per)\n"
   ]
  },
  {
   "cell_type": "code",
   "execution_count": 13,
   "metadata": {},
   "outputs": [
    {
     "name": "stdout",
     "output_type": "stream",
     "text": [
      "-----------train------------\n",
      "                 missing_per\n",
      "fare_amount         0.149430\n",
      "passenger_count     0.342444\n",
      "-----------test------------\n",
      "Empty DataFrame\n",
      "Columns: [missing_per]\n",
      "Index: []\n"
     ]
    }
   ],
   "source": [
    "#See missing percentages\n",
    "print('-----------train------------')\n",
    "print(missing_per['Train'][missing_per['Train']['missing_per']>0].head())\n",
    "print('-----------test------------')\n",
    "print(missing_per['Test'][missing_per['Test']['missing_per']>0].head())"
   ]
  },
  {
   "cell_type": "markdown",
   "metadata": {},
   "source": [
    "#### How to impute?\n",
    "\n",
    "- Since the missing percentage is less than 30%, we will impute then one by one"
   ]
  },
  {
   "cell_type": "markdown",
   "metadata": {},
   "source": [
    "### Missing value analysis for fare_amount"
   ]
  },
  {
   "cell_type": "code",
   "execution_count": 14,
   "metadata": {},
   "outputs": [
    {
     "data": {
      "text/plain": [
       "(15.020208891937237, 8.5, 0    6.5\n",
       " dtype: float64)"
      ]
     },
     "execution_count": 14,
     "metadata": {},
     "output_type": "execute_result"
    }
   ],
   "source": [
    "data.fare_amount.mean(),data.fare_amount.median(),data.fare_amount.mode()\n"
   ]
  },
  {
   "cell_type": "markdown",
   "metadata": {},
   "source": [
    "#### MEAN/MEDIAN/MODE?\n",
    "mean is greater than median, it is right skewed data(since majority is lying on the right hand side tail), so we choose between median/mode\n",
    "But in fare, generally mean is better metrics, and since data is right skewed,\n",
    "- lets choose median as it is nearer to the  mean and would give better representation of the fare\n"
   ]
  },
  {
   "cell_type": "markdown",
   "metadata": {},
   "source": [
    "### distribution of fare?"
   ]
  },
  {
   "cell_type": "code",
   "execution_count": 15,
   "metadata": {},
   "outputs": [
    {
     "data": {
      "text/plain": [
       "(1.139, 5.5]       3325\n",
       "(9.5, 14.1]        3262\n",
       "(5.5, 7.3]         3216\n",
       "(14.1, 54343.0]    3151\n",
       "(7.3, 9.5]         3083\n",
       "Name: fare_amount, dtype: int64"
      ]
     },
     "execution_count": 15,
     "metadata": {},
     "output_type": "execute_result"
    }
   ],
   "source": [
    "pd.qcut(data.fare_amount,5).value_counts()\n"
   ]
  },
  {
   "cell_type": "markdown",
   "metadata": {},
   "source": [
    "#### let's see how many are beyond 100"
   ]
  },
  {
   "cell_type": "code",
   "execution_count": 16,
   "metadata": {},
   "outputs": [
    {
     "data": {
      "text/plain": [
       "(9, 6, 4, 2)"
      ]
     },
     "execution_count": 16,
     "metadata": {},
     "output_type": "execute_result"
    }
   ],
   "source": [
    "len(data[data.fare_amount>100]),len(data[data.fare_amount>150]),len(data[data.fare_amount>200]),\\\n",
    "len(data[data.fare_amount>500])"
   ]
  },
  {
   "cell_type": "code",
   "execution_count": 17,
   "metadata": {},
   "outputs": [
    {
     "data": {
      "text/html": [
       "<div>\n",
       "<style scoped>\n",
       "    .dataframe tbody tr th:only-of-type {\n",
       "        vertical-align: middle;\n",
       "    }\n",
       "\n",
       "    .dataframe tbody tr th {\n",
       "        vertical-align: top;\n",
       "    }\n",
       "\n",
       "    .dataframe thead th {\n",
       "        text-align: right;\n",
       "    }\n",
       "</style>\n",
       "<table border=\"1\" class=\"dataframe\">\n",
       "  <thead>\n",
       "    <tr style=\"text-align: right;\">\n",
       "      <th></th>\n",
       "      <th>fare_amount</th>\n",
       "      <th>pickup_datetime</th>\n",
       "      <th>pickup_longitude</th>\n",
       "      <th>pickup_latitude</th>\n",
       "      <th>dropoff_longitude</th>\n",
       "      <th>dropoff_latitude</th>\n",
       "      <th>passenger_count</th>\n",
       "    </tr>\n",
       "  </thead>\n",
       "  <tbody>\n",
       "    <tr>\n",
       "      <th>1015</th>\n",
       "      <td>54343.0</td>\n",
       "      <td>2015-02-27 17:03:50 UTC</td>\n",
       "      <td>-74.003319</td>\n",
       "      <td>40.727455</td>\n",
       "      <td>-73.964470</td>\n",
       "      <td>40.764378</td>\n",
       "      <td>1.0</td>\n",
       "    </tr>\n",
       "    <tr>\n",
       "      <th>1072</th>\n",
       "      <td>4343.0</td>\n",
       "      <td>2012-01-15 20:42:04 UTC</td>\n",
       "      <td>-73.976309</td>\n",
       "      <td>40.751634</td>\n",
       "      <td>-74.014854</td>\n",
       "      <td>40.709044</td>\n",
       "      <td>1.0</td>\n",
       "    </tr>\n",
       "  </tbody>\n",
       "</table>\n",
       "</div>"
      ],
      "text/plain": [
       "      fare_amount          pickup_datetime  pickup_longitude  pickup_latitude  \\\n",
       "1015      54343.0  2015-02-27 17:03:50 UTC        -74.003319        40.727455   \n",
       "1072       4343.0  2012-01-15 20:42:04 UTC        -73.976309        40.751634   \n",
       "\n",
       "      dropoff_longitude  dropoff_latitude  passenger_count  \n",
       "1015         -73.964470         40.764378              1.0  \n",
       "1072         -74.014854         40.709044              1.0  "
      ]
     },
     "execution_count": 17,
     "metadata": {},
     "output_type": "execute_result"
    }
   ],
   "source": [
    "data[data.fare_amount>500]"
   ]
  },
  {
   "cell_type": "markdown",
   "metadata": {},
   "source": [
    "#### That's really high\n",
    "we cant say until we know if there the cab was rented out for a few days (on a long trip may be).\n",
    "But without that info, we need to delete these high fares"
   ]
  },
  {
   "cell_type": "markdown",
   "metadata": {},
   "source": [
    "### How fare looks like?"
   ]
  },
  {
   "cell_type": "code",
   "execution_count": 18,
   "metadata": {},
   "outputs": [
    {
     "data": {
      "text/plain": [
       "(-847.5001521057864, 877.571070639136)"
      ]
     },
     "execution_count": 18,
     "metadata": {},
     "output_type": "execute_result"
    },
    {
     "data": {
      "image/png": "[encoded data removed]",
      "text/plain": [
       "<Figure size 432x288 with 1 Axes>"
      ]
     },
     "metadata": {
      "needs_background": "light"
     },
     "output_type": "display_data"
    }
   ],
   "source": [
    "min_95_per , _,_,max_95_per = plot_dist(data.dropna().fare_amount)\n",
    "min_95_per,max_95_per\n",
    "# That looks quite very pointy and very narrow(skewed) distribution"
   ]
  },
  {
   "cell_type": "code",
   "execution_count": 19,
   "metadata": {},
   "outputs": [
    {
     "data": {
      "text/plain": [
       "Text(0.5, 1.0, 'Distribution of Trip Fare')"
      ]
     },
     "execution_count": 19,
     "metadata": {},
     "output_type": "execute_result"
    },
    {
     "data": {
      "image/png": "[encoded data removed]",
      "text/plain": [
       "<Figure size 432x288 with 1 Axes>"
      ]
     },
     "metadata": {
      "needs_background": "light"
     },
     "output_type": "display_data"
    }
   ],
   "source": [
    "sb.kdeplot(data['fare_amount']).set_title(\"Distribution of Trip Fare\")"
   ]
  },
  {
   "cell_type": "code",
   "execution_count": 20,
   "metadata": {},
   "outputs": [
    {
     "data": {
      "text/plain": [
       "24"
      ]
     },
     "execution_count": 20,
     "metadata": {},
     "output_type": "execute_result"
    }
   ],
   "source": [
    "data.fare_amount.isnull().sum()"
   ]
  },
  {
   "cell_type": "code",
   "execution_count": 21,
   "metadata": {},
   "outputs": [],
   "source": [
    "# Imputation\n",
    "data.fare_amount = data.fare_amount.fillna(data.fare_amount.median())\n",
    "full_data =[data,test]"
   ]
  },
  {
   "cell_type": "code",
   "execution_count": 22,
   "metadata": {},
   "outputs": [
    {
     "name": "stdout",
     "output_type": "stream",
     "text": [
      "-----values below -3.75 and above 22.25 suggested to drop for col fare_amount:\n"
     ]
    }
   ],
   "source": [
    "# Just get the oulier info\n",
    "outlier = []\n",
    "outlier,data= get_outliers(data,['fare_amount'],outliers_=outlier,drop=False)\n",
    "full_data = [data,test]"
   ]
  },
  {
   "cell_type": "code",
   "execution_count": 23,
   "metadata": {},
   "outputs": [
    {
     "name": "stdout",
     "output_type": "stream",
     "text": [
      "---------------original---------------\n",
      "Skewness :  125.46681874636782\n",
      "+++++very Right/positive(tail/majority towards right) skewed\n",
      "Kurtosis :  15834.507324588294\n",
      "^^^^^^^^Flat\n",
      "---------------log---------------\n",
      "Skewness :  1.0791639691577823\n",
      "+++++very Right/positive(tail/majority towards right) skewed\n",
      "Kurtosis :  4.051503796895485\n",
      "^^^^^^^^Flat\n",
      "---------------sqrt---------------\n",
      "Skewness :  73.61266848970753\n",
      "+++++very Right/positive(tail/majority towards right) skewed\n",
      "Kurtosis :  7575.92453931639\n",
      "^^^^^^^^Flat\n",
      "---------------cbrt---------------\n",
      "Skewness :  17.939577578454784\n",
      "+++++very Right/positive(tail/majority towards right) skewed\n",
      "Kurtosis :  1040.1472328292882\n",
      "^^^^^^^^Flat\n"
     ]
    },
    {
     "data": {
      "image/png": "[encoded data removed]",
      "text/plain": [
       "<Figure size 432x288 with 1 Axes>"
      ]
     },
     "metadata": {
      "needs_background": "light"
     },
     "output_type": "display_data"
    }
   ],
   "source": [
    "#plt.subplot(320)\n",
    "_ =sb.kdeplot(data['fare_amount'],label='orignal_Fare').set_title(\"Distribution of Trip Fare\")\n",
    "#plt.subplot(321)\n",
    "_=sb.kdeplot(np.log(data['fare_amount']),label='log_fare').set_title(\"Distribution of Trip Fare\")\n",
    "distribution_summary(data.fare_amount,'fare_amount')"
   ]
  },
  {
   "cell_type": "markdown",
   "metadata": {},
   "source": [
    "#### This is because of those outliers in fare, \n",
    "- not deleting for now, will plot them against year and see if it makes any sense"
   ]
  },
  {
   "cell_type": "markdown",
   "metadata": {},
   "source": [
    "## ii. passenger_count"
   ]
  },
  {
   "cell_type": "markdown",
   "metadata": {},
   "source": [
    "###  Missing value analysis for passenger_count\n",
    "- datatype conversions\n",
    "\n",
    "max passenger count can at max 10, let's say you are driving a mini van, but beyond that, it looks odd "
   ]
  },
  {
   "cell_type": "markdown",
   "metadata": {},
   "source": [
    "### plot with passenger count <10"
   ]
  },
  {
   "cell_type": "code",
   "execution_count": 24,
   "metadata": {},
   "outputs": [
    {
     "data": {
      "text/plain": [
       "Text(0.5, 1.0, 'Histogram for passenger_count<=6')"
      ]
     },
     "execution_count": 24,
     "metadata": {},
     "output_type": "execute_result"
    },
    {
     "data": {
      "image/png": "[encoded data removed]",
      "text/plain": [
       "<Figure size 432x288 with 1 Axes>"
      ]
     },
     "metadata": {
      "needs_background": "light"
     },
     "output_type": "display_data"
    }
   ],
   "source": [
    "data[data['passenger_count']<=6]['passenger_count'].hist()\n",
    "plt.ylabel('frequency')\n",
    "plt.xlabel('passenger count')\n",
    "plt.title('Histogram for passenger_count<=6')"
   ]
  },
  {
   "cell_type": "code",
   "execution_count": 25,
   "metadata": {},
   "outputs": [
    {
     "data": {
      "text/plain": [
       "Text(0.5, 1.0, 'passenger count < 6')"
      ]
     },
     "execution_count": 25,
     "metadata": {},
     "output_type": "execute_result"
    },
    {
     "data": {
      "image/png": "[encoded data removed]",
      "text/plain": [
       "<Figure size 432x288 with 1 Axes>"
      ]
     },
     "metadata": {
      "needs_background": "light"
     },
     "output_type": "display_data"
    }
   ],
   "source": [
    "tmp = data[data.passenger_count<6]\n",
    "plt.scatter(tmp.passenger_count, tmp.fare_amount)\n",
    "plt.ylabel('fare')\n",
    "plt.xlabel('passenger count')\n",
    "plt.title('passenger count < 6')"
   ]
  },
  {
   "cell_type": "markdown",
   "metadata": {},
   "source": [
    "#### fare distribution passengers_count = 6\n",
    "passenger_count max is 6, under the count of 10, so let us see the fare paid"
   ]
  },
  {
   "cell_type": "code",
   "execution_count": 26,
   "metadata": {},
   "outputs": [
    {
     "data": {
      "text/plain": [
       "(5.5, count    302.000000\n",
       " mean      11.447252\n",
       " std        7.866293\n",
       " min        3.300000\n",
       " 25%        6.100000\n",
       " 50%        9.000000\n",
       " 75%       14.000000\n",
       " max       57.540000\n",
       " Name: fare_amount, dtype: float64)"
      ]
     },
     "execution_count": 26,
     "metadata": {},
     "output_type": "execute_result"
    },
    {
     "data": {
      "image/png": "[encoded data removed]",
      "text/plain": [
       "<Figure size 432x288 with 1 Axes>"
      ]
     },
     "metadata": {
      "needs_background": "light"
     },
     "output_type": "display_data"
    }
   ],
   "source": [
    "tmp = data[data.passenger_count==6]\n",
    "plt.scatter(tmp.passenger_count,tmp.fare_amount)\n",
    "plt.ylabel('fare')\n",
    "plt.xlabel('passenger count')\n",
    "plt.title('passenger count =6')\n",
    "tmp.fare_amount.mode()[0],tmp.fare_amount.describe()"
   ]
  },
  {
   "cell_type": "markdown",
   "metadata": {},
   "source": [
    "#### Median\n",
    "since fares are right skewed, median will be better approach"
   ]
  },
  {
   "cell_type": "markdown",
   "metadata": {},
   "source": [
    "### If passenger_count is > 10, then are these records overall bad ones?"
   ]
  },
  {
   "cell_type": "code",
   "execution_count": 27,
   "metadata": {},
   "outputs": [
    {
     "data": {
      "text/plain": [
       "Text(0.5, 1.0, 'Count plot for passenger count >6')"
      ]
     },
     "execution_count": 27,
     "metadata": {},
     "output_type": "execute_result"
    },
    {
     "data": {
      "image/png": "[encoded data removed]",
      "text/plain": [
       "<Figure size 720x360 with 1 Axes>"
      ]
     },
     "metadata": {
      "needs_background": "light"
     },
     "output_type": "display_data"
    }
   ],
   "source": [
    "#Lets see the frequencies\n",
    "f,ax= plt.subplots(figsize=(10,5))\n",
    "sb.countplot(data[data.passenger_count>6]['passenger_count'])\n",
    "plt.title(\"Count plot for passenger count >6\")"
   ]
  },
  {
   "cell_type": "code",
   "execution_count": 28,
   "metadata": {},
   "outputs": [
    {
     "data": {
      "text/plain": [
       "(8.5, count    20.000000\n",
       " mean      8.070000\n",
       " std       3.670666\n",
       " min       3.700000\n",
       " 25%       5.600000\n",
       " 50%       8.050000\n",
       " 75%       8.800000\n",
       " max      20.000000\n",
       " Name: fare_amount, dtype: float64)"
      ]
     },
     "execution_count": 28,
     "metadata": {},
     "output_type": "execute_result"
    },
    {
     "data": {
      "image/png": "[encoded data removed]",
      "text/plain": [
       "<Figure size 432x288 with 1 Axes>"
      ]
     },
     "metadata": {
      "needs_background": "light"
     },
     "output_type": "display_data"
    }
   ],
   "source": [
    "tmp_gr_10 = data[data.passenger_count>6]\n",
    "plt.scatter(tmp_gr_10.passenger_count, tmp_gr_10.fare_amount)\n",
    "plt.ylabel('fare')\n",
    "plt.xlabel('passenger count')\n",
    "plt.title('passenger count > 6')\n",
    "tmp_gr_10.fare_amount.mode()[0],tmp_gr_10.fare_amount.describe()"
   ]
  },
  {
   "cell_type": "code",
   "execution_count": 29,
   "metadata": {},
   "outputs": [
    {
     "data": {
      "text/plain": [
       "20"
      ]
     },
     "execution_count": 29,
     "metadata": {},
     "output_type": "execute_result"
    }
   ],
   "source": [
    "len(tmp_gr_10)"
   ]
  },
  {
   "cell_type": "markdown",
   "metadata": {},
   "source": [
    "#### FINDING\n",
    "The average fare paid by these absurd observations is almost normally distributed with mean,median,mode lying closely to each other, with a max of 20\n",
    "- Even if we want to keep these rows, we need to see what passenger_count did rides with average fare of 8 had?\n",
    "\n"
   ]
  },
  {
   "cell_type": "code",
   "execution_count": 30,
   "metadata": {},
   "outputs": [
    {
     "data": {
      "text/plain": [
       "1.0"
      ]
     },
     "execution_count": 30,
     "metadata": {},
     "output_type": "execute_result"
    }
   ],
   "source": [
    "#print(data[data.fare_amount.between(8,9)]['passenger_count'].value_counts())\n",
    "#clearly 1 is the winner here\n",
    "data[data.fare_amount.between(8,9)]['passenger_count'].mode()[0]"
   ]
  },
  {
   "cell_type": "code",
   "execution_count": 31,
   "metadata": {},
   "outputs": [],
   "source": [
    "#### if drop\n",
    "#data = data.drop(data[(data.passenger_count>6)|(data.passenger_count<1)].index).reset_index().drop('index',axis=1)\n",
    "#test = test.drop(test[(test.passenger_count>6)|(test.passenger_count<6)].index).reset_index().drop('index',axis=1)"
   ]
  },
  {
   "cell_type": "code",
   "execution_count": 32,
   "metadata": {},
   "outputs": [
    {
     "data": {
      "text/plain": [
       "Text(0.5, 0, 'passenger count')"
      ]
     },
     "execution_count": 32,
     "metadata": {},
     "output_type": "execute_result"
    },
    {
     "data": {
      "image/png": "[encoded data removed]",
      "text/plain": [
       "<Figure size 432x288 with 1 Axes>"
      ]
     },
     "metadata": {
      "needs_background": "light"
     },
     "output_type": "display_data"
    }
   ],
   "source": [
    "plt.scatter(data.passenger_count, data.fare_amount)\n",
    "plt.ylabel('fare')\n",
    "plt.xlabel('passenger count')"
   ]
  },
  {
   "cell_type": "markdown",
   "metadata": {},
   "source": [
    "#### FINDING\n",
    "passenger counts are fixed, but still some outliers in fare"
   ]
  },
  {
   "cell_type": "markdown",
   "metadata": {},
   "source": [
    "## iii. pickup_datetime"
   ]
  },
  {
   "cell_type": "code",
   "execution_count": 33,
   "metadata": {},
   "outputs": [],
   "source": [
    "bk=data.copy()"
   ]
  },
  {
   "cell_type": "code",
   "execution_count": 34,
   "metadata": {},
   "outputs": [
    {
     "name": "stdout",
     "output_type": "stream",
     "text": [
      "Invalid pickup time for 1326\n"
     ]
    }
   ],
   "source": [
    "# pickup_datetime is timestamp object in test, but in train it is a string\n",
    "# let us convert it\n",
    "data = parsedate(data,'pickup_datetime')#parse the string in timestamp format\n",
    "\n"
   ]
  },
  {
   "cell_type": "code",
   "execution_count": 35,
   "metadata": {},
   "outputs": [
    {
     "data": {
      "text/plain": [
       "Text(0.5, 1.0, 'with outliers in fares')"
      ]
     },
     "execution_count": 35,
     "metadata": {},
     "output_type": "execute_result"
    },
    {
     "data": {
      "image/png": "[encoded data removed]",
      "text/plain": [
       "<Figure size 432x288 with 1 Axes>"
      ]
     },
     "metadata": {
      "needs_background": "light"
     },
     "output_type": "display_data"
    }
   ],
   "source": [
    "x = []\n",
    "y = []\n",
    "for i in range(len(data)):\n",
    "    x.append(data.pickup_datetime[i].date() )\n",
    "    y.append(data.fare_amount[i] )\n",
    "               \n",
    "plt.scatter(x,y)\n",
    "plt.ylabel('fare')\n",
    "plt.xlabel('Year')\n",
    "plt.title('with outliers in fares')"
   ]
  },
  {
   "cell_type": "markdown",
   "metadata": {},
   "source": [
    "####  Pretty flat line with a few outliers in fare, let's remove outliers"
   ]
  },
  {
   "cell_type": "code",
   "execution_count": 36,
   "metadata": {},
   "outputs": [
    {
     "name": "stdout",
     "output_type": "stream",
     "text": [
      "-----values below -3.75 and above 22.25 dropped  for col fare_amount:\n"
     ]
    }
   ],
   "source": [
    "#remove outliers\n",
    "outlier = []\n",
    "outlier,data= get_outliers(data,['fare_amount'],outliers_=outlier,drop=True)\n",
    "full_data = [data,test]"
   ]
  },
  {
   "cell_type": "code",
   "execution_count": 37,
   "metadata": {},
   "outputs": [
    {
     "data": {
      "text/plain": [
       "Text(0.5, 1.0, 'with outliers removed in fares')"
      ]
     },
     "execution_count": 37,
     "metadata": {},
     "output_type": "execute_result"
    },
    {
     "data": {
      "image/png": "[encoded data removed]",
      "text/plain": [
       "<Figure size 432x288 with 1 Axes>"
      ]
     },
     "metadata": {
      "needs_background": "light"
     },
     "output_type": "display_data"
    }
   ],
   "source": [
    "x = []\n",
    "y = []\n",
    "for i in range(len(data)):\n",
    "    x.append(data.pickup_datetime[i].date() )\n",
    "    y.append(data.fare_amount[i] )\n",
    "               \n",
    "plt.scatter(x,y)\n",
    "plt.ylabel('fare')\n",
    "plt.xlabel('Year')\n",
    "plt.title('with outliers removed in fares')"
   ]
  },
  {
   "cell_type": "markdown",
   "metadata": {},
   "source": [
    "#### Now they are close to each other "
   ]
  },
  {
   "cell_type": "code",
   "execution_count": 38,
   "metadata": {},
   "outputs": [
    {
     "data": {
      "text/plain": [
       "Text(0.5, 1.0, 'fare_amount distribution')"
      ]
     },
     "execution_count": 38,
     "metadata": {},
     "output_type": "execute_result"
    },
    {
     "data": {
      "image/png": "[encoded data removed]",
      "text/plain": [
       "<Figure size 432x288 with 1 Axes>"
      ]
     },
     "metadata": {
      "needs_background": "light"
     },
     "output_type": "display_data"
    }
   ],
   "source": [
    "min_95_per , _,_,max_95_per = plot_dist(data.dropna().fare_amount)\n",
    "min_95_per,max_95_per\n",
    "plt.title('fare_amount distribution')\n",
    "# That looks very flat and skewed towards right"
   ]
  },
  {
   "cell_type": "code",
   "execution_count": 39,
   "metadata": {},
   "outputs": [
    {
     "name": "stdout",
     "output_type": "stream",
     "text": [
      "---------------original---------------\n",
      "Skewness :  1.0347767819388258\n",
      "+++++very Right/positive(tail/majority towards right) skewed\n",
      "Kurtosis :  0.579255195867495\n",
      "^^^^^^^^Flat\n",
      "---------------log---------------\n",
      "Skewness :  0.10555077332946282\n",
      "%%%%%Moderately symm\n",
      "Kurtosis :  -0.5185444366546967\n",
      "~~~~~~~~~~Pointy\n",
      "---------------sqrt---------------\n",
      "Skewness :  0.5812531754955005\n",
      "+++++very Right/positive(tail/majority towards right) skewed\n",
      "Kurtosis :  -0.2432489302330345\n",
      "%%%%%%%%%Moderately Bell shaped\n",
      "---------------cbrt---------------\n",
      "Skewness :  0.42589341019903754\n",
      "%%%%%Moderately symm\n",
      "Kurtosis :  -0.4030161188415837\n",
      "%%%%%%%%%Moderately Bell shaped\n"
     ]
    },
    {
     "data": {
      "image/png": "[encoded data removed]",
      "text/plain": [
       "<Figure size 432x288 with 1 Axes>"
      ]
     },
     "metadata": {
      "needs_background": "light"
     },
     "output_type": "display_data"
    }
   ],
   "source": [
    "#plt.subplot(320)\n",
    "_ =sb.kdeplot(data['fare_amount'],label='orignal_Fare').set_title(\"Distribution of Trip Fare\")\n",
    "#plt.subplot(321)\n",
    "_=sb.kdeplot(np.log(data['fare_amount']),label='log_fare').set_title(\"Distribution of Trip Fare\")\n",
    "_=sb.kdeplot(np.sqrt(data['fare_amount']),label='sqrt_fare').set_title(\"Distribution of Trip Fare\")\n",
    "_=sb.kdeplot(np.cbrt(data['fare_amount']),label='cbrt_fare').set_title(\"Distribution of Trip Fare\")\n",
    "distribution_summary(data.fare_amount,'fare_amount')"
   ]
  },
  {
   "cell_type": "markdown",
   "metadata": {},
   "source": [
    "### Feature Engineering\n",
    "Get some more insights from pickup_date and store it under 'time' column"
   ]
  },
  {
   "cell_type": "code",
   "execution_count": 40,
   "metadata": {},
   "outputs": [],
   "source": [
    "#Derive info from pickup timestamp\n",
    "\n",
    "full_data = feature_eng([data,test])\n",
    "data = full_data[0]\n",
    "test=full_data[1]"
   ]
  },
  {
   "cell_type": "code",
   "execution_count": 41,
   "metadata": {},
   "outputs": [
    {
     "data": {
      "text/html": [
       "<div>\n",
       "<style scoped>\n",
       "    .dataframe tbody tr th:only-of-type {\n",
       "        vertical-align: middle;\n",
       "    }\n",
       "\n",
       "    .dataframe tbody tr th {\n",
       "        vertical-align: top;\n",
       "    }\n",
       "\n",
       "    .dataframe thead th {\n",
       "        text-align: right;\n",
       "    }\n",
       "</style>\n",
       "<table border=\"1\" class=\"dataframe\">\n",
       "  <thead>\n",
       "    <tr style=\"text-align: right;\">\n",
       "      <th></th>\n",
       "      <th>fare_amount</th>\n",
       "      <th>pickup_datetime</th>\n",
       "      <th>pickup_longitude</th>\n",
       "      <th>pickup_latitude</th>\n",
       "      <th>dropoff_longitude</th>\n",
       "      <th>dropoff_latitude</th>\n",
       "      <th>passenger_count</th>\n",
       "      <th>remarks</th>\n",
       "      <th>time</th>\n",
       "      <th>day</th>\n",
       "      <th>month</th>\n",
       "      <th>year</th>\n",
       "      <th>weekday</th>\n",
       "      <th>season</th>\n",
       "    </tr>\n",
       "  </thead>\n",
       "  <tbody>\n",
       "    <tr>\n",
       "      <th>0</th>\n",
       "      <td>4.5</td>\n",
       "      <td>2009-06-15 17:26:21</td>\n",
       "      <td>-73.844311</td>\n",
       "      <td>40.721319</td>\n",
       "      <td>-73.841610</td>\n",
       "      <td>40.712278</td>\n",
       "      <td>1.0</td>\n",
       "      <td>normal</td>\n",
       "      <td>peakeveningtime</td>\n",
       "      <td>15.0</td>\n",
       "      <td>6.0</td>\n",
       "      <td>2009.0</td>\n",
       "      <td>0.0</td>\n",
       "      <td>summer</td>\n",
       "    </tr>\n",
       "    <tr>\n",
       "      <th>1</th>\n",
       "      <td>16.9</td>\n",
       "      <td>2010-01-05 16:52:16</td>\n",
       "      <td>-74.016048</td>\n",
       "      <td>40.711303</td>\n",
       "      <td>-73.979268</td>\n",
       "      <td>40.782004</td>\n",
       "      <td>1.0</td>\n",
       "      <td>normal</td>\n",
       "      <td>noontime</td>\n",
       "      <td>5.0</td>\n",
       "      <td>1.0</td>\n",
       "      <td>2010.0</td>\n",
       "      <td>1.0</td>\n",
       "      <td>winter</td>\n",
       "    </tr>\n",
       "  </tbody>\n",
       "</table>\n",
       "</div>"
      ],
      "text/plain": [
       "   fare_amount      pickup_datetime  pickup_longitude  pickup_latitude  \\\n",
       "0          4.5  2009-06-15 17:26:21        -73.844311        40.721319   \n",
       "1         16.9  2010-01-05 16:52:16        -74.016048        40.711303   \n",
       "\n",
       "   dropoff_longitude  dropoff_latitude  passenger_count remarks  \\\n",
       "0         -73.841610         40.712278              1.0  normal   \n",
       "1         -73.979268         40.782004              1.0  normal   \n",
       "\n",
       "              time   day  month    year  weekday  season  \n",
       "0  peakeveningtime  15.0    6.0  2009.0      0.0  summer  \n",
       "1         noontime   5.0    1.0  2010.0      1.0  winter  "
      ]
     },
     "execution_count": 41,
     "metadata": {},
     "output_type": "execute_result"
    }
   ],
   "source": [
    "data.head(2)"
   ]
  },
  {
   "cell_type": "code",
   "execution_count": 42,
   "metadata": {},
   "outputs": [
    {
     "data": {
      "text/plain": [
       "peakeveningtime    4320\n",
       "noontime           4069\n",
       "peaknighttime      3253\n",
       "regular            3022\n",
       "Name: time, dtype: int64"
      ]
     },
     "execution_count": 42,
     "metadata": {},
     "output_type": "execute_result"
    },
    {
     "data": {
      "image/png": "[encoded data removed]",
      "text/plain": [
       "<Figure size 504x216 with 1 Axes>"
      ]
     },
     "metadata": {
      "needs_background": "light"
     },
     "output_type": "display_data"
    }
   ],
   "source": [
    "f,ax=plt.subplots(figsize=(7,3))\n",
    "sb.countplot(data.time)\n",
    "data.time.value_counts()"
   ]
  },
  {
   "cell_type": "markdown",
   "metadata": {},
   "source": [
    "#### Mostly normal daytime rides and no weekend rides"
   ]
  },
  {
   "cell_type": "code",
   "execution_count": 43,
   "metadata": {},
   "outputs": [],
   "source": [
    "## Derive new cols\n",
    "bk=data.copy()"
   ]
  },
  {
   "cell_type": "markdown",
   "metadata": {},
   "source": [
    "### How were the Fares for these times?"
   ]
  },
  {
   "cell_type": "code",
   "execution_count": 44,
   "metadata": {},
   "outputs": [
    {
     "name": "stdout",
     "output_type": "stream",
     "text": [
      "time\n",
      "noontime           8.774426\n",
      "peakeveningtime    8.875833\n",
      "peaknighttime      9.422465\n",
      "regular            8.546006\n",
      "Name: fare_amount, dtype: float64\n",
      "remarks\n",
      "month_end      8.900203\n",
      "month_start    9.436013\n",
      "normal         8.880230\n",
      "Name: fare_amount, dtype: float64\n"
     ]
    },
    {
     "data": {
      "image/png": "[encoded data removed]",
      "text/plain": [
       "<Figure size 720x720 with 2 Axes>"
      ]
     },
     "metadata": {
      "needs_background": "light"
     },
     "output_type": "display_data"
    }
   ],
   "source": [
    "#f,ax=plt.subplots(figsize=(7,5))\n",
    "print(data.groupby('time')['fare_amount'].mean())\n",
    "print(data.groupby('remarks')['fare_amount'].mean())\n",
    "plotno=324\n",
    "plt.figure(figsize=(10,10))\n",
    "plt.subplot(plotno)\n",
    "_=data.groupby('time')['fare_amount'].mean().plot.bar()\n",
    "plt.xlabel('time of month')\n",
    "plt.ylabel('average fare')\n",
    "plotno+=1\n",
    "plt.subplot(plotno-2)\n",
    "_=data.groupby('remarks')['fare_amount'].mean().plot.bar()\n",
    "plt.xlabel('time of month')\n",
    "plt.ylabel('average fare')\n",
    "plt.show()\n"
   ]
  },
  {
   "cell_type": "code",
   "execution_count": 45,
   "metadata": {},
   "outputs": [
    {
     "data": {
      "text/plain": [
       "time\n",
       "peaknighttime      9.422465\n",
       "peakeveningtime    8.875833\n",
       "noontime           8.774426\n",
       "regular            8.546006\n",
       "Name: fare_amount, dtype: float64"
      ]
     },
     "execution_count": 45,
     "metadata": {},
     "output_type": "execute_result"
    }
   ],
   "source": [
    "data.groupby('time')['fare_amount'].mean().nlargest(7)"
   ]
  },
  {
   "cell_type": "markdown",
   "metadata": {},
   "source": [
    "#### what did we notice?\n",
    "- Month_start recorded the highest average fare, followed by month_end, but overall they are very close, showing less significance on fare price\n",
    "- Peak night time recorded highest average fare in a day as expected and it is quite significantly larger than others groups, showing night hours will impact the fares\n",
    "\n"
   ]
  },
  {
   "cell_type": "markdown",
   "metadata": {},
   "source": [
    "## iv. Geographic coordinates(pickup_latitude and pickup_longitude)\n",
    "distance is calculated latitude(N,S),longitude(E,W) pairs and since these are in decimals (not degree), - represent west"
   ]
  },
  {
   "cell_type": "code",
   "execution_count": 46,
   "metadata": {},
   "outputs": [
    {
     "data": {
      "image/png": "[encoded data removed]",
      "text/plain": [
       "<Figure size 720x720 with 2 Axes>"
      ]
     },
     "metadata": {
      "needs_background": "light"
     },
     "output_type": "display_data"
    }
   ],
   "source": [
    "plotno=321\n",
    "plt.figure(figsize=(10,10))\n",
    "plt.subplot(plotno)\n",
    "\n",
    "var = '_%s'%plotno\n",
    "var = sb.distplot(data.loc[:,'pickup_latitude'])\n",
    "plotno+=1\n",
    "plt.subplot(plotno)\n",
    "var = sb.distplot(data.loc[:,'pickup_longitude'])\n",
    "plt.show()"
   ]
  },
  {
   "cell_type": "code",
   "execution_count": 47,
   "metadata": {},
   "outputs": [],
   "source": [
    "full_data=[data,test]\n",
    "data = clean_coord(data) #clean invalid coordinates(outside -90 to 90)\n",
    "full_data[0] = data\n",
    "\n",
    "full_data=calculate_dis(full_data)#calulate distnce\n",
    "#full_data=dis(full_data)#calulate distnce\n",
    "data=full_data[0]\n",
    "test=full_data[1]"
   ]
  },
  {
   "cell_type": "markdown",
   "metadata": {},
   "source": [
    "### Manhattan vs Euclidian\n",
    "Mahattan distance is calculated when we have a mix of conitinous and categorical variables, whereas eucudian distance is the shortest distance between 2 points and hence can be used when you have only continous variables\n",
    "\n",
    "Let us calculate all possible distances and see which one has the most corrleation with fare price(explaining the fare price the most)"
   ]
  },
  {
   "cell_type": "markdown",
   "metadata": {},
   "source": [
    "#### latitude effect on fares?"
   ]
  },
  {
   "cell_type": "code",
   "execution_count": 48,
   "metadata": {},
   "outputs": [
    {
     "data": {
      "text/plain": [
       "Text(0, 0.5, 'longitude')"
      ]
     },
     "execution_count": 48,
     "metadata": {},
     "output_type": "execute_result"
    },
    {
     "data": {
      "image/png": "[encoded data removed]",
      "text/plain": [
       "<Figure size 720x720 with 2 Axes>"
      ]
     },
     "metadata": {
      "needs_background": "light"
     },
     "output_type": "display_data"
    }
   ],
   "source": [
    "f,ax=plt.subplots(figsize=(10,10))\n",
    "pltno=321\n",
    "plt.subplot(pltno)\n",
    "d1 = data[(data.fare_amount <22.5)&(data.pickup_longitude!=0)&(data.pickup_latitude!=0)]\n",
    "plt.scatter(d1.fare_amount,d1.pickup_latitude)\n",
    "plt.xlabel('fares')\n",
    "plt.ylabel('latitude')\n",
    "plt.subplot(pltno+1)\n",
    "plt.scatter(d1.fare_amount,d1.pickup_longitude)\n",
    "plt.xlabel('fares')\n",
    "plt.ylabel('longitude')"
   ]
  },
  {
   "cell_type": "code",
   "execution_count": 49,
   "metadata": {},
   "outputs": [
    {
     "data": {
      "text/plain": [
       "Text(0.5, 0, 'longitude')"
      ]
     },
     "execution_count": 49,
     "metadata": {},
     "output_type": "execute_result"
    },
    {
     "data": {
      "image/png": "[encoded data removed]",
      "text/plain": [
       "<Figure size 720x720 with 2 Axes>"
      ]
     },
     "metadata": {
      "needs_background": "light"
     },
     "output_type": "display_data"
    }
   ],
   "source": [
    "f,ax=plt.subplots(figsize=(10,10))\n",
    "pltno=321\n",
    "plt.subplot(pltno)\n",
    "d2=  d1[(d1.pickup_latitude<=40.8)&(d1.pickup_latitude>=40.6)]#&(d1.pickup_longitude<=80)&(d1.pickup_longitude>=81)]\n",
    "plt.scatter(d2.pickup_latitude,d2.fare_amount)\n",
    "plt.ylabel('fares')\n",
    "plt.xlabel('latitude')\n",
    "plt.subplot(pltno+1)\n",
    "plt.scatter(d2.pickup_longitude,d2.fare_amount)\n",
    "plt.ylabel('fares')\n",
    "plt.xlabel('longitude')"
   ]
  },
  {
   "cell_type": "markdown",
   "metadata": {},
   "source": [
    "#### non-linear relation b/w lat or longitude\n",
    "- latitude effects more than longitude on fare_amount"
   ]
  },
  {
   "cell_type": "code",
   "execution_count": 50,
   "metadata": {},
   "outputs": [
    {
     "data": {
      "text/html": [
       "<div>\n",
       "<style scoped>\n",
       "    .dataframe tbody tr th:only-of-type {\n",
       "        vertical-align: middle;\n",
       "    }\n",
       "\n",
       "    .dataframe tbody tr th {\n",
       "        vertical-align: top;\n",
       "    }\n",
       "\n",
       "    .dataframe thead th {\n",
       "        text-align: right;\n",
       "    }\n",
       "</style>\n",
       "<table border=\"1\" class=\"dataframe\">\n",
       "  <thead>\n",
       "    <tr style=\"text-align: right;\">\n",
       "      <th></th>\n",
       "      <th>fare_amount</th>\n",
       "      <th>pickup_longitude</th>\n",
       "      <th>pickup_latitude</th>\n",
       "      <th>dropoff_longitude</th>\n",
       "      <th>dropoff_latitude</th>\n",
       "      <th>passenger_count</th>\n",
       "      <th>day</th>\n",
       "      <th>month</th>\n",
       "      <th>year</th>\n",
       "      <th>weekday</th>\n",
       "      <th>mahattan_dis</th>\n",
       "      <th>euclid_dis</th>\n",
       "      <th>geodesic</th>\n",
       "    </tr>\n",
       "  </thead>\n",
       "  <tbody>\n",
       "    <tr>\n",
       "      <th>fare_amount</th>\n",
       "      <td>1.000000</td>\n",
       "      <td>-0.002300</td>\n",
       "      <td>-0.105158</td>\n",
       "      <td>0.002539</td>\n",
       "      <td>0.000240</td>\n",
       "      <td>-0.005926</td>\n",
       "      <td>-0.009264</td>\n",
       "      <td>0.026950</td>\n",
       "      <td>0.142873</td>\n",
       "      <td>0.017288</td>\n",
       "      <td>0.006666</td>\n",
       "      <td>0.006442</td>\n",
       "      <td>0.006290</td>\n",
       "    </tr>\n",
       "    <tr>\n",
       "      <th>pickup_longitude</th>\n",
       "      <td>-0.002300</td>\n",
       "      <td>1.000000</td>\n",
       "      <td>0.355151</td>\n",
       "      <td>0.018089</td>\n",
       "      <td>-0.000695</td>\n",
       "      <td>-0.010139</td>\n",
       "      <td>0.004552</td>\n",
       "      <td>-0.008625</td>\n",
       "      <td>-0.002993</td>\n",
       "      <td>-0.045902</td>\n",
       "      <td>0.010365</td>\n",
       "      <td>0.010902</td>\n",
       "      <td>0.010042</td>\n",
       "    </tr>\n",
       "    <tr>\n",
       "      <th>pickup_latitude</th>\n",
       "      <td>-0.105158</td>\n",
       "      <td>0.355151</td>\n",
       "      <td>1.000000</td>\n",
       "      <td>0.007080</td>\n",
       "      <td>0.015609</td>\n",
       "      <td>0.001841</td>\n",
       "      <td>-0.007907</td>\n",
       "      <td>0.007916</td>\n",
       "      <td>0.000880</td>\n",
       "      <td>-0.065005</td>\n",
       "      <td>0.002416</td>\n",
       "      <td>0.002387</td>\n",
       "      <td>0.001803</td>\n",
       "    </tr>\n",
       "    <tr>\n",
       "      <th>dropoff_longitude</th>\n",
       "      <td>0.002539</td>\n",
       "      <td>0.018089</td>\n",
       "      <td>0.007080</td>\n",
       "      <td>1.000000</td>\n",
       "      <td>-0.791805</td>\n",
       "      <td>-0.000615</td>\n",
       "      <td>0.010104</td>\n",
       "      <td>-0.013170</td>\n",
       "      <td>0.014326</td>\n",
       "      <td>0.000348</td>\n",
       "      <td>0.977061</td>\n",
       "      <td>0.986171</td>\n",
       "      <td>0.973883</td>\n",
       "    </tr>\n",
       "    <tr>\n",
       "      <th>dropoff_latitude</th>\n",
       "      <td>0.000240</td>\n",
       "      <td>-0.000695</td>\n",
       "      <td>0.015609</td>\n",
       "      <td>-0.791805</td>\n",
       "      <td>1.000000</td>\n",
       "      <td>0.000317</td>\n",
       "      <td>-0.012154</td>\n",
       "      <td>0.013329</td>\n",
       "      <td>-0.015049</td>\n",
       "      <td>-0.002196</td>\n",
       "      <td>-0.903468</td>\n",
       "      <td>-0.863766</td>\n",
       "      <td>-0.904596</td>\n",
       "    </tr>\n",
       "    <tr>\n",
       "      <th>passenger_count</th>\n",
       "      <td>-0.005926</td>\n",
       "      <td>-0.010139</td>\n",
       "      <td>0.001841</td>\n",
       "      <td>-0.000615</td>\n",
       "      <td>0.000317</td>\n",
       "      <td>1.000000</td>\n",
       "      <td>0.009064</td>\n",
       "      <td>-0.012740</td>\n",
       "      <td>0.002734</td>\n",
       "      <td>-0.004718</td>\n",
       "      <td>-0.000502</td>\n",
       "      <td>-0.000521</td>\n",
       "      <td>-0.000494</td>\n",
       "    </tr>\n",
       "    <tr>\n",
       "      <th>day</th>\n",
       "      <td>-0.009264</td>\n",
       "      <td>0.004552</td>\n",
       "      <td>-0.007907</td>\n",
       "      <td>0.010104</td>\n",
       "      <td>-0.012154</td>\n",
       "      <td>0.009064</td>\n",
       "      <td>1.000000</td>\n",
       "      <td>-0.019070</td>\n",
       "      <td>-0.027387</td>\n",
       "      <td>0.012442</td>\n",
       "      <td>0.011281</td>\n",
       "      <td>0.010638</td>\n",
       "      <td>0.011152</td>\n",
       "    </tr>\n",
       "    <tr>\n",
       "      <th>month</th>\n",
       "      <td>0.026950</td>\n",
       "      <td>-0.008625</td>\n",
       "      <td>0.007916</td>\n",
       "      <td>-0.013170</td>\n",
       "      <td>0.013329</td>\n",
       "      <td>-0.012740</td>\n",
       "      <td>-0.019070</td>\n",
       "      <td>1.000000</td>\n",
       "      <td>-0.114958</td>\n",
       "      <td>-0.016323</td>\n",
       "      <td>-0.013733</td>\n",
       "      <td>-0.013388</td>\n",
       "      <td>-0.013620</td>\n",
       "    </tr>\n",
       "    <tr>\n",
       "      <th>year</th>\n",
       "      <td>0.142873</td>\n",
       "      <td>-0.002993</td>\n",
       "      <td>0.000880</td>\n",
       "      <td>0.014326</td>\n",
       "      <td>-0.015049</td>\n",
       "      <td>0.002734</td>\n",
       "      <td>-0.027387</td>\n",
       "      <td>-0.114958</td>\n",
       "      <td>1.000000</td>\n",
       "      <td>0.004146</td>\n",
       "      <td>0.015011</td>\n",
       "      <td>0.013930</td>\n",
       "      <td>0.014513</td>\n",
       "    </tr>\n",
       "    <tr>\n",
       "      <th>weekday</th>\n",
       "      <td>0.017288</td>\n",
       "      <td>-0.045902</td>\n",
       "      <td>-0.065005</td>\n",
       "      <td>0.000348</td>\n",
       "      <td>-0.002196</td>\n",
       "      <td>-0.004718</td>\n",
       "      <td>0.012442</td>\n",
       "      <td>-0.016323</td>\n",
       "      <td>0.004146</td>\n",
       "      <td>1.000000</td>\n",
       "      <td>0.001112</td>\n",
       "      <td>0.001919</td>\n",
       "      <td>0.001725</td>\n",
       "    </tr>\n",
       "    <tr>\n",
       "      <th>mahattan_dis</th>\n",
       "      <td>0.006666</td>\n",
       "      <td>0.010365</td>\n",
       "      <td>0.002416</td>\n",
       "      <td>0.977061</td>\n",
       "      <td>-0.903468</td>\n",
       "      <td>-0.000502</td>\n",
       "      <td>0.011281</td>\n",
       "      <td>-0.013733</td>\n",
       "      <td>0.015011</td>\n",
       "      <td>0.001112</td>\n",
       "      <td>1.000000</td>\n",
       "      <td>0.992535</td>\n",
       "      <td>0.998154</td>\n",
       "    </tr>\n",
       "    <tr>\n",
       "      <th>euclid_dis</th>\n",
       "      <td>0.006442</td>\n",
       "      <td>0.010902</td>\n",
       "      <td>0.002387</td>\n",
       "      <td>0.986171</td>\n",
       "      <td>-0.863766</td>\n",
       "      <td>-0.000521</td>\n",
       "      <td>0.010638</td>\n",
       "      <td>-0.013388</td>\n",
       "      <td>0.013930</td>\n",
       "      <td>0.001919</td>\n",
       "      <td>0.992535</td>\n",
       "      <td>1.000000</td>\n",
       "      <td>0.995905</td>\n",
       "    </tr>\n",
       "    <tr>\n",
       "      <th>geodesic</th>\n",
       "      <td>0.006290</td>\n",
       "      <td>0.010042</td>\n",
       "      <td>0.001803</td>\n",
       "      <td>0.973883</td>\n",
       "      <td>-0.904596</td>\n",
       "      <td>-0.000494</td>\n",
       "      <td>0.011152</td>\n",
       "      <td>-0.013620</td>\n",
       "      <td>0.014513</td>\n",
       "      <td>0.001725</td>\n",
       "      <td>0.998154</td>\n",
       "      <td>0.995905</td>\n",
       "      <td>1.000000</td>\n",
       "    </tr>\n",
       "  </tbody>\n",
       "</table>\n",
       "</div>"
      ],
      "text/plain": [
       "                   fare_amount  pickup_longitude  pickup_latitude  \\\n",
       "fare_amount           1.000000         -0.002300        -0.105158   \n",
       "pickup_longitude     -0.002300          1.000000         0.355151   \n",
       "pickup_latitude      -0.105158          0.355151         1.000000   \n",
       "dropoff_longitude     0.002539          0.018089         0.007080   \n",
       "dropoff_latitude      0.000240         -0.000695         0.015609   \n",
       "passenger_count      -0.005926         -0.010139         0.001841   \n",
       "day                  -0.009264          0.004552        -0.007907   \n",
       "month                 0.026950         -0.008625         0.007916   \n",
       "year                  0.142873         -0.002993         0.000880   \n",
       "weekday               0.017288         -0.045902        -0.065005   \n",
       "mahattan_dis          0.006666          0.010365         0.002416   \n",
       "euclid_dis            0.006442          0.010902         0.002387   \n",
       "geodesic              0.006290          0.010042         0.001803   \n",
       "\n",
       "                   dropoff_longitude  dropoff_latitude  passenger_count  \\\n",
       "fare_amount                 0.002539          0.000240        -0.005926   \n",
       "pickup_longitude            0.018089         -0.000695        -0.010139   \n",
       "pickup_latitude             0.007080          0.015609         0.001841   \n",
       "dropoff_longitude           1.000000         -0.791805        -0.000615   \n",
       "dropoff_latitude           -0.791805          1.000000         0.000317   \n",
       "passenger_count            -0.000615          0.000317         1.000000   \n",
       "day                         0.010104         -0.012154         0.009064   \n",
       "month                      -0.013170          0.013329        -0.012740   \n",
       "year                        0.014326         -0.015049         0.002734   \n",
       "weekday                     0.000348         -0.002196        -0.004718   \n",
       "mahattan_dis                0.977061         -0.903468        -0.000502   \n",
       "euclid_dis                  0.986171         -0.863766        -0.000521   \n",
       "geodesic                    0.973883         -0.904596        -0.000494   \n",
       "\n",
       "                        day     month      year   weekday  mahattan_dis  \\\n",
       "fare_amount       -0.009264  0.026950  0.142873  0.017288      0.006666   \n",
       "pickup_longitude   0.004552 -0.008625 -0.002993 -0.045902      0.010365   \n",
       "pickup_latitude   -0.007907  0.007916  0.000880 -0.065005      0.002416   \n",
       "dropoff_longitude  0.010104 -0.013170  0.014326  0.000348      0.977061   \n",
       "dropoff_latitude  -0.012154  0.013329 -0.015049 -0.002196     -0.903468   \n",
       "passenger_count    0.009064 -0.012740  0.002734 -0.004718     -0.000502   \n",
       "day                1.000000 -0.019070 -0.027387  0.012442      0.011281   \n",
       "month             -0.019070  1.000000 -0.114958 -0.016323     -0.013733   \n",
       "year              -0.027387 -0.114958  1.000000  0.004146      0.015011   \n",
       "weekday            0.012442 -0.016323  0.004146  1.000000      0.001112   \n",
       "mahattan_dis       0.011281 -0.013733  0.015011  0.001112      1.000000   \n",
       "euclid_dis         0.010638 -0.013388  0.013930  0.001919      0.992535   \n",
       "geodesic           0.011152 -0.013620  0.014513  0.001725      0.998154   \n",
       "\n",
       "                   euclid_dis  geodesic  \n",
       "fare_amount          0.006442  0.006290  \n",
       "pickup_longitude     0.010902  0.010042  \n",
       "pickup_latitude      0.002387  0.001803  \n",
       "dropoff_longitude    0.986171  0.973883  \n",
       "dropoff_latitude    -0.863766 -0.904596  \n",
       "passenger_count     -0.000521 -0.000494  \n",
       "day                  0.010638  0.011152  \n",
       "month               -0.013388 -0.013620  \n",
       "year                 0.013930  0.014513  \n",
       "weekday              0.001919  0.001725  \n",
       "mahattan_dis         0.992535  0.998154  \n",
       "euclid_dis           1.000000  0.995905  \n",
       "geodesic             0.995905  1.000000  "
      ]
     },
     "execution_count": 50,
     "metadata": {},
     "output_type": "execute_result"
    }
   ],
   "source": [
    "d2.corr()"
   ]
  },
  {
   "cell_type": "markdown",
   "metadata": {},
   "source": [
    "#  Bi-variate analysis between different frames"
   ]
  },
  {
   "cell_type": "code",
   "execution_count": 51,
   "metadata": {},
   "outputs": [
    {
     "data": {
      "image/png": "[encoded data removed]",
      "text/plain": [
       "<Figure size 1080x1080 with 2 Axes>"
      ]
     },
     "metadata": {
      "needs_background": "light"
     },
     "output_type": "display_data"
    },
    {
     "data": {
      "text/plain": [
       "<Figure size 432x288 with 0 Axes>"
      ]
     },
     "metadata": {},
     "output_type": "display_data"
    }
   ],
   "source": [
    "#Let us plot relation between dis and price in all three frames, which we derived so far\n",
    "df_fare_max100 = data[data.fare_amount<100]\n",
    "df_fare_sqrt = data.copy()\n",
    "df_fare_sqrt.fare_amount = np.sqrt(df_fare_sqrt.fare_amount)\n",
    "df_fare_boxplot = data[data.fare_amount<22.5]\n",
    "\n",
    "f,ax= plt.subplots(figsize=(15,15))\n",
    "plotno=324\n",
    "plt.subplot(plotno)\n",
    "plt.scatter(df_fare_sqrt['euclid_dis'], df_fare_sqrt.fare_amount, marker='X',color='red',label='sqrt_fare')\n",
    "plt.scatter(df_fare_max100['euclid_dis'], df_fare_max100.fare_amount, marker='^',color='green',label='fare_max100')\n",
    "plt.scatter(df_fare_boxplot['euclid_dis'], df_fare_boxplot.fare_amount, marker='+',color='blue',label='fare_maxboxplot')\n",
    "plt.legend(loc='upper right')\n",
    "plt.xlabel('distance')\n",
    "plt.ylabel('fare')\n",
    "plt.subplot(323)\n",
    "#original dataset\n",
    "plt.scatter(data['euclid_dis'], data.fare_amount, marker='*',color='orange',label='original')\n",
    "plt.legend(loc='upper right')\n",
    "plt.xlabel('distance')\n",
    "plt.ylabel('fare')\n",
    "\n",
    "plt.show()\n",
    "plt.savefig('../data/processed/scatter_var0.png',bbox_inches='tight')"
   ]
  },
  {
   "cell_type": "code",
   "execution_count": 52,
   "metadata": {},
   "outputs": [
    {
     "data": {
      "text/html": [
       "<div>\n",
       "<style scoped>\n",
       "    .dataframe tbody tr th:only-of-type {\n",
       "        vertical-align: middle;\n",
       "    }\n",
       "\n",
       "    .dataframe tbody tr th {\n",
       "        vertical-align: top;\n",
       "    }\n",
       "\n",
       "    .dataframe thead th {\n",
       "        text-align: right;\n",
       "    }\n",
       "</style>\n",
       "<table border=\"1\" class=\"dataframe\">\n",
       "  <thead>\n",
       "    <tr style=\"text-align: right;\">\n",
       "      <th></th>\n",
       "      <th>fare_amount</th>\n",
       "      <th>pickup_datetime</th>\n",
       "      <th>pickup_longitude</th>\n",
       "      <th>pickup_latitude</th>\n",
       "      <th>dropoff_longitude</th>\n",
       "      <th>dropoff_latitude</th>\n",
       "      <th>passenger_count</th>\n",
       "      <th>remarks</th>\n",
       "      <th>time</th>\n",
       "      <th>day</th>\n",
       "      <th>month</th>\n",
       "      <th>year</th>\n",
       "      <th>weekday</th>\n",
       "      <th>season</th>\n",
       "      <th>mahattan_dis</th>\n",
       "      <th>euclid_dis</th>\n",
       "      <th>geodesic</th>\n",
       "    </tr>\n",
       "  </thead>\n",
       "  <tbody>\n",
       "    <tr>\n",
       "      <th>0</th>\n",
       "      <td>4.5</td>\n",
       "      <td>2009-06-15 17:26:21</td>\n",
       "      <td>-73.844311</td>\n",
       "      <td>40.721319</td>\n",
       "      <td>-73.84161</td>\n",
       "      <td>40.712278</td>\n",
       "      <td>1.0</td>\n",
       "      <td>normal</td>\n",
       "      <td>peakeveningtime</td>\n",
       "      <td>15.0</td>\n",
       "      <td>6.0</td>\n",
       "      <td>2009.0</td>\n",
       "      <td>0.0</td>\n",
       "      <td>summer</td>\n",
       "      <td>0.011742</td>\n",
       "      <td>0.009436</td>\n",
       "      <td>0.639764</td>\n",
       "    </tr>\n",
       "  </tbody>\n",
       "</table>\n",
       "</div>"
      ],
      "text/plain": [
       "   fare_amount      pickup_datetime  pickup_longitude  pickup_latitude  \\\n",
       "0          4.5  2009-06-15 17:26:21        -73.844311        40.721319   \n",
       "\n",
       "   dropoff_longitude  dropoff_latitude  passenger_count remarks  \\\n",
       "0          -73.84161         40.712278              1.0  normal   \n",
       "\n",
       "              time   day  month    year  weekday  season  mahattan_dis  \\\n",
       "0  peakeveningtime  15.0    6.0  2009.0      0.0  summer      0.011742   \n",
       "\n",
       "   euclid_dis  geodesic  \n",
       "0    0.009436  0.639764  "
      ]
     },
     "execution_count": 52,
     "metadata": {},
     "output_type": "execute_result"
    }
   ],
   "source": [
    "bk = data.copy()\n",
    "#data=bk.copy()\n",
    "data.head(1)"
   ]
  },
  {
   "cell_type": "markdown",
   "metadata": {},
   "source": [
    "#### let us get 1 frame with passenger_count>10 removed in df_cleaned\n",
    "- Replace mode of passenger_count who has same average as the sub dataframe with passenger_count =0 in original dataframe"
   ]
  },
  {
   "cell_type": "code",
   "execution_count": 53,
   "metadata": {},
   "outputs": [],
   "source": [
    "# Impute passenger_count\n",
    "#data=bk.copy()\n",
    "test = test.drop(test[(test.passenger_count<1)|(test.passenger_count>6)].index)\n",
    "df_cleaned = data.drop(data[data.passenger_count>6].index)#delete\n",
    "data.loc[(data.passenger_count>6)|(data.passenger_count>6),'passenger_count'] = 1 # dont delete"
   ]
  },
  {
   "cell_type": "code",
   "execution_count": 54,
   "metadata": {},
   "outputs": [
    {
     "data": {
      "image/png": "[encoded data removed]",
      "text/plain": [
       "<Figure size 432x288 with 1 Axes>"
      ]
     },
     "metadata": {
      "needs_background": "light"
     },
     "output_type": "display_data"
    },
    {
     "data": {
      "image/png": "[encoded data removed]",
      "text/plain": [
       "<Figure size 432x288 with 1 Axes>"
      ]
     },
     "metadata": {
      "needs_background": "light"
     },
     "output_type": "display_data"
    }
   ],
   "source": [
    "plot_rides(data,'original')\n",
    "plot_rides(df_cleaned,'Invalid passenger count removed')"
   ]
  },
  {
   "cell_type": "markdown",
   "metadata": {},
   "source": [
    "#### investigate passenger count > 6"
   ]
  },
  {
   "cell_type": "code",
   "execution_count": 55,
   "metadata": {},
   "outputs": [
    {
     "data": {
      "text/plain": [
       "0    1.0\n",
       "dtype: float64"
      ]
     },
     "execution_count": 55,
     "metadata": {},
     "output_type": "execute_result"
    }
   ],
   "source": [
    "#plt.scatter(bad_pass_count.geodesic,bad_pass_count.fare_amount)\n",
    "#### shall we delete?\n",
    "data[(data.fare_amount>6)&(data.fare_amount<8)].passenger_count.mode()"
   ]
  },
  {
   "cell_type": "code",
   "execution_count": 56,
   "metadata": {},
   "outputs": [
    {
     "data": {
      "text/html": [
       "<div>\n",
       "<style scoped>\n",
       "    .dataframe tbody tr th:only-of-type {\n",
       "        vertical-align: middle;\n",
       "    }\n",
       "\n",
       "    .dataframe tbody tr th {\n",
       "        vertical-align: top;\n",
       "    }\n",
       "\n",
       "    .dataframe thead th {\n",
       "        text-align: right;\n",
       "    }\n",
       "</style>\n",
       "<table border=\"1\" class=\"dataframe\">\n",
       "  <thead>\n",
       "    <tr style=\"text-align: right;\">\n",
       "      <th></th>\n",
       "      <th>fare_amount</th>\n",
       "      <th>pickup_longitude</th>\n",
       "      <th>pickup_latitude</th>\n",
       "      <th>dropoff_longitude</th>\n",
       "      <th>dropoff_latitude</th>\n",
       "      <th>passenger_count</th>\n",
       "      <th>day</th>\n",
       "      <th>month</th>\n",
       "      <th>year</th>\n",
       "      <th>weekday</th>\n",
       "      <th>mahattan_dis</th>\n",
       "      <th>euclid_dis</th>\n",
       "      <th>geodesic</th>\n",
       "    </tr>\n",
       "  </thead>\n",
       "  <tbody>\n",
       "    <tr>\n",
       "      <th>fare_amount</th>\n",
       "      <td>1.000000</td>\n",
       "      <td>-0.011931</td>\n",
       "      <td>0.008549</td>\n",
       "      <td>-0.015383</td>\n",
       "      <td>0.012609</td>\n",
       "      <td>0.015539</td>\n",
       "      <td>-0.009661</td>\n",
       "      <td>0.024437</td>\n",
       "      <td>0.141993</td>\n",
       "      <td>0.017357</td>\n",
       "      <td>0.019966</td>\n",
       "      <td>0.019515</td>\n",
       "      <td>0.019631</td>\n",
       "    </tr>\n",
       "    <tr>\n",
       "      <th>pickup_longitude</th>\n",
       "      <td>-0.011931</td>\n",
       "      <td>1.000000</td>\n",
       "      <td>-0.983852</td>\n",
       "      <td>0.966092</td>\n",
       "      <td>-0.954622</td>\n",
       "      <td>-0.006736</td>\n",
       "      <td>-0.000962</td>\n",
       "      <td>-0.000593</td>\n",
       "      <td>-0.015755</td>\n",
       "      <td>0.001487</td>\n",
       "      <td>0.130673</td>\n",
       "      <td>0.126710</td>\n",
       "      <td>0.129355</td>\n",
       "    </tr>\n",
       "    <tr>\n",
       "      <th>pickup_latitude</th>\n",
       "      <td>0.008549</td>\n",
       "      <td>-0.983852</td>\n",
       "      <td>1.000000</td>\n",
       "      <td>-0.951989</td>\n",
       "      <td>0.972716</td>\n",
       "      <td>0.007404</td>\n",
       "      <td>-0.001578</td>\n",
       "      <td>0.001530</td>\n",
       "      <td>0.011878</td>\n",
       "      <td>-0.001941</td>\n",
       "      <td>-0.122699</td>\n",
       "      <td>-0.118973</td>\n",
       "      <td>-0.121462</td>\n",
       "    </tr>\n",
       "    <tr>\n",
       "      <th>dropoff_longitude</th>\n",
       "      <td>-0.015383</td>\n",
       "      <td>0.966092</td>\n",
       "      <td>-0.951989</td>\n",
       "      <td>1.000000</td>\n",
       "      <td>-0.977573</td>\n",
       "      <td>-0.005952</td>\n",
       "      <td>-0.001678</td>\n",
       "      <td>-0.001352</td>\n",
       "      <td>-0.014970</td>\n",
       "      <td>0.003926</td>\n",
       "      <td>0.114271</td>\n",
       "      <td>0.119365</td>\n",
       "      <td>0.115159</td>\n",
       "    </tr>\n",
       "    <tr>\n",
       "      <th>dropoff_latitude</th>\n",
       "      <td>0.012609</td>\n",
       "      <td>-0.954622</td>\n",
       "      <td>0.972716</td>\n",
       "      <td>-0.977573</td>\n",
       "      <td>1.000000</td>\n",
       "      <td>0.005527</td>\n",
       "      <td>-0.001009</td>\n",
       "      <td>0.002043</td>\n",
       "      <td>0.011368</td>\n",
       "      <td>-0.004179</td>\n",
       "      <td>-0.088768</td>\n",
       "      <td>-0.087544</td>\n",
       "      <td>-0.089885</td>\n",
       "    </tr>\n",
       "    <tr>\n",
       "      <th>passenger_count</th>\n",
       "      <td>0.015539</td>\n",
       "      <td>-0.006736</td>\n",
       "      <td>0.007404</td>\n",
       "      <td>-0.005952</td>\n",
       "      <td>0.005527</td>\n",
       "      <td>1.000000</td>\n",
       "      <td>0.001838</td>\n",
       "      <td>0.014668</td>\n",
       "      <td>0.003488</td>\n",
       "      <td>0.047039</td>\n",
       "      <td>-0.005550</td>\n",
       "      <td>-0.005778</td>\n",
       "      <td>-0.005315</td>\n",
       "    </tr>\n",
       "    <tr>\n",
       "      <th>day</th>\n",
       "      <td>-0.009661</td>\n",
       "      <td>-0.000962</td>\n",
       "      <td>-0.001578</td>\n",
       "      <td>-0.001678</td>\n",
       "      <td>-0.001009</td>\n",
       "      <td>0.001838</td>\n",
       "      <td>1.000000</td>\n",
       "      <td>-0.018836</td>\n",
       "      <td>-0.026613</td>\n",
       "      <td>0.009940</td>\n",
       "      <td>0.017435</td>\n",
       "      <td>0.016963</td>\n",
       "      <td>0.017349</td>\n",
       "    </tr>\n",
       "    <tr>\n",
       "      <th>month</th>\n",
       "      <td>0.024437</td>\n",
       "      <td>-0.000593</td>\n",
       "      <td>0.001530</td>\n",
       "      <td>-0.001352</td>\n",
       "      <td>0.002043</td>\n",
       "      <td>0.014668</td>\n",
       "      <td>-0.018836</td>\n",
       "      <td>1.000000</td>\n",
       "      <td>-0.116028</td>\n",
       "      <td>-0.017315</td>\n",
       "      <td>-0.015454</td>\n",
       "      <td>-0.015348</td>\n",
       "      <td>-0.015432</td>\n",
       "    </tr>\n",
       "    <tr>\n",
       "      <th>year</th>\n",
       "      <td>0.141993</td>\n",
       "      <td>-0.015755</td>\n",
       "      <td>0.011878</td>\n",
       "      <td>-0.014970</td>\n",
       "      <td>0.011368</td>\n",
       "      <td>0.003488</td>\n",
       "      <td>-0.026613</td>\n",
       "      <td>-0.116028</td>\n",
       "      <td>1.000000</td>\n",
       "      <td>0.005550</td>\n",
       "      <td>0.017208</td>\n",
       "      <td>0.016596</td>\n",
       "      <td>0.016927</td>\n",
       "    </tr>\n",
       "    <tr>\n",
       "      <th>weekday</th>\n",
       "      <td>0.017357</td>\n",
       "      <td>0.001487</td>\n",
       "      <td>-0.001941</td>\n",
       "      <td>0.003926</td>\n",
       "      <td>-0.004179</td>\n",
       "      <td>0.047039</td>\n",
       "      <td>0.009940</td>\n",
       "      <td>-0.017315</td>\n",
       "      <td>0.005550</td>\n",
       "      <td>1.000000</td>\n",
       "      <td>-0.008419</td>\n",
       "      <td>-0.007581</td>\n",
       "      <td>-0.007910</td>\n",
       "    </tr>\n",
       "    <tr>\n",
       "      <th>mahattan_dis</th>\n",
       "      <td>0.019966</td>\n",
       "      <td>0.130673</td>\n",
       "      <td>-0.122699</td>\n",
       "      <td>0.114271</td>\n",
       "      <td>-0.088768</td>\n",
       "      <td>-0.005550</td>\n",
       "      <td>0.017435</td>\n",
       "      <td>-0.015454</td>\n",
       "      <td>0.017208</td>\n",
       "      <td>-0.008419</td>\n",
       "      <td>1.000000</td>\n",
       "      <td>0.996031</td>\n",
       "      <td>0.999101</td>\n",
       "    </tr>\n",
       "    <tr>\n",
       "      <th>euclid_dis</th>\n",
       "      <td>0.019515</td>\n",
       "      <td>0.126710</td>\n",
       "      <td>-0.118973</td>\n",
       "      <td>0.119365</td>\n",
       "      <td>-0.087544</td>\n",
       "      <td>-0.005778</td>\n",
       "      <td>0.016963</td>\n",
       "      <td>-0.015348</td>\n",
       "      <td>0.016596</td>\n",
       "      <td>-0.007581</td>\n",
       "      <td>0.996031</td>\n",
       "      <td>1.000000</td>\n",
       "      <td>0.997849</td>\n",
       "    </tr>\n",
       "    <tr>\n",
       "      <th>geodesic</th>\n",
       "      <td>0.019631</td>\n",
       "      <td>0.129355</td>\n",
       "      <td>-0.121462</td>\n",
       "      <td>0.115159</td>\n",
       "      <td>-0.089885</td>\n",
       "      <td>-0.005315</td>\n",
       "      <td>0.017349</td>\n",
       "      <td>-0.015432</td>\n",
       "      <td>0.016927</td>\n",
       "      <td>-0.007910</td>\n",
       "      <td>0.999101</td>\n",
       "      <td>0.997849</td>\n",
       "      <td>1.000000</td>\n",
       "    </tr>\n",
       "  </tbody>\n",
       "</table>\n",
       "</div>"
      ],
      "text/plain": [
       "                   fare_amount  pickup_longitude  pickup_latitude  \\\n",
       "fare_amount           1.000000         -0.011931         0.008549   \n",
       "pickup_longitude     -0.011931          1.000000        -0.983852   \n",
       "pickup_latitude       0.008549         -0.983852         1.000000   \n",
       "dropoff_longitude    -0.015383          0.966092        -0.951989   \n",
       "dropoff_latitude      0.012609         -0.954622         0.972716   \n",
       "passenger_count       0.015539         -0.006736         0.007404   \n",
       "day                  -0.009661         -0.000962        -0.001578   \n",
       "month                 0.024437         -0.000593         0.001530   \n",
       "year                  0.141993         -0.015755         0.011878   \n",
       "weekday               0.017357          0.001487        -0.001941   \n",
       "mahattan_dis          0.019966          0.130673        -0.122699   \n",
       "euclid_dis            0.019515          0.126710        -0.118973   \n",
       "geodesic              0.019631          0.129355        -0.121462   \n",
       "\n",
       "                   dropoff_longitude  dropoff_latitude  passenger_count  \\\n",
       "fare_amount                -0.015383          0.012609         0.015539   \n",
       "pickup_longitude            0.966092         -0.954622        -0.006736   \n",
       "pickup_latitude            -0.951989          0.972716         0.007404   \n",
       "dropoff_longitude           1.000000         -0.977573        -0.005952   \n",
       "dropoff_latitude           -0.977573          1.000000         0.005527   \n",
       "passenger_count            -0.005952          0.005527         1.000000   \n",
       "day                        -0.001678         -0.001009         0.001838   \n",
       "month                      -0.001352          0.002043         0.014668   \n",
       "year                       -0.014970          0.011368         0.003488   \n",
       "weekday                     0.003926         -0.004179         0.047039   \n",
       "mahattan_dis                0.114271         -0.088768        -0.005550   \n",
       "euclid_dis                  0.119365         -0.087544        -0.005778   \n",
       "geodesic                    0.115159         -0.089885        -0.005315   \n",
       "\n",
       "                        day     month      year   weekday  mahattan_dis  \\\n",
       "fare_amount       -0.009661  0.024437  0.141993  0.017357      0.019966   \n",
       "pickup_longitude  -0.000962 -0.000593 -0.015755  0.001487      0.130673   \n",
       "pickup_latitude   -0.001578  0.001530  0.011878 -0.001941     -0.122699   \n",
       "dropoff_longitude -0.001678 -0.001352 -0.014970  0.003926      0.114271   \n",
       "dropoff_latitude  -0.001009  0.002043  0.011368 -0.004179     -0.088768   \n",
       "passenger_count    0.001838  0.014668  0.003488  0.047039     -0.005550   \n",
       "day                1.000000 -0.018836 -0.026613  0.009940      0.017435   \n",
       "month             -0.018836  1.000000 -0.116028 -0.017315     -0.015454   \n",
       "year              -0.026613 -0.116028  1.000000  0.005550      0.017208   \n",
       "weekday            0.009940 -0.017315  0.005550  1.000000     -0.008419   \n",
       "mahattan_dis       0.017435 -0.015454  0.017208 -0.008419      1.000000   \n",
       "euclid_dis         0.016963 -0.015348  0.016596 -0.007581      0.996031   \n",
       "geodesic           0.017349 -0.015432  0.016927 -0.007910      0.999101   \n",
       "\n",
       "                   euclid_dis  geodesic  \n",
       "fare_amount          0.019515  0.019631  \n",
       "pickup_longitude     0.126710  0.129355  \n",
       "pickup_latitude     -0.118973 -0.121462  \n",
       "dropoff_longitude    0.119365  0.115159  \n",
       "dropoff_latitude    -0.087544 -0.089885  \n",
       "passenger_count     -0.005778 -0.005315  \n",
       "day                  0.016963  0.017349  \n",
       "month               -0.015348 -0.015432  \n",
       "year                 0.016596  0.016927  \n",
       "weekday             -0.007581 -0.007910  \n",
       "mahattan_dis         0.996031  0.999101  \n",
       "euclid_dis           1.000000  0.997849  \n",
       "geodesic             0.997849  1.000000  "
      ]
     },
     "execution_count": 56,
     "metadata": {},
     "output_type": "execute_result"
    }
   ],
   "source": [
    "data.corr()"
   ]
  },
  {
   "cell_type": "markdown",
   "metadata": {},
   "source": [
    "#### notice very less correlation of fare with distances(euclid/manahattan/geodesic), it is because of the outliers"
   ]
  },
  {
   "cell_type": "markdown",
   "metadata": {},
   "source": [
    "### fractional values exist in passenger_count\n",
    "- need to round off the passenger count and convert the data type to string, since it is a categorical variable actually"
   ]
  },
  {
   "cell_type": "code",
   "execution_count": 57,
   "metadata": {},
   "outputs": [],
   "source": [
    "#Impute\n",
    "data.loc[(data.passenger_count<1)|(data.passenger_count>6), 'passenger_count'] = 1\n",
    "data.passenger_count = np.ceil(data.passenger_count)\n",
    "df_cleaned.passenger_count = np.ceil(df_cleaned.passenger_count)\n",
    "test.passenger_count = np.ceil(test.passenger_count)"
   ]
  },
  {
   "cell_type": "code",
   "execution_count": 58,
   "metadata": {},
   "outputs": [
    {
     "data": {
      "image/png": "[encoded data removed]",
      "text/plain": [
       "<Figure size 432x288 with 1 Axes>"
      ]
     },
     "metadata": {
      "needs_background": "light"
     },
     "output_type": "display_data"
    },
    {
     "data": {
      "image/png": "[encoded data removed]",
      "text/plain": [
       "<Figure size 432x288 with 1 Axes>"
      ]
     },
     "metadata": {
      "needs_background": "light"
     },
     "output_type": "display_data"
    }
   ],
   "source": [
    "plot_rides(df_cleaned,'Invalid_passenger_count_removed')   \n",
    "plot_rides(data,'original_passenger_count_fixed')\n"
   ]
  },
  {
   "cell_type": "markdown",
   "metadata": {},
   "source": [
    "#### what does it tell?\n",
    "- passenger count is very densely distributed(since only a few value values it can take)\n",
    "- distance is having a few outliers\n"
   ]
  },
  {
   "cell_type": "markdown",
   "metadata": {},
   "source": [
    "## for more distance also the price is same as the lesser distancees, may be the passenger count varies(check below)\n"
   ]
  },
  {
   "cell_type": "code",
   "execution_count": 59,
   "metadata": {},
   "outputs": [],
   "source": [
    "data.loc[(data.passenger_count<1)|(data.passenger_count>6), 'passenger_count'] = 1"
   ]
  },
  {
   "cell_type": "code",
   "execution_count": 60,
   "metadata": {},
   "outputs": [
    {
     "data": {
      "text/plain": [
       "((14663, 17), (14643, 17))"
      ]
     },
     "execution_count": 60,
     "metadata": {},
     "output_type": "execute_result"
    }
   ],
   "source": [
    "data.shape,df_cleaned.shape"
   ]
  },
  {
   "cell_type": "markdown",
   "metadata": {},
   "source": [
    "### how many rows with zero values in coordinates?"
   ]
  },
  {
   "cell_type": "code",
   "execution_count": 61,
   "metadata": {},
   "outputs": [
    {
     "data": {
      "image/png": "[encoded data removed]",
      "text/plain": [
       "<Figure size 432x288 with 1 Axes>"
      ]
     },
     "metadata": {
      "needs_background": "light"
     },
     "output_type": "display_data"
    },
    {
     "data": {
      "image/png": "[encoded data removed]",
      "text/plain": [
       "<Figure size 432x288 with 1 Axes>"
      ]
     },
     "metadata": {
      "needs_background": "light"
     },
     "output_type": "display_data"
    }
   ],
   "source": [
    "#plot_rides(df_cleaned[(df_cleaned.pickup_latitude==0) | (df_cleaned.pickup_longitude==0) | (df_cleaned.dropoff_latitude ==0 )|            (df_cleaned.dropoff_longitude==0)],'zero-coordinates in Invalid_passenger_count_removed')\n",
    "\n",
    "\n",
    "#plot_rides(data[(data.pickup_latitude==0) | (data.pickup_longitude==0) | (data.dropoff_latitude ==0 )|            (data.dropoff_longitude==0)],'zero-coordinates in original_passenger_count_fixed')\n",
    "plot_rides(data[data.euclid_dis==0],'euclid dis = 0 in original dataset')\n",
    "plot_rides(df_cleaned[df_cleaned.euclid_dis==0],'euclid dis = 0 in cleaned dataset(Invalid_passenger_count_removed)')"
   ]
  },
  {
   "cell_type": "markdown",
   "metadata": {},
   "source": [
    "#### both frames looks almost identical, let us continue forward with original dataframe with passenger id fixed with mode value\n",
    "- let us check the fare are distrubuted, to slect a value for the distance feild"
   ]
  },
  {
   "cell_type": "code",
   "execution_count": 62,
   "metadata": {},
   "outputs": [
    {
     "name": "stdout",
     "output_type": "stream",
     "text": [
      "time\n",
      "peaknighttime      9.422465\n",
      "peakeveningtime    8.875833\n",
      "noontime           8.775772\n",
      "regular            8.546006\n",
      "Name: fare_amount, dtype: float64\n"
     ]
    },
    {
     "data": {
      "text/plain": [
       "<matplotlib.axes._subplots.AxesSubplot at 0x1d01bfa7ef0>"
      ]
     },
     "execution_count": 62,
     "metadata": {},
     "output_type": "execute_result"
    },
    {
     "data": {
      "image/png": "[encoded data removed]",
      "text/plain": [
       "<Figure size 432x288 with 1 Axes>"
      ]
     },
     "metadata": {
      "needs_background": "light"
     },
     "output_type": "display_data"
    }
   ],
   "source": [
    "print(data.groupby('time')['fare_amount'].mean().nlargest(7))\n",
    "data.groupby('time')['fare_amount'].mean().plot.barh()"
   ]
  },
  {
   "cell_type": "code",
   "execution_count": 63,
   "metadata": {},
   "outputs": [
    {
     "data": {
      "text/plain": [
       "(count    416.000000\n",
       " mean       7.776202\n",
       " std        3.800677\n",
       " min        2.500000\n",
       " 25%        5.000000\n",
       " 50%        6.900000\n",
       " 75%        9.500000\n",
       " max       20.500000\n",
       " Name: fare_amount, dtype: float64, count    414.000000\n",
       " mean       7.776570\n",
       " std        3.809458\n",
       " min        2.500000\n",
       " 25%        5.000000\n",
       " 50%        6.900000\n",
       " 75%        9.500000\n",
       " max       20.500000\n",
       " Name: fare_amount, dtype: float64)"
      ]
     },
     "execution_count": 63,
     "metadata": {},
     "output_type": "execute_result"
    }
   ],
   "source": [
    "data[data.euclid_dis==0].fare_amount.describe(),df_cleaned[df_cleaned.euclid_dis==0].fare_amount.describe()"
   ]
  },
  {
   "cell_type": "markdown",
   "metadata": {},
   "source": [
    "### let us the statistics for euclid_dis where fare is in around 6.90(mean of this datset with eculid_dis=0)"
   ]
  },
  {
   "cell_type": "code",
   "execution_count": 64,
   "metadata": {},
   "outputs": [
    {
     "data": {
      "text/plain": [
       "count    1605.000000\n",
       "mean        0.071148\n",
       "std         2.108339\n",
       "min         0.000317\n",
       "25%         0.013132\n",
       "50%         0.016711\n",
       "75%         0.020625\n",
       "max        84.471214\n",
       "Name: euclid_dis, dtype: float64"
      ]
     },
     "execution_count": 64,
     "metadata": {},
     "output_type": "execute_result"
    }
   ],
   "source": [
    "data[(data.fare_amount>6)&(data.fare_amount<7)&(data.euclid_dis!=0)].euclid_dis.describe()"
   ]
  },
  {
   "cell_type": "markdown",
   "metadata": {},
   "source": [
    "#### distances slighly right skewed, let us take median for the correction\n"
   ]
  },
  {
   "cell_type": "code",
   "execution_count": 65,
   "metadata": {},
   "outputs": [
    {
     "data": {
      "text/plain": [
       "Text(0.5, 1.0, 'cleaned dataframe')"
      ]
     },
     "execution_count": 65,
     "metadata": {},
     "output_type": "execute_result"
    },
    {
     "data": {
      "image/png": "[encoded data removed]",
      "text/plain": [
       "<Figure size 720x720 with 2 Axes>"
      ]
     },
     "metadata": {
      "needs_background": "light"
     },
     "output_type": "display_data"
    }
   ],
   "source": [
    "#Impute\n",
    "#data.loc[data.euclid_dis==0,'euclid_dis'] = 6.9\n",
    "#df_cleaned.loc[df_cleaned.euclid_dis==0,'euclid_dis'] = 6.9\n",
    "\n",
    "#drop\n",
    "\n",
    "test = test.drop(test[test.euclid_dis==0].index).reset_index().drop('index',axis=1)\n",
    "df_cleaned = df_cleaned.drop(df_cleaned[df_cleaned.euclid_dis==0].index).reset_index().drop('index',axis=1)\n",
    "data.loc[data.euclid_dis==0,'euclid_dis'] = 0.017\n",
    "#plt.scatter(data[data.euclid_dis<1].euclid_dis,data[data.euclid_dis<1].fare_amount)\n",
    "f,ax= plt.subplots(figsize=(10,10))\n",
    "pltno =321\n",
    "plt.subplot(pltno)\n",
    "plt.scatter(data.euclid_dis,data.fare_amount)\n",
    "plt.xlabel('euclid_dis')\n",
    "plt.ylabel('fare')\n",
    "plt.title('original dataframe')\n",
    "plt.subplot(pltno+1)\n",
    "plt.scatter(df_cleaned.euclid_dis,df_cleaned.fare_amount)\n",
    "plt.xlabel('euclid_dis')\n",
    "plt.ylabel('fare')\n",
    "plt.title('cleaned dataframe')"
   ]
  },
  {
   "cell_type": "markdown",
   "metadata": {},
   "source": [
    "#### the no of observations which are differing are very small in number and hence not much visible"
   ]
  },
  {
   "cell_type": "code",
   "execution_count": 66,
   "metadata": {},
   "outputs": [
    {
     "name": "stdout",
     "output_type": "stream",
     "text": [
      "-----values below -0.01736786771622324 and above 0.06266747620920365 suggested to drop for col euclid_dis:\n",
      "-----values below -0.01736786771622324 and above 0.06266747620920365 dropped  for col euclid_dis:\n",
      "In original frame with passenger count fixed ['per outliers for euclid_dis is 4.8352997340244155', 'per outliers for euclid_dis is 0.0', 'per outliers for euclid_dis is 0.0', 'per outliers for euclid_dis is 0.0']\n",
      "\n",
      "\n",
      "-----values below -0.0186247323035799 and above 0.06422854799370109 dropped  for col euclid_dis:\n",
      "In cleaned dataframe with invalid passenger count removed ['per outliers for euclid_dis is 4.8352997340244155', 'per outliers for euclid_dis is 0.0', 'per outliers for euclid_dis is 0.0', 'per outliers for euclid_dis is 0.0', 'per outliers for euclid_dis is 0.0', 'per outliers for euclid_dis is 0.0']\n",
      "\n",
      "\n",
      "-----values below -0.02699403324712147 and above 0.08089032705428634 dropped  for col euclid_dis:\n"
     ]
    }
   ],
   "source": [
    "#outlier removal for distance\n",
    "outlier = []\n",
    "outlier,data= get_outliers(data,['euclid_dis'],outliers_=outlier,drop=False)\n",
    "\n",
    "outlier,data= get_outliers(data,['euclid_dis'],outliers_=outlier,drop=True)\n",
    "print('In original frame with passenger count fixed',outlier)\n",
    "print('\\n')\n",
    "outlier,df_cleaned= get_outliers(df_cleaned,['euclid_dis'],outliers_=outlier,drop=True)\n",
    "print('In cleaned dataframe with invalid passenger count removed',outlier)\n",
    "print(\"\\n\")\n",
    "outlier,test= get_outliers(test,['euclid_dis'],outliers_=outlier,drop=True)\n"
   ]
  },
  {
   "cell_type": "code",
   "execution_count": 67,
   "metadata": {},
   "outputs": [
    {
     "data": {
      "text/plain": [
       "Text(0.5, 1.0, 'cleaned dataframe')"
      ]
     },
     "execution_count": 67,
     "metadata": {},
     "output_type": "execute_result"
    },
    {
     "data": {
      "image/png": "[encoded data removed]",
      "text/plain": [
       "<Figure size 720x720 with 2 Axes>"
      ]
     },
     "metadata": {
      "needs_background": "light"
     },
     "output_type": "display_data"
    }
   ],
   "source": [
    "f,ax= plt.subplots(figsize=(10,10))\n",
    "pltno =321\n",
    "plt.subplot(pltno)\n",
    "plt.scatter(data.euclid_dis,data.fare_amount)\n",
    "plt.xlabel('euclid_dis')\n",
    "plt.ylabel('fare')\n",
    "plt.title('original dataframe')\n",
    "plt.subplot(pltno+1)\n",
    "plt.scatter(df_cleaned.euclid_dis,df_cleaned.fare_amount)\n",
    "plt.xlabel('euclid_dis')\n",
    "plt.ylabel('fare')\n",
    "plt.title('cleaned dataframe')"
   ]
  },
  {
   "cell_type": "code",
   "execution_count": 68,
   "metadata": {},
   "outputs": [
    {
     "data": {
      "text/plain": [
       "(0.7882853421784157, 0.8043412390893705)"
      ]
     },
     "execution_count": 68,
     "metadata": {},
     "output_type": "execute_result"
    }
   ],
   "source": [
    "data.corr()['fare_amount'].euclid_dis,df_cleaned.corr()['fare_amount'].euclid_dis"
   ]
  },
  {
   "cell_type": "markdown",
   "metadata": {},
   "source": [
    "### why does lesser distance result to higher prices?because of possible factors present in indepe var\n",
    "- passenger_count\n",
    "- time of ride\n",
    "  - same distance and passenger count ,the fares are increased , there has to be a other factors which are not considered, like the Other independent factors like dropoff timestamp, waiting time, cab type(luxury/hatch back/suv).\n",
    "\n",
    "  - But since we dont have that as independent variable to access, we will ignore these observations as they will mislead our model"
   ]
  },
  {
   "cell_type": "code",
   "execution_count": 69,
   "metadata": {},
   "outputs": [],
   "source": [
    "#plt.scatter(data[data.fare_amount>10].passenger_count,data[data.fare_amount>10].fare_amount)\n",
    "#plt.scatter(data[data.fare_amount>10].geodesic,data[data.fare_amount>10].fare_amount)\n",
    "#data[data.fare_amount>10].groupby(['passenger_count','geodesic']).fare_amount.mean().plot.bar()\n",
    "high_fare_orig = data[data.fare_amount>6.9]#['geodesic','passenger_count',]\n",
    "high_fare_cleaned = df_cleaned[df_cleaned.fare_amount>6.9]"
   ]
  },
  {
   "cell_type": "markdown",
   "metadata": {},
   "source": [
    "### effect of factors on high fares"
   ]
  },
  {
   "cell_type": "code",
   "execution_count": 70,
   "metadata": {},
   "outputs": [
    {
     "data": {
      "image/png": "[encoded data removed]",
      "text/plain": [
       "<Figure size 1080x792 with 6 Axes>"
      ]
     },
     "metadata": {
      "needs_background": "light"
     },
     "output_type": "display_data"
    },
    {
     "name": "stdout",
     "output_type": "stream",
     "text": [
      "+++++++++++++++++++++++++++++++++++++++\n"
     ]
    },
    {
     "data": {
      "image/png": "[encoded data removed]",
      "text/plain": [
       "<Figure size 1080x792 with 6 Axes>"
      ]
     },
     "metadata": {
      "needs_background": "light"
     },
     "output_type": "display_data"
    }
   ],
   "source": [
    "variation(high_fare_orig,'orig')\n",
    "print('+++++++++++++++++++++++++++++++++++++++')\n",
    "variation(high_fare_cleaned,'cleaned')\n"
   ]
  },
  {
   "cell_type": "markdown",
   "metadata": {},
   "source": [
    "### cleaned dataframe gives better variations in time bar chart \n",
    "#### year effects the most\n",
    "- month wise also fluctuting\n",
    "- days also needs to be introspected\n",
    "- passenger count 6 has highest fares\n",
    "- season or time of day not effecting  the high fares"
   ]
  },
  {
   "cell_type": "code",
   "execution_count": 71,
   "metadata": {},
   "outputs": [
    {
     "name": "stdout",
     "output_type": "stream",
     "text": [
      "After cleaning the records with more than 10 passengers, originally we had 13594 records\n",
      "After cleaning the records with more than 10 passengers, records with zero values in any of their coordinate values are 0\n"
     ]
    }
   ],
   "source": [
    "#??\n",
    "print('After cleaning the records with more than 10 passengers, originally we had %s records'%len(df_cleaned))\n",
    "print('After cleaning the records with more than 10 passengers, records with zero values in any of their coordinate values are %s'%\\\n",
    "      len(df_cleaned[(df_cleaned.pickup_latitude==0) | (df_cleaned.pickup_longitude==0) | (df_cleaned.dropoff_latitude ==0 )| (df_cleaned.dropoff_longitude==0)]))\n"
   ]
  },
  {
   "cell_type": "code",
   "execution_count": 72,
   "metadata": {},
   "outputs": [
    {
     "data": {
      "text/html": [
       "<div>\n",
       "<style scoped>\n",
       "    .dataframe tbody tr th:only-of-type {\n",
       "        vertical-align: middle;\n",
       "    }\n",
       "\n",
       "    .dataframe tbody tr th {\n",
       "        vertical-align: top;\n",
       "    }\n",
       "\n",
       "    .dataframe thead th {\n",
       "        text-align: right;\n",
       "    }\n",
       "</style>\n",
       "<table border=\"1\" class=\"dataframe\">\n",
       "  <thead>\n",
       "    <tr style=\"text-align: right;\">\n",
       "      <th></th>\n",
       "      <th>fare_amount</th>\n",
       "      <th>pickup_longitude</th>\n",
       "      <th>pickup_latitude</th>\n",
       "      <th>dropoff_longitude</th>\n",
       "      <th>dropoff_latitude</th>\n",
       "      <th>passenger_count</th>\n",
       "      <th>day</th>\n",
       "      <th>month</th>\n",
       "      <th>year</th>\n",
       "      <th>weekday</th>\n",
       "      <th>mahattan_dis</th>\n",
       "      <th>euclid_dis</th>\n",
       "      <th>geodesic</th>\n",
       "    </tr>\n",
       "  </thead>\n",
       "  <tbody>\n",
       "    <tr>\n",
       "      <th>fare_amount</th>\n",
       "      <td>1.000000</td>\n",
       "      <td>0.016546</td>\n",
       "      <td>-0.017320</td>\n",
       "      <td>0.016880</td>\n",
       "      <td>-0.017705</td>\n",
       "      <td>0.020503</td>\n",
       "      <td>-0.012221</td>\n",
       "      <td>0.027107</td>\n",
       "      <td>0.181721</td>\n",
       "      <td>0.011494</td>\n",
       "      <td>0.778381</td>\n",
       "      <td>0.804341</td>\n",
       "      <td>0.800916</td>\n",
       "    </tr>\n",
       "    <tr>\n",
       "      <th>pickup_longitude</th>\n",
       "      <td>0.016546</td>\n",
       "      <td>1.000000</td>\n",
       "      <td>-0.999873</td>\n",
       "      <td>0.999977</td>\n",
       "      <td>-0.999880</td>\n",
       "      <td>-0.006470</td>\n",
       "      <td>0.013949</td>\n",
       "      <td>-0.005354</td>\n",
       "      <td>0.015590</td>\n",
       "      <td>0.001062</td>\n",
       "      <td>0.016276</td>\n",
       "      <td>0.015680</td>\n",
       "      <td>0.011074</td>\n",
       "    </tr>\n",
       "    <tr>\n",
       "      <th>pickup_latitude</th>\n",
       "      <td>-0.017320</td>\n",
       "      <td>-0.999873</td>\n",
       "      <td>1.000000</td>\n",
       "      <td>-0.999886</td>\n",
       "      <td>0.999969</td>\n",
       "      <td>0.006377</td>\n",
       "      <td>-0.013893</td>\n",
       "      <td>0.005426</td>\n",
       "      <td>-0.015517</td>\n",
       "      <td>-0.001904</td>\n",
       "      <td>-0.016794</td>\n",
       "      <td>-0.016271</td>\n",
       "      <td>-0.011875</td>\n",
       "    </tr>\n",
       "    <tr>\n",
       "      <th>dropoff_longitude</th>\n",
       "      <td>0.016880</td>\n",
       "      <td>0.999977</td>\n",
       "      <td>-0.999886</td>\n",
       "      <td>1.000000</td>\n",
       "      <td>-0.999866</td>\n",
       "      <td>-0.006496</td>\n",
       "      <td>0.013940</td>\n",
       "      <td>-0.005285</td>\n",
       "      <td>0.015624</td>\n",
       "      <td>0.001172</td>\n",
       "      <td>0.016822</td>\n",
       "      <td>0.016282</td>\n",
       "      <td>0.011592</td>\n",
       "    </tr>\n",
       "    <tr>\n",
       "      <th>dropoff_latitude</th>\n",
       "      <td>-0.017705</td>\n",
       "      <td>-0.999880</td>\n",
       "      <td>0.999969</td>\n",
       "      <td>-0.999866</td>\n",
       "      <td>1.000000</td>\n",
       "      <td>0.006344</td>\n",
       "      <td>-0.013800</td>\n",
       "      <td>0.005462</td>\n",
       "      <td>-0.015466</td>\n",
       "      <td>-0.001766</td>\n",
       "      <td>-0.016849</td>\n",
       "      <td>-0.016380</td>\n",
       "      <td>-0.011997</td>\n",
       "    </tr>\n",
       "    <tr>\n",
       "      <th>passenger_count</th>\n",
       "      <td>0.020503</td>\n",
       "      <td>-0.006470</td>\n",
       "      <td>0.006377</td>\n",
       "      <td>-0.006496</td>\n",
       "      <td>0.006344</td>\n",
       "      <td>1.000000</td>\n",
       "      <td>0.002722</td>\n",
       "      <td>0.015830</td>\n",
       "      <td>0.003282</td>\n",
       "      <td>0.046708</td>\n",
       "      <td>0.000149</td>\n",
       "      <td>0.001579</td>\n",
       "      <td>0.003029</td>\n",
       "    </tr>\n",
       "    <tr>\n",
       "      <th>day</th>\n",
       "      <td>-0.012221</td>\n",
       "      <td>0.013949</td>\n",
       "      <td>-0.013893</td>\n",
       "      <td>0.013940</td>\n",
       "      <td>-0.013800</td>\n",
       "      <td>0.002722</td>\n",
       "      <td>1.000000</td>\n",
       "      <td>-0.019170</td>\n",
       "      <td>-0.028376</td>\n",
       "      <td>0.008842</td>\n",
       "      <td>-0.002212</td>\n",
       "      <td>-0.003059</td>\n",
       "      <td>-0.002546</td>\n",
       "    </tr>\n",
       "    <tr>\n",
       "      <th>month</th>\n",
       "      <td>0.027107</td>\n",
       "      <td>-0.005354</td>\n",
       "      <td>0.005426</td>\n",
       "      <td>-0.005285</td>\n",
       "      <td>0.005462</td>\n",
       "      <td>0.015830</td>\n",
       "      <td>-0.019170</td>\n",
       "      <td>1.000000</td>\n",
       "      <td>-0.115945</td>\n",
       "      <td>-0.019374</td>\n",
       "      <td>0.000123</td>\n",
       "      <td>-0.001629</td>\n",
       "      <td>-0.001053</td>\n",
       "    </tr>\n",
       "    <tr>\n",
       "      <th>year</th>\n",
       "      <td>0.181721</td>\n",
       "      <td>0.015590</td>\n",
       "      <td>-0.015517</td>\n",
       "      <td>0.015624</td>\n",
       "      <td>-0.015466</td>\n",
       "      <td>0.003282</td>\n",
       "      <td>-0.028376</td>\n",
       "      <td>-0.115945</td>\n",
       "      <td>1.000000</td>\n",
       "      <td>0.006190</td>\n",
       "      <td>0.003086</td>\n",
       "      <td>0.004042</td>\n",
       "      <td>0.004678</td>\n",
       "    </tr>\n",
       "    <tr>\n",
       "      <th>weekday</th>\n",
       "      <td>0.011494</td>\n",
       "      <td>0.001062</td>\n",
       "      <td>-0.001904</td>\n",
       "      <td>0.001172</td>\n",
       "      <td>-0.001766</td>\n",
       "      <td>0.046708</td>\n",
       "      <td>0.008842</td>\n",
       "      <td>-0.019374</td>\n",
       "      <td>0.006190</td>\n",
       "      <td>1.000000</td>\n",
       "      <td>0.027727</td>\n",
       "      <td>0.027544</td>\n",
       "      <td>0.028801</td>\n",
       "    </tr>\n",
       "    <tr>\n",
       "      <th>mahattan_dis</th>\n",
       "      <td>0.778381</td>\n",
       "      <td>0.016276</td>\n",
       "      <td>-0.016794</td>\n",
       "      <td>0.016822</td>\n",
       "      <td>-0.016849</td>\n",
       "      <td>0.000149</td>\n",
       "      <td>-0.002212</td>\n",
       "      <td>0.000123</td>\n",
       "      <td>0.003086</td>\n",
       "      <td>0.027727</td>\n",
       "      <td>1.000000</td>\n",
       "      <td>0.986982</td>\n",
       "      <td>0.973621</td>\n",
       "    </tr>\n",
       "    <tr>\n",
       "      <th>euclid_dis</th>\n",
       "      <td>0.804341</td>\n",
       "      <td>0.015680</td>\n",
       "      <td>-0.016271</td>\n",
       "      <td>0.016282</td>\n",
       "      <td>-0.016380</td>\n",
       "      <td>0.001579</td>\n",
       "      <td>-0.003059</td>\n",
       "      <td>-0.001629</td>\n",
       "      <td>0.004042</td>\n",
       "      <td>0.027544</td>\n",
       "      <td>0.986982</td>\n",
       "      <td>1.000000</td>\n",
       "      <td>0.988905</td>\n",
       "    </tr>\n",
       "    <tr>\n",
       "      <th>geodesic</th>\n",
       "      <td>0.800916</td>\n",
       "      <td>0.011074</td>\n",
       "      <td>-0.011875</td>\n",
       "      <td>0.011592</td>\n",
       "      <td>-0.011997</td>\n",
       "      <td>0.003029</td>\n",
       "      <td>-0.002546</td>\n",
       "      <td>-0.001053</td>\n",
       "      <td>0.004678</td>\n",
       "      <td>0.028801</td>\n",
       "      <td>0.973621</td>\n",
       "      <td>0.988905</td>\n",
       "      <td>1.000000</td>\n",
       "    </tr>\n",
       "  </tbody>\n",
       "</table>\n",
       "</div>"
      ],
      "text/plain": [
       "                   fare_amount  pickup_longitude  pickup_latitude  \\\n",
       "fare_amount           1.000000          0.016546        -0.017320   \n",
       "pickup_longitude      0.016546          1.000000        -0.999873   \n",
       "pickup_latitude      -0.017320         -0.999873         1.000000   \n",
       "dropoff_longitude     0.016880          0.999977        -0.999886   \n",
       "dropoff_latitude     -0.017705         -0.999880         0.999969   \n",
       "passenger_count       0.020503         -0.006470         0.006377   \n",
       "day                  -0.012221          0.013949        -0.013893   \n",
       "month                 0.027107         -0.005354         0.005426   \n",
       "year                  0.181721          0.015590        -0.015517   \n",
       "weekday               0.011494          0.001062        -0.001904   \n",
       "mahattan_dis          0.778381          0.016276        -0.016794   \n",
       "euclid_dis            0.804341          0.015680        -0.016271   \n",
       "geodesic              0.800916          0.011074        -0.011875   \n",
       "\n",
       "                   dropoff_longitude  dropoff_latitude  passenger_count  \\\n",
       "fare_amount                 0.016880         -0.017705         0.020503   \n",
       "pickup_longitude            0.999977         -0.999880        -0.006470   \n",
       "pickup_latitude            -0.999886          0.999969         0.006377   \n",
       "dropoff_longitude           1.000000         -0.999866        -0.006496   \n",
       "dropoff_latitude           -0.999866          1.000000         0.006344   \n",
       "passenger_count            -0.006496          0.006344         1.000000   \n",
       "day                         0.013940         -0.013800         0.002722   \n",
       "month                      -0.005285          0.005462         0.015830   \n",
       "year                        0.015624         -0.015466         0.003282   \n",
       "weekday                     0.001172         -0.001766         0.046708   \n",
       "mahattan_dis                0.016822         -0.016849         0.000149   \n",
       "euclid_dis                  0.016282         -0.016380         0.001579   \n",
       "geodesic                    0.011592         -0.011997         0.003029   \n",
       "\n",
       "                        day     month      year   weekday  mahattan_dis  \\\n",
       "fare_amount       -0.012221  0.027107  0.181721  0.011494      0.778381   \n",
       "pickup_longitude   0.013949 -0.005354  0.015590  0.001062      0.016276   \n",
       "pickup_latitude   -0.013893  0.005426 -0.015517 -0.001904     -0.016794   \n",
       "dropoff_longitude  0.013940 -0.005285  0.015624  0.001172      0.016822   \n",
       "dropoff_latitude  -0.013800  0.005462 -0.015466 -0.001766     -0.016849   \n",
       "passenger_count    0.002722  0.015830  0.003282  0.046708      0.000149   \n",
       "day                1.000000 -0.019170 -0.028376  0.008842     -0.002212   \n",
       "month             -0.019170  1.000000 -0.115945 -0.019374      0.000123   \n",
       "year              -0.028376 -0.115945  1.000000  0.006190      0.003086   \n",
       "weekday            0.008842 -0.019374  0.006190  1.000000      0.027727   \n",
       "mahattan_dis      -0.002212  0.000123  0.003086  0.027727      1.000000   \n",
       "euclid_dis        -0.003059 -0.001629  0.004042  0.027544      0.986982   \n",
       "geodesic          -0.002546 -0.001053  0.004678  0.028801      0.973621   \n",
       "\n",
       "                   euclid_dis  geodesic  \n",
       "fare_amount          0.804341  0.800916  \n",
       "pickup_longitude     0.015680  0.011074  \n",
       "pickup_latitude     -0.016271 -0.011875  \n",
       "dropoff_longitude    0.016282  0.011592  \n",
       "dropoff_latitude    -0.016380 -0.011997  \n",
       "passenger_count      0.001579  0.003029  \n",
       "day                 -0.003059 -0.002546  \n",
       "month               -0.001629 -0.001053  \n",
       "year                 0.004042  0.004678  \n",
       "weekday              0.027544  0.028801  \n",
       "mahattan_dis         0.986982  0.973621  \n",
       "euclid_dis           1.000000  0.988905  \n",
       "geodesic             0.988905  1.000000  "
      ]
     },
     "execution_count": 72,
     "metadata": {},
     "output_type": "execute_result"
    }
   ],
   "source": [
    "data.corr()\n",
    "df_cleaned.corr()"
   ]
  },
  {
   "cell_type": "markdown",
   "metadata": {},
   "source": [
    "#### high corelation of fare_amount with geodesic, manhattanand euclidian also.\n",
    "- since the euclidian distance is explaining fare price the most, we will build a model with that"
   ]
  },
  {
   "cell_type": "markdown",
   "metadata": {},
   "source": [
    "### few rides with passenger count as NA also"
   ]
  },
  {
   "cell_type": "code",
   "execution_count": 73,
   "metadata": {},
   "outputs": [
    {
     "data": {
      "image/png": "[encoded data removed]",
      "text/plain": [
       "<Figure size 432x288 with 1 Axes>"
      ]
     },
     "metadata": {
      "needs_background": "light"
     },
     "output_type": "display_data"
    }
   ],
   "source": [
    "plot_rides(data[(data.passenger_count.isnull())])"
   ]
  },
  {
   "cell_type": "code",
   "execution_count": 74,
   "metadata": {},
   "outputs": [
    {
     "data": {
      "text/plain": [
       "count    51.000000\n",
       "mean      0.023528\n",
       "std       0.013931\n",
       "min       0.005789\n",
       "25%       0.011950\n",
       "50%       0.018948\n",
       "75%       0.036251\n",
       "max       0.057901\n",
       "Name: euclid_dis, dtype: float64"
      ]
     },
     "execution_count": 74,
     "metadata": {},
     "output_type": "execute_result"
    }
   ],
   "source": [
    "data[(data.passenger_count.isnull())].euclid_dis.describe()"
   ]
  },
  {
   "cell_type": "code",
   "execution_count": 75,
   "metadata": {},
   "outputs": [
    {
     "data": {
      "text/plain": [
       "(0    1.0\n",
       " dtype: float64, 0    1.0\n",
       " dtype: float64)"
      ]
     },
     "execution_count": 75,
     "metadata": {},
     "output_type": "execute_result"
    }
   ],
   "source": [
    "#plt.scatter(data.geodesic,data.fare_amount)\n",
    "#data[(data.geodesic<1.2)&(data.geodesic>1)].passenger_count.mode()\n",
    "data[(data.fare_amount>10)].passenger_count.mode(),df_cleaned[(df_cleaned.fare_amount>10)].passenger_count.mode()"
   ]
  },
  {
   "cell_type": "code",
   "execution_count": 76,
   "metadata": {},
   "outputs": [],
   "source": [
    "bk=data.copy()"
   ]
  },
  {
   "cell_type": "code",
   "execution_count": 77,
   "metadata": {},
   "outputs": [
    {
     "data": {
      "text/plain": [
       "pickup_datetime      0\n",
       "pickup_longitude     0\n",
       "pickup_latitude      0\n",
       "dropoff_longitude    0\n",
       "dropoff_latitude     0\n",
       "passenger_count      0\n",
       "remarks              0\n",
       "time                 0\n",
       "day                  0\n",
       "month                0\n",
       "year                 0\n",
       "weekday              0\n",
       "season               0\n",
       "mahattan_dis         0\n",
       "euclid_dis           0\n",
       "geodesic             0\n",
       "dtype: int64"
      ]
     },
     "execution_count": 77,
     "metadata": {},
     "output_type": "execute_result"
    }
   ],
   "source": [
    "test.isnull().sum()"
   ]
  },
  {
   "cell_type": "code",
   "execution_count": 78,
   "metadata": {},
   "outputs": [],
   "source": [
    "# impute passenger count\n",
    "data.loc[data.passenger_count.isnull(), 'passenger_count'] = 1 #Replace passenger count to 1\n",
    "# convert the data type to string, since it is a categorical variable actually\n",
    "data.passenger_count = data.passenger_count.astype('int')\n",
    "data.passenger_count = data.passenger_count.astype('str')\n",
    "\n",
    "#remove these indexes in the cleaned dataframe\n",
    "df_cleaned = df_cleaned.drop(df_cleaned[df_cleaned.passenger_count.isnull()].index).reset_index().drop('index',axis=1)\n",
    "# convert the data type to string, since it is a categorical variable actually\n",
    "df_cleaned.passenger_count = df_cleaned.passenger_count.astype('int')\n",
    "df_cleaned.passenger_count = df_cleaned.passenger_count.astype('str')\n",
    "\n",
    "# convert the data type to string, since it is a categorical variable actually\n",
    "test.passenger_count = test.passenger_count.astype('int')\n",
    "test.passenger_count = test.passenger_count.astype('str')"
   ]
  },
  {
   "cell_type": "code",
   "execution_count": 79,
   "metadata": {},
   "outputs": [
    {
     "data": {
      "text/plain": [
       "(0.7882853421784157, 0.8042495308003599)"
      ]
     },
     "execution_count": 79,
     "metadata": {},
     "output_type": "execute_result"
    }
   ],
   "source": [
    "data.corr()['fare_amount'].euclid_dis,df_cleaned.corr()['fare_amount'].euclid_dis"
   ]
  },
  {
   "cell_type": "code",
   "execution_count": 80,
   "metadata": {},
   "outputs": [
    {
     "name": "stdout",
     "output_type": "stream",
     "text": [
      "After deleting the outliers from fare and distance, we have 13543 records/observations left,\n",
      "dropped 2.9453920022932496 percent of original data in data cleaning\n"
     ]
    }
   ],
   "source": [
    "print('After deleting the outliers from fare and distance, we have %d records/observations left,'%len(df_cleaned))\n",
    "print('dropped %s percent of original data in data cleaning'%((len(data)-len(df_cleaned))/len(data)*100))"
   ]
  },
  {
   "cell_type": "markdown",
   "metadata": {},
   "source": [
    "### let us remove the redundant columns now"
   ]
  },
  {
   "cell_type": "code",
   "execution_count": 81,
   "metadata": {},
   "outputs": [],
   "source": [
    "model_data =df_cleaned.copy().drop(['pickup_datetime','pickup_longitude','dropoff_latitude','dropoff_longitude','mahattan_dis','geodesic'],axis=1)\n",
    "model_test = test.copy().drop(['pickup_datetime','pickup_longitude','dropoff_latitude','dropoff_longitude','mahattan_dis','geodesic'],axis=1)"
   ]
  },
  {
   "cell_type": "markdown",
   "metadata": {},
   "source": [
    "### dataframe with log transoformation on fare_amount"
   ]
  },
  {
   "cell_type": "code",
   "execution_count": 82,
   "metadata": {},
   "outputs": [],
   "source": [
    "model_data_cbrt_fare = model_data.copy()\n",
    "model_data_cbrt_fare['cbrt_fare'] = np.cbrt(model_data.fare_amount)"
   ]
  },
  {
   "cell_type": "code",
   "execution_count": 83,
   "metadata": {},
   "outputs": [
    {
     "data": {
      "text/html": [
       "<div>\n",
       "<style scoped>\n",
       "    .dataframe tbody tr th:only-of-type {\n",
       "        vertical-align: middle;\n",
       "    }\n",
       "\n",
       "    .dataframe tbody tr th {\n",
       "        vertical-align: top;\n",
       "    }\n",
       "\n",
       "    .dataframe thead th {\n",
       "        text-align: right;\n",
       "    }\n",
       "</style>\n",
       "<table border=\"1\" class=\"dataframe\">\n",
       "  <thead>\n",
       "    <tr style=\"text-align: right;\">\n",
       "      <th></th>\n",
       "      <th>fare_amount</th>\n",
       "      <th>pickup_latitude</th>\n",
       "      <th>passenger_count</th>\n",
       "      <th>remarks</th>\n",
       "      <th>time</th>\n",
       "      <th>day</th>\n",
       "      <th>month</th>\n",
       "      <th>year</th>\n",
       "      <th>weekday</th>\n",
       "      <th>season</th>\n",
       "      <th>euclid_dis</th>\n",
       "      <th>cbrt_fare</th>\n",
       "    </tr>\n",
       "  </thead>\n",
       "  <tbody>\n",
       "    <tr>\n",
       "      <th>0</th>\n",
       "      <td>4.5</td>\n",
       "      <td>40.721319</td>\n",
       "      <td>1</td>\n",
       "      <td>normal</td>\n",
       "      <td>peakeveningtime</td>\n",
       "      <td>15.0</td>\n",
       "      <td>6.0</td>\n",
       "      <td>2009.0</td>\n",
       "      <td>0.0</td>\n",
       "      <td>summer</td>\n",
       "      <td>0.009436</td>\n",
       "      <td>1.650964</td>\n",
       "    </tr>\n",
       "  </tbody>\n",
       "</table>\n",
       "</div>"
      ],
      "text/plain": [
       "   fare_amount  pickup_latitude passenger_count remarks             time  \\\n",
       "0          4.5        40.721319               1  normal  peakeveningtime   \n",
       "\n",
       "    day  month    year  weekday  season  euclid_dis  cbrt_fare  \n",
       "0  15.0    6.0  2009.0      0.0  summer    0.009436   1.650964  "
      ]
     },
     "execution_count": 83,
     "metadata": {},
     "output_type": "execute_result"
    }
   ],
   "source": [
    "model_data_cbrt_fare.head(1)"
   ]
  },
  {
   "cell_type": "markdown",
   "metadata": {},
   "source": [
    "### adding cbrt_fare as another dependent variable \n",
    "- aim is to compare the prediction accuracy for original fare vs cbrt fare"
   ]
  },
  {
   "cell_type": "code",
   "execution_count": 84,
   "metadata": {},
   "outputs": [
    {
     "data": {
      "text/plain": [
       "<matplotlib.axes._subplots.AxesSubplot at 0x1d0205a9f60>"
      ]
     },
     "execution_count": 84,
     "metadata": {},
     "output_type": "execute_result"
    },
    {
     "data": {
      "image/png": "[encoded data removed]",
      "text/plain": [
       "<Figure size 432x288 with 2 Axes>"
      ]
     },
     "metadata": {
      "needs_background": "light"
     },
     "output_type": "display_data"
    }
   ],
   "source": [
    "sb.heatmap(model_data[['fare_amount','euclid_dis']].corr(),annot=True)"
   ]
  },
  {
   "cell_type": "markdown",
   "metadata": {},
   "source": [
    "### Normalization"
   ]
  },
  {
   "cell_type": "code",
   "execution_count": 85,
   "metadata": {},
   "outputs": [],
   "source": [
    "#cont_names,categ_names,_,_,_ = iv_dv_get_col_names1(model_data,'fare_amount')\n",
    "model_data = normalize(model_data,['month','weekday','day','euclid_dis','pickup_latitude'])\n",
    "model_test = normalize(model_test,['month','weekday','day','euclid_dis','pickup_latitude'])"
   ]
  },
  {
   "cell_type": "markdown",
   "metadata": {},
   "source": [
    "### boxcox transformation"
   ]
  },
  {
   "cell_type": "code",
   "execution_count": 86,
   "metadata": {},
   "outputs": [
    {
     "name": "stdout",
     "output_type": "stream",
     "text": [
      "euclid_dis\n",
      "Applying 0.38862773277044327 to euclid_dis in test\n",
      "month\n",
      "Applying 0.6282280797671168 to month in test\n",
      "day\n",
      "Applying 0.7267413616338717 to day in test\n"
     ]
    },
    {
     "data": {
      "text/html": [
       "<div>\n",
       "<style scoped>\n",
       "    .dataframe tbody tr th:only-of-type {\n",
       "        vertical-align: middle;\n",
       "    }\n",
       "\n",
       "    .dataframe tbody tr th {\n",
       "        vertical-align: top;\n",
       "    }\n",
       "\n",
       "    .dataframe thead th {\n",
       "        text-align: right;\n",
       "    }\n",
       "</style>\n",
       "<table border=\"1\" class=\"dataframe\">\n",
       "  <thead>\n",
       "    <tr style=\"text-align: right;\">\n",
       "      <th></th>\n",
       "      <th>fare_amount</th>\n",
       "      <th>pickup_datetime</th>\n",
       "      <th>pickup_longitude</th>\n",
       "      <th>pickup_latitude</th>\n",
       "      <th>dropoff_longitude</th>\n",
       "      <th>dropoff_latitude</th>\n",
       "      <th>passenger_count</th>\n",
       "      <th>remarks</th>\n",
       "      <th>time</th>\n",
       "      <th>day</th>\n",
       "      <th>month</th>\n",
       "      <th>year</th>\n",
       "      <th>weekday</th>\n",
       "      <th>season</th>\n",
       "      <th>mahattan_dis</th>\n",
       "      <th>euclid_dis</th>\n",
       "      <th>geodesic</th>\n",
       "    </tr>\n",
       "  </thead>\n",
       "  <tbody>\n",
       "    <tr>\n",
       "      <th>0</th>\n",
       "      <td>4.5</td>\n",
       "      <td>2009-06-15 17:26:21</td>\n",
       "      <td>-73.844311</td>\n",
       "      <td>40.721319</td>\n",
       "      <td>-73.841610</td>\n",
       "      <td>40.712278</td>\n",
       "      <td>1</td>\n",
       "      <td>normal</td>\n",
       "      <td>peakeveningtime</td>\n",
       "      <td>15.0</td>\n",
       "      <td>6.0</td>\n",
       "      <td>2009.0</td>\n",
       "      <td>0.0</td>\n",
       "      <td>summer</td>\n",
       "      <td>0.011742</td>\n",
       "      <td>0.009436</td>\n",
       "      <td>0.639764</td>\n",
       "    </tr>\n",
       "    <tr>\n",
       "      <th>1</th>\n",
       "      <td>5.7</td>\n",
       "      <td>2011-08-18 00:35:00</td>\n",
       "      <td>-73.982738</td>\n",
       "      <td>40.761270</td>\n",
       "      <td>-73.991242</td>\n",
       "      <td>40.750562</td>\n",
       "      <td>2</td>\n",
       "      <td>normal</td>\n",
       "      <td>peaknighttime</td>\n",
       "      <td>18.0</td>\n",
       "      <td>8.0</td>\n",
       "      <td>2011.0</td>\n",
       "      <td>3.0</td>\n",
       "      <td>fall</td>\n",
       "      <td>0.019212</td>\n",
       "      <td>0.013674</td>\n",
       "      <td>0.863167</td>\n",
       "    </tr>\n",
       "    <tr>\n",
       "      <th>2</th>\n",
       "      <td>7.7</td>\n",
       "      <td>2012-04-21 04:30:42</td>\n",
       "      <td>-73.987130</td>\n",
       "      <td>40.733143</td>\n",
       "      <td>-73.991567</td>\n",
       "      <td>40.758092</td>\n",
       "      <td>1</td>\n",
       "      <td>normal</td>\n",
       "      <td>peaknighttime</td>\n",
       "      <td>21.0</td>\n",
       "      <td>4.0</td>\n",
       "      <td>2012.0</td>\n",
       "      <td>5.0</td>\n",
       "      <td>spring</td>\n",
       "      <td>0.029386</td>\n",
       "      <td>0.025340</td>\n",
       "      <td>1.737223</td>\n",
       "    </tr>\n",
       "    <tr>\n",
       "      <th>3</th>\n",
       "      <td>5.3</td>\n",
       "      <td>2010-03-09 07:51:00</td>\n",
       "      <td>-73.968095</td>\n",
       "      <td>40.768008</td>\n",
       "      <td>-73.956655</td>\n",
       "      <td>40.783762</td>\n",
       "      <td>1</td>\n",
       "      <td>normal</td>\n",
       "      <td>regular</td>\n",
       "      <td>9.0</td>\n",
       "      <td>3.0</td>\n",
       "      <td>2010.0</td>\n",
       "      <td>1.0</td>\n",
       "      <td>spring</td>\n",
       "      <td>0.027194</td>\n",
       "      <td>0.019470</td>\n",
       "      <td>1.241710</td>\n",
       "    </tr>\n",
       "    <tr>\n",
       "      <th>4</th>\n",
       "      <td>12.1</td>\n",
       "      <td>2011-01-06 09:50:45</td>\n",
       "      <td>-74.000964</td>\n",
       "      <td>40.731630</td>\n",
       "      <td>-73.972892</td>\n",
       "      <td>40.758233</td>\n",
       "      <td>1</td>\n",
       "      <td>normal</td>\n",
       "      <td>regular</td>\n",
       "      <td>6.0</td>\n",
       "      <td>1.0</td>\n",
       "      <td>2011.0</td>\n",
       "      <td>3.0</td>\n",
       "      <td>winter</td>\n",
       "      <td>0.054675</td>\n",
       "      <td>0.038675</td>\n",
       "      <td>2.353742</td>\n",
       "    </tr>\n",
       "  </tbody>\n",
       "</table>\n",
       "</div>"
      ],
      "text/plain": [
       "   fare_amount      pickup_datetime  pickup_longitude  pickup_latitude  \\\n",
       "0          4.5  2009-06-15 17:26:21        -73.844311        40.721319   \n",
       "1          5.7  2011-08-18 00:35:00        -73.982738        40.761270   \n",
       "2          7.7  2012-04-21 04:30:42        -73.987130        40.733143   \n",
       "3          5.3  2010-03-09 07:51:00        -73.968095        40.768008   \n",
       "4         12.1  2011-01-06 09:50:45        -74.000964        40.731630   \n",
       "\n",
       "   dropoff_longitude  dropoff_latitude passenger_count remarks  \\\n",
       "0         -73.841610         40.712278               1  normal   \n",
       "1         -73.991242         40.750562               2  normal   \n",
       "2         -73.991567         40.758092               1  normal   \n",
       "3         -73.956655         40.783762               1  normal   \n",
       "4         -73.972892         40.758233               1  normal   \n",
       "\n",
       "              time   day  month    year  weekday  season  mahattan_dis  \\\n",
       "0  peakeveningtime  15.0    6.0  2009.0      0.0  summer      0.011742   \n",
       "1    peaknighttime  18.0    8.0  2011.0      3.0    fall      0.019212   \n",
       "2    peaknighttime  21.0    4.0  2012.0      5.0  spring      0.029386   \n",
       "3          regular   9.0    3.0  2010.0      1.0  spring      0.027194   \n",
       "4          regular   6.0    1.0  2011.0      3.0  winter      0.054675   \n",
       "\n",
       "   euclid_dis  geodesic  \n",
       "0    0.009436  0.639764  \n",
       "1    0.013674  0.863167  \n",
       "2    0.025340  1.737223  \n",
       "3    0.019470  1.241710  \n",
       "4    0.038675  2.353742  "
      ]
     },
     "execution_count": 86,
     "metadata": {},
     "output_type": "execute_result"
    }
   ],
   "source": [
    "data_norm, test_norm,fitted_lambdas = boxcox_normalization(data.drop(['pickup_datetime','pickup_longitude',\\\n",
    "                            'pickup_latitude','dropoff_latitude','dropoff_longitude','mahattan_dis','geodesic'],axis=1),\\\n",
    "                                             ['euclid_dis','month','day'],\\\n",
    "                                             test,['euclid_dis','month','day'])\n",
    "\n",
    "data.head()"
   ]
  },
  {
   "cell_type": "code",
   "execution_count": 87,
   "metadata": {},
   "outputs": [
    {
     "data": {
      "text/html": [
       "<div>\n",
       "<style scoped>\n",
       "    .dataframe tbody tr th:only-of-type {\n",
       "        vertical-align: middle;\n",
       "    }\n",
       "\n",
       "    .dataframe tbody tr th {\n",
       "        vertical-align: top;\n",
       "    }\n",
       "\n",
       "    .dataframe thead th {\n",
       "        text-align: right;\n",
       "    }\n",
       "</style>\n",
       "<table border=\"1\" class=\"dataframe\">\n",
       "  <thead>\n",
       "    <tr style=\"text-align: right;\">\n",
       "      <th></th>\n",
       "      <th>fare_amount</th>\n",
       "      <th>passenger_count</th>\n",
       "      <th>remarks</th>\n",
       "      <th>time</th>\n",
       "      <th>year</th>\n",
       "      <th>weekday</th>\n",
       "      <th>season</th>\n",
       "      <th>euclid_dis</th>\n",
       "      <th>month</th>\n",
       "      <th>day</th>\n",
       "    </tr>\n",
       "  </thead>\n",
       "  <tbody>\n",
       "    <tr>\n",
       "      <th>0</th>\n",
       "      <td>4.5</td>\n",
       "      <td>1</td>\n",
       "      <td>normal</td>\n",
       "      <td>peakeveningtime</td>\n",
       "      <td>2009.0</td>\n",
       "      <td>0.0</td>\n",
       "      <td>summer</td>\n",
       "      <td>-2.153001</td>\n",
       "      <td>3.314352</td>\n",
       "      <td>8.471683</td>\n",
       "    </tr>\n",
       "  </tbody>\n",
       "</table>\n",
       "</div>"
      ],
      "text/plain": [
       "   fare_amount passenger_count remarks             time    year  weekday  \\\n",
       "0          4.5               1  normal  peakeveningtime  2009.0      0.0   \n",
       "\n",
       "   season  euclid_dis     month       day  \n",
       "0  summer   -2.153001  3.314352  8.471683  "
      ]
     },
     "execution_count": 87,
     "metadata": {},
     "output_type": "execute_result"
    }
   ],
   "source": [
    "data_norm.head(1)"
   ]
  },
  {
   "cell_type": "code",
   "execution_count": 88,
   "metadata": {},
   "outputs": [
    {
     "data": {
      "image/png": "[encoded data removed]",
      "text/plain": [
       "<Figure size 1080x360 with 2 Axes>"
      ]
     },
     "metadata": {
      "needs_background": "light"
     },
     "output_type": "display_data"
    }
   ],
   "source": [
    "\n",
    "f,ax=plt.subplots(1,2,figsize=(15,5))\n",
    "plt.title('before')\n",
    "#sb.distplot(data.fare_amount,ax=ax[0],label='Before')\n",
    "#plt.legend()\n",
    "sb.distplot(data.euclid_dis,ax=ax[0],label='Before')\n",
    "\n",
    "\n",
    "#sb.distplot(data_norm.fare_amount,ax=ax[2],label='After')\n",
    "plt.title('After')\n",
    "#plt.legend()\n",
    "sb.distplot(data_norm.euclid_dis,ax=ax[1],label ='After boxcox transformation')\n",
    "#plt.legend()\n",
    "plt.show()"
   ]
  },
  {
   "cell_type": "markdown",
   "metadata": {},
   "source": [
    "## chi-sq analysis"
   ]
  },
  {
   "cell_type": "code",
   "execution_count": 89,
   "metadata": {},
   "outputs": [
    {
     "name": "stdout",
     "output_type": "stream",
     "text": [
      "Need to define this col - passenger_count in categ variable\n",
      "Need to define this col - remarks in categ variable\n",
      "Need to define this col - time in categ variable\n",
      "Need to define this col - month in categ variable\n",
      "Need to define this col - year in categ variable\n",
      "Need to define this col - weekday in categ variable\n",
      "Need to define this col - season in categ variable\n"
     ]
    },
    {
     "data": {
      "text/plain": [
       "(['fare_amount',\n",
       "  'pickup_latitude',\n",
       "  'passenger_count',\n",
       "  'remarks',\n",
       "  'time',\n",
       "  'day',\n",
       "  'month',\n",
       "  'year',\n",
       "  'weekday',\n",
       "  'season',\n",
       "  'euclid_dis'],\n",
       " [])"
      ]
     },
     "execution_count": 89,
     "metadata": {},
     "output_type": "execute_result"
    }
   ],
   "source": [
    "continous_names, cat_names, iv,dv,testparams = iv_dv_get_col_names_dist_based(model_data,'fare_amount')\n",
    "continous_names, cat_names"
   ]
  },
  {
   "cell_type": "code",
   "execution_count": 90,
   "metadata": {},
   "outputs": [
    {
     "data": {
      "text/plain": [
       "Index(['fare_amount', 'pickup_latitude', 'passenger_count', 'remarks', 'time',\n",
       "       'day', 'month', 'year', 'weekday', 'season', 'euclid_dis'],\n",
       "      dtype='object')"
      ]
     },
     "execution_count": 90,
     "metadata": {},
     "output_type": "execute_result"
    }
   ],
   "source": [
    "model_data.columns"
   ]
  },
  {
   "cell_type": "code",
   "execution_count": 91,
   "metadata": {},
   "outputs": [
    {
     "name": "stdout",
     "output_type": "stream",
     "text": [
      "Suggest to skip col below---------------------\n",
      "skip -p value 0.951779 pickup_latitude\n",
      "skip -p value 0.675605 passenger_count\n",
      "skip -p value 0.217092 remarks\n",
      "accept -pvalue 0.000003 time\n",
      "accept -pvalue 0.000000 year\n",
      "accept -pvalue 0.000034 season\n"
     ]
    }
   ],
   "source": [
    "model_data,skip = chi_sq_analysis(model_data,model_data.drop(['fare_amount','euclid_dis','month','weekday','day'],axis=1).columns,'fare_amount',drop=False)\n",
    "#test = chi_sq_analysis1(test,['time','passenger_count'])\n"
   ]
  },
  {
   "cell_type": "markdown",
   "metadata": {},
   "source": [
    "#### chi2 analysis suggests that passenger count is insignificant and independent from target fare_price, we will create 2 models for testing"
   ]
  },
  {
   "cell_type": "code",
   "execution_count": 92,
   "metadata": {},
   "outputs": [],
   "source": [
    "model_data.to_csv(processed_data_path,index=False)\n",
    "#model_data = pd.read_csv(processed_data_path)"
   ]
  },
  {
   "cell_type": "code",
   "execution_count": 93,
   "metadata": {},
   "outputs": [
    {
     "data": {
      "text/html": [
       "<div>\n",
       "<style scoped>\n",
       "    .dataframe tbody tr th:only-of-type {\n",
       "        vertical-align: middle;\n",
       "    }\n",
       "\n",
       "    .dataframe tbody tr th {\n",
       "        vertical-align: top;\n",
       "    }\n",
       "\n",
       "    .dataframe thead th {\n",
       "        text-align: right;\n",
       "    }\n",
       "</style>\n",
       "<table border=\"1\" class=\"dataframe\">\n",
       "  <thead>\n",
       "    <tr style=\"text-align: right;\">\n",
       "      <th></th>\n",
       "      <th>fare_amount</th>\n",
       "      <th>pickup_latitude</th>\n",
       "      <th>passenger_count</th>\n",
       "      <th>remarks</th>\n",
       "      <th>time</th>\n",
       "      <th>day</th>\n",
       "      <th>month</th>\n",
       "      <th>year</th>\n",
       "      <th>weekday</th>\n",
       "      <th>season</th>\n",
       "      <th>euclid_dis</th>\n",
       "    </tr>\n",
       "  </thead>\n",
       "  <tbody>\n",
       "    <tr>\n",
       "      <th>0</th>\n",
       "      <td>4.5</td>\n",
       "      <td>0.997267</td>\n",
       "      <td>1</td>\n",
       "      <td>normal</td>\n",
       "      <td>peakeveningtime</td>\n",
       "      <td>0.466667</td>\n",
       "      <td>0.454545</td>\n",
       "      <td>2009.0</td>\n",
       "      <td>0.0</td>\n",
       "      <td>summer</td>\n",
       "      <td>0.147025</td>\n",
       "    </tr>\n",
       "    <tr>\n",
       "      <th>1</th>\n",
       "      <td>5.7</td>\n",
       "      <td>0.997615</td>\n",
       "      <td>2</td>\n",
       "      <td>normal</td>\n",
       "      <td>peaknighttime</td>\n",
       "      <td>0.566667</td>\n",
       "      <td>0.636364</td>\n",
       "      <td>2011.0</td>\n",
       "      <td>0.5</td>\n",
       "      <td>fall</td>\n",
       "      <td>0.213069</td>\n",
       "    </tr>\n",
       "  </tbody>\n",
       "</table>\n",
       "</div>"
      ],
      "text/plain": [
       "   fare_amount  pickup_latitude passenger_count remarks             time  \\\n",
       "0          4.5         0.997267               1  normal  peakeveningtime   \n",
       "1          5.7         0.997615               2  normal    peaknighttime   \n",
       "\n",
       "        day     month    year  weekday  season  euclid_dis  \n",
       "0  0.466667  0.454545  2009.0      0.0  summer    0.147025  \n",
       "1  0.566667  0.636364  2011.0      0.5    fall    0.213069  "
      ]
     },
     "execution_count": 93,
     "metadata": {},
     "output_type": "execute_result"
    }
   ],
   "source": [
    "#model_data=model_data.drop('log_fare',axis=1)\n",
    "model_data.head(2)\n"
   ]
  },
  {
   "cell_type": "code",
   "execution_count": 94,
   "metadata": {},
   "outputs": [],
   "source": [
    "model_data_orig = pd.get_dummies(model_data,drop_first=True,columns=['year','passenger_count','remarks','time','season',])\n",
    "model_data_chi2 = pd.get_dummies(model_data.drop(skip,axis=1),drop_first=True,columns=['year','time','season'])\n",
    "model_data_cbrt_fare = pd.get_dummies(model_data_cbrt_fare.drop('fare_amount',axis=1),drop_first=True,columns=['year','passenger_count','remarks','time','season'])\n",
    "model_data_boxcox = pd.get_dummies(data_norm,drop_first=True,columns=['year','passenger_count','remarks','time','season'])\n",
    "model_test = pd.get_dummies(model_test,drop_first=True,columns=['year','passenger_count','remarks','time','season'])"
   ]
  },
  {
   "cell_type": "code",
   "execution_count": 95,
   "metadata": {},
   "outputs": [],
   "source": [
    "#data_norm=data_norm.drop('pickup_datetime',axis=1)\n",
    "#model_data_boxcox = pd.get_dummies(data_norm,drop_first=True,columns=['year','passenger_count','remarks','time','season'])\n",
    "#model=LinearRegression().fit(model_data_boxcox.drop('fare_amount',axis=1),model_data_boxcox['fare_amount'])\n",
    "#model.score(model_data_boxcox.drop('fare_amount',axis=1),model_data_boxcox['fare_amount'])"
   ]
  },
  {
   "cell_type": "code",
   "execution_count": 96,
   "metadata": {},
   "outputs": [
    {
     "data": {
      "text/html": [
       "<div>\n",
       "<style scoped>\n",
       "    .dataframe tbody tr th:only-of-type {\n",
       "        vertical-align: middle;\n",
       "    }\n",
       "\n",
       "    .dataframe tbody tr th {\n",
       "        vertical-align: top;\n",
       "    }\n",
       "\n",
       "    .dataframe thead th {\n",
       "        text-align: right;\n",
       "    }\n",
       "</style>\n",
       "<table border=\"1\" class=\"dataframe\">\n",
       "  <thead>\n",
       "    <tr style=\"text-align: right;\">\n",
       "      <th></th>\n",
       "      <th>fare_amount</th>\n",
       "      <th>pickup_latitude</th>\n",
       "      <th>day</th>\n",
       "      <th>month</th>\n",
       "      <th>weekday</th>\n",
       "      <th>euclid_dis</th>\n",
       "      <th>year_2010.0</th>\n",
       "      <th>year_2011.0</th>\n",
       "      <th>year_2012.0</th>\n",
       "      <th>year_2013.0</th>\n",
       "      <th>...</th>\n",
       "      <th>passenger_count_5</th>\n",
       "      <th>passenger_count_6</th>\n",
       "      <th>remarks_month_start</th>\n",
       "      <th>remarks_normal</th>\n",
       "      <th>time_peakeveningtime</th>\n",
       "      <th>time_peaknighttime</th>\n",
       "      <th>time_regular</th>\n",
       "      <th>season_spring</th>\n",
       "      <th>season_summer</th>\n",
       "      <th>season_winter</th>\n",
       "    </tr>\n",
       "  </thead>\n",
       "  <tbody>\n",
       "    <tr>\n",
       "      <th>0</th>\n",
       "      <td>4.5</td>\n",
       "      <td>0.997267</td>\n",
       "      <td>0.466667</td>\n",
       "      <td>0.454545</td>\n",
       "      <td>0.0</td>\n",
       "      <td>0.147025</td>\n",
       "      <td>0</td>\n",
       "      <td>0</td>\n",
       "      <td>0</td>\n",
       "      <td>0</td>\n",
       "      <td>...</td>\n",
       "      <td>0</td>\n",
       "      <td>0</td>\n",
       "      <td>0</td>\n",
       "      <td>1</td>\n",
       "      <td>1</td>\n",
       "      <td>0</td>\n",
       "      <td>0</td>\n",
       "      <td>0</td>\n",
       "      <td>1</td>\n",
       "      <td>0</td>\n",
       "    </tr>\n",
       "  </tbody>\n",
       "</table>\n",
       "<p>1 rows × 26 columns</p>\n",
       "</div>"
      ],
      "text/plain": [
       "   fare_amount  pickup_latitude       day     month  weekday  euclid_dis  \\\n",
       "0          4.5         0.997267  0.466667  0.454545      0.0    0.147025   \n",
       "\n",
       "   year_2010.0  year_2011.0  year_2012.0  year_2013.0  ...  passenger_count_5  \\\n",
       "0            0            0            0            0  ...                  0   \n",
       "\n",
       "   passenger_count_6  remarks_month_start  remarks_normal  \\\n",
       "0                  0                    0               1   \n",
       "\n",
       "   time_peakeveningtime  time_peaknighttime  time_regular  season_spring  \\\n",
       "0                     1                   0             0              0   \n",
       "\n",
       "   season_summer  season_winter  \n",
       "0              1              0  \n",
       "\n",
       "[1 rows x 26 columns]"
      ]
     },
     "execution_count": 96,
     "metadata": {},
     "output_type": "execute_result"
    }
   ],
   "source": [
    "model_data_orig.head(1)"
   ]
  },
  {
   "cell_type": "code",
   "execution_count": 97,
   "metadata": {},
   "outputs": [
    {
     "data": {
      "text/html": [
       "<div>\n",
       "<style scoped>\n",
       "    .dataframe tbody tr th:only-of-type {\n",
       "        vertical-align: middle;\n",
       "    }\n",
       "\n",
       "    .dataframe tbody tr th {\n",
       "        vertical-align: top;\n",
       "    }\n",
       "\n",
       "    .dataframe thead th {\n",
       "        text-align: right;\n",
       "    }\n",
       "</style>\n",
       "<table border=\"1\" class=\"dataframe\">\n",
       "  <thead>\n",
       "    <tr style=\"text-align: right;\">\n",
       "      <th></th>\n",
       "      <th>fare_amount</th>\n",
       "      <th>day</th>\n",
       "      <th>month</th>\n",
       "      <th>weekday</th>\n",
       "      <th>euclid_dis</th>\n",
       "      <th>year_2010.0</th>\n",
       "      <th>year_2011.0</th>\n",
       "      <th>year_2012.0</th>\n",
       "      <th>year_2013.0</th>\n",
       "      <th>year_2014.0</th>\n",
       "      <th>year_2015.0</th>\n",
       "      <th>time_peakeveningtime</th>\n",
       "      <th>time_peaknighttime</th>\n",
       "      <th>time_regular</th>\n",
       "      <th>season_spring</th>\n",
       "      <th>season_summer</th>\n",
       "      <th>season_winter</th>\n",
       "    </tr>\n",
       "  </thead>\n",
       "  <tbody>\n",
       "    <tr>\n",
       "      <th>0</th>\n",
       "      <td>4.5</td>\n",
       "      <td>0.466667</td>\n",
       "      <td>0.454545</td>\n",
       "      <td>0.0</td>\n",
       "      <td>0.147025</td>\n",
       "      <td>0</td>\n",
       "      <td>0</td>\n",
       "      <td>0</td>\n",
       "      <td>0</td>\n",
       "      <td>0</td>\n",
       "      <td>0</td>\n",
       "      <td>1</td>\n",
       "      <td>0</td>\n",
       "      <td>0</td>\n",
       "      <td>0</td>\n",
       "      <td>1</td>\n",
       "      <td>0</td>\n",
       "    </tr>\n",
       "  </tbody>\n",
       "</table>\n",
       "</div>"
      ],
      "text/plain": [
       "   fare_amount       day     month  weekday  euclid_dis  year_2010.0  \\\n",
       "0          4.5  0.466667  0.454545      0.0    0.147025            0   \n",
       "\n",
       "   year_2011.0  year_2012.0  year_2013.0  year_2014.0  year_2015.0  \\\n",
       "0            0            0            0            0            0   \n",
       "\n",
       "   time_peakeveningtime  time_peaknighttime  time_regular  season_spring  \\\n",
       "0                     1                   0             0              0   \n",
       "\n",
       "   season_summer  season_winter  \n",
       "0              1              0  "
      ]
     },
     "execution_count": 97,
     "metadata": {},
     "output_type": "execute_result"
    }
   ],
   "source": [
    "model_data_chi2.head(1)"
   ]
  },
  {
   "cell_type": "code",
   "execution_count": 98,
   "metadata": {},
   "outputs": [
    {
     "data": {
      "text/html": [
       "<div>\n",
       "<style scoped>\n",
       "    .dataframe tbody tr th:only-of-type {\n",
       "        vertical-align: middle;\n",
       "    }\n",
       "\n",
       "    .dataframe tbody tr th {\n",
       "        vertical-align: top;\n",
       "    }\n",
       "\n",
       "    .dataframe thead th {\n",
       "        text-align: right;\n",
       "    }\n",
       "</style>\n",
       "<table border=\"1\" class=\"dataframe\">\n",
       "  <thead>\n",
       "    <tr style=\"text-align: right;\">\n",
       "      <th></th>\n",
       "      <th>pickup_latitude</th>\n",
       "      <th>day</th>\n",
       "      <th>month</th>\n",
       "      <th>weekday</th>\n",
       "      <th>euclid_dis</th>\n",
       "      <th>cbrt_fare</th>\n",
       "      <th>year_2010.0</th>\n",
       "      <th>year_2011.0</th>\n",
       "      <th>year_2012.0</th>\n",
       "      <th>year_2013.0</th>\n",
       "      <th>...</th>\n",
       "      <th>passenger_count_5</th>\n",
       "      <th>passenger_count_6</th>\n",
       "      <th>remarks_month_start</th>\n",
       "      <th>remarks_normal</th>\n",
       "      <th>time_peakeveningtime</th>\n",
       "      <th>time_peaknighttime</th>\n",
       "      <th>time_regular</th>\n",
       "      <th>season_spring</th>\n",
       "      <th>season_summer</th>\n",
       "      <th>season_winter</th>\n",
       "    </tr>\n",
       "  </thead>\n",
       "  <tbody>\n",
       "    <tr>\n",
       "      <th>0</th>\n",
       "      <td>40.721319</td>\n",
       "      <td>15.0</td>\n",
       "      <td>6.0</td>\n",
       "      <td>0.0</td>\n",
       "      <td>0.009436</td>\n",
       "      <td>1.650964</td>\n",
       "      <td>0</td>\n",
       "      <td>0</td>\n",
       "      <td>0</td>\n",
       "      <td>0</td>\n",
       "      <td>...</td>\n",
       "      <td>0</td>\n",
       "      <td>0</td>\n",
       "      <td>0</td>\n",
       "      <td>1</td>\n",
       "      <td>1</td>\n",
       "      <td>0</td>\n",
       "      <td>0</td>\n",
       "      <td>0</td>\n",
       "      <td>1</td>\n",
       "      <td>0</td>\n",
       "    </tr>\n",
       "  </tbody>\n",
       "</table>\n",
       "<p>1 rows × 26 columns</p>\n",
       "</div>"
      ],
      "text/plain": [
       "   pickup_latitude   day  month  weekday  euclid_dis  cbrt_fare  year_2010.0  \\\n",
       "0        40.721319  15.0    6.0      0.0    0.009436   1.650964            0   \n",
       "\n",
       "   year_2011.0  year_2012.0  year_2013.0  ...  passenger_count_5  \\\n",
       "0            0            0            0  ...                  0   \n",
       "\n",
       "   passenger_count_6  remarks_month_start  remarks_normal  \\\n",
       "0                  0                    0               1   \n",
       "\n",
       "   time_peakeveningtime  time_peaknighttime  time_regular  season_spring  \\\n",
       "0                     1                   0             0              0   \n",
       "\n",
       "   season_summer  season_winter  \n",
       "0              1              0  \n",
       "\n",
       "[1 rows x 26 columns]"
      ]
     },
     "execution_count": 98,
     "metadata": {},
     "output_type": "execute_result"
    }
   ],
   "source": [
    "model_data_cbrt_fare.head(1)"
   ]
  },
  {
   "cell_type": "code",
   "execution_count": 99,
   "metadata": {},
   "outputs": [
    {
     "data": {
      "text/html": [
       "<div>\n",
       "<style scoped>\n",
       "    .dataframe tbody tr th:only-of-type {\n",
       "        vertical-align: middle;\n",
       "    }\n",
       "\n",
       "    .dataframe tbody tr th {\n",
       "        vertical-align: top;\n",
       "    }\n",
       "\n",
       "    .dataframe thead th {\n",
       "        text-align: right;\n",
       "    }\n",
       "</style>\n",
       "<table border=\"1\" class=\"dataframe\">\n",
       "  <thead>\n",
       "    <tr style=\"text-align: right;\">\n",
       "      <th></th>\n",
       "      <th>fare_amount</th>\n",
       "      <th>weekday</th>\n",
       "      <th>euclid_dis</th>\n",
       "      <th>month</th>\n",
       "      <th>day</th>\n",
       "      <th>year_2010.0</th>\n",
       "      <th>year_2011.0</th>\n",
       "      <th>year_2012.0</th>\n",
       "      <th>year_2013.0</th>\n",
       "      <th>year_2014.0</th>\n",
       "      <th>...</th>\n",
       "      <th>passenger_count_5</th>\n",
       "      <th>passenger_count_6</th>\n",
       "      <th>remarks_month_start</th>\n",
       "      <th>remarks_normal</th>\n",
       "      <th>time_peakeveningtime</th>\n",
       "      <th>time_peaknighttime</th>\n",
       "      <th>time_regular</th>\n",
       "      <th>season_spring</th>\n",
       "      <th>season_summer</th>\n",
       "      <th>season_winter</th>\n",
       "    </tr>\n",
       "  </thead>\n",
       "  <tbody>\n",
       "    <tr>\n",
       "      <th>0</th>\n",
       "      <td>4.5</td>\n",
       "      <td>0.0</td>\n",
       "      <td>-2.153001</td>\n",
       "      <td>3.314352</td>\n",
       "      <td>8.471683</td>\n",
       "      <td>0</td>\n",
       "      <td>0</td>\n",
       "      <td>0</td>\n",
       "      <td>0</td>\n",
       "      <td>0</td>\n",
       "      <td>...</td>\n",
       "      <td>0</td>\n",
       "      <td>0</td>\n",
       "      <td>0</td>\n",
       "      <td>1</td>\n",
       "      <td>1</td>\n",
       "      <td>0</td>\n",
       "      <td>0</td>\n",
       "      <td>0</td>\n",
       "      <td>1</td>\n",
       "      <td>0</td>\n",
       "    </tr>\n",
       "  </tbody>\n",
       "</table>\n",
       "<p>1 rows × 24 columns</p>\n",
       "</div>"
      ],
      "text/plain": [
       "   fare_amount  weekday  euclid_dis     month       day  year_2010.0  \\\n",
       "0          4.5      0.0   -2.153001  3.314352  8.471683            0   \n",
       "\n",
       "   year_2011.0  year_2012.0  year_2013.0  year_2014.0  ...  passenger_count_5  \\\n",
       "0            0            0            0            0  ...                  0   \n",
       "\n",
       "   passenger_count_6  remarks_month_start  remarks_normal  \\\n",
       "0                  0                    0               1   \n",
       "\n",
       "   time_peakeveningtime  time_peaknighttime  time_regular  season_spring  \\\n",
       "0                     1                   0             0              0   \n",
       "\n",
       "   season_summer  season_winter  \n",
       "0              1              0  \n",
       "\n",
       "[1 rows x 24 columns]"
      ]
     },
     "execution_count": 99,
     "metadata": {},
     "output_type": "execute_result"
    }
   ],
   "source": [
    "model_data_boxcox.head(1)"
   ]
  },
  {
   "cell_type": "code",
   "execution_count": 100,
   "metadata": {},
   "outputs": [
    {
     "data": {
      "text/html": [
       "<div>\n",
       "<style scoped>\n",
       "    .dataframe tbody tr th:only-of-type {\n",
       "        vertical-align: middle;\n",
       "    }\n",
       "\n",
       "    .dataframe tbody tr th {\n",
       "        vertical-align: top;\n",
       "    }\n",
       "\n",
       "    .dataframe thead th {\n",
       "        text-align: right;\n",
       "    }\n",
       "</style>\n",
       "<table border=\"1\" class=\"dataframe\">\n",
       "  <thead>\n",
       "    <tr style=\"text-align: right;\">\n",
       "      <th></th>\n",
       "      <th>pickup_latitude</th>\n",
       "      <th>day</th>\n",
       "      <th>month</th>\n",
       "      <th>weekday</th>\n",
       "      <th>euclid_dis</th>\n",
       "      <th>year_2010.0</th>\n",
       "      <th>year_2011.0</th>\n",
       "      <th>year_2012.0</th>\n",
       "      <th>year_2013.0</th>\n",
       "      <th>year_2014.0</th>\n",
       "      <th>...</th>\n",
       "      <th>passenger_count_5</th>\n",
       "      <th>passenger_count_6</th>\n",
       "      <th>remarks_month_start</th>\n",
       "      <th>remarks_normal</th>\n",
       "      <th>time_peakeveningtime</th>\n",
       "      <th>time_peaknighttime</th>\n",
       "      <th>time_regular</th>\n",
       "      <th>season_spring</th>\n",
       "      <th>season_summer</th>\n",
       "      <th>season_winter</th>\n",
       "    </tr>\n",
       "  </thead>\n",
       "  <tbody>\n",
       "    <tr>\n",
       "      <th>0</th>\n",
       "      <td>0.167776</td>\n",
       "      <td>0.866667</td>\n",
       "      <td>0.0</td>\n",
       "      <td>0.166667</td>\n",
       "      <td>0.266367</td>\n",
       "      <td>0</td>\n",
       "      <td>0</td>\n",
       "      <td>0</td>\n",
       "      <td>0</td>\n",
       "      <td>0</td>\n",
       "      <td>...</td>\n",
       "      <td>0</td>\n",
       "      <td>0</td>\n",
       "      <td>0</td>\n",
       "      <td>0</td>\n",
       "      <td>0</td>\n",
       "      <td>0</td>\n",
       "      <td>0</td>\n",
       "      <td>0</td>\n",
       "      <td>0</td>\n",
       "      <td>1</td>\n",
       "    </tr>\n",
       "  </tbody>\n",
       "</table>\n",
       "<p>1 rows × 24 columns</p>\n",
       "</div>"
      ],
      "text/plain": [
       "   pickup_latitude       day  month   weekday  euclid_dis  year_2010.0  \\\n",
       "0         0.167776  0.866667    0.0  0.166667    0.266367            0   \n",
       "\n",
       "   year_2011.0  year_2012.0  year_2013.0  year_2014.0  ...  passenger_count_5  \\\n",
       "0            0            0            0            0  ...                  0   \n",
       "\n",
       "   passenger_count_6  remarks_month_start  remarks_normal  \\\n",
       "0                  0                    0               0   \n",
       "\n",
       "   time_peakeveningtime  time_peaknighttime  time_regular  season_spring  \\\n",
       "0                     0                   0             0              0   \n",
       "\n",
       "   season_summer  season_winter  \n",
       "0              0              1  \n",
       "\n",
       "[1 rows x 24 columns]"
      ]
     },
     "execution_count": 100,
     "metadata": {},
     "output_type": "execute_result"
    }
   ],
   "source": [
    "model_test.head(1)"
   ]
  },
  {
   "cell_type": "markdown",
   "metadata": {},
   "source": [
    "# Model creation"
   ]
  },
  {
   "cell_type": "markdown",
   "metadata": {},
   "source": [
    "### randomforest hyperparameter tuning\n",
    "rf_hyperparameter_tuning runs the randomforest regressor with different value of estiamtor trees , max features to build the trees adnd returns the best values in rf_params dictionary"
   ]
  },
  {
   "cell_type": "code",
   "execution_count": 101,
   "metadata": {},
   "outputs": [
    {
     "name": "stdout",
     "output_type": "stream",
     "text": [
      "--------------------random forest pramaeter tuning------------------\n"
     ]
    },
    {
     "data": {
      "image/png": "[encoded data removed]",
      "text/plain": [
       "<Figure size 432x288 with 1 Axes>"
      ]
     },
     "metadata": {
      "needs_background": "light"
     },
     "output_type": "display_data"
    },
    {
     "data": {
      "image/png": "[encoded data removed]",
      "text/plain": [
       "<Figure size 432x288 with 1 Axes>"
      ]
     },
     "metadata": {
      "needs_background": "light"
     },
     "output_type": "display_data"
    }
   ],
   "source": [
    "## get the tuned paramters\n",
    "SEED =0\n",
    "NFOLDS=5\n",
    "rf_params={}\n",
    "\n",
    "#rf_params = {\n",
    "#    'n_estimators': 1000,\n",
    "#   'max_features':'auto'\n",
    "#}\n",
    "\n",
    "iv = model_data_orig.drop('fare_amount',axis=1)\n",
    "dv = model_data_orig['fare_amount']\n",
    "rf_params = rf_hyperparameter_tuning(iv,dv,rf_params)\n"
   ]
  },
  {
   "cell_type": "markdown",
   "metadata": {},
   "source": [
    "### knn hyperparameter tuning\n",
    "knn_k_tunin runs the KNeighborsRegressor with different value of k , and returns the best k value which results in lowest root mean square error"
   ]
  },
  {
   "cell_type": "code",
   "execution_count": 102,
   "metadata": {},
   "outputs": [
    {
     "name": "stdout",
     "output_type": "stream",
     "text": [
      "-------------------------------KNN neighbors tuning---------------\n",
      "rmse error for k 1 is 3.5190860031443907\n",
      "rmse error for k 2 is 3.1768919555489217\n",
      "rmse error for k 3 is 3.0533148097884024\n",
      "rmse error for k 4 is 3.017372781675992\n",
      "rmse error for k 5 is 3.018306059926935\n",
      "rmse error for k 6 is 3.0220393455271957\n",
      "rmse error for k 7 is 3.01808993163165\n",
      "rmse error for k 8 is 3.029130798127576\n",
      "rmse error for k 9 is 3.0516479218218624\n",
      "rmse error for k 10 is 3.060356875470864\n",
      "rmse error for k 11 is 3.067584876994912\n",
      "rmse error for k 12 is 3.08152807425058\n",
      "rmse error for k 13 is 3.093067474202357\n",
      "rmse error for k 14 is 3.1034610442194044\n",
      "{1: 3.5190860031443907, 2: 3.1768919555489217, 3: 3.0533148097884024, 4: 3.017372781675992, 5: 3.018306059926935, 6: 3.0220393455271957, 7: 3.01808993163165, 8: 3.029130798127576, 9: 3.0516479218218624, 10: 3.060356875470864, 11: 3.067584876994912, 12: 3.08152807425058, 13: 3.093067474202357, 14: 3.1034610442194044}\n"
     ]
    },
    {
     "data": {
      "image/png": "[encoded data removed]",
      "text/plain": [
       "<Figure size 432x288 with 1 Axes>"
      ]
     },
     "metadata": {
      "needs_background": "light"
     },
     "output_type": "display_data"
    }
   ],
   "source": [
    "iv = model_data_orig.drop('fare_amount',axis=1)\n",
    "dv = model_data_orig['fare_amount']\n",
    "knn_params={}\n",
    "knn_params = knn_k_tuning(iv,dv,knn_params)"
   ]
  },
  {
   "cell_type": "markdown",
   "metadata": {},
   "source": [
    "### LinearRegression varaince check"
   ]
  },
  {
   "cell_type": "code",
   "execution_count": 103,
   "metadata": {},
   "outputs": [
    {
     "data": {
      "text/plain": [
       "Index(['fare_amount', 'pickup_latitude', 'day', 'month', 'weekday',\n",
       "       'euclid_dis', 'year_2010.0', 'year_2011.0', 'year_2012.0',\n",
       "       'year_2013.0', 'year_2014.0', 'year_2015.0', 'passenger_count_1',\n",
       "       'passenger_count_2', 'passenger_count_3', 'passenger_count_4',\n",
       "       'passenger_count_5', 'passenger_count_6', 'remarks_month_start',\n",
       "       'remarks_normal', 'time_peakeveningtime', 'time_peaknighttime',\n",
       "       'time_regular', 'season_spring', 'season_summer', 'season_winter'],\n",
       "      dtype='object')"
      ]
     },
     "execution_count": 103,
     "metadata": {},
     "output_type": "execute_result"
    }
   ],
   "source": [
    "model_data_orig.columns"
   ]
  },
  {
   "cell_type": "code",
   "execution_count": 104,
   "metadata": {},
   "outputs": [
    {
     "data": {
      "text/html": [
       "<div>\n",
       "<style scoped>\n",
       "    .dataframe tbody tr th:only-of-type {\n",
       "        vertical-align: middle;\n",
       "    }\n",
       "\n",
       "    .dataframe tbody tr th {\n",
       "        vertical-align: top;\n",
       "    }\n",
       "\n",
       "    .dataframe thead th {\n",
       "        text-align: right;\n",
       "    }\n",
       "</style>\n",
       "<table border=\"1\" class=\"dataframe\">\n",
       "  <thead>\n",
       "    <tr style=\"text-align: right;\">\n",
       "      <th></th>\n",
       "      <th>VIF</th>\n",
       "      <th>features</th>\n",
       "    </tr>\n",
       "  </thead>\n",
       "  <tbody>\n",
       "    <tr>\n",
       "      <th>0</th>\n",
       "      <td>4.540637</td>\n",
       "      <td>day</td>\n",
       "    </tr>\n",
       "    <tr>\n",
       "      <th>1</th>\n",
       "      <td>3.840451</td>\n",
       "      <td>month</td>\n",
       "    </tr>\n",
       "    <tr>\n",
       "      <th>2</th>\n",
       "      <td>3.313753</td>\n",
       "      <td>weekday</td>\n",
       "    </tr>\n",
       "    <tr>\n",
       "      <th>3</th>\n",
       "      <td>3.579284</td>\n",
       "      <td>euclid_dis</td>\n",
       "    </tr>\n",
       "    <tr>\n",
       "      <th>4</th>\n",
       "      <td>1.881480</td>\n",
       "      <td>year_2010.0</td>\n",
       "    </tr>\n",
       "    <tr>\n",
       "      <th>5</th>\n",
       "      <td>1.865687</td>\n",
       "      <td>year_2011.0</td>\n",
       "    </tr>\n",
       "    <tr>\n",
       "      <th>6</th>\n",
       "      <td>1.897544</td>\n",
       "      <td>year_2012.0</td>\n",
       "    </tr>\n",
       "    <tr>\n",
       "      <th>7</th>\n",
       "      <td>1.881543</td>\n",
       "      <td>year_2013.0</td>\n",
       "    </tr>\n",
       "    <tr>\n",
       "      <th>8</th>\n",
       "      <td>1.803751</td>\n",
       "      <td>year_2014.0</td>\n",
       "    </tr>\n",
       "    <tr>\n",
       "      <th>9</th>\n",
       "      <td>1.450844</td>\n",
       "      <td>year_2015.0</td>\n",
       "    </tr>\n",
       "    <tr>\n",
       "      <th>10</th>\n",
       "      <td>1.207359</td>\n",
       "      <td>passenger_count_2</td>\n",
       "    </tr>\n",
       "    <tr>\n",
       "      <th>11</th>\n",
       "      <td>1.065424</td>\n",
       "      <td>passenger_count_3</td>\n",
       "    </tr>\n",
       "    <tr>\n",
       "      <th>12</th>\n",
       "      <td>1.033017</td>\n",
       "      <td>passenger_count_4</td>\n",
       "    </tr>\n",
       "    <tr>\n",
       "      <th>13</th>\n",
       "      <td>1.093304</td>\n",
       "      <td>passenger_count_5</td>\n",
       "    </tr>\n",
       "    <tr>\n",
       "      <th>14</th>\n",
       "      <td>1.037841</td>\n",
       "      <td>passenger_count_6</td>\n",
       "    </tr>\n",
       "    <tr>\n",
       "      <th>15</th>\n",
       "      <td>1.396607</td>\n",
       "      <td>remarks_month_start</td>\n",
       "    </tr>\n",
       "    <tr>\n",
       "      <th>16</th>\n",
       "      <td>5.959680</td>\n",
       "      <td>remarks_normal</td>\n",
       "    </tr>\n",
       "    <tr>\n",
       "      <th>17</th>\n",
       "      <td>2.005245</td>\n",
       "      <td>time_peakeveningtime</td>\n",
       "    </tr>\n",
       "    <tr>\n",
       "      <th>18</th>\n",
       "      <td>1.769963</td>\n",
       "      <td>time_peaknighttime</td>\n",
       "    </tr>\n",
       "    <tr>\n",
       "      <th>19</th>\n",
       "      <td>1.697016</td>\n",
       "      <td>time_regular</td>\n",
       "    </tr>\n",
       "    <tr>\n",
       "      <th>20</th>\n",
       "      <td>2.136873</td>\n",
       "      <td>season_spring</td>\n",
       "    </tr>\n",
       "    <tr>\n",
       "      <th>21</th>\n",
       "      <td>2.223927</td>\n",
       "      <td>season_summer</td>\n",
       "    </tr>\n",
       "    <tr>\n",
       "      <th>22</th>\n",
       "      <td>2.466228</td>\n",
       "      <td>season_winter</td>\n",
       "    </tr>\n",
       "  </tbody>\n",
       "</table>\n",
       "</div>"
      ],
      "text/plain": [
       "         VIF              features\n",
       "0   4.540637                   day\n",
       "1   3.840451                 month\n",
       "2   3.313753               weekday\n",
       "3   3.579284            euclid_dis\n",
       "4   1.881480           year_2010.0\n",
       "5   1.865687           year_2011.0\n",
       "6   1.897544           year_2012.0\n",
       "7   1.881543           year_2013.0\n",
       "8   1.803751           year_2014.0\n",
       "9   1.450844           year_2015.0\n",
       "10  1.207359     passenger_count_2\n",
       "11  1.065424     passenger_count_3\n",
       "12  1.033017     passenger_count_4\n",
       "13  1.093304     passenger_count_5\n",
       "14  1.037841     passenger_count_6\n",
       "15  1.396607   remarks_month_start\n",
       "16  5.959680        remarks_normal\n",
       "17  2.005245  time_peakeveningtime\n",
       "18  1.769963    time_peaknighttime\n",
       "19  1.697016          time_regular\n",
       "20  2.136873         season_spring\n",
       "21  2.223927         season_summer\n",
       "22  2.466228         season_winter"
      ]
     },
     "execution_count": 104,
     "metadata": {},
     "output_type": "execute_result"
    }
   ],
   "source": [
    "vif = pd.DataFrame()\n",
    "predictors = model_data_orig.drop(['fare_amount','pickup_latitude','passenger_count_1'],axis=1)\n",
    "vif[\"VIF\"] = [variance_inflation_factor(predictors.values, i) for i in range(predictors.shape[1])]\n",
    "vif[\"features\"] = predictors.columns\n",
    "vif"
   ]
  },
  {
   "cell_type": "markdown",
   "metadata": {},
   "source": [
    "#### although pickup_latitude seemed to be significant by graphs, it is causing multi-collinearity, which means it is determinied by other independent variable (there is a colinearity b/w pickup_latitude and other predictors)\n",
    "- need to drop it, along with passenger_count_1"
   ]
  },
  {
   "cell_type": "code",
   "execution_count": 105,
   "metadata": {},
   "outputs": [
    {
     "data": {
      "text/plain": [
       "Index(['fare_amount', 'weekday', 'euclid_dis', 'month', 'day', 'year_2010.0',\n",
       "       'year_2011.0', 'year_2012.0', 'year_2013.0', 'year_2014.0',\n",
       "       'year_2015.0', 'passenger_count_2', 'passenger_count_3',\n",
       "       'passenger_count_4', 'passenger_count_5', 'passenger_count_6',\n",
       "       'remarks_month_start', 'remarks_normal', 'time_peakeveningtime',\n",
       "       'time_peaknighttime', 'time_regular', 'season_spring', 'season_summer',\n",
       "       'season_winter'],\n",
       "      dtype='object')"
      ]
     },
     "execution_count": 105,
     "metadata": {},
     "output_type": "execute_result"
    }
   ],
   "source": [
    "#### need to remove passenger_count1 from the predictors\n",
    "#model_data_boxcox.corr()['fare_amount']\n",
    "model_data_boxcox.columns"
   ]
  },
  {
   "cell_type": "code",
   "execution_count": 106,
   "metadata": {},
   "outputs": [
    {
     "data": {
      "text/html": [
       "<div>\n",
       "<style scoped>\n",
       "    .dataframe tbody tr th:only-of-type {\n",
       "        vertical-align: middle;\n",
       "    }\n",
       "\n",
       "    .dataframe tbody tr th {\n",
       "        vertical-align: top;\n",
       "    }\n",
       "\n",
       "    .dataframe thead th {\n",
       "        text-align: right;\n",
       "    }\n",
       "</style>\n",
       "<table border=\"1\" class=\"dataframe\">\n",
       "  <thead>\n",
       "    <tr style=\"text-align: right;\">\n",
       "      <th></th>\n",
       "      <th>VIF</th>\n",
       "      <th>features</th>\n",
       "    </tr>\n",
       "  </thead>\n",
       "  <tbody>\n",
       "    <tr>\n",
       "      <th>0</th>\n",
       "      <td>3.441159</td>\n",
       "      <td>weekday</td>\n",
       "    </tr>\n",
       "    <tr>\n",
       "      <th>1</th>\n",
       "      <td>40.043534</td>\n",
       "      <td>euclid_dis</td>\n",
       "    </tr>\n",
       "    <tr>\n",
       "      <th>2</th>\n",
       "      <td>5.407463</td>\n",
       "      <td>month</td>\n",
       "    </tr>\n",
       "    <tr>\n",
       "      <th>3</th>\n",
       "      <td>8.319285</td>\n",
       "      <td>day</td>\n",
       "    </tr>\n",
       "    <tr>\n",
       "      <th>4</th>\n",
       "      <td>1.988734</td>\n",
       "      <td>year_2010.0</td>\n",
       "    </tr>\n",
       "    <tr>\n",
       "      <th>5</th>\n",
       "      <td>1.979074</td>\n",
       "      <td>year_2011.0</td>\n",
       "    </tr>\n",
       "    <tr>\n",
       "      <th>6</th>\n",
       "      <td>2.001019</td>\n",
       "      <td>year_2012.0</td>\n",
       "    </tr>\n",
       "    <tr>\n",
       "      <th>7</th>\n",
       "      <td>1.987537</td>\n",
       "      <td>year_2013.0</td>\n",
       "    </tr>\n",
       "    <tr>\n",
       "      <th>8</th>\n",
       "      <td>1.894652</td>\n",
       "      <td>year_2014.0</td>\n",
       "    </tr>\n",
       "    <tr>\n",
       "      <th>9</th>\n",
       "      <td>1.509057</td>\n",
       "      <td>year_2015.0</td>\n",
       "    </tr>\n",
       "    <tr>\n",
       "      <th>10</th>\n",
       "      <td>1.208633</td>\n",
       "      <td>passenger_count_2</td>\n",
       "    </tr>\n",
       "    <tr>\n",
       "      <th>11</th>\n",
       "      <td>1.065539</td>\n",
       "      <td>passenger_count_3</td>\n",
       "    </tr>\n",
       "    <tr>\n",
       "      <th>12</th>\n",
       "      <td>1.032743</td>\n",
       "      <td>passenger_count_4</td>\n",
       "    </tr>\n",
       "    <tr>\n",
       "      <th>13</th>\n",
       "      <td>1.095751</td>\n",
       "      <td>passenger_count_5</td>\n",
       "    </tr>\n",
       "    <tr>\n",
       "      <th>14</th>\n",
       "      <td>1.037099</td>\n",
       "      <td>passenger_count_6</td>\n",
       "    </tr>\n",
       "    <tr>\n",
       "      <th>15</th>\n",
       "      <td>1.734213</td>\n",
       "      <td>remarks_month_start</td>\n",
       "    </tr>\n",
       "    <tr>\n",
       "      <th>16</th>\n",
       "      <td>8.729334</td>\n",
       "      <td>remarks_normal</td>\n",
       "    </tr>\n",
       "    <tr>\n",
       "      <th>17</th>\n",
       "      <td>2.036071</td>\n",
       "      <td>time_peakeveningtime</td>\n",
       "    </tr>\n",
       "    <tr>\n",
       "      <th>18</th>\n",
       "      <td>1.748665</td>\n",
       "      <td>time_peaknighttime</td>\n",
       "    </tr>\n",
       "    <tr>\n",
       "      <th>19</th>\n",
       "      <td>1.734416</td>\n",
       "      <td>time_regular</td>\n",
       "    </tr>\n",
       "    <tr>\n",
       "      <th>20</th>\n",
       "      <td>2.367141</td>\n",
       "      <td>season_spring</td>\n",
       "    </tr>\n",
       "    <tr>\n",
       "      <th>21</th>\n",
       "      <td>2.379144</td>\n",
       "      <td>season_summer</td>\n",
       "    </tr>\n",
       "    <tr>\n",
       "      <th>22</th>\n",
       "      <td>2.888762</td>\n",
       "      <td>season_winter</td>\n",
       "    </tr>\n",
       "  </tbody>\n",
       "</table>\n",
       "</div>"
      ],
      "text/plain": [
       "          VIF              features\n",
       "0    3.441159               weekday\n",
       "1   40.043534            euclid_dis\n",
       "2    5.407463                 month\n",
       "3    8.319285                   day\n",
       "4    1.988734           year_2010.0\n",
       "5    1.979074           year_2011.0\n",
       "6    2.001019           year_2012.0\n",
       "7    1.987537           year_2013.0\n",
       "8    1.894652           year_2014.0\n",
       "9    1.509057           year_2015.0\n",
       "10   1.208633     passenger_count_2\n",
       "11   1.065539     passenger_count_3\n",
       "12   1.032743     passenger_count_4\n",
       "13   1.095751     passenger_count_5\n",
       "14   1.037099     passenger_count_6\n",
       "15   1.734213   remarks_month_start\n",
       "16   8.729334        remarks_normal\n",
       "17   2.036071  time_peakeveningtime\n",
       "18   1.748665    time_peaknighttime\n",
       "19   1.734416          time_regular\n",
       "20   2.367141         season_spring\n",
       "21   2.379144         season_summer\n",
       "22   2.888762         season_winter"
      ]
     },
     "execution_count": 106,
     "metadata": {},
     "output_type": "execute_result"
    }
   ],
   "source": [
    "vif = pd.DataFrame()\n",
    "predictors = model_data_boxcox.drop(['fare_amount'],axis=1)\n",
    "vif[\"VIF\"] = [variance_inflation_factor(predictors.values, i) for i in range(predictors.shape[1])]\n",
    "vif[\"features\"] = predictors.columns\n",
    "vif"
   ]
  },
  {
   "cell_type": "markdown",
   "metadata": {},
   "source": [
    "#### since the vif for euclid dis is so large, we can't use this, and hence dropping this for evaluation"
   ]
  },
  {
   "cell_type": "markdown",
   "metadata": {},
   "source": [
    "## Get the objects for different models "
   ]
  },
  {
   "cell_type": "code",
   "execution_count": 107,
   "metadata": {},
   "outputs": [],
   "source": [
    "rf = sklearnHelper(clf = RandomForestRegressor, seed = SEED,params = rf_params)\n",
    "lr = sklearnHelper(clf = LinearRegression, seed = SEED,params= None)\n",
    "knn = sklearnHelper(clf=KNeighborsRegressor, seed=SEED, params=knn_params)"
   ]
  },
  {
   "cell_type": "code",
   "execution_count": 108,
   "metadata": {},
   "outputs": [
    {
     "name": "stdout",
     "output_type": "stream",
     "text": [
      "-------------------------\n",
      "linearRegression--------\n",
      "-------------------------\n",
      "model score : 0.6902980665206988\n",
      "rmse : 2.076173651332789\n",
      "model score : 0.6983752418111467\n",
      "rmse : 2.0424865388341216\n",
      "model score : 0.6836008973482071\n",
      "rmse : 2.0400390516190923\n",
      "model score : 0.7002386542940395\n",
      "rmse : 2.073969974648655\n",
      "model score : 0.6899034316661945\n",
      "rmse : 2.074753966746619\n",
      "++++++++++ Average lr score : 0.6924832583280573, Average lr rmse score : 2.061484636636256\n",
      "-------------------------\n",
      "RandomForestRegressor-----\n",
      "-------------------------\n",
      "model score : 0.6933567848202304\n",
      "rmse : 2.065895723916226\n",
      "model score : 0.6998280209314561\n",
      "rmse : 2.0375617716625523\n",
      "model score : 0.6803761140649186\n",
      "rmse : 2.050408875595153\n",
      "model score : 0.6899802640585158\n",
      "rmse : 2.1091590018026607\n",
      "model score : 0.6863508289575088\n",
      "rmse : 2.0866047685060654\n",
      "++++++++ Average rf score : 0.689978402566526, Average rf rmse score : 2.0699260282965315\n",
      "-------------------------\n",
      "KNN ------------------------\n",
      "-------------------------\n",
      "model score : 0.12203776028493463\n",
      "rmse : 3.495663627042698\n",
      "model score : 0.0915981812398402\n",
      "rmse : 3.544579383339978\n",
      "model score : 0.09662898363735117\n",
      "rmse : 3.447100423385378\n",
      "model score : 0.14189893370890938\n",
      "rmse : 3.5090040596156085\n",
      "model score : 0.13100991524077454\n",
      "rmse : 3.473165945344328\n",
      "++++++++ Average rf score : 0.11663475482236199, Average rf rmse score : 3.493902687745598\n"
     ]
    }
   ],
   "source": [
    "\n",
    "iv = model_data_orig.drop(['fare_amount','pickup_latitude','passenger_count_1'],axis=1).values\n",
    "dv = model_data_orig['fare_amount']\n",
    "\n",
    "print('-------------------------')\n",
    "print('linearRegression--------')\n",
    "print('-------------------------')\n",
    "lr_avg_score, lr_auc_score,lr_rmse_score,logger= get_score(model_data_orig, lr, iv, dv,regression=True)\n",
    "print('++++++++++ Average lr score : %s, Average lr rmse score : %s'%(lr_avg_score,lr_rmse_score))\n",
    "\n",
    "print('-------------------------')\n",
    "print('RandomForestRegressor-----')\n",
    "print('-------------------------')\n",
    "rf_avg_score,rf_auc_score,rf_rmse_score,logger = get_score(model_data_orig, rf, iv, dv,regression=True)\n",
    "print('++++++++ Average rf score : %s, Average rf rmse score : %s'%( rf_avg_score,rf_rmse_score))\n",
    "\n",
    "print('-------------------------')\n",
    "print('KNN ------------------------')\n",
    "print('-------------------------')\n",
    "knn_avg_score,knn_auc_score,knn_rmse_score,logger = get_score(model_data_orig, knn, iv, dv,regression=True)\n",
    "print('++++++++ Average rf score : %s, Average rf rmse score : %s'%( knn_avg_score,knn_rmse_score))\n",
    "\n",
    "\n"
   ]
  },
  {
   "cell_type": "code",
   "execution_count": 109,
   "metadata": {},
   "outputs": [
    {
     "name": "stdout",
     "output_type": "stream",
     "text": [
      "Index(['pickup_latitude', 'month', 'euclid_dis', 'year_2012.0', 'year_2013.0',\n",
      "       'year_2014.0', 'year_2015.0', 'passenger_count_1', 'passenger_count_3',\n",
      "       'passenger_count_6', 'time_peakeveningtime', 'time_peaknighttime',\n",
      "       'time_regular'],\n",
      "      dtype='object') [ 0.04945441  0.63186345 13.82653259  0.5174133   1.3977752   1.5712296\n",
      "  2.0012438  -0.16190351  0.20718492  0.02978416 -0.37662272 -0.8883927\n",
      " -0.50292376]\n",
      "LR R2 score : 0.6919771865600616\n",
      "Adjusted R2 Score : 0.6916812078051828\n",
      "+++++++++accuracy : 82.42431004687687\n",
      "----------MAPE : %s 17.575689953123128\n",
      "---------RMSE %s 2.0822731027124166\n"
     ]
    },
    {
     "data": {
      "image/png": "[encoded data removed]",
      "text/plain": [
       "<Figure size 1440x1440 with 1 Axes>"
      ]
     },
     "metadata": {
      "needs_background": "light"
     },
     "output_type": "display_data"
    },
    {
     "data": {
      "image/png": "[encoded data removed]",
      "text/plain": [
       "<Figure size 1440x720 with 1 Axes>"
      ]
     },
     "metadata": {
      "needs_background": "light"
     },
     "output_type": "display_data"
    }
   ],
   "source": [
    "iv = model_data_orig.drop(['fare_amount','weekday','day','remarks_normal','season_spring','remarks_month_start',\n",
    "       'season_summer', 'season_winter','year_2010.0', 'year_2011.0','passenger_count_2', 'passenger_count_4',\n",
    "        'passenger_count_5'],axis=1)\n",
    "dv = model_data_orig['fare_amount']\n",
    "#LinearRegression\n",
    "plot_lr_coef(iv,dv)"
   ]
  },
  {
   "cell_type": "code",
   "execution_count": 110,
   "metadata": {},
   "outputs": [
    {
     "name": "stdout",
     "output_type": "stream",
     "text": [
      "accuracy  0.6610838803268898\n"
     ]
    },
    {
     "data": {
      "image/png": "[encoded data removed]",
      "text/plain": [
       "<Figure size 1800x360 with 1 Axes>"
      ]
     },
     "metadata": {
      "needs_background": "light"
     },
     "output_type": "display_data"
    }
   ],
   "source": [
    "iv = model_data_orig.drop(['fare_amount','weekday','day','year_2010.0','season_winter','season_summer','pickup_latitude','passenger_count_1'],axis=1)\n",
    "dv = model_data_orig['fare_amount']\n",
    "plot_rf_feature_importance(iv,dv,rf_params)"
   ]
  },
  {
   "cell_type": "code",
   "execution_count": 111,
   "metadata": {},
   "outputs": [
    {
     "name": "stdout",
     "output_type": "stream",
     "text": [
      "-------------------------\n",
      "linearRegression--------\n",
      "-------------------------\n",
      "model score : 0.6898996324770068\n",
      "rmse : 2.077508729175658\n",
      "model score : 0.6975445886982972\n",
      "rmse : 2.0452970364535163\n",
      "model score : 0.6833390815263911\n",
      "rmse : 2.040882928938888\n",
      "model score : 0.7000377622688836\n",
      "rmse : 2.07466481781598\n",
      "model score : 0.6894963114636603\n",
      "rmse : 2.0761154735864458\n",
      "+++++++++++++++Average lr score : 0.6920634752868479, Average lr rmse score : 2.0628937971940977\n",
      "-------------------------\n",
      "RandomForestRegressor-----\n",
      "-------------------------\n",
      "model score : 0.6895401365024456\n",
      "rmse : 2.078712596976724\n",
      "model score : 0.6947849626692906\n",
      "rmse : 2.054606571806677\n",
      "model score : 0.6786785644721448\n",
      "rmse : 2.055846612889483\n",
      "model score : 0.6872460589745175\n",
      "rmse : 2.118439401067859\n",
      "model score : 0.6845023487002069\n",
      "rmse : 2.0927444014397416\n",
      "+++++++++Average rf score : 0.6869504142637209, Average rf rmse score : 2.0800699168360968\n",
      "-------------------------\n",
      "KNN ------------------------\n",
      "-------------------------\n",
      "model score : 0.3274442164897635\n",
      "rmse : 3.0595381482055166\n",
      "model score : 0.31160383027003036\n",
      "rmse : 3.0856377010511773\n",
      "model score : 0.30982307632524075\n",
      "rmse : 3.0130134937913766\n",
      "model score : 0.3280013415994244\n",
      "rmse : 3.10526631938839\n",
      "model score : 0.31995698733928457\n",
      "rmse : 3.0724605466841353\n",
      "++++++++ Average rf score : 0.31936589040474866, Average rf rmse score : 3.067183241824119\n"
     ]
    }
   ],
   "source": [
    "iv = model_data_chi2.drop('fare_amount',axis=1).values\n",
    "dv = model_data_chi2['fare_amount']\n",
    "\n",
    "print('-------------------------')\n",
    "print('linearRegression--------')\n",
    "print('-------------------------')\n",
    "lr_avg_score, lr_auc_score,lr_rmse_score,logger= get_score(model_data_chi2, lr, iv, dv,regression=True)\n",
    "print('+++++++++++++++Average lr score : %s, Average lr rmse score : %s'%(lr_avg_score,lr_rmse_score))\n",
    "\n",
    "print('-------------------------')\n",
    "print('RandomForestRegressor-----')\n",
    "print('-------------------------')\n",
    "rf_avg_score,rf_auc_score,rf_rmse_score,logger = get_score(model_data_chi2, rf, iv, dv,regression=True)\n",
    "print('+++++++++Average rf score : %s, Average rf rmse score : %s'%( rf_avg_score,rf_rmse_score))\n",
    "\n",
    "print('-------------------------')\n",
    "print('KNN ------------------------')\n",
    "print('-------------------------')\n",
    "knn_avg_score,knn_auc_score,knn_rmse_score,logger = get_score(model_data_chi2, knn, iv, dv,regression=True)\n",
    "print('++++++++ Average rf score : %s, Average rf rmse score : %s'%( knn_avg_score,knn_rmse_score))\n",
    "\n",
    "\n"
   ]
  },
  {
   "cell_type": "code",
   "execution_count": 112,
   "metadata": {},
   "outputs": [
    {
     "name": "stdout",
     "output_type": "stream",
     "text": [
      "-------------------------\n",
      "linearRegression--------\n",
      "-------------------------\n",
      "model score : 0.6960677566968367\n",
      "rmse : 0.15689359806418632\n",
      "model score : 0.7083944859916139\n",
      "rmse : 0.15332899281921977\n",
      "model score : 0.6887597494489073\n",
      "rmse : 0.15647910903108586\n",
      "model score : 0.7077745514253297\n",
      "rmse : 0.15385344541868096\n",
      "model score : 0.7026447115242362\n",
      "rmse : 0.1544847567310067\n",
      "+++++++++++++++Average lr score : 0.7007282510173848, Average lr rmse score : 0.15500798041283592\n",
      "-------------------------\n",
      "RandomForestRegressor-----\n",
      "-------------------------\n",
      "model score : 0.7142039204046124\n",
      "rmse : 0.15214054533025298\n",
      "model score : 0.725135624695028\n",
      "rmse : 0.14886261530099415\n",
      "model score : 0.7018701033511984\n",
      "rmse : 0.15314797237720784\n",
      "model score : 0.7100679589786159\n",
      "rmse : 0.1532485294517274\n",
      "model score : 0.7173427405988955\n",
      "rmse : 0.15061834518648506\n",
      "+++++++++Average rf score : 0.71372406960567, Average rf rmse score : 0.15160360152933347\n",
      "-------------------------\n",
      "KNN ------------------------\n",
      "-------------------------\n",
      "model score : -0.6263315322154466\n",
      "rmse : 0.3629287528091719\n",
      "~~~~~check logger, r2 is negative\n",
      "model score : -0.5706033209326145\n",
      "rmse : 0.3558440206780177\n",
      "~~~~~check logger, r2 is negative\n",
      "model score : -0.669689127515867\n",
      "rmse : 0.36243180012879833\n",
      "~~~~~check logger, r2 is negative\n",
      "model score : -0.6187973309564613\n",
      "rmse : 0.36211327745670163\n",
      "~~~~~check logger, r2 is negative\n",
      "model score : -0.6394228773279442\n",
      "rmse : 0.3627382015681842\n",
      "~~~~~check logger, r2 is negative\n",
      "++++++++ Average rf score : -0.6249688377896667, Average rf rmse score : -1\n"
     ]
    }
   ],
   "source": [
    "\n",
    "iv = model_data_cbrt_fare.drop('cbrt_fare',axis=1).values\n",
    "dv = model_data_cbrt_fare['cbrt_fare']\n",
    "\n",
    "print('-------------------------')\n",
    "print('linearRegression--------')\n",
    "print('-------------------------')\n",
    "lr_avg_score, lr_auc_score,lr_rmse_score,logger= get_score(model_data_cbrt_fare, lr, iv, dv,regression=True)\n",
    "print('+++++++++++++++Average lr score : %s, Average lr rmse score : %s'%(lr_avg_score,lr_rmse_score))\n",
    "\n",
    "print('-------------------------')\n",
    "print('RandomForestRegressor-----')\n",
    "print('-------------------------')\n",
    "rf_avg_score,rf_auc_score,rf_rmse_score,logger = get_score(model_data_cbrt_fare, rf, iv, dv,regression=True)\n",
    "print('+++++++++Average rf score : %s, Average rf rmse score : %s'%( rf_avg_score,rf_rmse_score))\n",
    "\n",
    "print('-------------------------')\n",
    "print('KNN ------------------------')\n",
    "print('-------------------------')\n",
    "knn_avg_score,knn_auc_score,knn_rmse_score,logger = get_score(model_data_cbrt_fare, knn, iv, dv,regression=True)\n",
    "print('++++++++ Average rf score : %s, Average rf rmse score : %s'%( knn_avg_score,knn_rmse_score))\n",
    "\n"
   ]
  },
  {
   "cell_type": "markdown",
   "metadata": {},
   "source": [
    "#### Model with cube root fare_amount, shows the highest score and least rmse"
   ]
  },
  {
   "cell_type": "code",
   "execution_count": 113,
   "metadata": {},
   "outputs": [
    {
     "name": "stdout",
     "output_type": "stream",
     "text": [
      "-------------------------\n",
      "linearRegression--------\n",
      "-------------------------\n",
      "model score : 0.6269803689076493\n",
      "rmse : 2.2585544625118197\n",
      "model score : 0.6302672553236751\n",
      "rmse : 2.248454559522805\n",
      "model score : 0.6252244141293652\n",
      "rmse : 2.1993835284713876\n",
      "model score : 0.6262512431014975\n",
      "rmse : 2.2857040374811377\n",
      "model score : 0.6227864180489227\n",
      "rmse : 2.2648362929652874\n",
      "+++++++++++++++Average lr score : 0.6263019399022219, Average lr rmse score : 2.2513865761904874\n",
      "-------------------------\n",
      "RandomForestRegressor-----\n",
      "-------------------------\n",
      "model score : 0.6655978873905191\n",
      "rmse : 2.138450637004044\n",
      "model score : 0.6677777202126125\n",
      "rmse : 2.131348829238534\n",
      "model score : 0.6571496372085965\n",
      "rmse : 2.103621636480777\n",
      "model score : 0.6650434128769367\n",
      "rmse : 2.1638361819346548\n",
      "model score : 0.6490892917638202\n",
      "rmse : 2.1844467658720266\n",
      "+++++++++Average rf score : 0.660931589890497, Average rf rmse score : 2.1443408101060073\n",
      "-------------------------\n",
      "KNN ------------------------\n",
      "-------------------------\n",
      "model score : -0.5627725029924551\n",
      "rmse : 4.609888351843636\n",
      "~~~~~check logger, r2 is negative\n",
      "model score : -0.46123373596294953\n",
      "rmse : 4.479537442996935\n",
      "~~~~~check logger, r2 is negative\n",
      "model score : -0.5561393611183667\n",
      "rmse : 4.505828484145232\n",
      "~~~~~check logger, r2 is negative\n",
      "model score : -0.5578158211259583\n",
      "rmse : 4.608699327402344\n",
      "~~~~~check logger, r2 is negative\n",
      "model score : -0.5469071473865452\n",
      "rmse : 4.617051535539929\n",
      "~~~~~check logger, r2 is negative\n",
      "++++++++ Average rf score : -0.536973713717255, Average rf rmse score : -1\n"
     ]
    }
   ],
   "source": [
    "\n",
    "iv = model_data_boxcox.drop(['fare_amount'],axis=1).values\n",
    "dv = model_data_boxcox['fare_amount']\n",
    "\n",
    "print('-------------------------')\n",
    "print('linearRegression--------')\n",
    "print('-------------------------')\n",
    "lr_avg_score, lr_auc_score,lr_rmse_score,logger= get_score(model_data_boxcox, lr, iv, dv,regression=True)\n",
    "print('+++++++++++++++Average lr score : %s, Average lr rmse score : %s'%(lr_avg_score,lr_rmse_score))\n",
    "\n",
    "print('-------------------------')\n",
    "print('RandomForestRegressor-----')\n",
    "print('-------------------------')\n",
    "rf_avg_score,rf_auc_score,rf_rmse_score,logger = get_score(model_data_boxcox, rf, iv, dv,regression=True)\n",
    "print('+++++++++Average rf score : %s, Average rf rmse score : %s'%( rf_avg_score,rf_rmse_score))\n",
    "\n",
    "print('-------------------------')\n",
    "print('KNN ------------------------')\n",
    "print('-------------------------')\n",
    "knn_avg_score,knn_auc_score,knn_rmse_score,logger = get_score(model_data_orig, knn, iv, dv,regression=True)\n",
    "print('++++++++ Average rf score : %s, Average rf rmse score : %s'%( knn_avg_score,knn_rmse_score))\n",
    "\n",
    "\n"
   ]
  },
  {
   "cell_type": "markdown",
   "metadata": {},
   "source": [
    "## rmse is least when cube root fares were used\n",
    "-- neglecting day,weekday gives the best 0.70 score for this data"
   ]
  },
  {
   "cell_type": "code",
   "execution_count": 114,
   "metadata": {},
   "outputs": [
    {
     "name": "stdout",
     "output_type": "stream",
     "text": [
      "LinearRegression: r2 0.6937389528384712 vif : 3.265188339386099\n",
      "ols: r2 0.6937389528384712 vif : 3.265188339386099\n"
     ]
    },
    {
     "data": {
      "text/html": [
       "<table class=\"simpletable\">\n",
       "<caption>OLS Regression Results</caption>\n",
       "<tr>\n",
       "  <th>Dep. Variable:</th>       <td>fare_amount</td>   <th>  R-squared:         </th> <td>   0.694</td> \n",
       "</tr>\n",
       "<tr>\n",
       "  <th>Model:</th>                   <td>OLS</td>       <th>  Adj. R-squared:    </th> <td>   0.693</td> \n",
       "</tr>\n",
       "<tr>\n",
       "  <th>Method:</th>             <td>Least Squares</td>  <th>  F-statistic:       </th> <td>   1531.</td> \n",
       "</tr>\n",
       "<tr>\n",
       "  <th>Date:</th>             <td>Tue, 17 Sep 2019</td> <th>  Prob (F-statistic):</th>  <td>  0.00</td>  \n",
       "</tr>\n",
       "<tr>\n",
       "  <th>Time:</th>                 <td>20:58:28</td>     <th>  Log-Likelihood:    </th> <td> -28994.</td> \n",
       "</tr>\n",
       "<tr>\n",
       "  <th>No. Observations:</th>      <td> 13543</td>      <th>  AIC:               </th> <td>5.803e+04</td>\n",
       "</tr>\n",
       "<tr>\n",
       "  <th>Df Residuals:</th>          <td> 13522</td>      <th>  BIC:               </th> <td>5.819e+04</td>\n",
       "</tr>\n",
       "<tr>\n",
       "  <th>Df Model:</th>              <td>    20</td>      <th>                     </th>     <td> </td>    \n",
       "</tr>\n",
       "<tr>\n",
       "  <th>Covariance Type:</th>      <td>nonrobust</td>    <th>                     </th>     <td> </td>    \n",
       "</tr>\n",
       "</table>\n",
       "<table class=\"simpletable\">\n",
       "<tr>\n",
       "            <td></td>              <th>coef</th>     <th>std err</th>      <th>t</th>      <th>P>|t|</th>  <th>[0.025</th>    <th>0.975]</th>  \n",
       "</tr>\n",
       "<tr>\n",
       "  <th>const</th>                <td>    2.8572</td> <td>    0.837</td> <td>    3.414</td> <td> 0.001</td> <td>    1.217</td> <td>    4.498</td>\n",
       "</tr>\n",
       "<tr>\n",
       "  <th>pickup_latitude</th>      <td>   -0.0278</td> <td>    0.782</td> <td>   -0.036</td> <td> 0.972</td> <td>   -1.561</td> <td>    1.506</td>\n",
       "</tr>\n",
       "<tr>\n",
       "  <th>month</th>                <td>    0.6468</td> <td>    0.062</td> <td>   10.386</td> <td> 0.000</td> <td>    0.525</td> <td>    0.769</td>\n",
       "</tr>\n",
       "<tr>\n",
       "  <th>euclid_dis</th>           <td>   13.8409</td> <td>    0.082</td> <td>  169.729</td> <td> 0.000</td> <td>   13.681</td> <td>   14.001</td>\n",
       "</tr>\n",
       "<tr>\n",
       "  <th>year_2011.0</th>          <td>    0.0637</td> <td>    0.055</td> <td>    1.158</td> <td> 0.247</td> <td>   -0.044</td> <td>    0.172</td>\n",
       "</tr>\n",
       "<tr>\n",
       "  <th>year_2012.0</th>          <td>    0.5153</td> <td>    0.055</td> <td>    9.425</td> <td> 0.000</td> <td>    0.408</td> <td>    0.622</td>\n",
       "</tr>\n",
       "<tr>\n",
       "  <th>year_2013.0</th>          <td>    1.4033</td> <td>    0.055</td> <td>   25.530</td> <td> 0.000</td> <td>    1.296</td> <td>    1.511</td>\n",
       "</tr>\n",
       "<tr>\n",
       "  <th>year_2014.0</th>          <td>    1.6136</td> <td>    0.057</td> <td>   28.466</td> <td> 0.000</td> <td>    1.503</td> <td>    1.725</td>\n",
       "</tr>\n",
       "<tr>\n",
       "  <th>year_2015.0</th>          <td>    1.9952</td> <td>    0.075</td> <td>   26.506</td> <td> 0.000</td> <td>    1.848</td> <td>    2.143</td>\n",
       "</tr>\n",
       "<tr>\n",
       "  <th>passenger_count_1</th>    <td>    0.0957</td> <td>    0.293</td> <td>    0.326</td> <td> 0.744</td> <td>   -0.479</td> <td>    0.671</td>\n",
       "</tr>\n",
       "<tr>\n",
       "  <th>passenger_count_2</th>    <td>    0.2156</td> <td>    0.296</td> <td>    0.728</td> <td> 0.467</td> <td>   -0.365</td> <td>    0.797</td>\n",
       "</tr>\n",
       "<tr>\n",
       "  <th>passenger_count_3</th>    <td>    0.4556</td> <td>    0.305</td> <td>    1.493</td> <td> 0.136</td> <td>   -0.143</td> <td>    1.054</td>\n",
       "</tr>\n",
       "<tr>\n",
       "  <th>passenger_count_4</th>    <td>    0.2857</td> <td>    0.318</td> <td>    0.899</td> <td> 0.369</td> <td>   -0.337</td> <td>    0.909</td>\n",
       "</tr>\n",
       "<tr>\n",
       "  <th>passenger_count_5</th>    <td>    0.2555</td> <td>    0.301</td> <td>    0.850</td> <td> 0.395</td> <td>   -0.334</td> <td>    0.845</td>\n",
       "</tr>\n",
       "<tr>\n",
       "  <th>passenger_count_6</th>    <td>    0.3380</td> <td>    0.320</td> <td>    1.057</td> <td> 0.290</td> <td>   -0.289</td> <td>    0.964</td>\n",
       "</tr>\n",
       "<tr>\n",
       "  <th>remarks_month_start</th>  <td>    0.1723</td> <td>    0.109</td> <td>    1.575</td> <td> 0.115</td> <td>   -0.042</td> <td>    0.387</td>\n",
       "</tr>\n",
       "<tr>\n",
       "  <th>remarks_normal</th>       <td>    0.0513</td> <td>    0.048</td> <td>    1.079</td> <td> 0.280</td> <td>   -0.042</td> <td>    0.145</td>\n",
       "</tr>\n",
       "<tr>\n",
       "  <th>time_peakeveningtime</th> <td>   -0.3951</td> <td>    0.047</td> <td>   -8.479</td> <td> 0.000</td> <td>   -0.486</td> <td>   -0.304</td>\n",
       "</tr>\n",
       "<tr>\n",
       "  <th>time_peaknighttime</th>   <td>   -0.9157</td> <td>    0.051</td> <td>  -17.829</td> <td> 0.000</td> <td>   -1.016</td> <td>   -0.815</td>\n",
       "</tr>\n",
       "<tr>\n",
       "  <th>time_regular</th>         <td>   -0.5186</td> <td>    0.051</td> <td>  -10.123</td> <td> 0.000</td> <td>   -0.619</td> <td>   -0.418</td>\n",
       "</tr>\n",
       "<tr>\n",
       "  <th>season_spring</th>        <td>    0.0334</td> <td>    0.049</td> <td>    0.676</td> <td> 0.499</td> <td>   -0.063</td> <td>    0.130</td>\n",
       "</tr>\n",
       "</table>\n",
       "<table class=\"simpletable\">\n",
       "<tr>\n",
       "  <th>Omnibus:</th>       <td>4356.658</td> <th>  Durbin-Watson:     </th> <td>   1.996</td> \n",
       "</tr>\n",
       "<tr>\n",
       "  <th>Prob(Omnibus):</th>  <td> 0.000</td>  <th>  Jarque-Bera (JB):  </th> <td>22669.131</td>\n",
       "</tr>\n",
       "<tr>\n",
       "  <th>Skew:</th>           <td> 1.461</td>  <th>  Prob(JB):          </th> <td>    0.00</td> \n",
       "</tr>\n",
       "<tr>\n",
       "  <th>Kurtosis:</th>       <td> 8.624</td>  <th>  Cond. No.          </th> <td>    127.</td> \n",
       "</tr>\n",
       "</table><br/><br/>Warnings:<br/>[1] Standard Errors assume that the covariance matrix of the errors is correctly specified."
      ],
      "text/plain": [
       "<class 'statsmodels.iolib.summary.Summary'>\n",
       "\"\"\"\n",
       "                            OLS Regression Results                            \n",
       "==============================================================================\n",
       "Dep. Variable:            fare_amount   R-squared:                       0.694\n",
       "Model:                            OLS   Adj. R-squared:                  0.693\n",
       "Method:                 Least Squares   F-statistic:                     1531.\n",
       "Date:                Tue, 17 Sep 2019   Prob (F-statistic):               0.00\n",
       "Time:                        20:58:28   Log-Likelihood:                -28994.\n",
       "No. Observations:               13543   AIC:                         5.803e+04\n",
       "Df Residuals:                   13522   BIC:                         5.819e+04\n",
       "Df Model:                          20                                         \n",
       "Covariance Type:            nonrobust                                         \n",
       "========================================================================================\n",
       "                           coef    std err          t      P>|t|      [0.025      0.975]\n",
       "----------------------------------------------------------------------------------------\n",
       "const                    2.8572      0.837      3.414      0.001       1.217       4.498\n",
       "pickup_latitude         -0.0278      0.782     -0.036      0.972      -1.561       1.506\n",
       "month                    0.6468      0.062     10.386      0.000       0.525       0.769\n",
       "euclid_dis              13.8409      0.082    169.729      0.000      13.681      14.001\n",
       "year_2011.0              0.0637      0.055      1.158      0.247      -0.044       0.172\n",
       "year_2012.0              0.5153      0.055      9.425      0.000       0.408       0.622\n",
       "year_2013.0              1.4033      0.055     25.530      0.000       1.296       1.511\n",
       "year_2014.0              1.6136      0.057     28.466      0.000       1.503       1.725\n",
       "year_2015.0              1.9952      0.075     26.506      0.000       1.848       2.143\n",
       "passenger_count_1        0.0957      0.293      0.326      0.744      -0.479       0.671\n",
       "passenger_count_2        0.2156      0.296      0.728      0.467      -0.365       0.797\n",
       "passenger_count_3        0.4556      0.305      1.493      0.136      -0.143       1.054\n",
       "passenger_count_4        0.2857      0.318      0.899      0.369      -0.337       0.909\n",
       "passenger_count_5        0.2555      0.301      0.850      0.395      -0.334       0.845\n",
       "passenger_count_6        0.3380      0.320      1.057      0.290      -0.289       0.964\n",
       "remarks_month_start      0.1723      0.109      1.575      0.115      -0.042       0.387\n",
       "remarks_normal           0.0513      0.048      1.079      0.280      -0.042       0.145\n",
       "time_peakeveningtime    -0.3951      0.047     -8.479      0.000      -0.486      -0.304\n",
       "time_peaknighttime      -0.9157      0.051    -17.829      0.000      -1.016      -0.815\n",
       "time_regular            -0.5186      0.051    -10.123      0.000      -0.619      -0.418\n",
       "season_spring            0.0334      0.049      0.676      0.499      -0.063       0.130\n",
       "==============================================================================\n",
       "Omnibus:                     4356.658   Durbin-Watson:                   1.996\n",
       "Prob(Omnibus):                  0.000   Jarque-Bera (JB):            22669.131\n",
       "Skew:                           1.461   Prob(JB):                         0.00\n",
       "Kurtosis:                       8.624   Cond. No.                         127.\n",
       "==============================================================================\n",
       "\n",
       "Warnings:\n",
       "[1] Standard Errors assume that the covariance matrix of the errors is correctly specified.\n",
       "\"\"\""
      ]
     },
     "execution_count": 114,
     "metadata": {},
     "output_type": "execute_result"
    }
   ],
   "source": [
    "\n",
    "iv = model_data_orig.drop(['fare_amount','weekday','day','year_2010.0','season_winter','season_summer'],axis=1)\n",
    "dv = model_data_orig['fare_amount']\n",
    "cmp_model(iv,dv)\n"
   ]
  },
  {
   "cell_type": "markdown",
   "metadata": {},
   "source": [
    "#### looking at the p value, remarks_month_start,remarks_normal,season_Spring,passenger_count_4, year_2011 is not significant since p-value is greater than 0.05, sttaing that we fail to reject the null hypothesis and these variables are independent wrt our target fare_amount\n",
    "- LinearRegression gives overall best results\n",
    "- with cube root of fare_Amount, random forest is little better"
   ]
  },
  {
   "cell_type": "markdown",
   "metadata": {},
   "source": [
    "## Predict for the test records"
   ]
  },
  {
   "cell_type": "code",
   "execution_count": 115,
   "metadata": {},
   "outputs": [
    {
     "data": {
      "text/plain": [
       "(Index(['pickup_latitude', 'day', 'month', 'weekday', 'euclid_dis', 'cbrt_fare',\n",
       "        'year_2010.0', 'year_2011.0', 'year_2012.0', 'year_2013.0',\n",
       "        'year_2014.0', 'year_2015.0', 'passenger_count_1', 'passenger_count_2',\n",
       "        'passenger_count_3', 'passenger_count_4', 'passenger_count_5',\n",
       "        'passenger_count_6', 'remarks_month_start', 'remarks_normal',\n",
       "        'time_peakeveningtime', 'time_peaknighttime', 'time_regular',\n",
       "        'season_spring', 'season_summer', 'season_winter'],\n",
       "       dtype='object'),\n",
       " Index(['pickup_latitude', 'day', 'month', 'weekday', 'euclid_dis',\n",
       "        'year_2010.0', 'year_2011.0', 'year_2012.0', 'year_2013.0',\n",
       "        'year_2014.0', 'year_2015.0', 'passenger_count_2', 'passenger_count_3',\n",
       "        'passenger_count_4', 'passenger_count_5', 'passenger_count_6',\n",
       "        'remarks_month_start', 'remarks_normal', 'time_peakeveningtime',\n",
       "        'time_peaknighttime', 'time_regular', 'season_spring', 'season_summer',\n",
       "        'season_winter'],\n",
       "       dtype='object'))"
      ]
     },
     "execution_count": 115,
     "metadata": {},
     "output_type": "execute_result"
    }
   ],
   "source": [
    "model_data_cbrt_fare.shape,model_data_orig.shape,model_test.shape\n",
    "model_data_cbrt_fare.columns,model_test.columns"
   ]
  },
  {
   "cell_type": "code",
   "execution_count": 116,
   "metadata": {},
   "outputs": [],
   "source": [
    "iv = model_data_cbrt_fare.drop(['cbrt_fare','passenger_count_1'],axis=1)\n",
    "dv = model_data_cbrt_fare['cbrt_fare']\n",
    "iv_test = model_test\n",
    "\n",
    "model = LinearRegression().fit(iv,dv)#using all records for training now\n",
    "dv_test_pred = model.predict(iv_test)#predict test records\n",
    "iv_test['fare_amount'] = pow(dv_test_pred,(3))#converting back\n",
    "\n",
    "#write back the results\n",
    "iv_test.to_csv(submitted_data_path,index=False)\n"
   ]
  },
  {
   "cell_type": "markdown",
   "metadata": {},
   "source": [
    "## XGBoost"
   ]
  },
  {
   "cell_type": "code",
   "execution_count": 117,
   "metadata": {},
   "outputs": [],
   "source": [
    "from xgboost import XGBRegressor"
   ]
  },
  {
   "cell_type": "code",
   "execution_count": 118,
   "metadata": {},
   "outputs": [
    {
     "name": "stdout",
     "output_type": "stream",
     "text": [
      "[20:58:30] WARNING: C:/Jenkins/workspace/xgboost-win64_release_0.90/src/objective/regression_obj.cu:152: reg:linear is now deprecated in favor of reg:squarederror.\n"
     ]
    },
    {
     "data": {
      "text/plain": [
       "(0.7469638595610684, 0.7309235623284558)"
      ]
     },
     "execution_count": 118,
     "metadata": {},
     "output_type": "execute_result"
    }
   ],
   "source": [
    "iv = model_data_cbrt_fare.drop('cbrt_fare',axis=1).values\n",
    "dv = model_data_cbrt_fare['cbrt_fare']\n",
    "#dv = model_data_orig['fare_amount']\n",
    "iv_train,iv_test,dv_train,dv_test = train_test_split(iv,dv,test_size=0.2,random_state=42)\n",
    "model = XGBRegressor(n_estimators=100,max_depth=3).fit(iv_train,dv_train)\n",
    "dv_test_pred = model.predict(iv_test)\n",
    "model.score(iv_train,dv_train),model.score(iv_test,dv_test)"
   ]
  },
  {
   "cell_type": "code",
   "execution_count": 119,
   "metadata": {},
   "outputs": [
    {
     "data": {
      "text/plain": [
       "(0.9571230795205783, 0.6818645118991098)"
      ]
     },
     "execution_count": 119,
     "metadata": {},
     "output_type": "execute_result"
    }
   ],
   "source": [
    "iv = model_data_orig.drop(['fare_amount'],axis=1)\n",
    "dv = model_data_orig['fare_amount']\n",
    "iv_train,iv_test,dv_train,dv_test = train_test_split(iv,dv,test_size=0.2,random_state=42)\n",
    "model = RandomForestRegressor(n_estimators=500).fit(iv_train,dv_train)\n",
    "dv_test_pred = model.predict(iv_test)\n",
    "model.score(iv_train,dv_train),model.score(iv_test,dv_test)"
   ]
  },
  {
   "cell_type": "markdown",
   "metadata": {},
   "source": [
    "#### we have Model overfitting problem here"
   ]
  },
  {
   "cell_type": "code",
   "execution_count": 120,
   "metadata": {},
   "outputs": [
    {
     "data": {
      "text/plain": [
       "(0.6526610307315832, 0.6489209883856952)"
      ]
     },
     "execution_count": 120,
     "metadata": {},
     "output_type": "execute_result"
    }
   ],
   "source": [
    "model = RandomForestRegressor(n_estimators=100,max_depth=3).fit(iv_train,dv_train)\n",
    "dv_test_pred = model.predict(iv_test)\n",
    "model.score(iv_train,dv_train),model.score(iv_test,dv_test)"
   ]
  },
  {
   "cell_type": "markdown",
   "metadata": {},
   "source": [
    "#### decreased the fit score on train data, but now we have low variance\n",
    "- fixing the max depth, min_samples_leaf , apart from n_estimators and max_features gave best performance\n",
    "- Adding pickup_latitude seems to increase the model score, so I included along with euclid dis\n",
    "- using min_samples_leaf in randomForest make performance best\n",
    "- xgboost as expected gives the best result, since it gives importance/more weight to observations which got misclassified in each succesive iteration"
   ]
  },
  {
   "cell_type": "markdown",
   "metadata": {},
   "source": [
    "### Just check if our model is overfit or underfit"
   ]
  },
  {
   "cell_type": "code",
   "execution_count": 121,
   "metadata": {},
   "outputs": [
    {
     "data": {
      "text/plain": [
       "(13543, 26)"
      ]
     },
     "execution_count": 121,
     "metadata": {},
     "output_type": "execute_result"
    }
   ],
   "source": [
    "model_data_orig.shape"
   ]
  },
  {
   "cell_type": "code",
   "execution_count": 122,
   "metadata": {},
   "outputs": [],
   "source": [
    "from sklearn.tree import DecisionTreeRegressor"
   ]
  },
  {
   "cell_type": "code",
   "execution_count": 123,
   "metadata": {},
   "outputs": [],
   "source": [
    "iv =  model_data_orig.drop('fare_amount',axis=1)\n",
    "dv=model_data_orig['fare_amount']\n",
    "iv_train,iv_test,dv_train,dv_test = train_test_split(iv,dv,test_size=0.2)"
   ]
  },
  {
   "cell_type": "code",
   "execution_count": 124,
   "metadata": {},
   "outputs": [
    {
     "data": {
      "text/plain": [
       "0.39053365629533365"
      ]
     },
     "execution_count": 124,
     "metadata": {},
     "output_type": "execute_result"
    }
   ],
   "source": [
    "model=DecisionTreeRegressor().fit(iv_train,dv_train)\n",
    "dv_test_pred = model.predict(iv_test)\n",
    "model.score(iv_test,dv_test)"
   ]
  },
  {
   "cell_type": "code",
   "execution_count": 125,
   "metadata": {},
   "outputs": [
    {
     "data": {
      "text/plain": [
       "1.0"
      ]
     },
     "execution_count": 125,
     "metadata": {},
     "output_type": "execute_result"
    }
   ],
   "source": [
    "model.score(iv_train,dv_train)"
   ]
  },
  {
   "cell_type": "markdown",
   "metadata": {},
   "source": [
    "#### seems like we have model overfitting here "
   ]
  },
  {
   "cell_type": "code",
   "execution_count": 126,
   "metadata": {},
   "outputs": [
    {
     "data": {
      "text/plain": [
       "(0.6410623509144011, 0.6645327146235848)"
      ]
     },
     "execution_count": 126,
     "metadata": {},
     "output_type": "execute_result"
    }
   ],
   "source": [
    "model=DecisionTreeRegressor(min_samples_leaf=600).fit(iv_train,dv_train)\n",
    "model.score(iv_train,dv_train),model.score(iv_test,dv_test)"
   ]
  },
  {
   "cell_type": "markdown",
   "metadata": {},
   "source": [
    "#### we see that the score is little bit more for test set now , so good model"
   ]
  },
  {
   "cell_type": "code",
   "execution_count": 127,
   "metadata": {},
   "outputs": [
    {
     "data": {
      "text/plain": [
       "(0.6533753148219379, 0.615669443082528)"
      ]
     },
     "execution_count": 127,
     "metadata": {},
     "output_type": "execute_result"
    }
   ],
   "source": [
    "iv =  model_data_orig[['euclid_dis']]\n",
    "dv=model_data_orig['fare_amount']\n",
    "iv_train,iv_test,dv_train,dv_test = train_test_split(iv,dv,test_size=0.2)\n",
    "model=DecisionTreeRegressor(min_samples_leaf=600).fit(iv_train,dv_train)\n",
    "model.score(iv_train,dv_train),model.score(iv_test,dv_test)"
   ]
  },
  {
   "cell_type": "markdown",
   "metadata": {},
   "source": [
    "#### cab fare is derived mainly from distance here"
   ]
  },
  {
   "cell_type": "code",
   "execution_count": 128,
   "metadata": {},
   "outputs": [
    {
     "data": {
      "text/plain": [
       "(0.6785413001393453, 0.6892038787516628)"
      ]
     },
     "execution_count": 128,
     "metadata": {},
     "output_type": "execute_result"
    }
   ],
   "source": [
    "iv = d2[['pickup_latitude','euclid_dis']]\n",
    "dv=d2['fare_amount']\n",
    "iv_train,iv_test,dv_train,dv_test = train_test_split(iv,dv,test_size=0.2)\n",
    "model=DecisionTreeRegressor(min_samples_leaf=600).fit(iv_train,dv_train)\n",
    "model.score(iv_train,dv_train),model.score(iv_test,dv_test)"
   ]
  },
  {
   "cell_type": "code",
   "execution_count": 129,
   "metadata": {},
   "outputs": [
    {
     "data": {
      "text/plain": [
       "(0.6799446514585338, 0.6827067311951164)"
      ]
     },
     "execution_count": 129,
     "metadata": {},
     "output_type": "execute_result"
    }
   ],
   "source": [
    "iv = d2[['pickup_latitude','euclid_dis']]\n",
    "dv=d2['fare_amount']\n",
    "iv_train,iv_test,dv_train,dv_test = train_test_split(iv,dv,test_size=0.2)\n",
    "model=DecisionTreeRegressor(min_samples_leaf=600).fit(iv_train,dv_train)\n",
    "model.score(iv_train,dv_train),model.score(iv_test,dv_test)"
   ]
  }
 ],
 "metadata": {
  "kernelspec": {
   "display_name": "Python 3",
   "language": "python",
   "name": "python3"
  },
  "language_info": {
   "codemirror_mode": {
    "name": "ipython",
    "version": 3
   },
   "file_extension": ".py",
   "mimetype": "text/x-python",
   "name": "python",
   "nbconvert_exporter": "python",
   "pygments_lexer": "ipython3",
   "version": "3.7.3"
  }
 },
 "nbformat": 4,
 "nbformat_minor": 2
}
