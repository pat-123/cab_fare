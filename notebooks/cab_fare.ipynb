{
 "cells": [
  {
   "cell_type": "markdown",
   "metadata": {},
   "source": [
    "## Predict cab fare\n"
   ]
  },
  {
   "cell_type": "code",
   "execution_count": 1,
   "metadata": {},
   "outputs": [
    {
     "name": "stderr",
     "output_type": "stream",
     "text": [
      "Using TensorFlow backend.\n"
     ]
    }
   ],
   "source": [
    "import sys\n",
    "#Change path to wherever you place this project\n",
    "sys.path.append('C:\\\\Users\\\\PAT\\\\Documents\\\\edwisor\\\\projects\\\\cab_fare')\n",
    "\n",
    "#Do all imports\n",
    "from cab_fare import *\n",
    "from cab_fare.config import *\n",
    "from utils import *\n",
    "from utils.utils_ import *\n"
   ]
  },
  {
   "cell_type": "code",
   "execution_count": 2,
   "metadata": {},
   "outputs": [],
   "source": [
    "data = pd.read_csv(train_data_path,parse_dates=['pickup_datetime'])\n",
    "test = pd.read_csv(test_data_path,parse_dates=['pickup_datetime'])\n",
    "\n",
    "full_data = [data,test]\n",
    "\n"
   ]
  },
  {
   "cell_type": "code",
   "execution_count": 3,
   "metadata": {},
   "outputs": [
    {
     "data": {
      "text/html": [
       "<div>\n",
       "<style scoped>\n",
       "    .dataframe tbody tr th:only-of-type {\n",
       "        vertical-align: middle;\n",
       "    }\n",
       "\n",
       "    .dataframe tbody tr th {\n",
       "        vertical-align: top;\n",
       "    }\n",
       "\n",
       "    .dataframe thead th {\n",
       "        text-align: right;\n",
       "    }\n",
       "</style>\n",
       "<table border=\"1\" class=\"dataframe\">\n",
       "  <thead>\n",
       "    <tr style=\"text-align: right;\">\n",
       "      <th></th>\n",
       "      <th>fare_amount</th>\n",
       "      <th>pickup_datetime</th>\n",
       "      <th>pickup_longitude</th>\n",
       "      <th>pickup_latitude</th>\n",
       "      <th>dropoff_longitude</th>\n",
       "      <th>dropoff_latitude</th>\n",
       "      <th>passenger_count</th>\n",
       "    </tr>\n",
       "  </thead>\n",
       "  <tbody>\n",
       "    <tr>\n",
       "      <th>0</th>\n",
       "      <td>4.5</td>\n",
       "      <td>2009-06-15 17:26:21 UTC</td>\n",
       "      <td>-73.844311</td>\n",
       "      <td>40.721319</td>\n",
       "      <td>-73.841610</td>\n",
       "      <td>40.712278</td>\n",
       "      <td>1.0</td>\n",
       "    </tr>\n",
       "    <tr>\n",
       "      <th>1</th>\n",
       "      <td>16.9</td>\n",
       "      <td>2010-01-05 16:52:16 UTC</td>\n",
       "      <td>-74.016048</td>\n",
       "      <td>40.711303</td>\n",
       "      <td>-73.979268</td>\n",
       "      <td>40.782004</td>\n",
       "      <td>1.0</td>\n",
       "    </tr>\n",
       "  </tbody>\n",
       "</table>\n",
       "</div>"
      ],
      "text/plain": [
       "  fare_amount          pickup_datetime  pickup_longitude  pickup_latitude  \\\n",
       "0         4.5  2009-06-15 17:26:21 UTC        -73.844311        40.721319   \n",
       "1        16.9  2010-01-05 16:52:16 UTC        -74.016048        40.711303   \n",
       "\n",
       "   dropoff_longitude  dropoff_latitude  passenger_count  \n",
       "0         -73.841610         40.712278              1.0  \n",
       "1         -73.979268         40.782004              1.0  "
      ]
     },
     "execution_count": 3,
     "metadata": {},
     "output_type": "execute_result"
    }
   ],
   "source": [
    "data.head(2)"
   ]
  },
  {
   "cell_type": "code",
   "execution_count": 4,
   "metadata": {},
   "outputs": [
    {
     "data": {
      "text/plain": [
       "((16067, 7), (9914, 6))"
      ]
     },
     "execution_count": 4,
     "metadata": {},
     "output_type": "execute_result"
    }
   ],
   "source": [
    "#Size of dataset and testset\n",
    "data.shape,test.shape"
   ]
  },
  {
   "cell_type": "code",
   "execution_count": 5,
   "metadata": {},
   "outputs": [
    {
     "data": {
      "text/plain": [
       "fare_amount           object\n",
       "pickup_datetime       object\n",
       "pickup_longitude     float64\n",
       "pickup_latitude      float64\n",
       "dropoff_longitude    float64\n",
       "dropoff_latitude     float64\n",
       "passenger_count      float64\n",
       "dtype: object"
      ]
     },
     "execution_count": 5,
     "metadata": {},
     "output_type": "execute_result"
    }
   ],
   "source": [
    "data.dtypes"
   ]
  },
  {
   "cell_type": "markdown",
   "metadata": {},
   "source": [
    "#### Although passenger count is numeric in dataset, actually it has a fewer values, and hence it is not  continous but rather a discrete variable.\n",
    "- but for calculation ease, let us keep numeric and later convert to catgerical(type str/object)\n",
    "- However it wont serve any purpose to see mean,median or other statistics like 25%,75%, so label it under catgerical tag(See below)"
   ]
  },
  {
   "cell_type": "code",
   "execution_count": 6,
   "metadata": {},
   "outputs": [
    {
     "name": "stdout",
     "output_type": "stream",
     "text": [
      "Need to define this col - passenger_count in categ variable\n"
     ]
    },
    {
     "data": {
      "text/plain": [
       "(['pickup_longitude',\n",
       "  'pickup_latitude',\n",
       "  'dropoff_longitude',\n",
       "  'dropoff_latitude',\n",
       "  'passenger_count'],\n",
       " ['fare_amount', 'pickup_datetime'])"
      ]
     },
     "execution_count": 6,
     "metadata": {},
     "output_type": "execute_result"
    }
   ],
   "source": [
    "continous_names, cat_names, iv,dv,testparams = iv_dv_get_col_names_dist_based(data,'fare_amount')\n",
    "continous_names, cat_names"
   ]
  },
  {
   "cell_type": "markdown",
   "metadata": {},
   "source": [
    "# Univariate analysis"
   ]
  },
  {
   "cell_type": "markdown",
   "metadata": {},
   "source": [
    "## i. fare_amount\n",
    "- datatype conversions\n",
    "\n",
    "fare_amount is an object type, and has non-numeric characters , so lets make it numeric\n",
    "#### Negative values\n",
    "- 2 values have negative sign\n",
    "- negative sign is placed after a number has no significance, may be by mistake, so lets ignore those"
   ]
  },
  {
   "cell_type": "code",
   "execution_count": 7,
   "metadata": {},
   "outputs": [
    {
     "data": {
      "text/plain": [
       "fare_amount                             430-\n",
       "pickup_datetime      2009-09-22 19:01:01 UTC\n",
       "pickup_longitude                    -73.9796\n",
       "pickup_latitude                      40.7713\n",
       "dropoff_longitude                   -73.9758\n",
       "dropoff_latitude                      40.782\n",
       "passenger_count                            1\n",
       "Name: 1123, dtype: object"
      ]
     },
     "execution_count": 7,
     "metadata": {},
     "output_type": "execute_result"
    }
   ],
   "source": [
    "#before, notice minus sign in fare amount\n",
    "data.iloc[1123]"
   ]
  },
  {
   "cell_type": "code",
   "execution_count": 8,
   "metadata": {},
   "outputs": [
    {
     "name": "stdout",
     "output_type": "stream",
     "text": [
      "fare has these values with - sign\n",
      "430- : 1123\n",
      "-2.9 : 2039\n",
      "-2.5 : 2486\n",
      "-3 : 13032\n"
     ]
    }
   ],
   "source": [
    "#clean fare amount and convert to float\n",
    "data.fare_amount = clean_num(data,data.fare_amount,'fare_amount')\n",
    "data.fare_amount= data.fare_amount.astype('float')\n",
    "\n",
    "############# these observations decrease our model performance, and since they were negative, so deleting\n",
    "#drop these indexes of negative fares\n",
    "data = data.drop([1123,2039,2486,13032]).reset_index().drop('index',axis=1)\n",
    "\n",
    "\n",
    "\n",
    "\n"
   ]
  },
  {
   "cell_type": "code",
   "execution_count": 10,
   "metadata": {},
   "outputs": [
    {
     "data": {
      "text/html": [
       "<div>\n",
       "<style scoped>\n",
       "    .dataframe tbody tr th:only-of-type {\n",
       "        vertical-align: middle;\n",
       "    }\n",
       "\n",
       "    .dataframe tbody tr th {\n",
       "        vertical-align: top;\n",
       "    }\n",
       "\n",
       "    .dataframe thead th {\n",
       "        text-align: right;\n",
       "    }\n",
       "</style>\n",
       "<table border=\"1\" class=\"dataframe\">\n",
       "  <thead>\n",
       "    <tr style=\"text-align: right;\">\n",
       "      <th></th>\n",
       "      <th>fare_amount</th>\n",
       "      <th>pickup_datetime</th>\n",
       "      <th>pickup_longitude</th>\n",
       "      <th>pickup_latitude</th>\n",
       "      <th>dropoff_longitude</th>\n",
       "      <th>dropoff_latitude</th>\n",
       "      <th>passenger_count</th>\n",
       "    </tr>\n",
       "  </thead>\n",
       "  <tbody>\n",
       "    <tr>\n",
       "      <th>2777</th>\n",
       "      <td>0.01</td>\n",
       "      <td>2015-05-01 15:38:41 UTC</td>\n",
       "      <td>-73.939041</td>\n",
       "      <td>40.713963</td>\n",
       "      <td>-73.941673</td>\n",
       "      <td>40.713997</td>\n",
       "      <td>1.0</td>\n",
       "    </tr>\n",
       "    <tr>\n",
       "      <th>9999</th>\n",
       "      <td>0.00</td>\n",
       "      <td>2010-02-15 14:26:01 UTC</td>\n",
       "      <td>-73.987115</td>\n",
       "      <td>40.738808</td>\n",
       "      <td>-74.005911</td>\n",
       "      <td>40.713960</td>\n",
       "      <td>1.0</td>\n",
       "    </tr>\n",
       "  </tbody>\n",
       "</table>\n",
       "</div>"
      ],
      "text/plain": [
       "      fare_amount          pickup_datetime  pickup_longitude  pickup_latitude  \\\n",
       "2777         0.01  2015-05-01 15:38:41 UTC        -73.939041        40.713963   \n",
       "9999         0.00  2010-02-15 14:26:01 UTC        -73.987115        40.738808   \n",
       "\n",
       "      dropoff_longitude  dropoff_latitude  passenger_count  \n",
       "2777         -73.941673         40.713997              1.0  \n",
       "9999         -74.005911         40.713960              1.0  "
      ]
     },
     "execution_count": 10,
     "metadata": {},
     "output_type": "execute_result"
    }
   ],
   "source": [
    "data[data.fare_amount<=1]"
   ]
  },
  {
   "cell_type": "markdown",
   "metadata": {},
   "source": [
    "#### may be these rides had a pass applied, but they will confuse our model, let remove"
   ]
  },
  {
   "cell_type": "code",
   "execution_count": 11,
   "metadata": {},
   "outputs": [],
   "source": [
    "#Remove rides with fare amount<=1\n",
    "data = data.drop(data[data.fare_amount<=1].index)\n",
    "#Reset the indexes\n",
    "data = data.reset_index().drop('index',axis=1)"
   ]
  },
  {
   "cell_type": "markdown",
   "metadata": {},
   "source": [
    "### Missing value analysis\n"
   ]
  },
  {
   "cell_type": "code",
   "execution_count": 12,
   "metadata": {},
   "outputs": [
    {
     "name": "stdout",
     "output_type": "stream",
     "text": [
      "Missing values exist in train\n",
      "No Missing values in  test\n"
     ]
    }
   ],
   "source": [
    "print_missing_val_summary(full_data)"
   ]
  },
  {
   "cell_type": "markdown",
   "metadata": {},
   "source": [
    "### Missing value percentages\n",
    "We need to see percentage wise and drop column if >30% is missing"
   ]
  },
  {
   "cell_type": "code",
   "execution_count": 13,
   "metadata": {},
   "outputs": [],
   "source": [
    "full_data = [data,test]\n",
    "missing_per = {}\n",
    "missing_per = get_missing_val_per(full_data,missing_per)\n"
   ]
  },
  {
   "cell_type": "code",
   "execution_count": 14,
   "metadata": {},
   "outputs": [
    {
     "name": "stdout",
     "output_type": "stream",
     "text": [
      "-----------train------------\n",
      "                 missing_per\n",
      "fare_amount         0.149430\n",
      "passenger_count     0.342444\n",
      "-----------test------------\n",
      "Empty DataFrame\n",
      "Columns: [missing_per]\n",
      "Index: []\n"
     ]
    }
   ],
   "source": [
    "#See missing percentages\n",
    "print('-----------train------------')\n",
    "print(missing_per['Train'][missing_per['Train']['missing_per']>0].head())\n",
    "print('-----------test------------')\n",
    "print(missing_per['Test'][missing_per['Test']['missing_per']>0].head())"
   ]
  },
  {
   "cell_type": "markdown",
   "metadata": {},
   "source": [
    "#### How to impute?\n",
    "\n",
    "- Since the missing percentage is less than 30%, we will impute then one by one"
   ]
  },
  {
   "cell_type": "markdown",
   "metadata": {},
   "source": [
    "### Missing value analysis for fare_amount"
   ]
  },
  {
   "cell_type": "code",
   "execution_count": 15,
   "metadata": {},
   "outputs": [
    {
     "data": {
      "text/plain": [
       "(15.020208891937237, 8.5, 0    6.5\n",
       " dtype: float64)"
      ]
     },
     "execution_count": 15,
     "metadata": {},
     "output_type": "execute_result"
    }
   ],
   "source": [
    "data.fare_amount.mean(),data.fare_amount.median(),data.fare_amount.mode()\n"
   ]
  },
  {
   "cell_type": "markdown",
   "metadata": {},
   "source": [
    "#### MEAN/MEDIAN/MODE?\n",
    "mean is greater than median, it is right skewed data(since majority is lying on the right hand side tail), so we choose between median/mode\n",
    "But in fare, generally mean is better metrics, and since data is right skewed,\n",
    "- lets choose median as it is nearer to the  mean and would give better representation of the fare\n"
   ]
  },
  {
   "cell_type": "markdown",
   "metadata": {},
   "source": [
    "### distribution of fare?"
   ]
  },
  {
   "cell_type": "code",
   "execution_count": 16,
   "metadata": {},
   "outputs": [
    {
     "data": {
      "text/plain": [
       "(1.139, 5.5]       3325\n",
       "(9.5, 14.1]        3262\n",
       "(5.5, 7.3]         3216\n",
       "(14.1, 54343.0]    3151\n",
       "(7.3, 9.5]         3083\n",
       "Name: fare_amount, dtype: int64"
      ]
     },
     "execution_count": 16,
     "metadata": {},
     "output_type": "execute_result"
    }
   ],
   "source": [
    "pd.qcut(data.fare_amount,5).value_counts()\n"
   ]
  },
  {
   "cell_type": "markdown",
   "metadata": {},
   "source": [
    "#### let's see how many are beyond 100"
   ]
  },
  {
   "cell_type": "code",
   "execution_count": 17,
   "metadata": {},
   "outputs": [
    {
     "data": {
      "text/plain": [
       "(9, 6, 4, 2)"
      ]
     },
     "execution_count": 17,
     "metadata": {},
     "output_type": "execute_result"
    }
   ],
   "source": [
    "len(data[data.fare_amount>100]),len(data[data.fare_amount>150]),len(data[data.fare_amount>200]),\\\n",
    "len(data[data.fare_amount>500])"
   ]
  },
  {
   "cell_type": "code",
   "execution_count": 18,
   "metadata": {},
   "outputs": [
    {
     "data": {
      "text/html": [
       "<div>\n",
       "<style scoped>\n",
       "    .dataframe tbody tr th:only-of-type {\n",
       "        vertical-align: middle;\n",
       "    }\n",
       "\n",
       "    .dataframe tbody tr th {\n",
       "        vertical-align: top;\n",
       "    }\n",
       "\n",
       "    .dataframe thead th {\n",
       "        text-align: right;\n",
       "    }\n",
       "</style>\n",
       "<table border=\"1\" class=\"dataframe\">\n",
       "  <thead>\n",
       "    <tr style=\"text-align: right;\">\n",
       "      <th></th>\n",
       "      <th>fare_amount</th>\n",
       "      <th>pickup_datetime</th>\n",
       "      <th>pickup_longitude</th>\n",
       "      <th>pickup_latitude</th>\n",
       "      <th>dropoff_longitude</th>\n",
       "      <th>dropoff_latitude</th>\n",
       "      <th>passenger_count</th>\n",
       "    </tr>\n",
       "  </thead>\n",
       "  <tbody>\n",
       "    <tr>\n",
       "      <th>1015</th>\n",
       "      <td>54343.0</td>\n",
       "      <td>2015-02-27 17:03:50 UTC</td>\n",
       "      <td>-74.003319</td>\n",
       "      <td>40.727455</td>\n",
       "      <td>-73.964470</td>\n",
       "      <td>40.764378</td>\n",
       "      <td>1.0</td>\n",
       "    </tr>\n",
       "    <tr>\n",
       "      <th>1072</th>\n",
       "      <td>4343.0</td>\n",
       "      <td>2012-01-15 20:42:04 UTC</td>\n",
       "      <td>-73.976309</td>\n",
       "      <td>40.751634</td>\n",
       "      <td>-74.014854</td>\n",
       "      <td>40.709044</td>\n",
       "      <td>1.0</td>\n",
       "    </tr>\n",
       "  </tbody>\n",
       "</table>\n",
       "</div>"
      ],
      "text/plain": [
       "      fare_amount          pickup_datetime  pickup_longitude  pickup_latitude  \\\n",
       "1015      54343.0  2015-02-27 17:03:50 UTC        -74.003319        40.727455   \n",
       "1072       4343.0  2012-01-15 20:42:04 UTC        -73.976309        40.751634   \n",
       "\n",
       "      dropoff_longitude  dropoff_latitude  passenger_count  \n",
       "1015         -73.964470         40.764378              1.0  \n",
       "1072         -74.014854         40.709044              1.0  "
      ]
     },
     "execution_count": 18,
     "metadata": {},
     "output_type": "execute_result"
    }
   ],
   "source": [
    "data[data.fare_amount>500]"
   ]
  },
  {
   "cell_type": "markdown",
   "metadata": {},
   "source": [
    "#### That's really high\n",
    "we cant say until we know if there the cab was rented out for a few days (on a long trip may be).\n",
    "But without that info, we need to delete these high fares"
   ]
  },
  {
   "cell_type": "markdown",
   "metadata": {},
   "source": [
    "### How fare looks like?"
   ]
  },
  {
   "cell_type": "code",
   "execution_count": 19,
   "metadata": {},
   "outputs": [
    {
     "data": {
      "text/plain": [
       "(-847.5001521057864, 877.571070639136)"
      ]
     },
     "execution_count": 19,
     "metadata": {},
     "output_type": "execute_result"
    },
    {
     "data": {
      "image/png": "[encoded data removed]",
      "text/plain": [
       "<Figure size 432x288 with 1 Axes>"
      ]
     },
     "metadata": {
      "needs_background": "light"
     },
     "output_type": "display_data"
    }
   ],
   "source": [
    "min_95_per , _,_,max_95_per = plot_dist(data.dropna().fare_amount)\n",
    "min_95_per,max_95_per\n",
    "# That looks quite very pointy and very narrow(skewed) distribution"
   ]
  },
  {
   "cell_type": "code",
   "execution_count": 20,
   "metadata": {},
   "outputs": [
    {
     "data": {
      "text/plain": [
       "Text(0.5, 1.0, 'Distribution of Trip Fare')"
      ]
     },
     "execution_count": 20,
     "metadata": {},
     "output_type": "execute_result"
    },
    {
     "data": {
      "image/png": "[encoded data removed]",
      "text/plain": [
       "<Figure size 432x288 with 1 Axes>"
      ]
     },
     "metadata": {
      "needs_background": "light"
     },
     "output_type": "display_data"
    }
   ],
   "source": [
    "sb.kdeplot(data['fare_amount']).set_title(\"Distribution of Trip Fare\")"
   ]
  },
  {
   "cell_type": "code",
   "execution_count": 21,
   "metadata": {},
   "outputs": [
    {
     "data": {
      "text/plain": [
       "24"
      ]
     },
     "execution_count": 21,
     "metadata": {},
     "output_type": "execute_result"
    }
   ],
   "source": [
    "data.fare_amount.isnull().sum()"
   ]
  },
  {
   "cell_type": "code",
   "execution_count": 22,
   "metadata": {},
   "outputs": [],
   "source": [
    "# Imputation\n",
    "data.fare_amount = data.fare_amount.fillna(data.fare_amount.median())\n",
    "full_data =[data,test]"
   ]
  },
  {
   "cell_type": "code",
   "execution_count": 23,
   "metadata": {},
   "outputs": [
    {
     "name": "stdout",
     "output_type": "stream",
     "text": [
      "-----values below -3.75 and above 22.25 suggested to drop for col fare_amount:\n"
     ]
    }
   ],
   "source": [
    "# Just get the oulier info\n",
    "outlier = []\n",
    "outlier,data= get_outliers(data,['fare_amount'],outliers_=outlier,drop=False)\n",
    "full_data = [data,test]"
   ]
  },
  {
   "cell_type": "code",
   "execution_count": 24,
   "metadata": {},
   "outputs": [
    {
     "name": "stdout",
     "output_type": "stream",
     "text": [
      "---------------original---------------\n",
      "Skewness :  125.46681874636782\n",
      "+++++very Right/positive(tail/majority towards right) skewed\n",
      "Kurtosis :  15834.507324588294\n",
      "^^^^^^^^Flat\n",
      "---------------log---------------\n",
      "Skewness :  1.0791639691577823\n",
      "+++++very Right/positive(tail/majority towards right) skewed\n",
      "Kurtosis :  4.051503796895485\n",
      "^^^^^^^^Flat\n",
      "---------------sqrt---------------\n",
      "Skewness :  73.61266848970753\n",
      "+++++very Right/positive(tail/majority towards right) skewed\n",
      "Kurtosis :  7575.92453931639\n",
      "^^^^^^^^Flat\n",
      "---------------cbrt---------------\n",
      "Skewness :  17.939577578454784\n",
      "+++++very Right/positive(tail/majority towards right) skewed\n",
      "Kurtosis :  1040.1472328292882\n",
      "^^^^^^^^Flat\n"
     ]
    },
    {
     "data": {
      "image/png": "[encoded data removed]",
      "text/plain": [
       "<Figure size 432x288 with 1 Axes>"
      ]
     },
     "metadata": {
      "needs_background": "light"
     },
     "output_type": "display_data"
    }
   ],
   "source": [
    "#plt.subplot(320)\n",
    "_ =sb.kdeplot(data['fare_amount'],label='orignal_Fare').set_title(\"Distribution of Trip Fare\")\n",
    "#plt.subplot(321)\n",
    "_=sb.kdeplot(np.log(data['fare_amount']),label='log_fare').set_title(\"Distribution of Trip Fare\")\n",
    "distribution_summary(data.fare_amount,'fare_amount')"
   ]
  },
  {
   "cell_type": "markdown",
   "metadata": {},
   "source": [
    "#### This is because of those outliers in fare, \n",
    "- not deleting for now, will plot them against year and see if it makes any sense"
   ]
  },
  {
   "cell_type": "markdown",
   "metadata": {},
   "source": [
    "## ii. passenger_count"
   ]
  },
  {
   "cell_type": "markdown",
   "metadata": {},
   "source": [
    "###  Missing value analysis for passenger_count\n",
    "- datatype conversions\n",
    "\n",
    "max passenger count can at max 10, let's say you are driving a mini van, but beyond that, it looks odd "
   ]
  },
  {
   "cell_type": "markdown",
   "metadata": {},
   "source": [
    "### plot with passenger count <10"
   ]
  },
  {
   "cell_type": "code",
   "execution_count": 25,
   "metadata": {},
   "outputs": [
    {
     "data": {
      "text/plain": [
       "Text(0.5, 1.0, 'Histogram for passenger_count<=6')"
      ]
     },
     "execution_count": 25,
     "metadata": {},
     "output_type": "execute_result"
    },
    {
     "data": {
      "image/png": "[encoded data removed]",
      "text/plain": [
       "<Figure size 432x288 with 1 Axes>"
      ]
     },
     "metadata": {
      "needs_background": "light"
     },
     "output_type": "display_data"
    }
   ],
   "source": [
    "data[data['passenger_count']<=6]['passenger_count'].hist()\n",
    "plt.ylabel('frequency')\n",
    "plt.xlabel('passenger count')\n",
    "plt.title('Histogram for passenger_count<=6')"
   ]
  },
  {
   "cell_type": "code",
   "execution_count": 26,
   "metadata": {},
   "outputs": [
    {
     "data": {
      "text/plain": [
       "Text(0.5, 1.0, 'passenger count < 6')"
      ]
     },
     "execution_count": 26,
     "metadata": {},
     "output_type": "execute_result"
    },
    {
     "data": {
      "image/png": "[encoded data removed]",
      "text/plain": [
       "<Figure size 432x288 with 1 Axes>"
      ]
     },
     "metadata": {
      "needs_background": "light"
     },
     "output_type": "display_data"
    }
   ],
   "source": [
    "tmp = data[data.passenger_count<6]\n",
    "plt.scatter(tmp.passenger_count, tmp.fare_amount)\n",
    "plt.ylabel('fare')\n",
    "plt.xlabel('passenger count')\n",
    "plt.title('passenger count < 6')"
   ]
  },
  {
   "cell_type": "markdown",
   "metadata": {},
   "source": [
    "#### fare distribution passengers_count = 6\n",
    "passenger_count max is 6, under the count of 10, so let us see the fare paid"
   ]
  },
  {
   "cell_type": "code",
   "execution_count": 27,
   "metadata": {},
   "outputs": [
    {
     "data": {
      "text/plain": [
       "(5.5, count    302.000000\n",
       " mean      11.447252\n",
       " std        7.866293\n",
       " min        3.300000\n",
       " 25%        6.100000\n",
       " 50%        9.000000\n",
       " 75%       14.000000\n",
       " max       57.540000\n",
       " Name: fare_amount, dtype: float64)"
      ]
     },
     "execution_count": 27,
     "metadata": {},
     "output_type": "execute_result"
    },
    {
     "data": {
      "image/png": "[encoded data removed]",
      "text/plain": [
       "<Figure size 432x288 with 1 Axes>"
      ]
     },
     "metadata": {
      "needs_background": "light"
     },
     "output_type": "display_data"
    }
   ],
   "source": [
    "tmp = data[data.passenger_count==6]\n",
    "plt.scatter(tmp.passenger_count,tmp.fare_amount)\n",
    "plt.ylabel('fare')\n",
    "plt.xlabel('passenger count')\n",
    "plt.title('passenger count =6')\n",
    "tmp.fare_amount.mode()[0],tmp.fare_amount.describe()"
   ]
  },
  {
   "cell_type": "markdown",
   "metadata": {},
   "source": [
    "#### Median\n",
    "since fares are right skewed, median will be better approach"
   ]
  },
  {
   "cell_type": "markdown",
   "metadata": {},
   "source": [
    "### If passenger_count is > 10, then are these records overall bad ones?"
   ]
  },
  {
   "cell_type": "code",
   "execution_count": 28,
   "metadata": {},
   "outputs": [
    {
     "data": {
      "text/plain": [
       "Text(0.5, 1.0, 'Count plot for passenger count >6')"
      ]
     },
     "execution_count": 28,
     "metadata": {},
     "output_type": "execute_result"
    },
    {
     "data": {
      "image/png": "[encoded data removed]",
      "text/plain": [
       "<Figure size 720x360 with 1 Axes>"
      ]
     },
     "metadata": {
      "needs_background": "light"
     },
     "output_type": "display_data"
    }
   ],
   "source": [
    "#Lets see the frequencies\n",
    "f,ax= plt.subplots(figsize=(10,5))\n",
    "sb.countplot(data[data.passenger_count>6]['passenger_count'])\n",
    "plt.title(\"Count plot for passenger count >6\")"
   ]
  },
  {
   "cell_type": "code",
   "execution_count": 29,
   "metadata": {},
   "outputs": [
    {
     "data": {
      "text/plain": [
       "(8.5, count    20.000000\n",
       " mean      8.070000\n",
       " std       3.670666\n",
       " min       3.700000\n",
       " 25%       5.600000\n",
       " 50%       8.050000\n",
       " 75%       8.800000\n",
       " max      20.000000\n",
       " Name: fare_amount, dtype: float64)"
      ]
     },
     "execution_count": 29,
     "metadata": {},
     "output_type": "execute_result"
    },
    {
     "data": {
      "image/png": "[encoded data removed]",
      "text/plain": [
       "<Figure size 432x288 with 1 Axes>"
      ]
     },
     "metadata": {
      "needs_background": "light"
     },
     "output_type": "display_data"
    }
   ],
   "source": [
    "tmp_gr_10 = data[data.passenger_count>6]\n",
    "plt.scatter(tmp_gr_10.passenger_count, tmp_gr_10.fare_amount)\n",
    "plt.ylabel('fare')\n",
    "plt.xlabel('passenger count')\n",
    "plt.title('passenger count > 6')\n",
    "tmp_gr_10.fare_amount.mode()[0],tmp_gr_10.fare_amount.describe()"
   ]
  },
  {
   "cell_type": "code",
   "execution_count": 30,
   "metadata": {},
   "outputs": [
    {
     "data": {
      "text/plain": [
       "20"
      ]
     },
     "execution_count": 30,
     "metadata": {},
     "output_type": "execute_result"
    }
   ],
   "source": [
    "len(tmp_gr_10)"
   ]
  },
  {
   "cell_type": "markdown",
   "metadata": {},
   "source": [
    "#### FINDING\n",
    "The average fare paid by these absurd observations is almost normally distributed with mean,median,mode lying closely to each other, with a max of 20\n",
    "- Even if we want to keep these rows, we need to see what passenger_count did rides with average fare of 8 had?\n",
    "\n"
   ]
  },
  {
   "cell_type": "code",
   "execution_count": 31,
   "metadata": {},
   "outputs": [
    {
     "data": {
      "text/plain": [
       "1.0"
      ]
     },
     "execution_count": 31,
     "metadata": {},
     "output_type": "execute_result"
    }
   ],
   "source": [
    "#print(data[data.fare_amount.between(8,9)]['passenger_count'].value_counts())\n",
    "#clearly 1 is the winner here\n",
    "data[data.fare_amount.between(8,9)]['passenger_count'].mode()[0]"
   ]
  },
  {
   "cell_type": "code",
   "execution_count": 32,
   "metadata": {},
   "outputs": [],
   "source": [
    "#### if drop\n",
    "#data = data.drop(data[(data.passenger_count>6)|(data.passenger_count<1)].index).reset_index().drop('index',axis=1)\n",
    "#test = test.drop(test[(test.passenger_count>6)|(test.passenger_count<6)].index).reset_index().drop('index',axis=1)"
   ]
  },
  {
   "cell_type": "code",
   "execution_count": 33,
   "metadata": {},
   "outputs": [
    {
     "data": {
      "text/plain": [
       "Text(0.5, 0, 'passenger count')"
      ]
     },
     "execution_count": 33,
     "metadata": {},
     "output_type": "execute_result"
    },
    {
     "data": {
      "image/png": "[encoded data removed]",
      "text/plain": [
       "<Figure size 432x288 with 1 Axes>"
      ]
     },
     "metadata": {
      "needs_background": "light"
     },
     "output_type": "display_data"
    }
   ],
   "source": [
    "plt.scatter(data.passenger_count, data.fare_amount)\n",
    "plt.ylabel('fare')\n",
    "plt.xlabel('passenger count')"
   ]
  },
  {
   "cell_type": "markdown",
   "metadata": {},
   "source": [
    "#### FINDING\n",
    "passenger counts are fixed, but still some outliers in fare"
   ]
  },
  {
   "cell_type": "markdown",
   "metadata": {},
   "source": [
    "## iii. pickup_datetime"
   ]
  },
  {
   "cell_type": "code",
   "execution_count": 34,
   "metadata": {},
   "outputs": [],
   "source": [
    "bk=data.copy()"
   ]
  },
  {
   "cell_type": "code",
   "execution_count": 35,
   "metadata": {},
   "outputs": [
    {
     "name": "stdout",
     "output_type": "stream",
     "text": [
      "Invalid pickup time for 1326\n"
     ]
    }
   ],
   "source": [
    "# pickup_datetime is timestamp object in test, but in train it is a string\n",
    "# let us convert it\n",
    "data = parsedate(data,'pickup_datetime')#parse the string in timestamp format\n",
    "\n"
   ]
  },
  {
   "cell_type": "code",
   "execution_count": 36,
   "metadata": {},
   "outputs": [
    {
     "data": {
      "text/plain": [
       "Text(0.5, 1.0, 'with outliers in fares')"
      ]
     },
     "execution_count": 36,
     "metadata": {},
     "output_type": "execute_result"
    },
    {
     "data": {
      "image/png": "[encoded data removed]",
      "text/plain": [
       "<Figure size 432x288 with 1 Axes>"
      ]
     },
     "metadata": {
      "needs_background": "light"
     },
     "output_type": "display_data"
    }
   ],
   "source": [
    "x = []\n",
    "y = []\n",
    "for i in range(len(data)):\n",
    "    x.append(data.pickup_datetime[i].date() )\n",
    "    y.append(data.fare_amount[i] )\n",
    "               \n",
    "plt.scatter(x,y)\n",
    "plt.ylabel('fare')\n",
    "plt.xlabel('Year')\n",
    "plt.title('with outliers in fares')"
   ]
  },
  {
   "cell_type": "markdown",
   "metadata": {},
   "source": [
    "####  Pretty flat line with a few outliers in fare, let's remove outliers"
   ]
  },
  {
   "cell_type": "code",
   "execution_count": 37,
   "metadata": {},
   "outputs": [
    {
     "name": "stdout",
     "output_type": "stream",
     "text": [
      "-----values below -3.75 and above 22.25 dropped  for col fare_amount:\n"
     ]
    }
   ],
   "source": [
    "#remove outliers\n",
    "outlier = []\n",
    "outlier,data= get_outliers(data,['fare_amount'],outliers_=outlier,drop=True)\n",
    "full_data = [data,test]"
   ]
  },
  {
   "cell_type": "code",
   "execution_count": 38,
   "metadata": {},
   "outputs": [
    {
     "data": {
      "text/plain": [
       "Text(0.5, 1.0, 'with outliers removed in fares')"
      ]
     },
     "execution_count": 38,
     "metadata": {},
     "output_type": "execute_result"
    },
    {
     "data": {
      "image/png": "[encoded data removed]",
      "text/plain": [
       "<Figure size 432x288 with 1 Axes>"
      ]
     },
     "metadata": {
      "needs_background": "light"
     },
     "output_type": "display_data"
    }
   ],
   "source": [
    "x = []\n",
    "y = []\n",
    "for i in range(len(data)):\n",
    "    x.append(data.pickup_datetime[i].date() )\n",
    "    y.append(data.fare_amount[i] )\n",
    "               \n",
    "plt.scatter(x,y)\n",
    "plt.ylabel('fare')\n",
    "plt.xlabel('Year')\n",
    "plt.title('with outliers removed in fares')"
   ]
  },
  {
   "cell_type": "markdown",
   "metadata": {},
   "source": [
    "#### Now they are close to each other "
   ]
  },
  {
   "cell_type": "code",
   "execution_count": 39,
   "metadata": {},
   "outputs": [
    {
     "data": {
      "text/plain": [
       "Text(0.5, 1.0, 'fare_amount distribution')"
      ]
     },
     "execution_count": 39,
     "metadata": {},
     "output_type": "execute_result"
    },
    {
     "data": {
      "image/png": "[encoded data removed]",
      "text/plain": [
       "<Figure size 432x288 with 1 Axes>"
      ]
     },
     "metadata": {
      "needs_background": "light"
     },
     "output_type": "display_data"
    }
   ],
   "source": [
    "min_95_per , _,_,max_95_per = plot_dist(data.dropna().fare_amount)\n",
    "min_95_per,max_95_per\n",
    "plt.title('fare_amount distribution')\n",
    "# That looks very flat and skewed towards right"
   ]
  },
  {
   "cell_type": "code",
   "execution_count": 40,
   "metadata": {},
   "outputs": [
    {
     "name": "stdout",
     "output_type": "stream",
     "text": [
      "---------------original---------------\n",
      "Skewness :  1.0347767819388258\n",
      "+++++very Right/positive(tail/majority towards right) skewed\n",
      "Kurtosis :  0.579255195867495\n",
      "^^^^^^^^Flat\n",
      "---------------log---------------\n",
      "Skewness :  0.10555077332946282\n",
      "%%%%%Moderately symm\n",
      "Kurtosis :  -0.5185444366546967\n",
      "~~~~~~~~~~Pointy\n",
      "---------------sqrt---------------\n",
      "Skewness :  0.5812531754955005\n",
      "+++++very Right/positive(tail/majority towards right) skewed\n",
      "Kurtosis :  -0.2432489302330345\n",
      "%%%%%%%%%Moderately Bell shaped\n",
      "---------------cbrt---------------\n",
      "Skewness :  0.42589341019903754\n",
      "%%%%%Moderately symm\n",
      "Kurtosis :  -0.4030161188415837\n",
      "%%%%%%%%%Moderately Bell shaped\n"
     ]
    },
    {
     "data": {
      "image/png": "[encoded data removed]",
      "text/plain": [
       "<Figure size 432x288 with 1 Axes>"
      ]
     },
     "metadata": {
      "needs_background": "light"
     },
     "output_type": "display_data"
    }
   ],
   "source": [
    "#plt.subplot(320)\n",
    "_ =sb.kdeplot(data['fare_amount'],label='orignal_Fare').set_title(\"Distribution of Trip Fare\")\n",
    "#plt.subplot(321)\n",
    "_=sb.kdeplot(np.log(data['fare_amount']),label='log_fare').set_title(\"Distribution of Trip Fare\")\n",
    "_=sb.kdeplot(np.sqrt(data['fare_amount']),label='sqrt_fare').set_title(\"Distribution of Trip Fare\")\n",
    "_=sb.kdeplot(np.cbrt(data['fare_amount']),label='cbrt_fare').set_title(\"Distribution of Trip Fare\")\n",
    "distribution_summary(data.fare_amount,'fare_amount')"
   ]
  },
  {
   "cell_type": "markdown",
   "metadata": {},
   "source": [
    "### Feature Engineering\n",
    "Get some more insights from pickup_date and store it under 'time' column"
   ]
  },
  {
   "cell_type": "code",
   "execution_count": 41,
   "metadata": {},
   "outputs": [],
   "source": [
    "#Derive info from pickup timestamp\n",
    "\n",
    "full_data = feature_eng([data,test])\n",
    "data = full_data[0]\n",
    "test=full_data[1]"
   ]
  },
  {
   "cell_type": "code",
   "execution_count": 42,
   "metadata": {},
   "outputs": [
    {
     "data": {
      "text/html": [
       "<div>\n",
       "<style scoped>\n",
       "    .dataframe tbody tr th:only-of-type {\n",
       "        vertical-align: middle;\n",
       "    }\n",
       "\n",
       "    .dataframe tbody tr th {\n",
       "        vertical-align: top;\n",
       "    }\n",
       "\n",
       "    .dataframe thead th {\n",
       "        text-align: right;\n",
       "    }\n",
       "</style>\n",
       "<table border=\"1\" class=\"dataframe\">\n",
       "  <thead>\n",
       "    <tr style=\"text-align: right;\">\n",
       "      <th></th>\n",
       "      <th>fare_amount</th>\n",
       "      <th>pickup_datetime</th>\n",
       "      <th>pickup_longitude</th>\n",
       "      <th>pickup_latitude</th>\n",
       "      <th>dropoff_longitude</th>\n",
       "      <th>dropoff_latitude</th>\n",
       "      <th>passenger_count</th>\n",
       "      <th>remarks</th>\n",
       "      <th>time</th>\n",
       "      <th>day</th>\n",
       "      <th>month</th>\n",
       "      <th>year</th>\n",
       "      <th>weekday</th>\n",
       "      <th>season</th>\n",
       "    </tr>\n",
       "  </thead>\n",
       "  <tbody>\n",
       "    <tr>\n",
       "      <th>0</th>\n",
       "      <td>4.5</td>\n",
       "      <td>2009-06-15 17:26:21</td>\n",
       "      <td>-73.844311</td>\n",
       "      <td>40.721319</td>\n",
       "      <td>-73.841610</td>\n",
       "      <td>40.712278</td>\n",
       "      <td>1.0</td>\n",
       "      <td>normal</td>\n",
       "      <td>peakeveningtime</td>\n",
       "      <td>15.0</td>\n",
       "      <td>6.0</td>\n",
       "      <td>2009.0</td>\n",
       "      <td>0.0</td>\n",
       "      <td>summer</td>\n",
       "    </tr>\n",
       "    <tr>\n",
       "      <th>1</th>\n",
       "      <td>16.9</td>\n",
       "      <td>2010-01-05 16:52:16</td>\n",
       "      <td>-74.016048</td>\n",
       "      <td>40.711303</td>\n",
       "      <td>-73.979268</td>\n",
       "      <td>40.782004</td>\n",
       "      <td>1.0</td>\n",
       "      <td>normal</td>\n",
       "      <td>noontime</td>\n",
       "      <td>5.0</td>\n",
       "      <td>1.0</td>\n",
       "      <td>2010.0</td>\n",
       "      <td>1.0</td>\n",
       "      <td>winter</td>\n",
       "    </tr>\n",
       "  </tbody>\n",
       "</table>\n",
       "</div>"
      ],
      "text/plain": [
       "   fare_amount      pickup_datetime  pickup_longitude  pickup_latitude  \\\n",
       "0          4.5  2009-06-15 17:26:21        -73.844311        40.721319   \n",
       "1         16.9  2010-01-05 16:52:16        -74.016048        40.711303   \n",
       "\n",
       "   dropoff_longitude  dropoff_latitude  passenger_count remarks  \\\n",
       "0         -73.841610         40.712278              1.0  normal   \n",
       "1         -73.979268         40.782004              1.0  normal   \n",
       "\n",
       "              time   day  month    year  weekday  season  \n",
       "0  peakeveningtime  15.0    6.0  2009.0      0.0  summer  \n",
       "1         noontime   5.0    1.0  2010.0      1.0  winter  "
      ]
     },
     "execution_count": 42,
     "metadata": {},
     "output_type": "execute_result"
    }
   ],
   "source": [
    "data.head(2)"
   ]
  },
  {
   "cell_type": "code",
   "execution_count": 43,
   "metadata": {},
   "outputs": [
    {
     "data": {
      "text/plain": [
       "peakeveningtime    4320\n",
       "noontime           4069\n",
       "peaknighttime      3253\n",
       "regular            3022\n",
       "Name: time, dtype: int64"
      ]
     },
     "execution_count": 43,
     "metadata": {},
     "output_type": "execute_result"
    },
    {
     "data": {
      "image/png": "[encoded data removed]",
      "text/plain": [
       "<Figure size 504x216 with 1 Axes>"
      ]
     },
     "metadata": {
      "needs_background": "light"
     },
     "output_type": "display_data"
    }
   ],
   "source": [
    "f,ax=plt.subplots(figsize=(7,3))\n",
    "sb.countplot(data.time)\n",
    "data.time.value_counts()"
   ]
  },
  {
   "cell_type": "markdown",
   "metadata": {},
   "source": [
    "#### Mostly normal daytime rides and no weekend rides"
   ]
  },
  {
   "cell_type": "code",
   "execution_count": 44,
   "metadata": {},
   "outputs": [],
   "source": [
    "## Derive new cols\n",
    "bk=data.copy()"
   ]
  },
  {
   "cell_type": "markdown",
   "metadata": {},
   "source": [
    "### How were the Fares for these times?"
   ]
  },
  {
   "cell_type": "code",
   "execution_count": 45,
   "metadata": {},
   "outputs": [
    {
     "name": "stdout",
     "output_type": "stream",
     "text": [
      "time\n",
      "noontime           8.774426\n",
      "peakeveningtime    8.875833\n",
      "peaknighttime      9.422465\n",
      "regular            8.546006\n",
      "Name: fare_amount, dtype: float64\n",
      "remarks\n",
      "month_end      8.900203\n",
      "month_start    9.436013\n",
      "normal         8.880230\n",
      "Name: fare_amount, dtype: float64\n"
     ]
    },
    {
     "data": {
      "image/png": "[encoded data removed]",
      "text/plain": [
       "<Figure size 720x720 with 2 Axes>"
      ]
     },
     "metadata": {
      "needs_background": "light"
     },
     "output_type": "display_data"
    }
   ],
   "source": [
    "#f,ax=plt.subplots(figsize=(7,5))\n",
    "print(data.groupby('time')['fare_amount'].mean())\n",
    "print(data.groupby('remarks')['fare_amount'].mean())\n",
    "plotno=324\n",
    "plt.figure(figsize=(10,10))\n",
    "plt.subplot(plotno)\n",
    "_=data.groupby('time')['fare_amount'].mean().plot.bar()\n",
    "plt.xlabel('time of month')\n",
    "plt.ylabel('average fare')\n",
    "plotno+=1\n",
    "plt.subplot(plotno-2)\n",
    "_=data.groupby('remarks')['fare_amount'].mean().plot.bar()\n",
    "plt.xlabel('time of month')\n",
    "plt.ylabel('average fare')\n",
    "plt.show()\n"
   ]
  },
  {
   "cell_type": "code",
   "execution_count": 46,
   "metadata": {},
   "outputs": [
    {
     "data": {
      "text/plain": [
       "time\n",
       "peaknighttime      9.422465\n",
       "peakeveningtime    8.875833\n",
       "noontime           8.774426\n",
       "regular            8.546006\n",
       "Name: fare_amount, dtype: float64"
      ]
     },
     "execution_count": 46,
     "metadata": {},
     "output_type": "execute_result"
    }
   ],
   "source": [
    "data.groupby('time')['fare_amount'].mean().nlargest(7)"
   ]
  },
  {
   "cell_type": "markdown",
   "metadata": {},
   "source": [
    "#### what did we notice?\n",
    "- Month_start recorded the highest average fare, followed by month_end, but overall they are very close, showing less significance on fare price\n",
    "- Peak night time recorded highest average fare in a day as expected and it is quite significantly larger than others groups, showing night hours will impact the fares\n",
    "\n"
   ]
  },
  {
   "cell_type": "markdown",
   "metadata": {},
   "source": [
    "## iv. Geographic coordinates(pickup_latitude and pickup_longitude)\n",
    "distance is calculated latitude(N,S),longitude(E,W) pairs and since these are in decimals (not degree), - represent west"
   ]
  },
  {
   "cell_type": "code",
   "execution_count": 47,
   "metadata": {},
   "outputs": [
    {
     "data": {
      "image/png": "[encoded data removed]",
      "text/plain": [
       "<Figure size 720x720 with 2 Axes>"
      ]
     },
     "metadata": {
      "needs_background": "light"
     },
     "output_type": "display_data"
    }
   ],
   "source": [
    "plotno=321\n",
    "plt.figure(figsize=(10,10))\n",
    "plt.subplot(plotno)\n",
    "\n",
    "var = '_%s'%plotno\n",
    "var = sb.distplot(data.loc[:,'pickup_latitude'])\n",
    "plotno+=1\n",
    "plt.subplot(plotno)\n",
    "var = sb.distplot(data.loc[:,'pickup_longitude'])\n",
    "plt.show()"
   ]
  },
  {
   "cell_type": "code",
   "execution_count": 48,
   "metadata": {},
   "outputs": [],
   "source": [
    "full_data=[data,test]\n",
    "data = clean_coord(data) #clean invalid coordinates(outside -90 to 90)\n",
    "full_data[0] = data\n",
    "\n",
    "full_data=calculate_dis(full_data)#calulate distnce\n",
    "#full_data=dis(full_data)#calulate distnce\n",
    "data=full_data[0]\n",
    "test=full_data[1]"
   ]
  },
  {
   "cell_type": "markdown",
   "metadata": {},
   "source": [
    "### Manhattan vs Euclidian\n",
    "Mahattan distance is calculated when we have a mix of conitinous and categorical variables, whereas eucudian distance is the shortest distance between 2 points and hence can be used when you have only continous variables\n",
    "\n",
    "Let us calculate all possible distances and see which one has the most corrleation with fare price(explaining the fare price the most)"
   ]
  },
  {
   "cell_type": "markdown",
   "metadata": {},
   "source": [
    "#  Bi-variate analysis between different frames"
   ]
  },
  {
   "cell_type": "code",
   "execution_count": 49,
   "metadata": {},
   "outputs": [
    {
     "data": {
      "image/png": "[encoded data removed]",
      "text/plain": [
       "<Figure size 1080x1080 with 2 Axes>"
      ]
     },
     "metadata": {
      "needs_background": "light"
     },
     "output_type": "display_data"
    },
    {
     "data": {
      "text/plain": [
       "<Figure size 432x288 with 0 Axes>"
      ]
     },
     "metadata": {},
     "output_type": "display_data"
    }
   ],
   "source": [
    "#Let us plot relation between dis and price in all three frames, which we derived so far\n",
    "df_fare_max100 = data[data.fare_amount<100]\n",
    "df_fare_sqrt = data.copy()\n",
    "df_fare_sqrt.fare_amount = np.sqrt(df_fare_sqrt.fare_amount)\n",
    "df_fare_boxplot = data[data.fare_amount<22.5]\n",
    "\n",
    "f,ax= plt.subplots(figsize=(15,15))\n",
    "plotno=324\n",
    "plt.subplot(plotno)\n",
    "plt.scatter(df_fare_sqrt['euclid_dis'], df_fare_sqrt.fare_amount, marker='X',color='red',label='sqrt_fare')\n",
    "plt.scatter(df_fare_max100['euclid_dis'], df_fare_max100.fare_amount, marker='^',color='green',label='fare_max100')\n",
    "plt.scatter(df_fare_boxplot['euclid_dis'], df_fare_boxplot.fare_amount, marker='+',color='blue',label='fare_maxboxplot')\n",
    "plt.legend(loc='upper right')\n",
    "plt.xlabel('distance')\n",
    "plt.ylabel('fare')\n",
    "plt.subplot(323)\n",
    "#original dataset\n",
    "plt.scatter(data['euclid_dis'], data.fare_amount, marker='*',color='orange',label='original')\n",
    "plt.legend(loc='upper right')\n",
    "plt.xlabel('distance')\n",
    "plt.ylabel('fare')\n",
    "\n",
    "plt.show()\n",
    "plt.savefig('../data/processed/scatter_var0.png',bbox_inches='tight')"
   ]
  },
  {
   "cell_type": "code",
   "execution_count": 50,
   "metadata": {},
   "outputs": [
    {
     "data": {
      "text/html": [
       "<div>\n",
       "<style scoped>\n",
       "    .dataframe tbody tr th:only-of-type {\n",
       "        vertical-align: middle;\n",
       "    }\n",
       "\n",
       "    .dataframe tbody tr th {\n",
       "        vertical-align: top;\n",
       "    }\n",
       "\n",
       "    .dataframe thead th {\n",
       "        text-align: right;\n",
       "    }\n",
       "</style>\n",
       "<table border=\"1\" class=\"dataframe\">\n",
       "  <thead>\n",
       "    <tr style=\"text-align: right;\">\n",
       "      <th></th>\n",
       "      <th>fare_amount</th>\n",
       "      <th>pickup_datetime</th>\n",
       "      <th>pickup_longitude</th>\n",
       "      <th>pickup_latitude</th>\n",
       "      <th>dropoff_longitude</th>\n",
       "      <th>dropoff_latitude</th>\n",
       "      <th>passenger_count</th>\n",
       "      <th>remarks</th>\n",
       "      <th>time</th>\n",
       "      <th>day</th>\n",
       "      <th>month</th>\n",
       "      <th>year</th>\n",
       "      <th>weekday</th>\n",
       "      <th>season</th>\n",
       "      <th>mahattan_dis</th>\n",
       "      <th>euclid_dis</th>\n",
       "      <th>geodesic</th>\n",
       "    </tr>\n",
       "  </thead>\n",
       "  <tbody>\n",
       "    <tr>\n",
       "      <th>0</th>\n",
       "      <td>4.5</td>\n",
       "      <td>2009-06-15 17:26:21</td>\n",
       "      <td>-73.844311</td>\n",
       "      <td>40.721319</td>\n",
       "      <td>-73.84161</td>\n",
       "      <td>40.712278</td>\n",
       "      <td>1.0</td>\n",
       "      <td>normal</td>\n",
       "      <td>peakeveningtime</td>\n",
       "      <td>15.0</td>\n",
       "      <td>6.0</td>\n",
       "      <td>2009.0</td>\n",
       "      <td>0.0</td>\n",
       "      <td>summer</td>\n",
       "      <td>0.011742</td>\n",
       "      <td>0.009436</td>\n",
       "      <td>0.639764</td>\n",
       "    </tr>\n",
       "  </tbody>\n",
       "</table>\n",
       "</div>"
      ],
      "text/plain": [
       "   fare_amount      pickup_datetime  pickup_longitude  pickup_latitude  \\\n",
       "0          4.5  2009-06-15 17:26:21        -73.844311        40.721319   \n",
       "\n",
       "   dropoff_longitude  dropoff_latitude  passenger_count remarks  \\\n",
       "0          -73.84161         40.712278              1.0  normal   \n",
       "\n",
       "              time   day  month    year  weekday  season  mahattan_dis  \\\n",
       "0  peakeveningtime  15.0    6.0  2009.0      0.0  summer      0.011742   \n",
       "\n",
       "   euclid_dis  geodesic  \n",
       "0    0.009436  0.639764  "
      ]
     },
     "execution_count": 50,
     "metadata": {},
     "output_type": "execute_result"
    }
   ],
   "source": [
    "bk = data.copy()\n",
    "#data=bk.copy()\n",
    "data.head(1)"
   ]
  },
  {
   "cell_type": "markdown",
   "metadata": {},
   "source": [
    "#### let us get 1 frame with passenger_count>10 removed in df_cleaned\n",
    "- Replace mode of passenger_count who has same average as the sub dataframe with passenger_count =0 in original dataframe"
   ]
  },
  {
   "cell_type": "code",
   "execution_count": 51,
   "metadata": {},
   "outputs": [],
   "source": [
    "# Impute passenger_count\n",
    "#data=bk.copy()\n",
    "test = test.drop(test[(test.passenger_count<1)|(test.passenger_count>6)].index)\n",
    "df_cleaned = data.drop(data[data.passenger_count>6].index)#delete\n",
    "data.loc[(data.passenger_count>6)|(data.passenger_count>6),'passenger_count'] = 1 # dont delete"
   ]
  },
  {
   "cell_type": "code",
   "execution_count": 52,
   "metadata": {},
   "outputs": [
    {
     "data": {
      "image/png": "[encoded data removed]",
      "text/plain": [
       "<Figure size 432x288 with 1 Axes>"
      ]
     },
     "metadata": {
      "needs_background": "light"
     },
     "output_type": "display_data"
    },
    {
     "data": {
      "image/png": "[encoded data removed]",
      "text/plain": [
       "<Figure size 432x288 with 1 Axes>"
      ]
     },
     "metadata": {
      "needs_background": "light"
     },
     "output_type": "display_data"
    }
   ],
   "source": [
    "plot_rides(data,'original')\n",
    "plot_rides(df_cleaned,'Invalid passenger count removed')"
   ]
  },
  {
   "cell_type": "markdown",
   "metadata": {},
   "source": [
    "#### investigate passenger count > 6"
   ]
  },
  {
   "cell_type": "code",
   "execution_count": 53,
   "metadata": {},
   "outputs": [
    {
     "data": {
      "text/plain": [
       "0    1.0\n",
       "dtype: float64"
      ]
     },
     "execution_count": 53,
     "metadata": {},
     "output_type": "execute_result"
    }
   ],
   "source": [
    "#plt.scatter(bad_pass_count.geodesic,bad_pass_count.fare_amount)\n",
    "#### shall we delete?\n",
    "data[(data.fare_amount>6)&(data.fare_amount<8)].passenger_count.mode()"
   ]
  },
  {
   "cell_type": "code",
   "execution_count": 54,
   "metadata": {},
   "outputs": [
    {
     "data": {
      "text/html": [
       "<div>\n",
       "<style scoped>\n",
       "    .dataframe tbody tr th:only-of-type {\n",
       "        vertical-align: middle;\n",
       "    }\n",
       "\n",
       "    .dataframe tbody tr th {\n",
       "        vertical-align: top;\n",
       "    }\n",
       "\n",
       "    .dataframe thead th {\n",
       "        text-align: right;\n",
       "    }\n",
       "</style>\n",
       "<table border=\"1\" class=\"dataframe\">\n",
       "  <thead>\n",
       "    <tr style=\"text-align: right;\">\n",
       "      <th></th>\n",
       "      <th>fare_amount</th>\n",
       "      <th>pickup_longitude</th>\n",
       "      <th>pickup_latitude</th>\n",
       "      <th>dropoff_longitude</th>\n",
       "      <th>dropoff_latitude</th>\n",
       "      <th>passenger_count</th>\n",
       "      <th>day</th>\n",
       "      <th>month</th>\n",
       "      <th>year</th>\n",
       "      <th>weekday</th>\n",
       "      <th>mahattan_dis</th>\n",
       "      <th>euclid_dis</th>\n",
       "      <th>geodesic</th>\n",
       "    </tr>\n",
       "  </thead>\n",
       "  <tbody>\n",
       "    <tr>\n",
       "      <th>fare_amount</th>\n",
       "      <td>1.000000</td>\n",
       "      <td>-0.011931</td>\n",
       "      <td>0.008549</td>\n",
       "      <td>-0.015383</td>\n",
       "      <td>0.012609</td>\n",
       "      <td>0.015539</td>\n",
       "      <td>-0.009661</td>\n",
       "      <td>0.024437</td>\n",
       "      <td>0.141993</td>\n",
       "      <td>0.017357</td>\n",
       "      <td>0.019966</td>\n",
       "      <td>0.019515</td>\n",
       "      <td>0.019631</td>\n",
       "    </tr>\n",
       "    <tr>\n",
       "      <th>pickup_longitude</th>\n",
       "      <td>-0.011931</td>\n",
       "      <td>1.000000</td>\n",
       "      <td>-0.983852</td>\n",
       "      <td>0.966092</td>\n",
       "      <td>-0.954622</td>\n",
       "      <td>-0.006736</td>\n",
       "      <td>-0.000962</td>\n",
       "      <td>-0.000593</td>\n",
       "      <td>-0.015755</td>\n",
       "      <td>0.001487</td>\n",
       "      <td>0.130673</td>\n",
       "      <td>0.126710</td>\n",
       "      <td>0.129355</td>\n",
       "    </tr>\n",
       "    <tr>\n",
       "      <th>pickup_latitude</th>\n",
       "      <td>0.008549</td>\n",
       "      <td>-0.983852</td>\n",
       "      <td>1.000000</td>\n",
       "      <td>-0.951989</td>\n",
       "      <td>0.972716</td>\n",
       "      <td>0.007404</td>\n",
       "      <td>-0.001578</td>\n",
       "      <td>0.001530</td>\n",
       "      <td>0.011878</td>\n",
       "      <td>-0.001941</td>\n",
       "      <td>-0.122699</td>\n",
       "      <td>-0.118973</td>\n",
       "      <td>-0.121462</td>\n",
       "    </tr>\n",
       "    <tr>\n",
       "      <th>dropoff_longitude</th>\n",
       "      <td>-0.015383</td>\n",
       "      <td>0.966092</td>\n",
       "      <td>-0.951989</td>\n",
       "      <td>1.000000</td>\n",
       "      <td>-0.977573</td>\n",
       "      <td>-0.005952</td>\n",
       "      <td>-0.001678</td>\n",
       "      <td>-0.001352</td>\n",
       "      <td>-0.014970</td>\n",
       "      <td>0.003926</td>\n",
       "      <td>0.114271</td>\n",
       "      <td>0.119365</td>\n",
       "      <td>0.115159</td>\n",
       "    </tr>\n",
       "    <tr>\n",
       "      <th>dropoff_latitude</th>\n",
       "      <td>0.012609</td>\n",
       "      <td>-0.954622</td>\n",
       "      <td>0.972716</td>\n",
       "      <td>-0.977573</td>\n",
       "      <td>1.000000</td>\n",
       "      <td>0.005527</td>\n",
       "      <td>-0.001009</td>\n",
       "      <td>0.002043</td>\n",
       "      <td>0.011368</td>\n",
       "      <td>-0.004179</td>\n",
       "      <td>-0.088768</td>\n",
       "      <td>-0.087544</td>\n",
       "      <td>-0.089885</td>\n",
       "    </tr>\n",
       "    <tr>\n",
       "      <th>passenger_count</th>\n",
       "      <td>0.015539</td>\n",
       "      <td>-0.006736</td>\n",
       "      <td>0.007404</td>\n",
       "      <td>-0.005952</td>\n",
       "      <td>0.005527</td>\n",
       "      <td>1.000000</td>\n",
       "      <td>0.001838</td>\n",
       "      <td>0.014668</td>\n",
       "      <td>0.003488</td>\n",
       "      <td>0.047039</td>\n",
       "      <td>-0.005550</td>\n",
       "      <td>-0.005778</td>\n",
       "      <td>-0.005315</td>\n",
       "    </tr>\n",
       "    <tr>\n",
       "      <th>day</th>\n",
       "      <td>-0.009661</td>\n",
       "      <td>-0.000962</td>\n",
       "      <td>-0.001578</td>\n",
       "      <td>-0.001678</td>\n",
       "      <td>-0.001009</td>\n",
       "      <td>0.001838</td>\n",
       "      <td>1.000000</td>\n",
       "      <td>-0.018836</td>\n",
       "      <td>-0.026613</td>\n",
       "      <td>0.009940</td>\n",
       "      <td>0.017435</td>\n",
       "      <td>0.016963</td>\n",
       "      <td>0.017349</td>\n",
       "    </tr>\n",
       "    <tr>\n",
       "      <th>month</th>\n",
       "      <td>0.024437</td>\n",
       "      <td>-0.000593</td>\n",
       "      <td>0.001530</td>\n",
       "      <td>-0.001352</td>\n",
       "      <td>0.002043</td>\n",
       "      <td>0.014668</td>\n",
       "      <td>-0.018836</td>\n",
       "      <td>1.000000</td>\n",
       "      <td>-0.116028</td>\n",
       "      <td>-0.017315</td>\n",
       "      <td>-0.015454</td>\n",
       "      <td>-0.015348</td>\n",
       "      <td>-0.015432</td>\n",
       "    </tr>\n",
       "    <tr>\n",
       "      <th>year</th>\n",
       "      <td>0.141993</td>\n",
       "      <td>-0.015755</td>\n",
       "      <td>0.011878</td>\n",
       "      <td>-0.014970</td>\n",
       "      <td>0.011368</td>\n",
       "      <td>0.003488</td>\n",
       "      <td>-0.026613</td>\n",
       "      <td>-0.116028</td>\n",
       "      <td>1.000000</td>\n",
       "      <td>0.005550</td>\n",
       "      <td>0.017208</td>\n",
       "      <td>0.016596</td>\n",
       "      <td>0.016927</td>\n",
       "    </tr>\n",
       "    <tr>\n",
       "      <th>weekday</th>\n",
       "      <td>0.017357</td>\n",
       "      <td>0.001487</td>\n",
       "      <td>-0.001941</td>\n",
       "      <td>0.003926</td>\n",
       "      <td>-0.004179</td>\n",
       "      <td>0.047039</td>\n",
       "      <td>0.009940</td>\n",
       "      <td>-0.017315</td>\n",
       "      <td>0.005550</td>\n",
       "      <td>1.000000</td>\n",
       "      <td>-0.008419</td>\n",
       "      <td>-0.007581</td>\n",
       "      <td>-0.007910</td>\n",
       "    </tr>\n",
       "    <tr>\n",
       "      <th>mahattan_dis</th>\n",
       "      <td>0.019966</td>\n",
       "      <td>0.130673</td>\n",
       "      <td>-0.122699</td>\n",
       "      <td>0.114271</td>\n",
       "      <td>-0.088768</td>\n",
       "      <td>-0.005550</td>\n",
       "      <td>0.017435</td>\n",
       "      <td>-0.015454</td>\n",
       "      <td>0.017208</td>\n",
       "      <td>-0.008419</td>\n",
       "      <td>1.000000</td>\n",
       "      <td>0.996031</td>\n",
       "      <td>0.999101</td>\n",
       "    </tr>\n",
       "    <tr>\n",
       "      <th>euclid_dis</th>\n",
       "      <td>0.019515</td>\n",
       "      <td>0.126710</td>\n",
       "      <td>-0.118973</td>\n",
       "      <td>0.119365</td>\n",
       "      <td>-0.087544</td>\n",
       "      <td>-0.005778</td>\n",
       "      <td>0.016963</td>\n",
       "      <td>-0.015348</td>\n",
       "      <td>0.016596</td>\n",
       "      <td>-0.007581</td>\n",
       "      <td>0.996031</td>\n",
       "      <td>1.000000</td>\n",
       "      <td>0.997849</td>\n",
       "    </tr>\n",
       "    <tr>\n",
       "      <th>geodesic</th>\n",
       "      <td>0.019631</td>\n",
       "      <td>0.129355</td>\n",
       "      <td>-0.121462</td>\n",
       "      <td>0.115159</td>\n",
       "      <td>-0.089885</td>\n",
       "      <td>-0.005315</td>\n",
       "      <td>0.017349</td>\n",
       "      <td>-0.015432</td>\n",
       "      <td>0.016927</td>\n",
       "      <td>-0.007910</td>\n",
       "      <td>0.999101</td>\n",
       "      <td>0.997849</td>\n",
       "      <td>1.000000</td>\n",
       "    </tr>\n",
       "  </tbody>\n",
       "</table>\n",
       "</div>"
      ],
      "text/plain": [
       "                   fare_amount  pickup_longitude  pickup_latitude  \\\n",
       "fare_amount           1.000000         -0.011931         0.008549   \n",
       "pickup_longitude     -0.011931          1.000000        -0.983852   \n",
       "pickup_latitude       0.008549         -0.983852         1.000000   \n",
       "dropoff_longitude    -0.015383          0.966092        -0.951989   \n",
       "dropoff_latitude      0.012609         -0.954622         0.972716   \n",
       "passenger_count       0.015539         -0.006736         0.007404   \n",
       "day                  -0.009661         -0.000962        -0.001578   \n",
       "month                 0.024437         -0.000593         0.001530   \n",
       "year                  0.141993         -0.015755         0.011878   \n",
       "weekday               0.017357          0.001487        -0.001941   \n",
       "mahattan_dis          0.019966          0.130673        -0.122699   \n",
       "euclid_dis            0.019515          0.126710        -0.118973   \n",
       "geodesic              0.019631          0.129355        -0.121462   \n",
       "\n",
       "                   dropoff_longitude  dropoff_latitude  passenger_count  \\\n",
       "fare_amount                -0.015383          0.012609         0.015539   \n",
       "pickup_longitude            0.966092         -0.954622        -0.006736   \n",
       "pickup_latitude            -0.951989          0.972716         0.007404   \n",
       "dropoff_longitude           1.000000         -0.977573        -0.005952   \n",
       "dropoff_latitude           -0.977573          1.000000         0.005527   \n",
       "passenger_count            -0.005952          0.005527         1.000000   \n",
       "day                        -0.001678         -0.001009         0.001838   \n",
       "month                      -0.001352          0.002043         0.014668   \n",
       "year                       -0.014970          0.011368         0.003488   \n",
       "weekday                     0.003926         -0.004179         0.047039   \n",
       "mahattan_dis                0.114271         -0.088768        -0.005550   \n",
       "euclid_dis                  0.119365         -0.087544        -0.005778   \n",
       "geodesic                    0.115159         -0.089885        -0.005315   \n",
       "\n",
       "                        day     month      year   weekday  mahattan_dis  \\\n",
       "fare_amount       -0.009661  0.024437  0.141993  0.017357      0.019966   \n",
       "pickup_longitude  -0.000962 -0.000593 -0.015755  0.001487      0.130673   \n",
       "pickup_latitude   -0.001578  0.001530  0.011878 -0.001941     -0.122699   \n",
       "dropoff_longitude -0.001678 -0.001352 -0.014970  0.003926      0.114271   \n",
       "dropoff_latitude  -0.001009  0.002043  0.011368 -0.004179     -0.088768   \n",
       "passenger_count    0.001838  0.014668  0.003488  0.047039     -0.005550   \n",
       "day                1.000000 -0.018836 -0.026613  0.009940      0.017435   \n",
       "month             -0.018836  1.000000 -0.116028 -0.017315     -0.015454   \n",
       "year              -0.026613 -0.116028  1.000000  0.005550      0.017208   \n",
       "weekday            0.009940 -0.017315  0.005550  1.000000     -0.008419   \n",
       "mahattan_dis       0.017435 -0.015454  0.017208 -0.008419      1.000000   \n",
       "euclid_dis         0.016963 -0.015348  0.016596 -0.007581      0.996031   \n",
       "geodesic           0.017349 -0.015432  0.016927 -0.007910      0.999101   \n",
       "\n",
       "                   euclid_dis  geodesic  \n",
       "fare_amount          0.019515  0.019631  \n",
       "pickup_longitude     0.126710  0.129355  \n",
       "pickup_latitude     -0.118973 -0.121462  \n",
       "dropoff_longitude    0.119365  0.115159  \n",
       "dropoff_latitude    -0.087544 -0.089885  \n",
       "passenger_count     -0.005778 -0.005315  \n",
       "day                  0.016963  0.017349  \n",
       "month               -0.015348 -0.015432  \n",
       "year                 0.016596  0.016927  \n",
       "weekday             -0.007581 -0.007910  \n",
       "mahattan_dis         0.996031  0.999101  \n",
       "euclid_dis           1.000000  0.997849  \n",
       "geodesic             0.997849  1.000000  "
      ]
     },
     "execution_count": 54,
     "metadata": {},
     "output_type": "execute_result"
    }
   ],
   "source": [
    "data.corr()"
   ]
  },
  {
   "cell_type": "markdown",
   "metadata": {},
   "source": [
    "#### notice very less correlation of fare with distances(euclid/manahattan/geodesic), it is because of the outliers"
   ]
  },
  {
   "cell_type": "markdown",
   "metadata": {},
   "source": [
    "### fractional values exist in passenger_count\n",
    "- need to round off the passenger count and convert the data type to string, since it is a categorical variable actually"
   ]
  },
  {
   "cell_type": "code",
   "execution_count": 55,
   "metadata": {},
   "outputs": [],
   "source": [
    "#Impute\n",
    "data.loc[(data.passenger_count<1)|(data.passenger_count>6), 'passenger_count'] = 1\n",
    "data.passenger_count = np.ceil(data.passenger_count)\n",
    "df_cleaned.passenger_count = np.ceil(df_cleaned.passenger_count)\n",
    "test.passenger_count = np.ceil(test.passenger_count)"
   ]
  },
  {
   "cell_type": "code",
   "execution_count": 56,
   "metadata": {},
   "outputs": [
    {
     "data": {
      "image/png": "[encoded data removed]",
      "text/plain": [
       "<Figure size 432x288 with 1 Axes>"
      ]
     },
     "metadata": {
      "needs_background": "light"
     },
     "output_type": "display_data"
    },
    {
     "data": {
      "image/png": "[encoded data removed]",
      "text/plain": [
       "<Figure size 432x288 with 1 Axes>"
      ]
     },
     "metadata": {
      "needs_background": "light"
     },
     "output_type": "display_data"
    }
   ],
   "source": [
    "plot_rides(df_cleaned,'Invalid_passenger_count_removed')   \n",
    "plot_rides(data,'original_passenger_count_fixed')\n"
   ]
  },
  {
   "cell_type": "markdown",
   "metadata": {},
   "source": [
    "#### what does it tell?\n",
    "- passenger count is very densely distributed(since only a few value values it can take)\n",
    "- distance is having a few outliers\n"
   ]
  },
  {
   "cell_type": "markdown",
   "metadata": {},
   "source": [
    "## for more distance also the price is same as the lesser distancees, may be the passenger count varies(check below)\n"
   ]
  },
  {
   "cell_type": "code",
   "execution_count": 57,
   "metadata": {},
   "outputs": [],
   "source": [
    "data.loc[(data.passenger_count<1)|(data.passenger_count>6), 'passenger_count'] = 1"
   ]
  },
  {
   "cell_type": "code",
   "execution_count": 58,
   "metadata": {},
   "outputs": [
    {
     "data": {
      "text/plain": [
       "((14663, 17), (14643, 17))"
      ]
     },
     "execution_count": 58,
     "metadata": {},
     "output_type": "execute_result"
    }
   ],
   "source": [
    "data.shape,df_cleaned.shape"
   ]
  },
  {
   "cell_type": "markdown",
   "metadata": {},
   "source": [
    "### how many rows with zero values in coordinates?"
   ]
  },
  {
   "cell_type": "code",
   "execution_count": 59,
   "metadata": {},
   "outputs": [
    {
     "data": {
      "image/png": "[encoded data removed]",
      "text/plain": [
       "<Figure size 432x288 with 1 Axes>"
      ]
     },
     "metadata": {
      "needs_background": "light"
     },
     "output_type": "display_data"
    },
    {
     "data": {
      "image/png": "[encoded data removed]",
      "text/plain": [
       "<Figure size 432x288 with 1 Axes>"
      ]
     },
     "metadata": {
      "needs_background": "light"
     },
     "output_type": "display_data"
    }
   ],
   "source": [
    "#plot_rides(df_cleaned[(df_cleaned.pickup_latitude==0) | (df_cleaned.pickup_longitude==0) | (df_cleaned.dropoff_latitude ==0 )|            (df_cleaned.dropoff_longitude==0)],'zero-coordinates in Invalid_passenger_count_removed')\n",
    "\n",
    "\n",
    "#plot_rides(data[(data.pickup_latitude==0) | (data.pickup_longitude==0) | (data.dropoff_latitude ==0 )|            (data.dropoff_longitude==0)],'zero-coordinates in original_passenger_count_fixed')\n",
    "plot_rides(data[data.euclid_dis==0],'euclid dis = 0 in original dataset')\n",
    "plot_rides(df_cleaned[df_cleaned.euclid_dis==0],'euclid dis = 0 in cleaned dataset(Invalid_passenger_count_removed)')"
   ]
  },
  {
   "cell_type": "markdown",
   "metadata": {},
   "source": [
    "#### both frames looks almost identical, let us continue forward with original dataframe with passenger id fixed with mode value\n",
    "- let us check the fare are distrubuted, to slect a value for the distance feild"
   ]
  },
  {
   "cell_type": "code",
   "execution_count": 60,
   "metadata": {},
   "outputs": [
    {
     "name": "stdout",
     "output_type": "stream",
     "text": [
      "time\n",
      "peaknighttime      9.422465\n",
      "peakeveningtime    8.875833\n",
      "noontime           8.775772\n",
      "regular            8.546006\n",
      "Name: fare_amount, dtype: float64\n"
     ]
    },
    {
     "data": {
      "text/plain": [
       "<matplotlib.axes._subplots.AxesSubplot at 0x2713498f7f0>"
      ]
     },
     "execution_count": 60,
     "metadata": {},
     "output_type": "execute_result"
    },
    {
     "data": {
      "image/png": "[encoded data removed]",
      "text/plain": [
       "<Figure size 432x288 with 1 Axes>"
      ]
     },
     "metadata": {
      "needs_background": "light"
     },
     "output_type": "display_data"
    }
   ],
   "source": [
    "print(data.groupby('time')['fare_amount'].mean().nlargest(7))\n",
    "data.groupby('time')['fare_amount'].mean().plot.barh()"
   ]
  },
  {
   "cell_type": "code",
   "execution_count": 61,
   "metadata": {},
   "outputs": [
    {
     "data": {
      "text/plain": [
       "(count    416.000000\n",
       " mean       7.776202\n",
       " std        3.800677\n",
       " min        2.500000\n",
       " 25%        5.000000\n",
       " 50%        6.900000\n",
       " 75%        9.500000\n",
       " max       20.500000\n",
       " Name: fare_amount, dtype: float64, count    414.000000\n",
       " mean       7.776570\n",
       " std        3.809458\n",
       " min        2.500000\n",
       " 25%        5.000000\n",
       " 50%        6.900000\n",
       " 75%        9.500000\n",
       " max       20.500000\n",
       " Name: fare_amount, dtype: float64)"
      ]
     },
     "execution_count": 61,
     "metadata": {},
     "output_type": "execute_result"
    }
   ],
   "source": [
    "data[data.euclid_dis==0].fare_amount.describe(),df_cleaned[df_cleaned.euclid_dis==0].fare_amount.describe()"
   ]
  },
  {
   "cell_type": "markdown",
   "metadata": {},
   "source": [
    "### let us the statistics for euclid_dis where fare is in around 6.90(mean of this datset with eculid_dis=0)"
   ]
  },
  {
   "cell_type": "code",
   "execution_count": 62,
   "metadata": {},
   "outputs": [
    {
     "data": {
      "text/plain": [
       "count    1605.000000\n",
       "mean        0.071148\n",
       "std         2.108339\n",
       "min         0.000317\n",
       "25%         0.013132\n",
       "50%         0.016711\n",
       "75%         0.020625\n",
       "max        84.471214\n",
       "Name: euclid_dis, dtype: float64"
      ]
     },
     "execution_count": 62,
     "metadata": {},
     "output_type": "execute_result"
    }
   ],
   "source": [
    "data[(data.fare_amount>6)&(data.fare_amount<7)&(data.euclid_dis!=0)].euclid_dis.describe()"
   ]
  },
  {
   "cell_type": "markdown",
   "metadata": {},
   "source": [
    "#### distances slighly right skewed, let us take median for the correction\n"
   ]
  },
  {
   "cell_type": "code",
   "execution_count": 63,
   "metadata": {},
   "outputs": [
    {
     "data": {
      "text/plain": [
       "Text(0.5, 1.0, 'cleaned dataframe')"
      ]
     },
     "execution_count": 63,
     "metadata": {},
     "output_type": "execute_result"
    },
    {
     "data": {
      "image/png": "[encoded data removed]",
      "text/plain": [
       "<Figure size 720x720 with 2 Axes>"
      ]
     },
     "metadata": {
      "needs_background": "light"
     },
     "output_type": "display_data"
    }
   ],
   "source": [
    "#Impute\n",
    "#data.loc[data.euclid_dis==0,'euclid_dis'] = 6.9\n",
    "#df_cleaned.loc[df_cleaned.euclid_dis==0,'euclid_dis'] = 6.9\n",
    "\n",
    "#drop\n",
    "\n",
    "test = test.drop(test[test.euclid_dis==0].index).reset_index().drop('index',axis=1)\n",
    "df_cleaned = data.drop(data[data.euclid_dis==0].index).reset_index().drop('index',axis=1)\n",
    "data.loc[data.euclid_dis==0,'euclid_dis'] = 0.017\n",
    "#plt.scatter(data[data.euclid_dis<1].euclid_dis,data[data.euclid_dis<1].fare_amount)\n",
    "f,ax= plt.subplots(figsize=(10,10))\n",
    "pltno =321\n",
    "plt.subplot(pltno)\n",
    "plt.scatter(data.euclid_dis,data.fare_amount)\n",
    "plt.xlabel('euclid_dis')\n",
    "plt.ylabel('fare')\n",
    "plt.title('original dataframe')\n",
    "plt.subplot(pltno+1)\n",
    "plt.scatter(df_cleaned.euclid_dis,df_cleaned.fare_amount)\n",
    "plt.xlabel('euclid_dis')\n",
    "plt.ylabel('fare')\n",
    "plt.title('cleaned dataframe')"
   ]
  },
  {
   "cell_type": "markdown",
   "metadata": {},
   "source": [
    "#### the no of observations which are differing are very small in number and hence not much visible"
   ]
  },
  {
   "cell_type": "code",
   "execution_count": 64,
   "metadata": {},
   "outputs": [
    {
     "name": "stdout",
     "output_type": "stream",
     "text": [
      "-----values below -0.01736786771622324 and above 0.06266747620920365 suggested to drop for col euclid_dis:\n",
      "-----values below -0.01736786771622324 and above 0.06266747620920365 dropped  for col euclid_dis:\n",
      "In original frame with passenger count fixed ['per outliers for euclid_dis is 4.8352997340244155', 'per outliers for euclid_dis is 0.0', 'per outliers for euclid_dis is 0.0', 'per outliers for euclid_dis is 0.0']\n",
      "\n",
      "\n",
      "-----values below -0.01861873507939933 and above 0.06421640252165343 dropped  for col euclid_dis:\n",
      "In cleaned dataframe with invalid passenger count removed ['per outliers for euclid_dis is 4.8352997340244155', 'per outliers for euclid_dis is 0.0', 'per outliers for euclid_dis is 0.0', 'per outliers for euclid_dis is 0.0', 'per outliers for euclid_dis is 0.0', 'per outliers for euclid_dis is 0.0']\n",
      "\n",
      "\n",
      "-----values below -0.02699403324712147 and above 0.08089032705428634 dropped  for col euclid_dis:\n"
     ]
    }
   ],
   "source": [
    "#outlier removal for distance\n",
    "outlier = []\n",
    "outlier,data= get_outliers(data,['euclid_dis'],outliers_=outlier,drop=False)\n",
    "\n",
    "outlier,data= get_outliers(data,['euclid_dis'],outliers_=outlier,drop=True)\n",
    "print('In original frame with passenger count fixed',outlier)\n",
    "print('\\n')\n",
    "outlier,df_cleaned= get_outliers(df_cleaned,['euclid_dis'],outliers_=outlier,drop=True)\n",
    "print('In cleaned dataframe with invalid passenger count removed',outlier)\n",
    "print(\"\\n\")\n",
    "outlier,test= get_outliers(test,['euclid_dis'],outliers_=outlier,drop=True)\n"
   ]
  },
  {
   "cell_type": "code",
   "execution_count": 65,
   "metadata": {},
   "outputs": [
    {
     "data": {
      "text/plain": [
       "Text(0.5, 1.0, 'cleaned dataframe')"
      ]
     },
     "execution_count": 65,
     "metadata": {},
     "output_type": "execute_result"
    },
    {
     "data": {
      "image/png": "[encoded data removed]",
      "text/plain": [
       "<Figure size 720x720 with 2 Axes>"
      ]
     },
     "metadata": {
      "needs_background": "light"
     },
     "output_type": "display_data"
    }
   ],
   "source": [
    "f,ax= plt.subplots(figsize=(10,10))\n",
    "pltno =321\n",
    "plt.subplot(pltno)\n",
    "plt.scatter(data.euclid_dis,data.fare_amount)\n",
    "plt.xlabel('euclid_dis')\n",
    "plt.ylabel('fare')\n",
    "plt.title('original dataframe')\n",
    "plt.subplot(pltno+1)\n",
    "plt.scatter(df_cleaned.euclid_dis,df_cleaned.fare_amount)\n",
    "plt.xlabel('euclid_dis')\n",
    "plt.ylabel('fare')\n",
    "plt.title('cleaned dataframe')"
   ]
  },
  {
   "cell_type": "code",
   "execution_count": 66,
   "metadata": {},
   "outputs": [
    {
     "data": {
      "text/plain": [
       "(0.7882853421784157, 0.8043203470920306)"
      ]
     },
     "execution_count": 66,
     "metadata": {},
     "output_type": "execute_result"
    }
   ],
   "source": [
    "data.corr()['fare_amount'].euclid_dis,df_cleaned.corr()['fare_amount'].euclid_dis"
   ]
  },
  {
   "cell_type": "markdown",
   "metadata": {},
   "source": [
    "### why does lesser distance result to higher prices?because of possible factors present in indepe var\n",
    "- passenger_count\n",
    "- time of ride\n",
    "  - same distance and passenger count ,the fares are increased , there has to be a other factors which are not considered, like the Other independent factors like dropoff timestamp, waiting time, cab type(luxury/hatch back/suv).\n",
    "\n",
    "  - But since we dont have that as independent variable to access, we will ignore these observations as they will mislead our model"
   ]
  },
  {
   "cell_type": "code",
   "execution_count": 67,
   "metadata": {},
   "outputs": [],
   "source": [
    "#plt.scatter(data[data.fare_amount>10].passenger_count,data[data.fare_amount>10].fare_amount)\n",
    "#plt.scatter(data[data.fare_amount>10].geodesic,data[data.fare_amount>10].fare_amount)\n",
    "#data[data.fare_amount>10].groupby(['passenger_count','geodesic']).fare_amount.mean().plot.bar()\n",
    "high_fare_orig = data[data.fare_amount>6.9]#['geodesic','passenger_count',]\n",
    "high_fare_cleaned = df_cleaned[df_cleaned.fare_amount>6.9]"
   ]
  },
  {
   "cell_type": "markdown",
   "metadata": {},
   "source": [
    "### effect of factors on high fares"
   ]
  },
  {
   "cell_type": "code",
   "execution_count": 68,
   "metadata": {},
   "outputs": [
    {
     "data": {
      "image/png": "[encoded data removed]",
      "text/plain": [
       "<Figure size 1080x792 with 6 Axes>"
      ]
     },
     "metadata": {
      "needs_background": "light"
     },
     "output_type": "display_data"
    },
    {
     "name": "stdout",
     "output_type": "stream",
     "text": [
      "+++++++++++++++++++++++++++++++++++++++\n"
     ]
    },
    {
     "data": {
      "image/png": "[encoded data removed]",
      "text/plain": [
       "<Figure size 1080x792 with 6 Axes>"
      ]
     },
     "metadata": {
      "needs_background": "light"
     },
     "output_type": "display_data"
    }
   ],
   "source": [
    "variation(high_fare_orig,'orig')\n",
    "print('+++++++++++++++++++++++++++++++++++++++')\n",
    "variation(high_fare_cleaned,'cleaned')\n"
   ]
  },
  {
   "cell_type": "markdown",
   "metadata": {},
   "source": [
    "### cleaned dataframe gives better variations in time bar chart \n",
    "#### year effects the most\n",
    "- month wise also fluctuting\n",
    "- days also needs to be introspected\n",
    "- passenger count 6 has highest fares\n",
    "- season or time of day not effecting  the high fares"
   ]
  },
  {
   "cell_type": "code",
   "execution_count": 69,
   "metadata": {},
   "outputs": [
    {
     "name": "stdout",
     "output_type": "stream",
     "text": [
      "After cleaning the records with more than 10 passengers, originally we had 13611 records\n",
      "After cleaning the records with more than 10 passengers, records with zero values in any of their coordinate values are 0\n"
     ]
    }
   ],
   "source": [
    "#??\n",
    "print('After cleaning the records with more than 10 passengers, originally we had %s records'%len(df_cleaned))\n",
    "print('After cleaning the records with more than 10 passengers, records with zero values in any of their coordinate values are %s'%\\\n",
    "      len(df_cleaned[(df_cleaned.pickup_latitude==0) | (df_cleaned.pickup_longitude==0) | (df_cleaned.dropoff_latitude ==0 )| (df_cleaned.dropoff_longitude==0)]))\n"
   ]
  },
  {
   "cell_type": "code",
   "execution_count": 70,
   "metadata": {},
   "outputs": [
    {
     "data": {
      "text/html": [
       "<div>\n",
       "<style scoped>\n",
       "    .dataframe tbody tr th:only-of-type {\n",
       "        vertical-align: middle;\n",
       "    }\n",
       "\n",
       "    .dataframe tbody tr th {\n",
       "        vertical-align: top;\n",
       "    }\n",
       "\n",
       "    .dataframe thead th {\n",
       "        text-align: right;\n",
       "    }\n",
       "</style>\n",
       "<table border=\"1\" class=\"dataframe\">\n",
       "  <thead>\n",
       "    <tr style=\"text-align: right;\">\n",
       "      <th></th>\n",
       "      <th>fare_amount</th>\n",
       "      <th>pickup_longitude</th>\n",
       "      <th>pickup_latitude</th>\n",
       "      <th>dropoff_longitude</th>\n",
       "      <th>dropoff_latitude</th>\n",
       "      <th>passenger_count</th>\n",
       "      <th>day</th>\n",
       "      <th>month</th>\n",
       "      <th>year</th>\n",
       "      <th>weekday</th>\n",
       "      <th>mahattan_dis</th>\n",
       "      <th>euclid_dis</th>\n",
       "      <th>geodesic</th>\n",
       "    </tr>\n",
       "  </thead>\n",
       "  <tbody>\n",
       "    <tr>\n",
       "      <th>fare_amount</th>\n",
       "      <td>1.000000</td>\n",
       "      <td>0.016549</td>\n",
       "      <td>-0.017322</td>\n",
       "      <td>0.016883</td>\n",
       "      <td>-0.017708</td>\n",
       "      <td>0.020199</td>\n",
       "      <td>-0.012194</td>\n",
       "      <td>0.027001</td>\n",
       "      <td>0.181913</td>\n",
       "      <td>0.011686</td>\n",
       "      <td>0.778377</td>\n",
       "      <td>0.804320</td>\n",
       "      <td>0.800904</td>\n",
       "    </tr>\n",
       "    <tr>\n",
       "      <th>pickup_longitude</th>\n",
       "      <td>0.016549</td>\n",
       "      <td>1.000000</td>\n",
       "      <td>-0.999873</td>\n",
       "      <td>0.999977</td>\n",
       "      <td>-0.999880</td>\n",
       "      <td>-0.006539</td>\n",
       "      <td>0.013941</td>\n",
       "      <td>-0.005358</td>\n",
       "      <td>0.015591</td>\n",
       "      <td>0.001057</td>\n",
       "      <td>0.016281</td>\n",
       "      <td>0.015684</td>\n",
       "      <td>0.011080</td>\n",
       "    </tr>\n",
       "    <tr>\n",
       "      <th>pickup_latitude</th>\n",
       "      <td>-0.017322</td>\n",
       "      <td>-0.999873</td>\n",
       "      <td>1.000000</td>\n",
       "      <td>-0.999886</td>\n",
       "      <td>0.999969</td>\n",
       "      <td>0.006443</td>\n",
       "      <td>-0.013886</td>\n",
       "      <td>0.005429</td>\n",
       "      <td>-0.015513</td>\n",
       "      <td>-0.001901</td>\n",
       "      <td>-0.016799</td>\n",
       "      <td>-0.016275</td>\n",
       "      <td>-0.011881</td>\n",
       "    </tr>\n",
       "    <tr>\n",
       "      <th>dropoff_longitude</th>\n",
       "      <td>0.016883</td>\n",
       "      <td>0.999977</td>\n",
       "      <td>-0.999886</td>\n",
       "      <td>1.000000</td>\n",
       "      <td>-0.999866</td>\n",
       "      <td>-0.006563</td>\n",
       "      <td>0.013932</td>\n",
       "      <td>-0.005288</td>\n",
       "      <td>0.015628</td>\n",
       "      <td>0.001167</td>\n",
       "      <td>0.016826</td>\n",
       "      <td>0.016287</td>\n",
       "      <td>0.011598</td>\n",
       "    </tr>\n",
       "    <tr>\n",
       "      <th>dropoff_latitude</th>\n",
       "      <td>-0.017708</td>\n",
       "      <td>-0.999880</td>\n",
       "      <td>0.999969</td>\n",
       "      <td>-0.999866</td>\n",
       "      <td>1.000000</td>\n",
       "      <td>0.006413</td>\n",
       "      <td>-0.013792</td>\n",
       "      <td>0.005463</td>\n",
       "      <td>-0.015459</td>\n",
       "      <td>-0.001767</td>\n",
       "      <td>-0.016855</td>\n",
       "      <td>-0.016386</td>\n",
       "      <td>-0.012005</td>\n",
       "    </tr>\n",
       "    <tr>\n",
       "      <th>passenger_count</th>\n",
       "      <td>0.020199</td>\n",
       "      <td>-0.006539</td>\n",
       "      <td>0.006443</td>\n",
       "      <td>-0.006563</td>\n",
       "      <td>0.006413</td>\n",
       "      <td>1.000000</td>\n",
       "      <td>0.002696</td>\n",
       "      <td>0.015026</td>\n",
       "      <td>0.003036</td>\n",
       "      <td>0.046632</td>\n",
       "      <td>0.000390</td>\n",
       "      <td>0.001763</td>\n",
       "      <td>0.003198</td>\n",
       "    </tr>\n",
       "    <tr>\n",
       "      <th>day</th>\n",
       "      <td>-0.012194</td>\n",
       "      <td>0.013941</td>\n",
       "      <td>-0.013886</td>\n",
       "      <td>0.013932</td>\n",
       "      <td>-0.013792</td>\n",
       "      <td>0.002696</td>\n",
       "      <td>1.000000</td>\n",
       "      <td>-0.019601</td>\n",
       "      <td>-0.028256</td>\n",
       "      <td>0.008902</td>\n",
       "      <td>-0.002148</td>\n",
       "      <td>-0.002993</td>\n",
       "      <td>-0.002496</td>\n",
       "    </tr>\n",
       "    <tr>\n",
       "      <th>month</th>\n",
       "      <td>0.027001</td>\n",
       "      <td>-0.005358</td>\n",
       "      <td>0.005429</td>\n",
       "      <td>-0.005288</td>\n",
       "      <td>0.005463</td>\n",
       "      <td>0.015026</td>\n",
       "      <td>-0.019601</td>\n",
       "      <td>1.000000</td>\n",
       "      <td>-0.116373</td>\n",
       "      <td>-0.019004</td>\n",
       "      <td>-0.000060</td>\n",
       "      <td>-0.001803</td>\n",
       "      <td>-0.001235</td>\n",
       "    </tr>\n",
       "    <tr>\n",
       "      <th>year</th>\n",
       "      <td>0.181913</td>\n",
       "      <td>0.015591</td>\n",
       "      <td>-0.015513</td>\n",
       "      <td>0.015628</td>\n",
       "      <td>-0.015459</td>\n",
       "      <td>0.003036</td>\n",
       "      <td>-0.028256</td>\n",
       "      <td>-0.116373</td>\n",
       "      <td>1.000000</td>\n",
       "      <td>0.005688</td>\n",
       "      <td>0.003393</td>\n",
       "      <td>0.004383</td>\n",
       "      <td>0.004975</td>\n",
       "    </tr>\n",
       "    <tr>\n",
       "      <th>weekday</th>\n",
       "      <td>0.011686</td>\n",
       "      <td>0.001057</td>\n",
       "      <td>-0.001901</td>\n",
       "      <td>0.001167</td>\n",
       "      <td>-0.001767</td>\n",
       "      <td>0.046632</td>\n",
       "      <td>0.008902</td>\n",
       "      <td>-0.019004</td>\n",
       "      <td>0.005688</td>\n",
       "      <td>1.000000</td>\n",
       "      <td>0.027994</td>\n",
       "      <td>0.027765</td>\n",
       "      <td>0.029046</td>\n",
       "    </tr>\n",
       "    <tr>\n",
       "      <th>mahattan_dis</th>\n",
       "      <td>0.778377</td>\n",
       "      <td>0.016281</td>\n",
       "      <td>-0.016799</td>\n",
       "      <td>0.016826</td>\n",
       "      <td>-0.016855</td>\n",
       "      <td>0.000390</td>\n",
       "      <td>-0.002148</td>\n",
       "      <td>-0.000060</td>\n",
       "      <td>0.003393</td>\n",
       "      <td>0.027994</td>\n",
       "      <td>1.000000</td>\n",
       "      <td>0.986980</td>\n",
       "      <td>0.973631</td>\n",
       "    </tr>\n",
       "    <tr>\n",
       "      <th>euclid_dis</th>\n",
       "      <td>0.804320</td>\n",
       "      <td>0.015684</td>\n",
       "      <td>-0.016275</td>\n",
       "      <td>0.016287</td>\n",
       "      <td>-0.016386</td>\n",
       "      <td>0.001763</td>\n",
       "      <td>-0.002993</td>\n",
       "      <td>-0.001803</td>\n",
       "      <td>0.004383</td>\n",
       "      <td>0.027765</td>\n",
       "      <td>0.986980</td>\n",
       "      <td>1.000000</td>\n",
       "      <td>0.988903</td>\n",
       "    </tr>\n",
       "    <tr>\n",
       "      <th>geodesic</th>\n",
       "      <td>0.800904</td>\n",
       "      <td>0.011080</td>\n",
       "      <td>-0.011881</td>\n",
       "      <td>0.011598</td>\n",
       "      <td>-0.012005</td>\n",
       "      <td>0.003198</td>\n",
       "      <td>-0.002496</td>\n",
       "      <td>-0.001235</td>\n",
       "      <td>0.004975</td>\n",
       "      <td>0.029046</td>\n",
       "      <td>0.973631</td>\n",
       "      <td>0.988903</td>\n",
       "      <td>1.000000</td>\n",
       "    </tr>\n",
       "  </tbody>\n",
       "</table>\n",
       "</div>"
      ],
      "text/plain": [
       "                   fare_amount  pickup_longitude  pickup_latitude  \\\n",
       "fare_amount           1.000000          0.016549        -0.017322   \n",
       "pickup_longitude      0.016549          1.000000        -0.999873   \n",
       "pickup_latitude      -0.017322         -0.999873         1.000000   \n",
       "dropoff_longitude     0.016883          0.999977        -0.999886   \n",
       "dropoff_latitude     -0.017708         -0.999880         0.999969   \n",
       "passenger_count       0.020199         -0.006539         0.006443   \n",
       "day                  -0.012194          0.013941        -0.013886   \n",
       "month                 0.027001         -0.005358         0.005429   \n",
       "year                  0.181913          0.015591        -0.015513   \n",
       "weekday               0.011686          0.001057        -0.001901   \n",
       "mahattan_dis          0.778377          0.016281        -0.016799   \n",
       "euclid_dis            0.804320          0.015684        -0.016275   \n",
       "geodesic              0.800904          0.011080        -0.011881   \n",
       "\n",
       "                   dropoff_longitude  dropoff_latitude  passenger_count  \\\n",
       "fare_amount                 0.016883         -0.017708         0.020199   \n",
       "pickup_longitude            0.999977         -0.999880        -0.006539   \n",
       "pickup_latitude            -0.999886          0.999969         0.006443   \n",
       "dropoff_longitude           1.000000         -0.999866        -0.006563   \n",
       "dropoff_latitude           -0.999866          1.000000         0.006413   \n",
       "passenger_count            -0.006563          0.006413         1.000000   \n",
       "day                         0.013932         -0.013792         0.002696   \n",
       "month                      -0.005288          0.005463         0.015026   \n",
       "year                        0.015628         -0.015459         0.003036   \n",
       "weekday                     0.001167         -0.001767         0.046632   \n",
       "mahattan_dis                0.016826         -0.016855         0.000390   \n",
       "euclid_dis                  0.016287         -0.016386         0.001763   \n",
       "geodesic                    0.011598         -0.012005         0.003198   \n",
       "\n",
       "                        day     month      year   weekday  mahattan_dis  \\\n",
       "fare_amount       -0.012194  0.027001  0.181913  0.011686      0.778377   \n",
       "pickup_longitude   0.013941 -0.005358  0.015591  0.001057      0.016281   \n",
       "pickup_latitude   -0.013886  0.005429 -0.015513 -0.001901     -0.016799   \n",
       "dropoff_longitude  0.013932 -0.005288  0.015628  0.001167      0.016826   \n",
       "dropoff_latitude  -0.013792  0.005463 -0.015459 -0.001767     -0.016855   \n",
       "passenger_count    0.002696  0.015026  0.003036  0.046632      0.000390   \n",
       "day                1.000000 -0.019601 -0.028256  0.008902     -0.002148   \n",
       "month             -0.019601  1.000000 -0.116373 -0.019004     -0.000060   \n",
       "year              -0.028256 -0.116373  1.000000  0.005688      0.003393   \n",
       "weekday            0.008902 -0.019004  0.005688  1.000000      0.027994   \n",
       "mahattan_dis      -0.002148 -0.000060  0.003393  0.027994      1.000000   \n",
       "euclid_dis        -0.002993 -0.001803  0.004383  0.027765      0.986980   \n",
       "geodesic          -0.002496 -0.001235  0.004975  0.029046      0.973631   \n",
       "\n",
       "                   euclid_dis  geodesic  \n",
       "fare_amount          0.804320  0.800904  \n",
       "pickup_longitude     0.015684  0.011080  \n",
       "pickup_latitude     -0.016275 -0.011881  \n",
       "dropoff_longitude    0.016287  0.011598  \n",
       "dropoff_latitude    -0.016386 -0.012005  \n",
       "passenger_count      0.001763  0.003198  \n",
       "day                 -0.002993 -0.002496  \n",
       "month               -0.001803 -0.001235  \n",
       "year                 0.004383  0.004975  \n",
       "weekday              0.027765  0.029046  \n",
       "mahattan_dis         0.986980  0.973631  \n",
       "euclid_dis           1.000000  0.988903  \n",
       "geodesic             0.988903  1.000000  "
      ]
     },
     "execution_count": 70,
     "metadata": {},
     "output_type": "execute_result"
    }
   ],
   "source": [
    "data.corr()\n",
    "df_cleaned.corr()"
   ]
  },
  {
   "cell_type": "markdown",
   "metadata": {},
   "source": [
    "#### high corelation of fare_amount with geodesic, manhattanand euclidian also.\n",
    "- since the euclidian distance is explaining fare price the most, we will build a model with that"
   ]
  },
  {
   "cell_type": "markdown",
   "metadata": {},
   "source": [
    "### few rides with passenger count as NA also"
   ]
  },
  {
   "cell_type": "code",
   "execution_count": 71,
   "metadata": {},
   "outputs": [
    {
     "data": {
      "image/png": "[encoded data removed]",
      "text/plain": [
       "<Figure size 432x288 with 1 Axes>"
      ]
     },
     "metadata": {
      "needs_background": "light"
     },
     "output_type": "display_data"
    }
   ],
   "source": [
    "plot_rides(data[(data.passenger_count.isnull())])"
   ]
  },
  {
   "cell_type": "code",
   "execution_count": 72,
   "metadata": {},
   "outputs": [
    {
     "data": {
      "text/plain": [
       "count    51.000000\n",
       "mean      0.023528\n",
       "std       0.013931\n",
       "min       0.005789\n",
       "25%       0.011950\n",
       "50%       0.018948\n",
       "75%       0.036251\n",
       "max       0.057901\n",
       "Name: euclid_dis, dtype: float64"
      ]
     },
     "execution_count": 72,
     "metadata": {},
     "output_type": "execute_result"
    }
   ],
   "source": [
    "data[(data.passenger_count.isnull())].euclid_dis.describe()"
   ]
  },
  {
   "cell_type": "code",
   "execution_count": 73,
   "metadata": {},
   "outputs": [
    {
     "data": {
      "text/plain": [
       "(0    1.0\n",
       " dtype: float64, 0    1.0\n",
       " dtype: float64)"
      ]
     },
     "execution_count": 73,
     "metadata": {},
     "output_type": "execute_result"
    }
   ],
   "source": [
    "#plt.scatter(data.geodesic,data.fare_amount)\n",
    "#data[(data.geodesic<1.2)&(data.geodesic>1)].passenger_count.mode()\n",
    "data[(data.fare_amount>10)].passenger_count.mode(),df_cleaned[(df_cleaned.fare_amount>10)].passenger_count.mode()"
   ]
  },
  {
   "cell_type": "code",
   "execution_count": 74,
   "metadata": {},
   "outputs": [],
   "source": [
    "bk=data.copy()"
   ]
  },
  {
   "cell_type": "code",
   "execution_count": 75,
   "metadata": {},
   "outputs": [],
   "source": [
    "# impute passenger count\n",
    "data.loc[data.passenger_count.isnull(), 'passenger_count'] = 1 #Replace passenger count to 1\n",
    "# convert the data type to string, since it is a categorical variable actually\n",
    "data.passenger_count = data.passenger_count.astype('int')\n",
    "data.passenger_count = data.passenger_count.astype('str')\n",
    "\n",
    "#remove these indexes in the cleaned dataframe\n",
    "df_cleaned = df_cleaned.drop(df_cleaned[df_cleaned.passenger_count.isnull()].index).reset_index().drop('index',axis=1)\n",
    "# convert the data type to string, since it is a categorical variable actually\n",
    "df_cleaned.passenger_count = df_cleaned.passenger_count.astype('int')\n",
    "df_cleaned.passenger_count = df_cleaned.passenger_count.astype('str')"
   ]
  },
  {
   "cell_type": "code",
   "execution_count": 76,
   "metadata": {},
   "outputs": [
    {
     "data": {
      "text/plain": [
       "(0.7882853421784157, 0.8042285827427376)"
      ]
     },
     "execution_count": 76,
     "metadata": {},
     "output_type": "execute_result"
    }
   ],
   "source": [
    "data.corr()['fare_amount'].euclid_dis,df_cleaned.corr()['fare_amount'].euclid_dis"
   ]
  },
  {
   "cell_type": "code",
   "execution_count": 77,
   "metadata": {},
   "outputs": [
    {
     "name": "stdout",
     "output_type": "stream",
     "text": [
      "After deleting the outliers from fare and distance, we have 13560 records/observations left,\n",
      "dropped 2.823563136018346 percent of original data in data cleaning\n"
     ]
    }
   ],
   "source": [
    "print('After deleting the outliers from fare and distance, we have %d records/observations left,'%len(df_cleaned))\n",
    "print('dropped %s percent of original data in data cleaning'%((len(data)-len(df_cleaned))/len(data)*100))"
   ]
  },
  {
   "cell_type": "markdown",
   "metadata": {},
   "source": [
    "### let us remove the redundant columns now"
   ]
  },
  {
   "cell_type": "code",
   "execution_count": 78,
   "metadata": {},
   "outputs": [],
   "source": [
    "model_data =df_cleaned.copy().drop(['pickup_datetime','pickup_longitude','pickup_latitude','dropoff_latitude','dropoff_longitude','mahattan_dis','geodesic'],axis=1)\n",
    "model_test = test.copy().drop(['pickup_datetime','pickup_longitude','pickup_latitude','dropoff_latitude','dropoff_longitude','mahattan_dis','geodesic'],axis=1)"
   ]
  },
  {
   "cell_type": "markdown",
   "metadata": {},
   "source": [
    "### dataframe with log transoformation on fare_amount"
   ]
  },
  {
   "cell_type": "code",
   "execution_count": 79,
   "metadata": {},
   "outputs": [],
   "source": [
    "model_data_cbrt_fare = model_data.copy()\n",
    "model_data_cbrt_fare['cbrt_fare'] = np.cbrt(model_data.fare_amount)"
   ]
  },
  {
   "cell_type": "code",
   "execution_count": 80,
   "metadata": {},
   "outputs": [
    {
     "data": {
      "text/html": [
       "<div>\n",
       "<style scoped>\n",
       "    .dataframe tbody tr th:only-of-type {\n",
       "        vertical-align: middle;\n",
       "    }\n",
       "\n",
       "    .dataframe tbody tr th {\n",
       "        vertical-align: top;\n",
       "    }\n",
       "\n",
       "    .dataframe thead th {\n",
       "        text-align: right;\n",
       "    }\n",
       "</style>\n",
       "<table border=\"1\" class=\"dataframe\">\n",
       "  <thead>\n",
       "    <tr style=\"text-align: right;\">\n",
       "      <th></th>\n",
       "      <th>fare_amount</th>\n",
       "      <th>passenger_count</th>\n",
       "      <th>remarks</th>\n",
       "      <th>time</th>\n",
       "      <th>day</th>\n",
       "      <th>month</th>\n",
       "      <th>year</th>\n",
       "      <th>weekday</th>\n",
       "      <th>season</th>\n",
       "      <th>euclid_dis</th>\n",
       "      <th>cbrt_fare</th>\n",
       "    </tr>\n",
       "  </thead>\n",
       "  <tbody>\n",
       "    <tr>\n",
       "      <th>0</th>\n",
       "      <td>4.5</td>\n",
       "      <td>1</td>\n",
       "      <td>normal</td>\n",
       "      <td>peakeveningtime</td>\n",
       "      <td>15.0</td>\n",
       "      <td>6.0</td>\n",
       "      <td>2009.0</td>\n",
       "      <td>0.0</td>\n",
       "      <td>summer</td>\n",
       "      <td>0.009436</td>\n",
       "      <td>1.650964</td>\n",
       "    </tr>\n",
       "  </tbody>\n",
       "</table>\n",
       "</div>"
      ],
      "text/plain": [
       "   fare_amount passenger_count remarks             time   day  month    year  \\\n",
       "0          4.5               1  normal  peakeveningtime  15.0    6.0  2009.0   \n",
       "\n",
       "   weekday  season  euclid_dis  cbrt_fare  \n",
       "0      0.0  summer    0.009436   1.650964  "
      ]
     },
     "execution_count": 80,
     "metadata": {},
     "output_type": "execute_result"
    }
   ],
   "source": [
    "model_data_cbrt_fare.head(1)"
   ]
  },
  {
   "cell_type": "markdown",
   "metadata": {},
   "source": [
    "### adding cbrt_fare as another dependent variable \n",
    "- aim is to compare the prediction accuracy for original fare vs cbrt fare"
   ]
  },
  {
   "cell_type": "code",
   "execution_count": 81,
   "metadata": {},
   "outputs": [
    {
     "data": {
      "text/plain": [
       "<matplotlib.axes._subplots.AxesSubplot at 0x27139a69080>"
      ]
     },
     "execution_count": 81,
     "metadata": {},
     "output_type": "execute_result"
    },
    {
     "data": {
      "image/png": "[encoded data removed]",
      "text/plain": [
       "<Figure size 432x288 with 2 Axes>"
      ]
     },
     "metadata": {
      "needs_background": "light"
     },
     "output_type": "display_data"
    }
   ],
   "source": [
    "sb.heatmap(model_data[['fare_amount','euclid_dis']].corr(),annot=True)"
   ]
  },
  {
   "cell_type": "markdown",
   "metadata": {},
   "source": [
    "### Normalization"
   ]
  },
  {
   "cell_type": "code",
   "execution_count": 82,
   "metadata": {},
   "outputs": [],
   "source": [
    "#cont_names,categ_names,_,_,_ = iv_dv_get_col_names1(model_data,'fare_amount')\n",
    "model_data = normalize(model_data,['month','weekday','day','euclid_dis'])\n",
    "model_test = normalize(model_test,['month','weekday','day','euclid_dis'])"
   ]
  },
  {
   "cell_type": "markdown",
   "metadata": {},
   "source": [
    "### boxcox transformation"
   ]
  },
  {
   "cell_type": "code",
   "execution_count": 83,
   "metadata": {},
   "outputs": [
    {
     "name": "stdout",
     "output_type": "stream",
     "text": [
      "euclid_dis\n",
      "Applying 0.38862773277044327 to euclid_dis in test\n",
      "month\n",
      "Applying 0.6282280797671168 to month in test\n",
      "day\n",
      "Applying 0.7267413616338717 to day in test\n"
     ]
    },
    {
     "data": {
      "text/html": [
       "<div>\n",
       "<style scoped>\n",
       "    .dataframe tbody tr th:only-of-type {\n",
       "        vertical-align: middle;\n",
       "    }\n",
       "\n",
       "    .dataframe tbody tr th {\n",
       "        vertical-align: top;\n",
       "    }\n",
       "\n",
       "    .dataframe thead th {\n",
       "        text-align: right;\n",
       "    }\n",
       "</style>\n",
       "<table border=\"1\" class=\"dataframe\">\n",
       "  <thead>\n",
       "    <tr style=\"text-align: right;\">\n",
       "      <th></th>\n",
       "      <th>fare_amount</th>\n",
       "      <th>pickup_datetime</th>\n",
       "      <th>pickup_longitude</th>\n",
       "      <th>pickup_latitude</th>\n",
       "      <th>dropoff_longitude</th>\n",
       "      <th>dropoff_latitude</th>\n",
       "      <th>passenger_count</th>\n",
       "      <th>remarks</th>\n",
       "      <th>time</th>\n",
       "      <th>day</th>\n",
       "      <th>month</th>\n",
       "      <th>year</th>\n",
       "      <th>weekday</th>\n",
       "      <th>season</th>\n",
       "      <th>mahattan_dis</th>\n",
       "      <th>euclid_dis</th>\n",
       "      <th>geodesic</th>\n",
       "    </tr>\n",
       "  </thead>\n",
       "  <tbody>\n",
       "    <tr>\n",
       "      <th>0</th>\n",
       "      <td>4.5</td>\n",
       "      <td>2009-06-15 17:26:21</td>\n",
       "      <td>-73.844311</td>\n",
       "      <td>40.721319</td>\n",
       "      <td>-73.841610</td>\n",
       "      <td>40.712278</td>\n",
       "      <td>1</td>\n",
       "      <td>normal</td>\n",
       "      <td>peakeveningtime</td>\n",
       "      <td>15.0</td>\n",
       "      <td>6.0</td>\n",
       "      <td>2009.0</td>\n",
       "      <td>0.0</td>\n",
       "      <td>summer</td>\n",
       "      <td>0.011742</td>\n",
       "      <td>0.009436</td>\n",
       "      <td>0.639764</td>\n",
       "    </tr>\n",
       "    <tr>\n",
       "      <th>1</th>\n",
       "      <td>5.7</td>\n",
       "      <td>2011-08-18 00:35:00</td>\n",
       "      <td>-73.982738</td>\n",
       "      <td>40.761270</td>\n",
       "      <td>-73.991242</td>\n",
       "      <td>40.750562</td>\n",
       "      <td>2</td>\n",
       "      <td>normal</td>\n",
       "      <td>peaknighttime</td>\n",
       "      <td>18.0</td>\n",
       "      <td>8.0</td>\n",
       "      <td>2011.0</td>\n",
       "      <td>3.0</td>\n",
       "      <td>fall</td>\n",
       "      <td>0.019212</td>\n",
       "      <td>0.013674</td>\n",
       "      <td>0.863167</td>\n",
       "    </tr>\n",
       "    <tr>\n",
       "      <th>2</th>\n",
       "      <td>7.7</td>\n",
       "      <td>2012-04-21 04:30:42</td>\n",
       "      <td>-73.987130</td>\n",
       "      <td>40.733143</td>\n",
       "      <td>-73.991567</td>\n",
       "      <td>40.758092</td>\n",
       "      <td>1</td>\n",
       "      <td>normal</td>\n",
       "      <td>peaknighttime</td>\n",
       "      <td>21.0</td>\n",
       "      <td>4.0</td>\n",
       "      <td>2012.0</td>\n",
       "      <td>5.0</td>\n",
       "      <td>spring</td>\n",
       "      <td>0.029386</td>\n",
       "      <td>0.025340</td>\n",
       "      <td>1.737223</td>\n",
       "    </tr>\n",
       "    <tr>\n",
       "      <th>3</th>\n",
       "      <td>5.3</td>\n",
       "      <td>2010-03-09 07:51:00</td>\n",
       "      <td>-73.968095</td>\n",
       "      <td>40.768008</td>\n",
       "      <td>-73.956655</td>\n",
       "      <td>40.783762</td>\n",
       "      <td>1</td>\n",
       "      <td>normal</td>\n",
       "      <td>regular</td>\n",
       "      <td>9.0</td>\n",
       "      <td>3.0</td>\n",
       "      <td>2010.0</td>\n",
       "      <td>1.0</td>\n",
       "      <td>spring</td>\n",
       "      <td>0.027194</td>\n",
       "      <td>0.019470</td>\n",
       "      <td>1.241710</td>\n",
       "    </tr>\n",
       "    <tr>\n",
       "      <th>4</th>\n",
       "      <td>12.1</td>\n",
       "      <td>2011-01-06 09:50:45</td>\n",
       "      <td>-74.000964</td>\n",
       "      <td>40.731630</td>\n",
       "      <td>-73.972892</td>\n",
       "      <td>40.758233</td>\n",
       "      <td>1</td>\n",
       "      <td>normal</td>\n",
       "      <td>regular</td>\n",
       "      <td>6.0</td>\n",
       "      <td>1.0</td>\n",
       "      <td>2011.0</td>\n",
       "      <td>3.0</td>\n",
       "      <td>winter</td>\n",
       "      <td>0.054675</td>\n",
       "      <td>0.038675</td>\n",
       "      <td>2.353742</td>\n",
       "    </tr>\n",
       "  </tbody>\n",
       "</table>\n",
       "</div>"
      ],
      "text/plain": [
       "   fare_amount      pickup_datetime  pickup_longitude  pickup_latitude  \\\n",
       "0          4.5  2009-06-15 17:26:21        -73.844311        40.721319   \n",
       "1          5.7  2011-08-18 00:35:00        -73.982738        40.761270   \n",
       "2          7.7  2012-04-21 04:30:42        -73.987130        40.733143   \n",
       "3          5.3  2010-03-09 07:51:00        -73.968095        40.768008   \n",
       "4         12.1  2011-01-06 09:50:45        -74.000964        40.731630   \n",
       "\n",
       "   dropoff_longitude  dropoff_latitude passenger_count remarks  \\\n",
       "0         -73.841610         40.712278               1  normal   \n",
       "1         -73.991242         40.750562               2  normal   \n",
       "2         -73.991567         40.758092               1  normal   \n",
       "3         -73.956655         40.783762               1  normal   \n",
       "4         -73.972892         40.758233               1  normal   \n",
       "\n",
       "              time   day  month    year  weekday  season  mahattan_dis  \\\n",
       "0  peakeveningtime  15.0    6.0  2009.0      0.0  summer      0.011742   \n",
       "1    peaknighttime  18.0    8.0  2011.0      3.0    fall      0.019212   \n",
       "2    peaknighttime  21.0    4.0  2012.0      5.0  spring      0.029386   \n",
       "3          regular   9.0    3.0  2010.0      1.0  spring      0.027194   \n",
       "4          regular   6.0    1.0  2011.0      3.0  winter      0.054675   \n",
       "\n",
       "   euclid_dis  geodesic  \n",
       "0    0.009436  0.639764  \n",
       "1    0.013674  0.863167  \n",
       "2    0.025340  1.737223  \n",
       "3    0.019470  1.241710  \n",
       "4    0.038675  2.353742  "
      ]
     },
     "execution_count": 83,
     "metadata": {},
     "output_type": "execute_result"
    }
   ],
   "source": [
    "data_norm, test_norm,fitted_lambdas = boxcox_normalization(data.drop(['pickup_datetime','pickup_longitude',\\\n",
    "                            'pickup_latitude','dropoff_latitude','dropoff_longitude','mahattan_dis','geodesic'],axis=1),\\\n",
    "                                             ['euclid_dis','month','day'],\\\n",
    "                                             test,['euclid_dis','month','day'])\n",
    "\n",
    "data.head()"
   ]
  },
  {
   "cell_type": "code",
   "execution_count": 84,
   "metadata": {},
   "outputs": [
    {
     "data": {
      "text/html": [
       "<div>\n",
       "<style scoped>\n",
       "    .dataframe tbody tr th:only-of-type {\n",
       "        vertical-align: middle;\n",
       "    }\n",
       "\n",
       "    .dataframe tbody tr th {\n",
       "        vertical-align: top;\n",
       "    }\n",
       "\n",
       "    .dataframe thead th {\n",
       "        text-align: right;\n",
       "    }\n",
       "</style>\n",
       "<table border=\"1\" class=\"dataframe\">\n",
       "  <thead>\n",
       "    <tr style=\"text-align: right;\">\n",
       "      <th></th>\n",
       "      <th>fare_amount</th>\n",
       "      <th>passenger_count</th>\n",
       "      <th>remarks</th>\n",
       "      <th>time</th>\n",
       "      <th>year</th>\n",
       "      <th>weekday</th>\n",
       "      <th>season</th>\n",
       "      <th>euclid_dis</th>\n",
       "      <th>month</th>\n",
       "      <th>day</th>\n",
       "    </tr>\n",
       "  </thead>\n",
       "  <tbody>\n",
       "    <tr>\n",
       "      <th>0</th>\n",
       "      <td>4.5</td>\n",
       "      <td>1</td>\n",
       "      <td>normal</td>\n",
       "      <td>peakeveningtime</td>\n",
       "      <td>2009.0</td>\n",
       "      <td>0.0</td>\n",
       "      <td>summer</td>\n",
       "      <td>-2.153001</td>\n",
       "      <td>3.314352</td>\n",
       "      <td>8.471683</td>\n",
       "    </tr>\n",
       "  </tbody>\n",
       "</table>\n",
       "</div>"
      ],
      "text/plain": [
       "   fare_amount passenger_count remarks             time    year  weekday  \\\n",
       "0          4.5               1  normal  peakeveningtime  2009.0      0.0   \n",
       "\n",
       "   season  euclid_dis     month       day  \n",
       "0  summer   -2.153001  3.314352  8.471683  "
      ]
     },
     "execution_count": 84,
     "metadata": {},
     "output_type": "execute_result"
    }
   ],
   "source": [
    "data_norm.head(1)"
   ]
  },
  {
   "cell_type": "code",
   "execution_count": 85,
   "metadata": {},
   "outputs": [
    {
     "data": {
      "image/png": "[encoded data removed]",
      "text/plain": [
       "<Figure size 1080x360 with 2 Axes>"
      ]
     },
     "metadata": {
      "needs_background": "light"
     },
     "output_type": "display_data"
    }
   ],
   "source": [
    "\n",
    "f,ax=plt.subplots(1,2,figsize=(15,5))\n",
    "plt.title('before')\n",
    "#sb.distplot(data.fare_amount,ax=ax[0],label='Before')\n",
    "#plt.legend()\n",
    "sb.distplot(data.euclid_dis,ax=ax[0],label='Before')\n",
    "\n",
    "\n",
    "#sb.distplot(data_norm.fare_amount,ax=ax[2],label='After')\n",
    "plt.title('After')\n",
    "#plt.legend()\n",
    "sb.distplot(data_norm.euclid_dis,ax=ax[1],label ='After boxcox transformation')\n",
    "#plt.legend()\n",
    "plt.show()"
   ]
  },
  {
   "cell_type": "markdown",
   "metadata": {},
   "source": [
    "## chi-sq analysis"
   ]
  },
  {
   "cell_type": "code",
   "execution_count": 86,
   "metadata": {},
   "outputs": [
    {
     "name": "stdout",
     "output_type": "stream",
     "text": [
      "Need to define this col - passenger_count in categ variable\n",
      "Need to define this col - remarks in categ variable\n",
      "Need to define this col - time in categ variable\n",
      "Need to define this col - month in categ variable\n",
      "Need to define this col - year in categ variable\n",
      "Need to define this col - weekday in categ variable\n",
      "Need to define this col - season in categ variable\n"
     ]
    },
    {
     "data": {
      "text/plain": [
       "(['fare_amount',\n",
       "  'passenger_count',\n",
       "  'remarks',\n",
       "  'time',\n",
       "  'day',\n",
       "  'month',\n",
       "  'year',\n",
       "  'weekday',\n",
       "  'season',\n",
       "  'euclid_dis'],\n",
       " [])"
      ]
     },
     "execution_count": 86,
     "metadata": {},
     "output_type": "execute_result"
    }
   ],
   "source": [
    "continous_names, cat_names, iv,dv,testparams = iv_dv_get_col_names_dist_based(model_data,'fare_amount')\n",
    "continous_names, cat_names"
   ]
  },
  {
   "cell_type": "code",
   "execution_count": 87,
   "metadata": {},
   "outputs": [
    {
     "data": {
      "text/plain": [
       "Index(['fare_amount', 'passenger_count', 'remarks', 'time', 'day', 'month',\n",
       "       'year', 'weekday', 'season', 'euclid_dis'],\n",
       "      dtype='object')"
      ]
     },
     "execution_count": 87,
     "metadata": {},
     "output_type": "execute_result"
    }
   ],
   "source": [
    "model_data.columns"
   ]
  },
  {
   "cell_type": "code",
   "execution_count": 88,
   "metadata": {},
   "outputs": [
    {
     "name": "stdout",
     "output_type": "stream",
     "text": [
      "Suggest to skip col below---------------------\n",
      "skip -p value 0.322496 passenger_count\n",
      "skip -p value 0.211098 remarks\n",
      "accept -pvalue 0.000003 time\n",
      "accept -pvalue 0.000000 year\n",
      "accept -pvalue 0.000036 season\n"
     ]
    }
   ],
   "source": [
    "model_data,skip = chi_sq_analysis(model_data,model_data.drop(['fare_amount','euclid_dis','month','weekday','day'],axis=1).columns,'fare_amount',drop=False)\n",
    "#test = chi_sq_analysis1(test,['time','passenger_count'])\n"
   ]
  },
  {
   "cell_type": "markdown",
   "metadata": {},
   "source": [
    "#### chi2 analysis suggests that passenger count is insignificant and independent from target fare_price, we will create 2 models for testing"
   ]
  },
  {
   "cell_type": "code",
   "execution_count": 89,
   "metadata": {},
   "outputs": [],
   "source": [
    "model_data.to_csv(processed_data_path,index=False)\n",
    "#model_data = pd.read_csv(processed_data_path)"
   ]
  },
  {
   "cell_type": "code",
   "execution_count": 90,
   "metadata": {},
   "outputs": [
    {
     "data": {
      "text/html": [
       "<div>\n",
       "<style scoped>\n",
       "    .dataframe tbody tr th:only-of-type {\n",
       "        vertical-align: middle;\n",
       "    }\n",
       "\n",
       "    .dataframe tbody tr th {\n",
       "        vertical-align: top;\n",
       "    }\n",
       "\n",
       "    .dataframe thead th {\n",
       "        text-align: right;\n",
       "    }\n",
       "</style>\n",
       "<table border=\"1\" class=\"dataframe\">\n",
       "  <thead>\n",
       "    <tr style=\"text-align: right;\">\n",
       "      <th></th>\n",
       "      <th>fare_amount</th>\n",
       "      <th>passenger_count</th>\n",
       "      <th>remarks</th>\n",
       "      <th>time</th>\n",
       "      <th>day</th>\n",
       "      <th>month</th>\n",
       "      <th>year</th>\n",
       "      <th>weekday</th>\n",
       "      <th>season</th>\n",
       "      <th>euclid_dis</th>\n",
       "    </tr>\n",
       "  </thead>\n",
       "  <tbody>\n",
       "    <tr>\n",
       "      <th>0</th>\n",
       "      <td>4.5</td>\n",
       "      <td>1</td>\n",
       "      <td>normal</td>\n",
       "      <td>peakeveningtime</td>\n",
       "      <td>0.466667</td>\n",
       "      <td>0.454545</td>\n",
       "      <td>2009.0</td>\n",
       "      <td>0.0</td>\n",
       "      <td>summer</td>\n",
       "      <td>0.147025</td>\n",
       "    </tr>\n",
       "    <tr>\n",
       "      <th>1</th>\n",
       "      <td>5.7</td>\n",
       "      <td>2</td>\n",
       "      <td>normal</td>\n",
       "      <td>peaknighttime</td>\n",
       "      <td>0.566667</td>\n",
       "      <td>0.636364</td>\n",
       "      <td>2011.0</td>\n",
       "      <td>0.5</td>\n",
       "      <td>fall</td>\n",
       "      <td>0.213069</td>\n",
       "    </tr>\n",
       "  </tbody>\n",
       "</table>\n",
       "</div>"
      ],
      "text/plain": [
       "   fare_amount passenger_count remarks             time       day     month  \\\n",
       "0          4.5               1  normal  peakeveningtime  0.466667  0.454545   \n",
       "1          5.7               2  normal    peaknighttime  0.566667  0.636364   \n",
       "\n",
       "     year  weekday  season  euclid_dis  \n",
       "0  2009.0      0.0  summer    0.147025  \n",
       "1  2011.0      0.5    fall    0.213069  "
      ]
     },
     "execution_count": 90,
     "metadata": {},
     "output_type": "execute_result"
    }
   ],
   "source": [
    "#model_data=model_data.drop('log_fare',axis=1)\n",
    "model_data.head(2)\n"
   ]
  },
  {
   "cell_type": "code",
   "execution_count": 91,
   "metadata": {},
   "outputs": [],
   "source": [
    "model_data_orig = pd.get_dummies(model_data,drop_first=True,columns=['year','passenger_count','remarks','time','season'])\n",
    "model_data_chi2 = pd.get_dummies(model_data.drop(skip,axis=1),drop_first=True,columns=['year','time','season'])\n",
    "model_data_cbrt_fare = pd.get_dummies(model_data_cbrt_fare.drop('fare_amount',axis=1),drop_first=True,columns=['year','passenger_count','remarks','time','season'])\n",
    "model_data_boxcox = pd.get_dummies(data_norm,drop_first=True,columns=['year','passenger_count','remarks','time','season'])\n",
    "model_test = pd.get_dummies(model_test,drop_first=True,columns=['year','passenger_count','remarks','time','season'])"
   ]
  },
  {
   "cell_type": "code",
   "execution_count": 92,
   "metadata": {},
   "outputs": [],
   "source": [
    "#data_norm=data_norm.drop('pickup_datetime',axis=1)\n",
    "#model_data_boxcox = pd.get_dummies(data_norm,drop_first=True,columns=['year','passenger_count','remarks','time','season'])\n",
    "#model=LinearRegression().fit(model_data_boxcox.drop('fare_amount',axis=1),model_data_boxcox['fare_amount'])\n",
    "#model.score(model_data_boxcox.drop('fare_amount',axis=1),model_data_boxcox['fare_amount'])"
   ]
  },
  {
   "cell_type": "code",
   "execution_count": 93,
   "metadata": {},
   "outputs": [
    {
     "data": {
      "text/html": [
       "<div>\n",
       "<style scoped>\n",
       "    .dataframe tbody tr th:only-of-type {\n",
       "        vertical-align: middle;\n",
       "    }\n",
       "\n",
       "    .dataframe tbody tr th {\n",
       "        vertical-align: top;\n",
       "    }\n",
       "\n",
       "    .dataframe thead th {\n",
       "        text-align: right;\n",
       "    }\n",
       "</style>\n",
       "<table border=\"1\" class=\"dataframe\">\n",
       "  <thead>\n",
       "    <tr style=\"text-align: right;\">\n",
       "      <th></th>\n",
       "      <th>fare_amount</th>\n",
       "      <th>day</th>\n",
       "      <th>month</th>\n",
       "      <th>weekday</th>\n",
       "      <th>euclid_dis</th>\n",
       "      <th>year_2010.0</th>\n",
       "      <th>year_2011.0</th>\n",
       "      <th>year_2012.0</th>\n",
       "      <th>year_2013.0</th>\n",
       "      <th>year_2014.0</th>\n",
       "      <th>...</th>\n",
       "      <th>passenger_count_5</th>\n",
       "      <th>passenger_count_6</th>\n",
       "      <th>remarks_month_start</th>\n",
       "      <th>remarks_normal</th>\n",
       "      <th>time_peakeveningtime</th>\n",
       "      <th>time_peaknighttime</th>\n",
       "      <th>time_regular</th>\n",
       "      <th>season_spring</th>\n",
       "      <th>season_summer</th>\n",
       "      <th>season_winter</th>\n",
       "    </tr>\n",
       "  </thead>\n",
       "  <tbody>\n",
       "    <tr>\n",
       "      <th>0</th>\n",
       "      <td>4.5</td>\n",
       "      <td>0.466667</td>\n",
       "      <td>0.454545</td>\n",
       "      <td>0.0</td>\n",
       "      <td>0.147025</td>\n",
       "      <td>0</td>\n",
       "      <td>0</td>\n",
       "      <td>0</td>\n",
       "      <td>0</td>\n",
       "      <td>0</td>\n",
       "      <td>...</td>\n",
       "      <td>0</td>\n",
       "      <td>0</td>\n",
       "      <td>0</td>\n",
       "      <td>1</td>\n",
       "      <td>1</td>\n",
       "      <td>0</td>\n",
       "      <td>0</td>\n",
       "      <td>0</td>\n",
       "      <td>1</td>\n",
       "      <td>0</td>\n",
       "    </tr>\n",
       "  </tbody>\n",
       "</table>\n",
       "<p>1 rows × 24 columns</p>\n",
       "</div>"
      ],
      "text/plain": [
       "   fare_amount       day     month  weekday  euclid_dis  year_2010.0  \\\n",
       "0          4.5  0.466667  0.454545      0.0    0.147025            0   \n",
       "\n",
       "   year_2011.0  year_2012.0  year_2013.0  year_2014.0  ...  passenger_count_5  \\\n",
       "0            0            0            0            0  ...                  0   \n",
       "\n",
       "   passenger_count_6  remarks_month_start  remarks_normal  \\\n",
       "0                  0                    0               1   \n",
       "\n",
       "   time_peakeveningtime  time_peaknighttime  time_regular  season_spring  \\\n",
       "0                     1                   0             0              0   \n",
       "\n",
       "   season_summer  season_winter  \n",
       "0              1              0  \n",
       "\n",
       "[1 rows x 24 columns]"
      ]
     },
     "execution_count": 93,
     "metadata": {},
     "output_type": "execute_result"
    }
   ],
   "source": [
    "model_data_orig.head(1)"
   ]
  },
  {
   "cell_type": "code",
   "execution_count": 94,
   "metadata": {},
   "outputs": [
    {
     "data": {
      "text/html": [
       "<div>\n",
       "<style scoped>\n",
       "    .dataframe tbody tr th:only-of-type {\n",
       "        vertical-align: middle;\n",
       "    }\n",
       "\n",
       "    .dataframe tbody tr th {\n",
       "        vertical-align: top;\n",
       "    }\n",
       "\n",
       "    .dataframe thead th {\n",
       "        text-align: right;\n",
       "    }\n",
       "</style>\n",
       "<table border=\"1\" class=\"dataframe\">\n",
       "  <thead>\n",
       "    <tr style=\"text-align: right;\">\n",
       "      <th></th>\n",
       "      <th>fare_amount</th>\n",
       "      <th>day</th>\n",
       "      <th>month</th>\n",
       "      <th>weekday</th>\n",
       "      <th>euclid_dis</th>\n",
       "      <th>year_2010.0</th>\n",
       "      <th>year_2011.0</th>\n",
       "      <th>year_2012.0</th>\n",
       "      <th>year_2013.0</th>\n",
       "      <th>year_2014.0</th>\n",
       "      <th>year_2015.0</th>\n",
       "      <th>time_peakeveningtime</th>\n",
       "      <th>time_peaknighttime</th>\n",
       "      <th>time_regular</th>\n",
       "      <th>season_spring</th>\n",
       "      <th>season_summer</th>\n",
       "      <th>season_winter</th>\n",
       "    </tr>\n",
       "  </thead>\n",
       "  <tbody>\n",
       "    <tr>\n",
       "      <th>0</th>\n",
       "      <td>4.5</td>\n",
       "      <td>0.466667</td>\n",
       "      <td>0.454545</td>\n",
       "      <td>0.0</td>\n",
       "      <td>0.147025</td>\n",
       "      <td>0</td>\n",
       "      <td>0</td>\n",
       "      <td>0</td>\n",
       "      <td>0</td>\n",
       "      <td>0</td>\n",
       "      <td>0</td>\n",
       "      <td>1</td>\n",
       "      <td>0</td>\n",
       "      <td>0</td>\n",
       "      <td>0</td>\n",
       "      <td>1</td>\n",
       "      <td>0</td>\n",
       "    </tr>\n",
       "  </tbody>\n",
       "</table>\n",
       "</div>"
      ],
      "text/plain": [
       "   fare_amount       day     month  weekday  euclid_dis  year_2010.0  \\\n",
       "0          4.5  0.466667  0.454545      0.0    0.147025            0   \n",
       "\n",
       "   year_2011.0  year_2012.0  year_2013.0  year_2014.0  year_2015.0  \\\n",
       "0            0            0            0            0            0   \n",
       "\n",
       "   time_peakeveningtime  time_peaknighttime  time_regular  season_spring  \\\n",
       "0                     1                   0             0              0   \n",
       "\n",
       "   season_summer  season_winter  \n",
       "0              1              0  "
      ]
     },
     "execution_count": 94,
     "metadata": {},
     "output_type": "execute_result"
    }
   ],
   "source": [
    "model_data_chi2.head(1)"
   ]
  },
  {
   "cell_type": "code",
   "execution_count": 95,
   "metadata": {},
   "outputs": [
    {
     "data": {
      "text/html": [
       "<div>\n",
       "<style scoped>\n",
       "    .dataframe tbody tr th:only-of-type {\n",
       "        vertical-align: middle;\n",
       "    }\n",
       "\n",
       "    .dataframe tbody tr th {\n",
       "        vertical-align: top;\n",
       "    }\n",
       "\n",
       "    .dataframe thead th {\n",
       "        text-align: right;\n",
       "    }\n",
       "</style>\n",
       "<table border=\"1\" class=\"dataframe\">\n",
       "  <thead>\n",
       "    <tr style=\"text-align: right;\">\n",
       "      <th></th>\n",
       "      <th>day</th>\n",
       "      <th>month</th>\n",
       "      <th>weekday</th>\n",
       "      <th>euclid_dis</th>\n",
       "      <th>cbrt_fare</th>\n",
       "      <th>year_2010.0</th>\n",
       "      <th>year_2011.0</th>\n",
       "      <th>year_2012.0</th>\n",
       "      <th>year_2013.0</th>\n",
       "      <th>year_2014.0</th>\n",
       "      <th>...</th>\n",
       "      <th>passenger_count_5</th>\n",
       "      <th>passenger_count_6</th>\n",
       "      <th>remarks_month_start</th>\n",
       "      <th>remarks_normal</th>\n",
       "      <th>time_peakeveningtime</th>\n",
       "      <th>time_peaknighttime</th>\n",
       "      <th>time_regular</th>\n",
       "      <th>season_spring</th>\n",
       "      <th>season_summer</th>\n",
       "      <th>season_winter</th>\n",
       "    </tr>\n",
       "  </thead>\n",
       "  <tbody>\n",
       "    <tr>\n",
       "      <th>0</th>\n",
       "      <td>15.0</td>\n",
       "      <td>6.0</td>\n",
       "      <td>0.0</td>\n",
       "      <td>0.009436</td>\n",
       "      <td>1.650964</td>\n",
       "      <td>0</td>\n",
       "      <td>0</td>\n",
       "      <td>0</td>\n",
       "      <td>0</td>\n",
       "      <td>0</td>\n",
       "      <td>...</td>\n",
       "      <td>0</td>\n",
       "      <td>0</td>\n",
       "      <td>0</td>\n",
       "      <td>1</td>\n",
       "      <td>1</td>\n",
       "      <td>0</td>\n",
       "      <td>0</td>\n",
       "      <td>0</td>\n",
       "      <td>1</td>\n",
       "      <td>0</td>\n",
       "    </tr>\n",
       "  </tbody>\n",
       "</table>\n",
       "<p>1 rows × 24 columns</p>\n",
       "</div>"
      ],
      "text/plain": [
       "    day  month  weekday  euclid_dis  cbrt_fare  year_2010.0  year_2011.0  \\\n",
       "0  15.0    6.0      0.0    0.009436   1.650964            0            0   \n",
       "\n",
       "   year_2012.0  year_2013.0  year_2014.0  ...  passenger_count_5  \\\n",
       "0            0            0            0  ...                  0   \n",
       "\n",
       "   passenger_count_6  remarks_month_start  remarks_normal  \\\n",
       "0                  0                    0               1   \n",
       "\n",
       "   time_peakeveningtime  time_peaknighttime  time_regular  season_spring  \\\n",
       "0                     1                   0             0              0   \n",
       "\n",
       "   season_summer  season_winter  \n",
       "0              1              0  \n",
       "\n",
       "[1 rows x 24 columns]"
      ]
     },
     "execution_count": 95,
     "metadata": {},
     "output_type": "execute_result"
    }
   ],
   "source": [
    "model_data_cbrt_fare.head(1)"
   ]
  },
  {
   "cell_type": "code",
   "execution_count": 96,
   "metadata": {},
   "outputs": [
    {
     "data": {
      "text/html": [
       "<div>\n",
       "<style scoped>\n",
       "    .dataframe tbody tr th:only-of-type {\n",
       "        vertical-align: middle;\n",
       "    }\n",
       "\n",
       "    .dataframe tbody tr th {\n",
       "        vertical-align: top;\n",
       "    }\n",
       "\n",
       "    .dataframe thead th {\n",
       "        text-align: right;\n",
       "    }\n",
       "</style>\n",
       "<table border=\"1\" class=\"dataframe\">\n",
       "  <thead>\n",
       "    <tr style=\"text-align: right;\">\n",
       "      <th></th>\n",
       "      <th>fare_amount</th>\n",
       "      <th>weekday</th>\n",
       "      <th>euclid_dis</th>\n",
       "      <th>month</th>\n",
       "      <th>day</th>\n",
       "      <th>year_2010.0</th>\n",
       "      <th>year_2011.0</th>\n",
       "      <th>year_2012.0</th>\n",
       "      <th>year_2013.0</th>\n",
       "      <th>year_2014.0</th>\n",
       "      <th>...</th>\n",
       "      <th>passenger_count_5</th>\n",
       "      <th>passenger_count_6</th>\n",
       "      <th>remarks_month_start</th>\n",
       "      <th>remarks_normal</th>\n",
       "      <th>time_peakeveningtime</th>\n",
       "      <th>time_peaknighttime</th>\n",
       "      <th>time_regular</th>\n",
       "      <th>season_spring</th>\n",
       "      <th>season_summer</th>\n",
       "      <th>season_winter</th>\n",
       "    </tr>\n",
       "  </thead>\n",
       "  <tbody>\n",
       "    <tr>\n",
       "      <th>0</th>\n",
       "      <td>4.5</td>\n",
       "      <td>0.0</td>\n",
       "      <td>-2.153001</td>\n",
       "      <td>3.314352</td>\n",
       "      <td>8.471683</td>\n",
       "      <td>0</td>\n",
       "      <td>0</td>\n",
       "      <td>0</td>\n",
       "      <td>0</td>\n",
       "      <td>0</td>\n",
       "      <td>...</td>\n",
       "      <td>0</td>\n",
       "      <td>0</td>\n",
       "      <td>0</td>\n",
       "      <td>1</td>\n",
       "      <td>1</td>\n",
       "      <td>0</td>\n",
       "      <td>0</td>\n",
       "      <td>0</td>\n",
       "      <td>1</td>\n",
       "      <td>0</td>\n",
       "    </tr>\n",
       "  </tbody>\n",
       "</table>\n",
       "<p>1 rows × 24 columns</p>\n",
       "</div>"
      ],
      "text/plain": [
       "   fare_amount  weekday  euclid_dis     month       day  year_2010.0  \\\n",
       "0          4.5      0.0   -2.153001  3.314352  8.471683            0   \n",
       "\n",
       "   year_2011.0  year_2012.0  year_2013.0  year_2014.0  ...  passenger_count_5  \\\n",
       "0            0            0            0            0  ...                  0   \n",
       "\n",
       "   passenger_count_6  remarks_month_start  remarks_normal  \\\n",
       "0                  0                    0               1   \n",
       "\n",
       "   time_peakeveningtime  time_peaknighttime  time_regular  season_spring  \\\n",
       "0                     1                   0             0              0   \n",
       "\n",
       "   season_summer  season_winter  \n",
       "0              1              0  \n",
       "\n",
       "[1 rows x 24 columns]"
      ]
     },
     "execution_count": 96,
     "metadata": {},
     "output_type": "execute_result"
    }
   ],
   "source": [
    "model_data_boxcox.head(1)"
   ]
  },
  {
   "cell_type": "code",
   "execution_count": 97,
   "metadata": {},
   "outputs": [
    {
     "data": {
      "text/html": [
       "<div>\n",
       "<style scoped>\n",
       "    .dataframe tbody tr th:only-of-type {\n",
       "        vertical-align: middle;\n",
       "    }\n",
       "\n",
       "    .dataframe tbody tr th {\n",
       "        vertical-align: top;\n",
       "    }\n",
       "\n",
       "    .dataframe thead th {\n",
       "        text-align: right;\n",
       "    }\n",
       "</style>\n",
       "<table border=\"1\" class=\"dataframe\">\n",
       "  <thead>\n",
       "    <tr style=\"text-align: right;\">\n",
       "      <th></th>\n",
       "      <th>day</th>\n",
       "      <th>month</th>\n",
       "      <th>weekday</th>\n",
       "      <th>euclid_dis</th>\n",
       "      <th>year_2010.0</th>\n",
       "      <th>year_2011.0</th>\n",
       "      <th>year_2012.0</th>\n",
       "      <th>year_2013.0</th>\n",
       "      <th>year_2014.0</th>\n",
       "      <th>year_2015.0</th>\n",
       "      <th>...</th>\n",
       "      <th>passenger_count_5.0</th>\n",
       "      <th>passenger_count_6.0</th>\n",
       "      <th>remarks_month_start</th>\n",
       "      <th>remarks_normal</th>\n",
       "      <th>time_peakeveningtime</th>\n",
       "      <th>time_peaknighttime</th>\n",
       "      <th>time_regular</th>\n",
       "      <th>season_spring</th>\n",
       "      <th>season_summer</th>\n",
       "      <th>season_winter</th>\n",
       "    </tr>\n",
       "  </thead>\n",
       "  <tbody>\n",
       "    <tr>\n",
       "      <th>0</th>\n",
       "      <td>0.866667</td>\n",
       "      <td>0.0</td>\n",
       "      <td>0.166667</td>\n",
       "      <td>0.266367</td>\n",
       "      <td>0</td>\n",
       "      <td>0</td>\n",
       "      <td>0</td>\n",
       "      <td>0</td>\n",
       "      <td>0</td>\n",
       "      <td>1</td>\n",
       "      <td>...</td>\n",
       "      <td>0</td>\n",
       "      <td>0</td>\n",
       "      <td>0</td>\n",
       "      <td>0</td>\n",
       "      <td>0</td>\n",
       "      <td>0</td>\n",
       "      <td>0</td>\n",
       "      <td>0</td>\n",
       "      <td>0</td>\n",
       "      <td>1</td>\n",
       "    </tr>\n",
       "  </tbody>\n",
       "</table>\n",
       "<p>1 rows × 23 columns</p>\n",
       "</div>"
      ],
      "text/plain": [
       "        day  month   weekday  euclid_dis  year_2010.0  year_2011.0  \\\n",
       "0  0.866667    0.0  0.166667    0.266367            0            0   \n",
       "\n",
       "   year_2012.0  year_2013.0  year_2014.0  year_2015.0  ...  \\\n",
       "0            0            0            0            1  ...   \n",
       "\n",
       "   passenger_count_5.0  passenger_count_6.0  remarks_month_start  \\\n",
       "0                    0                    0                    0   \n",
       "\n",
       "   remarks_normal  time_peakeveningtime  time_peaknighttime  time_regular  \\\n",
       "0               0                     0                   0             0   \n",
       "\n",
       "   season_spring  season_summer  season_winter  \n",
       "0              0              0              1  \n",
       "\n",
       "[1 rows x 23 columns]"
      ]
     },
     "execution_count": 97,
     "metadata": {},
     "output_type": "execute_result"
    }
   ],
   "source": [
    "model_test.head(1)"
   ]
  },
  {
   "cell_type": "markdown",
   "metadata": {},
   "source": [
    "# Model creation"
   ]
  },
  {
   "cell_type": "markdown",
   "metadata": {},
   "source": [
    "### randomforest hyperparameter tuning\n",
    "rf_hyperparameter_tuning runs the randomforest regressor with different value of estiamtor trees , max features to build the trees adnd returns the best values in rf_params dictionary"
   ]
  },
  {
   "cell_type": "code",
   "execution_count": 98,
   "metadata": {},
   "outputs": [
    {
     "name": "stdout",
     "output_type": "stream",
     "text": [
      "--------------------random forest pramaeter tuning------------------\n"
     ]
    },
    {
     "data": {
      "image/png": "[encoded data removed]",
      "text/plain": [
       "<Figure size 432x288 with 1 Axes>"
      ]
     },
     "metadata": {
      "needs_background": "light"
     },
     "output_type": "display_data"
    },
    {
     "data": {
      "image/png": "[encoded data removed]",
      "text/plain": [
       "<Figure size 432x288 with 1 Axes>"
      ]
     },
     "metadata": {
      "needs_background": "light"
     },
     "output_type": "display_data"
    }
   ],
   "source": [
    "## get the tuned paramters\n",
    "SEED =0\n",
    "NFOLDS=5\n",
    "rf_params={}\n",
    "\n",
    "#rf_params = {\n",
    "#    'n_estimators': 1000,\n",
    "#   'max_features':'auto'\n",
    "#}\n",
    "\n",
    "iv = model_data_orig.drop('fare_amount',axis=1)\n",
    "dv = model_data_orig['fare_amount']\n",
    "rf_params = rf_hyperparameter_tuning(iv,dv,rf_params)\n"
   ]
  },
  {
   "cell_type": "markdown",
   "metadata": {},
   "source": [
    "### knn hyperparameter tuning\n",
    "knn_k_tunin runs the KNeighborsRegressor with different value of k , and returns the best k value which results in lowest root mean square error"
   ]
  },
  {
   "cell_type": "code",
   "execution_count": 99,
   "metadata": {},
   "outputs": [
    {
     "name": "stdout",
     "output_type": "stream",
     "text": [
      "-------------------------------KNN neighbors tuning---------------\n",
      "rmse error for k 1 is 3.552127743258226\n",
      "rmse error for k 2 is 3.1440579740009658\n",
      "rmse error for k 3 is 3.010992053136496\n",
      "rmse error for k 4 is 2.9421461467974432\n",
      "rmse error for k 5 is 2.9174543928257544\n",
      "rmse error for k 6 is 2.9150546075297403\n",
      "rmse error for k 7 is 2.911619327546534\n",
      "rmse error for k 8 is 2.9111708871841975\n",
      "rmse error for k 9 is 2.92962313375218\n",
      "rmse error for k 10 is 2.9341295507987044\n",
      "rmse error for k 11 is 2.9408510650861275\n",
      "rmse error for k 12 is 2.9457542280507427\n",
      "rmse error for k 13 is 2.954618783895606\n",
      "rmse error for k 14 is 2.9616894586724825\n",
      "{1: 3.552127743258226, 2: 3.1440579740009658, 3: 3.010992053136496, 4: 2.9421461467974432, 5: 2.9174543928257544, 6: 2.9150546075297403, 7: 2.911619327546534, 8: 2.9111708871841975, 9: 2.92962313375218, 10: 2.9341295507987044, 11: 2.9408510650861275, 12: 2.9457542280507427, 13: 2.954618783895606, 14: 2.9616894586724825}\n"
     ]
    },
    {
     "data": {
      "image/png": "[encoded data removed]",
      "text/plain": [
       "<Figure size 432x288 with 1 Axes>"
      ]
     },
     "metadata": {
      "needs_background": "light"
     },
     "output_type": "display_data"
    }
   ],
   "source": [
    "iv = model_data_orig.drop('fare_amount',axis=1)\n",
    "dv = model_data_orig['fare_amount']\n",
    "knn_params={}\n",
    "knn_params = knn_k_tuning(iv,dv,knn_params)"
   ]
  },
  {
   "cell_type": "markdown",
   "metadata": {},
   "source": [
    "### LinearRegression varaince check"
   ]
  },
  {
   "cell_type": "code",
   "execution_count": 100,
   "metadata": {},
   "outputs": [
    {
     "data": {
      "text/plain": [
       "Index(['fare_amount', 'day', 'month', 'weekday', 'euclid_dis', 'year_2010.0',\n",
       "       'year_2011.0', 'year_2012.0', 'year_2013.0', 'year_2014.0',\n",
       "       'year_2015.0', 'passenger_count_2', 'passenger_count_3',\n",
       "       'passenger_count_4', 'passenger_count_5', 'passenger_count_6',\n",
       "       'remarks_month_start', 'remarks_normal', 'time_peakeveningtime',\n",
       "       'time_peaknighttime', 'time_regular', 'season_spring', 'season_summer',\n",
       "       'season_winter'],\n",
       "      dtype='object')"
      ]
     },
     "execution_count": 100,
     "metadata": {},
     "output_type": "execute_result"
    }
   ],
   "source": [
    "model_data_orig.columns"
   ]
  },
  {
   "cell_type": "code",
   "execution_count": 101,
   "metadata": {},
   "outputs": [
    {
     "data": {
      "text/html": [
       "<div>\n",
       "<style scoped>\n",
       "    .dataframe tbody tr th:only-of-type {\n",
       "        vertical-align: middle;\n",
       "    }\n",
       "\n",
       "    .dataframe tbody tr th {\n",
       "        vertical-align: top;\n",
       "    }\n",
       "\n",
       "    .dataframe thead th {\n",
       "        text-align: right;\n",
       "    }\n",
       "</style>\n",
       "<table border=\"1\" class=\"dataframe\">\n",
       "  <thead>\n",
       "    <tr style=\"text-align: right;\">\n",
       "      <th></th>\n",
       "      <th>VIF</th>\n",
       "      <th>features</th>\n",
       "    </tr>\n",
       "  </thead>\n",
       "  <tbody>\n",
       "    <tr>\n",
       "      <th>0</th>\n",
       "      <td>4.540402</td>\n",
       "      <td>day</td>\n",
       "    </tr>\n",
       "    <tr>\n",
       "      <th>1</th>\n",
       "      <td>3.841892</td>\n",
       "      <td>month</td>\n",
       "    </tr>\n",
       "    <tr>\n",
       "      <th>2</th>\n",
       "      <td>3.313969</td>\n",
       "      <td>weekday</td>\n",
       "    </tr>\n",
       "    <tr>\n",
       "      <th>3</th>\n",
       "      <td>3.579799</td>\n",
       "      <td>euclid_dis</td>\n",
       "    </tr>\n",
       "    <tr>\n",
       "      <th>4</th>\n",
       "      <td>1.882340</td>\n",
       "      <td>year_2010.0</td>\n",
       "    </tr>\n",
       "    <tr>\n",
       "      <th>5</th>\n",
       "      <td>1.866023</td>\n",
       "      <td>year_2011.0</td>\n",
       "    </tr>\n",
       "    <tr>\n",
       "      <th>6</th>\n",
       "      <td>1.896685</td>\n",
       "      <td>year_2012.0</td>\n",
       "    </tr>\n",
       "    <tr>\n",
       "      <th>7</th>\n",
       "      <td>1.881011</td>\n",
       "      <td>year_2013.0</td>\n",
       "    </tr>\n",
       "    <tr>\n",
       "      <th>8</th>\n",
       "      <td>1.802881</td>\n",
       "      <td>year_2014.0</td>\n",
       "    </tr>\n",
       "    <tr>\n",
       "      <th>9</th>\n",
       "      <td>1.450629</td>\n",
       "      <td>year_2015.0</td>\n",
       "    </tr>\n",
       "    <tr>\n",
       "      <th>10</th>\n",
       "      <td>1.206960</td>\n",
       "      <td>passenger_count_2</td>\n",
       "    </tr>\n",
       "    <tr>\n",
       "      <th>11</th>\n",
       "      <td>1.065283</td>\n",
       "      <td>passenger_count_3</td>\n",
       "    </tr>\n",
       "    <tr>\n",
       "      <th>12</th>\n",
       "      <td>1.032960</td>\n",
       "      <td>passenger_count_4</td>\n",
       "    </tr>\n",
       "    <tr>\n",
       "      <th>13</th>\n",
       "      <td>1.093113</td>\n",
       "      <td>passenger_count_5</td>\n",
       "    </tr>\n",
       "    <tr>\n",
       "      <th>14</th>\n",
       "      <td>1.037800</td>\n",
       "      <td>passenger_count_6</td>\n",
       "    </tr>\n",
       "    <tr>\n",
       "      <th>15</th>\n",
       "      <td>1.396039</td>\n",
       "      <td>remarks_month_start</td>\n",
       "    </tr>\n",
       "    <tr>\n",
       "      <th>16</th>\n",
       "      <td>5.958390</td>\n",
       "      <td>remarks_normal</td>\n",
       "    </tr>\n",
       "    <tr>\n",
       "      <th>17</th>\n",
       "      <td>2.005051</td>\n",
       "      <td>time_peakeveningtime</td>\n",
       "    </tr>\n",
       "    <tr>\n",
       "      <th>18</th>\n",
       "      <td>1.770930</td>\n",
       "      <td>time_peaknighttime</td>\n",
       "    </tr>\n",
       "    <tr>\n",
       "      <th>19</th>\n",
       "      <td>1.697428</td>\n",
       "      <td>time_regular</td>\n",
       "    </tr>\n",
       "    <tr>\n",
       "      <th>20</th>\n",
       "      <td>2.135252</td>\n",
       "      <td>season_spring</td>\n",
       "    </tr>\n",
       "    <tr>\n",
       "      <th>21</th>\n",
       "      <td>2.222717</td>\n",
       "      <td>season_summer</td>\n",
       "    </tr>\n",
       "    <tr>\n",
       "      <th>22</th>\n",
       "      <td>2.464769</td>\n",
       "      <td>season_winter</td>\n",
       "    </tr>\n",
       "  </tbody>\n",
       "</table>\n",
       "</div>"
      ],
      "text/plain": [
       "         VIF              features\n",
       "0   4.540402                   day\n",
       "1   3.841892                 month\n",
       "2   3.313969               weekday\n",
       "3   3.579799            euclid_dis\n",
       "4   1.882340           year_2010.0\n",
       "5   1.866023           year_2011.0\n",
       "6   1.896685           year_2012.0\n",
       "7   1.881011           year_2013.0\n",
       "8   1.802881           year_2014.0\n",
       "9   1.450629           year_2015.0\n",
       "10  1.206960     passenger_count_2\n",
       "11  1.065283     passenger_count_3\n",
       "12  1.032960     passenger_count_4\n",
       "13  1.093113     passenger_count_5\n",
       "14  1.037800     passenger_count_6\n",
       "15  1.396039   remarks_month_start\n",
       "16  5.958390        remarks_normal\n",
       "17  2.005051  time_peakeveningtime\n",
       "18  1.770930    time_peaknighttime\n",
       "19  1.697428          time_regular\n",
       "20  2.135252         season_spring\n",
       "21  2.222717         season_summer\n",
       "22  2.464769         season_winter"
      ]
     },
     "execution_count": 101,
     "metadata": {},
     "output_type": "execute_result"
    }
   ],
   "source": [
    "vif = pd.DataFrame()\n",
    "predictors = model_data_orig.drop(['fare_amount'],axis=1)\n",
    "vif[\"VIF\"] = [variance_inflation_factor(predictors.values, i) for i in range(predictors.shape[1])]\n",
    "vif[\"features\"] = predictors.columns\n",
    "vif"
   ]
  },
  {
   "cell_type": "code",
   "execution_count": 102,
   "metadata": {},
   "outputs": [
    {
     "data": {
      "text/plain": [
       "Index(['fare_amount', 'weekday', 'euclid_dis', 'month', 'day', 'year_2010.0',\n",
       "       'year_2011.0', 'year_2012.0', 'year_2013.0', 'year_2014.0',\n",
       "       'year_2015.0', 'passenger_count_2', 'passenger_count_3',\n",
       "       'passenger_count_4', 'passenger_count_5', 'passenger_count_6',\n",
       "       'remarks_month_start', 'remarks_normal', 'time_peakeveningtime',\n",
       "       'time_peaknighttime', 'time_regular', 'season_spring', 'season_summer',\n",
       "       'season_winter'],\n",
       "      dtype='object')"
      ]
     },
     "execution_count": 102,
     "metadata": {},
     "output_type": "execute_result"
    }
   ],
   "source": [
    "#### need to remove passenger_count1 from the predictors\n",
    "#model_data_boxcox.corr()['fare_amount']\n",
    "model_data_boxcox.columns"
   ]
  },
  {
   "cell_type": "code",
   "execution_count": 103,
   "metadata": {},
   "outputs": [
    {
     "data": {
      "text/html": [
       "<div>\n",
       "<style scoped>\n",
       "    .dataframe tbody tr th:only-of-type {\n",
       "        vertical-align: middle;\n",
       "    }\n",
       "\n",
       "    .dataframe tbody tr th {\n",
       "        vertical-align: top;\n",
       "    }\n",
       "\n",
       "    .dataframe thead th {\n",
       "        text-align: right;\n",
       "    }\n",
       "</style>\n",
       "<table border=\"1\" class=\"dataframe\">\n",
       "  <thead>\n",
       "    <tr style=\"text-align: right;\">\n",
       "      <th></th>\n",
       "      <th>VIF</th>\n",
       "      <th>features</th>\n",
       "    </tr>\n",
       "  </thead>\n",
       "  <tbody>\n",
       "    <tr>\n",
       "      <th>0</th>\n",
       "      <td>3.441159</td>\n",
       "      <td>weekday</td>\n",
       "    </tr>\n",
       "    <tr>\n",
       "      <th>1</th>\n",
       "      <td>40.043534</td>\n",
       "      <td>euclid_dis</td>\n",
       "    </tr>\n",
       "    <tr>\n",
       "      <th>2</th>\n",
       "      <td>5.407463</td>\n",
       "      <td>month</td>\n",
       "    </tr>\n",
       "    <tr>\n",
       "      <th>3</th>\n",
       "      <td>8.319285</td>\n",
       "      <td>day</td>\n",
       "    </tr>\n",
       "    <tr>\n",
       "      <th>4</th>\n",
       "      <td>1.988734</td>\n",
       "      <td>year_2010.0</td>\n",
       "    </tr>\n",
       "    <tr>\n",
       "      <th>5</th>\n",
       "      <td>1.979074</td>\n",
       "      <td>year_2011.0</td>\n",
       "    </tr>\n",
       "    <tr>\n",
       "      <th>6</th>\n",
       "      <td>2.001019</td>\n",
       "      <td>year_2012.0</td>\n",
       "    </tr>\n",
       "    <tr>\n",
       "      <th>7</th>\n",
       "      <td>1.987537</td>\n",
       "      <td>year_2013.0</td>\n",
       "    </tr>\n",
       "    <tr>\n",
       "      <th>8</th>\n",
       "      <td>1.894652</td>\n",
       "      <td>year_2014.0</td>\n",
       "    </tr>\n",
       "    <tr>\n",
       "      <th>9</th>\n",
       "      <td>1.509057</td>\n",
       "      <td>year_2015.0</td>\n",
       "    </tr>\n",
       "    <tr>\n",
       "      <th>10</th>\n",
       "      <td>1.208633</td>\n",
       "      <td>passenger_count_2</td>\n",
       "    </tr>\n",
       "    <tr>\n",
       "      <th>11</th>\n",
       "      <td>1.065539</td>\n",
       "      <td>passenger_count_3</td>\n",
       "    </tr>\n",
       "    <tr>\n",
       "      <th>12</th>\n",
       "      <td>1.032743</td>\n",
       "      <td>passenger_count_4</td>\n",
       "    </tr>\n",
       "    <tr>\n",
       "      <th>13</th>\n",
       "      <td>1.095751</td>\n",
       "      <td>passenger_count_5</td>\n",
       "    </tr>\n",
       "    <tr>\n",
       "      <th>14</th>\n",
       "      <td>1.037099</td>\n",
       "      <td>passenger_count_6</td>\n",
       "    </tr>\n",
       "    <tr>\n",
       "      <th>15</th>\n",
       "      <td>1.734213</td>\n",
       "      <td>remarks_month_start</td>\n",
       "    </tr>\n",
       "    <tr>\n",
       "      <th>16</th>\n",
       "      <td>8.729334</td>\n",
       "      <td>remarks_normal</td>\n",
       "    </tr>\n",
       "    <tr>\n",
       "      <th>17</th>\n",
       "      <td>2.036071</td>\n",
       "      <td>time_peakeveningtime</td>\n",
       "    </tr>\n",
       "    <tr>\n",
       "      <th>18</th>\n",
       "      <td>1.748665</td>\n",
       "      <td>time_peaknighttime</td>\n",
       "    </tr>\n",
       "    <tr>\n",
       "      <th>19</th>\n",
       "      <td>1.734416</td>\n",
       "      <td>time_regular</td>\n",
       "    </tr>\n",
       "    <tr>\n",
       "      <th>20</th>\n",
       "      <td>2.367141</td>\n",
       "      <td>season_spring</td>\n",
       "    </tr>\n",
       "    <tr>\n",
       "      <th>21</th>\n",
       "      <td>2.379144</td>\n",
       "      <td>season_summer</td>\n",
       "    </tr>\n",
       "    <tr>\n",
       "      <th>22</th>\n",
       "      <td>2.888762</td>\n",
       "      <td>season_winter</td>\n",
       "    </tr>\n",
       "  </tbody>\n",
       "</table>\n",
       "</div>"
      ],
      "text/plain": [
       "          VIF              features\n",
       "0    3.441159               weekday\n",
       "1   40.043534            euclid_dis\n",
       "2    5.407463                 month\n",
       "3    8.319285                   day\n",
       "4    1.988734           year_2010.0\n",
       "5    1.979074           year_2011.0\n",
       "6    2.001019           year_2012.0\n",
       "7    1.987537           year_2013.0\n",
       "8    1.894652           year_2014.0\n",
       "9    1.509057           year_2015.0\n",
       "10   1.208633     passenger_count_2\n",
       "11   1.065539     passenger_count_3\n",
       "12   1.032743     passenger_count_4\n",
       "13   1.095751     passenger_count_5\n",
       "14   1.037099     passenger_count_6\n",
       "15   1.734213   remarks_month_start\n",
       "16   8.729334        remarks_normal\n",
       "17   2.036071  time_peakeveningtime\n",
       "18   1.748665    time_peaknighttime\n",
       "19   1.734416          time_regular\n",
       "20   2.367141         season_spring\n",
       "21   2.379144         season_summer\n",
       "22   2.888762         season_winter"
      ]
     },
     "execution_count": 103,
     "metadata": {},
     "output_type": "execute_result"
    }
   ],
   "source": [
    "vif = pd.DataFrame()\n",
    "predictors = model_data_boxcox.drop(['fare_amount'],axis=1)\n",
    "vif[\"VIF\"] = [variance_inflation_factor(predictors.values, i) for i in range(predictors.shape[1])]\n",
    "vif[\"features\"] = predictors.columns\n",
    "vif"
   ]
  },
  {
   "cell_type": "markdown",
   "metadata": {},
   "source": [
    "#### since the vif for euclid dis is so large, we can't use this, and hence dropping this for evaluation"
   ]
  },
  {
   "cell_type": "markdown",
   "metadata": {},
   "source": [
    "## Get the objects for different models "
   ]
  },
  {
   "cell_type": "code",
   "execution_count": 104,
   "metadata": {},
   "outputs": [],
   "source": [
    "rf = sklearnHelper(clf = RandomForestRegressor, seed = SEED,params = rf_params)\n",
    "lr = sklearnHelper(clf = LinearRegression, seed = SEED,params= None)\n",
    "knn = sklearnHelper(clf=KNeighborsRegressor, seed=SEED, params=knn_params)"
   ]
  },
  {
   "cell_type": "code",
   "execution_count": 105,
   "metadata": {},
   "outputs": [
    {
     "name": "stdout",
     "output_type": "stream",
     "text": [
      "-------------------------\n",
      "linearRegression--------\n",
      "-------------------------\n",
      "model score : 0.6902747154013693\n",
      "rmse : 2.075360721005225\n",
      "model score : 0.6975236291292488\n",
      "rmse : 2.044410394681389\n",
      "model score : 0.6843799934089876\n",
      "rmse : 2.0371463798352174\n",
      "model score : 0.699649207515128\n",
      "rmse : 2.0763012776563254\n",
      "model score : 0.6900182411742742\n",
      "rmse : 2.0734075032566057\n",
      "++++++++++ Average lr score : 0.6923691573258016, Average lr rmse score : 2.0613252552869525\n",
      "-------------------------\n",
      "RandomForestRegressor-----\n",
      "-------------------------\n",
      "model score : 0.6939177310342499\n",
      "rmse : 2.0631193321541765\n",
      "model score : 0.7004298062443777\n",
      "rmse : 2.0345653960974195\n",
      "model score : 0.6810278257744143\n",
      "rmse : 2.0479359678361897\n",
      "model score : 0.6912374534684157\n",
      "rmse : 2.1051754036212014\n",
      "model score : 0.6863861577416641\n",
      "rmse : 2.085519276608105\n",
      "++++++++ Average rf score : 0.6905997948526243, Average rf rmse score : 2.0672630752634182\n",
      "-------------------------\n",
      "KNN ------------------------\n",
      "-------------------------\n",
      "model score : 0.12052573148161227\n",
      "rmse : 3.497170701149624\n",
      "model score : 0.09513412911222441\n",
      "rmse : 3.5360179228529742\n",
      "model score : 0.10052129576568158\n",
      "rmse : 3.439025665722564\n",
      "model score : 0.14401563862804778\n",
      "rmse : 3.5051684605134414\n",
      "model score : 0.13453686097094542\n",
      "rmse : 3.4645025438158066\n",
      "++++++++ Average rf score : 0.11894673119170229, Average rf rmse score : 3.4883770588108822\n"
     ]
    }
   ],
   "source": [
    "\n",
    "iv = model_data_orig.drop(['fare_amount'],axis=1).values\n",
    "dv = model_data_orig['fare_amount']\n",
    "\n",
    "print('-------------------------')\n",
    "print('linearRegression--------')\n",
    "print('-------------------------')\n",
    "lr_avg_score, lr_auc_score,lr_rmse_score,logger= get_score(model_data_orig, lr, iv, dv,regression=True)\n",
    "print('++++++++++ Average lr score : %s, Average lr rmse score : %s'%(lr_avg_score,lr_rmse_score))\n",
    "\n",
    "print('-------------------------')\n",
    "print('RandomForestRegressor-----')\n",
    "print('-------------------------')\n",
    "rf_avg_score,rf_auc_score,rf_rmse_score,logger = get_score(model_data_orig, rf, iv, dv,regression=True)\n",
    "print('++++++++ Average rf score : %s, Average rf rmse score : %s'%( rf_avg_score,rf_rmse_score))\n",
    "\n",
    "print('-------------------------')\n",
    "print('KNN ------------------------')\n",
    "print('-------------------------')\n",
    "knn_avg_score,knn_auc_score,knn_rmse_score,logger = get_score(model_data_orig, knn, iv, dv,regression=True)\n",
    "print('++++++++ Average rf score : %s, Average rf rmse score : %s'%( knn_avg_score,knn_rmse_score))\n",
    "\n",
    "\n"
   ]
  },
  {
   "cell_type": "code",
   "execution_count": 106,
   "metadata": {},
   "outputs": [
    {
     "name": "stdout",
     "output_type": "stream",
     "text": [
      "Index(['month', 'euclid_dis', 'year_2012.0', 'year_2013.0', 'year_2014.0',\n",
      "       'year_2015.0', 'passenger_count_3', 'passenger_count_6',\n",
      "       'time_peakeveningtime', 'time_peaknighttime', 'time_regular'],\n",
      "      dtype='object') [ 0.60148521 13.83731096  0.530654    1.37711184  1.58483376  1.98023892\n",
      "  0.38760849  0.17114656 -0.37979178 -0.84845151 -0.48771199]\n",
      "LR R2 score : 0.7034488956042176\n",
      "Adjusted R2 Score : 0.7032081174710372\n",
      "+++++++++accuracy : 82.50318824917441\n",
      "----------MAPE : %s 17.49681175082559\n",
      "---------RMSE %s 2.0272569932983\n"
     ]
    },
    {
     "data": {
      "image/png": "[encoded data removed]",
      "text/plain": [
       "<Figure size 1440x1440 with 1 Axes>"
      ]
     },
     "metadata": {
      "needs_background": "light"
     },
     "output_type": "display_data"
    },
    {
     "data": {
      "image/png": "[encoded data removed]",
      "text/plain": [
       "<Figure size 1440x720 with 1 Axes>"
      ]
     },
     "metadata": {
      "needs_background": "light"
     },
     "output_type": "display_data"
    }
   ],
   "source": [
    "iv = model_data_orig.drop(['fare_amount','weekday','day','remarks_normal','season_spring','remarks_month_start',\n",
    "       'season_summer', 'season_winter','year_2010.0', 'year_2011.0','passenger_count_2', 'passenger_count_4',\n",
    "        'passenger_count_5'],axis=1)\n",
    "dv = model_data_orig['fare_amount']\n",
    "plot_lr_coef(iv,dv)"
   ]
  },
  {
   "cell_type": "code",
   "execution_count": 107,
   "metadata": {},
   "outputs": [
    {
     "name": "stdout",
     "output_type": "stream",
     "text": [
      "accuracy  0.6801997528944859\n"
     ]
    },
    {
     "data": {
      "image/png": "[encoded data removed]",
      "text/plain": [
       "<Figure size 1800x360 with 1 Axes>"
      ]
     },
     "metadata": {
      "needs_background": "light"
     },
     "output_type": "display_data"
    }
   ],
   "source": [
    "iv = model_data_orig.drop(['fare_amount','weekday','day','year_2010.0','season_winter','season_summer'],axis=1)\n",
    "dv = model_data_orig['fare_amount']\n",
    "plot_rf_feature_importance(iv,dv,rf_params)"
   ]
  },
  {
   "cell_type": "code",
   "execution_count": 108,
   "metadata": {},
   "outputs": [
    {
     "name": "stdout",
     "output_type": "stream",
     "text": [
      "-------------------------\n",
      "linearRegression--------\n",
      "-------------------------\n",
      "model score : 0.6899450808290293\n",
      "rmse : 2.0764648102629084\n",
      "model score : 0.6966798539293797\n",
      "rmse : 2.0472599089209926\n",
      "model score : 0.6841263016097264\n",
      "rmse : 2.037964933016907\n",
      "model score : 0.6994317965925652\n",
      "rmse : 2.0770526139737258\n",
      "model score : 0.6896161719533984\n",
      "rmse : 2.0747517487861593\n",
      "+++++++++++++++Average lr score : 0.6919598409828197, Average lr rmse score : 2.0626988029921387\n",
      "-------------------------\n",
      "RandomForestRegressor-----\n",
      "-------------------------\n",
      "model score : 0.6926528728933778\n",
      "rmse : 2.0673777671660347\n",
      "model score : 0.6965810032569466\n",
      "rmse : 2.047593478147824\n",
      "model score : 0.6812278289828573\n",
      "rmse : 2.047293814658307\n",
      "model score : 0.6908193310869998\n",
      "rmse : 2.1066003224925023\n",
      "model score : 0.6853255789007524\n",
      "rmse : 2.0890427032883188\n",
      "+++++++++Average rf score : 0.6893213230241868, Average rf rmse score : 2.0715816171505974\n",
      "-------------------------\n",
      "KNN ------------------------\n",
      "-------------------------\n",
      "model score : 0.32590588111133034\n",
      "rmse : 3.0617204263332973\n",
      "model score : 0.31107822723922285\n",
      "rmse : 3.0853704005920517\n",
      "model score : 0.311371229832209\n",
      "rmse : 3.0090718355016786\n",
      "model score : 0.3324342911503443\n",
      "rmse : 3.0954442747547715\n",
      "model score : 0.3238302879641449\n",
      "rmse : 3.062276865629545\n",
      "++++++++ Average rf score : 0.3209239834594503, Average rf rmse score : 3.0627767605622687\n"
     ]
    }
   ],
   "source": [
    "\n",
    "iv = model_data_chi2.drop('fare_amount',axis=1).values\n",
    "dv = model_data_chi2['fare_amount']\n",
    "\n",
    "print('-------------------------')\n",
    "print('linearRegression--------')\n",
    "print('-------------------------')\n",
    "lr_avg_score, lr_auc_score,lr_rmse_score,logger= get_score(model_data_chi2, lr, iv, dv,regression=True)\n",
    "print('+++++++++++++++Average lr score : %s, Average lr rmse score : %s'%(lr_avg_score,lr_rmse_score))\n",
    "\n",
    "print('-------------------------')\n",
    "print('RandomForestRegressor-----')\n",
    "print('-------------------------')\n",
    "rf_avg_score,rf_auc_score,rf_rmse_score,logger = get_score(model_data_chi2, rf, iv, dv,regression=True)\n",
    "print('+++++++++Average rf score : %s, Average rf rmse score : %s'%( rf_avg_score,rf_rmse_score))\n",
    "\n",
    "print('-------------------------')\n",
    "print('KNN ------------------------')\n",
    "print('-------------------------')\n",
    "knn_avg_score,knn_auc_score,knn_rmse_score,logger = get_score(model_data_chi2, knn, iv, dv,regression=True)\n",
    "print('++++++++ Average rf score : %s, Average rf rmse score : %s'%( knn_avg_score,knn_rmse_score))\n",
    "\n",
    "\n"
   ]
  },
  {
   "cell_type": "code",
   "execution_count": 110,
   "metadata": {},
   "outputs": [
    {
     "name": "stdout",
     "output_type": "stream",
     "text": [
      "-------------------------\n",
      "linearRegression--------\n",
      "-------------------------\n",
      "model score : 0.6960485544232093\n",
      "rmse : 0.15684190783696597\n",
      "model score : 0.7076508771288721\n",
      "rmse : 0.15347602713132844\n",
      "model score : 0.6903283924978474\n",
      "rmse : 0.15609106145385848\n",
      "model score : 0.7074529267304605\n",
      "rmse : 0.1539529204347498\n",
      "model score : 0.7027370235372717\n",
      "rmse : 0.1543951573259523\n",
      "+++++++++++++++Average lr score : 0.7008435548635321, Average lr rmse score : 0.154951414836571\n",
      "-------------------------\n",
      "RandomForestRegressor-----\n",
      "-------------------------\n",
      "model score : 0.7105398445674442\n",
      "rmse : 0.1530574259669879\n",
      "model score : 0.7185886699152271\n",
      "rmse : 0.15057762413222442\n",
      "model score : 0.6964904600337846\n",
      "rmse : 0.15453025201997364\n",
      "model score : 0.7032255650482687\n",
      "rmse : 0.1550612555909901\n",
      "model score : 0.7099543705107354\n",
      "rmse : 0.15250933459481134\n",
      "+++++++++Average rf score : 0.707759782015092, Average rf rmse score : 0.15314717846099749\n",
      "-------------------------\n",
      "KNN ------------------------\n",
      "-------------------------\n",
      "model score : -0.46940195510852956\n",
      "rmse : 0.34485006844865324\n",
      "~~~~~check logger, r2 is negative\n",
      "model score : -0.4000221929535024\n",
      "rmse : 0.33585909316027246\n",
      "~~~~~check logger, r2 is negative\n",
      "model score : -0.4237382179187972\n",
      "rmse : 0.33468974929728873\n",
      "~~~~~check logger, r2 is negative\n",
      "model score : -0.4464464878133881\n",
      "rmse : 0.34232706653457534\n",
      "~~~~~check logger, r2 is negative\n",
      "model score : -0.4856463118655352\n",
      "rmse : 0.3451604113813362\n",
      "~~~~~check logger, r2 is negative\n",
      "++++++++ Average rf score : -0.4450510331319505, Average rf rmse score : -1\n"
     ]
    }
   ],
   "source": [
    "\n",
    "iv = model_data_cbrt_fare.drop('cbrt_fare',axis=1).values\n",
    "dv = model_data_cbrt_fare['cbrt_fare']\n",
    "\n",
    "print('-------------------------')\n",
    "print('linearRegression--------')\n",
    "print('-------------------------')\n",
    "lr_avg_score, lr_auc_score,lr_rmse_score,logger= get_score(model_data_cbrt_fare, lr, iv, dv,regression=True)\n",
    "print('+++++++++++++++Average lr score : %s, Average lr rmse score : %s'%(lr_avg_score,lr_rmse_score))\n",
    "\n",
    "print('-------------------------')\n",
    "print('RandomForestRegressor-----')\n",
    "print('-------------------------')\n",
    "rf_avg_score,rf_auc_score,rf_rmse_score,logger = get_score(model_data_cbrt_fare, rf, iv, dv,regression=True)\n",
    "print('+++++++++Average rf score : %s, Average rf rmse score : %s'%( rf_avg_score,rf_rmse_score))\n",
    "\n",
    "print('-------------------------')\n",
    "print('KNN ------------------------')\n",
    "print('-------------------------')\n",
    "knn_avg_score,knn_auc_score,knn_rmse_score,logger = get_score(model_data_cbrt_fare, knn, iv, dv,regression=True)\n",
    "print('++++++++ Average rf score : %s, Average rf rmse score : %s'%( knn_avg_score,knn_rmse_score))\n",
    "\n"
   ]
  },
  {
   "cell_type": "markdown",
   "metadata": {},
   "source": [
    "#### Model with cube root fare_amount, shows the highest score and least rmse"
   ]
  },
  {
   "cell_type": "code",
   "execution_count": 111,
   "metadata": {},
   "outputs": [
    {
     "name": "stdout",
     "output_type": "stream",
     "text": [
      "-------------------------\n",
      "linearRegression--------\n",
      "-------------------------\n",
      "model score : 0.6269803689076493\n",
      "rmse : 2.2585544625118197\n",
      "model score : 0.6302672553236751\n",
      "rmse : 2.248454559522805\n",
      "model score : 0.6252244141293652\n",
      "rmse : 2.1993835284713876\n",
      "model score : 0.6262512431014975\n",
      "rmse : 2.2857040374811377\n",
      "model score : 0.6227864180489227\n",
      "rmse : 2.2648362929652874\n",
      "+++++++++++++++Average lr score : 0.6263019399022219, Average lr rmse score : 2.2513865761904874\n",
      "-------------------------\n",
      "RandomForestRegressor-----\n",
      "-------------------------\n",
      "model score : 0.6656488844452297\n",
      "rmse : 2.1382875715835428\n",
      "model score : 0.6686315111843313\n",
      "rmse : 2.1286083492196877\n",
      "model score : 0.6583976837562465\n",
      "rmse : 2.0997893358165856\n",
      "model score : 0.6663668349721014\n",
      "rmse : 2.159557265005461\n",
      "model score : 0.649116236986222\n",
      "rmse : 2.1843628961973276\n",
      "+++++++++Average rf score : 0.6616322302688261, Average rf rmse score : 2.142121083564521\n",
      "-------------------------\n",
      "KNN ------------------------\n",
      "-------------------------\n",
      "model score : -0.5510127174486708\n",
      "rmse : 4.599234429528257\n",
      "~~~~~check logger, r2 is negative\n",
      "model score : -0.4623614238924938\n",
      "rmse : 4.478390703864523\n",
      "~~~~~check logger, r2 is negative\n",
      "model score : -0.5572400499643653\n",
      "rmse : 4.503727819252791\n",
      "~~~~~check logger, r2 is negative\n",
      "model score : -0.5572167265674528\n",
      "rmse : 4.605179626019555\n",
      "~~~~~check logger, r2 is negative\n",
      "model score : -0.5460744204929768\n",
      "rmse : 4.6146550772837704\n",
      "~~~~~check logger, r2 is negative\n",
      "++++++++ Average rf score : -0.5347810676731919, Average rf rmse score : -1\n"
     ]
    }
   ],
   "source": [
    "\n",
    "iv = model_data_boxcox.drop(['fare_amount'],axis=1).values\n",
    "dv = model_data_boxcox['fare_amount']\n",
    "\n",
    "print('-------------------------')\n",
    "print('linearRegression--------')\n",
    "print('-------------------------')\n",
    "lr_avg_score, lr_auc_score,lr_rmse_score,logger= get_score(model_data_boxcox, lr, iv, dv,regression=True)\n",
    "print('+++++++++++++++Average lr score : %s, Average lr rmse score : %s'%(lr_avg_score,lr_rmse_score))\n",
    "\n",
    "print('-------------------------')\n",
    "print('RandomForestRegressor-----')\n",
    "print('-------------------------')\n",
    "rf_avg_score,rf_auc_score,rf_rmse_score,logger = get_score(model_data_boxcox, rf, iv, dv,regression=True)\n",
    "print('+++++++++Average rf score : %s, Average rf rmse score : %s'%( rf_avg_score,rf_rmse_score))\n",
    "\n",
    "print('-------------------------')\n",
    "print('KNN ------------------------')\n",
    "print('-------------------------')\n",
    "knn_avg_score,knn_auc_score,knn_rmse_score,logger = get_score(model_data_orig, knn, iv, dv,regression=True)\n",
    "print('++++++++ Average rf score : %s, Average rf rmse score : %s'%( knn_avg_score,knn_rmse_score))\n",
    "\n",
    "\n"
   ]
  },
  {
   "cell_type": "markdown",
   "metadata": {},
   "source": [
    "## rmse is least when cube root fares were used\n",
    "-- neglecting day,weekday gives the best 0.70 score for this data"
   ]
  },
  {
   "cell_type": "code",
   "execution_count": 112,
   "metadata": {},
   "outputs": [
    {
     "name": "stdout",
     "output_type": "stream",
     "text": [
      "LinearRegression: r2 0.6936266698744884 vif : 3.263991678356374\n",
      "ols: r2 0.6936266698744883 vif : 3.263991678356374\n"
     ]
    },
    {
     "data": {
      "text/html": [
       "<table class=\"simpletable\">\n",
       "<caption>OLS Regression Results</caption>\n",
       "<tr>\n",
       "  <th>Dep. Variable:</th>       <td>fare_amount</td>   <th>  R-squared:         </th> <td>   0.694</td> \n",
       "</tr>\n",
       "<tr>\n",
       "  <th>Model:</th>                   <td>OLS</td>       <th>  Adj. R-squared:    </th> <td>   0.693</td> \n",
       "</tr>\n",
       "<tr>\n",
       "  <th>Method:</th>             <td>Least Squares</td>  <th>  F-statistic:       </th> <td>   1703.</td> \n",
       "</tr>\n",
       "<tr>\n",
       "  <th>Date:</th>             <td>Wed, 11 Sep 2019</td> <th>  Prob (F-statistic):</th>  <td>  0.00</td>  \n",
       "</tr>\n",
       "<tr>\n",
       "  <th>Time:</th>                 <td>15:25:23</td>     <th>  Log-Likelihood:    </th> <td> -29029.</td> \n",
       "</tr>\n",
       "<tr>\n",
       "  <th>No. Observations:</th>      <td> 13560</td>      <th>  AIC:               </th> <td>5.810e+04</td>\n",
       "</tr>\n",
       "<tr>\n",
       "  <th>Df Residuals:</th>          <td> 13541</td>      <th>  BIC:               </th> <td>5.824e+04</td>\n",
       "</tr>\n",
       "<tr>\n",
       "  <th>Df Model:</th>              <td>    18</td>      <th>                     </th>     <td> </td>    \n",
       "</tr>\n",
       "<tr>\n",
       "  <th>Covariance Type:</th>      <td>nonrobust</td>    <th>                     </th>     <td> </td>    \n",
       "</tr>\n",
       "</table>\n",
       "<table class=\"simpletable\">\n",
       "<tr>\n",
       "            <td></td>              <th>coef</th>     <th>std err</th>      <th>t</th>      <th>P>|t|</th>  <th>[0.025</th>    <th>0.975]</th>  \n",
       "</tr>\n",
       "<tr>\n",
       "  <th>const</th>                <td>    2.9239</td> <td>    0.073</td> <td>   40.084</td> <td> 0.000</td> <td>    2.781</td> <td>    3.067</td>\n",
       "</tr>\n",
       "<tr>\n",
       "  <th>month</th>                <td>    0.6484</td> <td>    0.062</td> <td>   10.421</td> <td> 0.000</td> <td>    0.526</td> <td>    0.770</td>\n",
       "</tr>\n",
       "<tr>\n",
       "  <th>euclid_dis</th>           <td>   13.8394</td> <td>    0.081</td> <td>  169.820</td> <td> 0.000</td> <td>   13.680</td> <td>   13.999</td>\n",
       "</tr>\n",
       "<tr>\n",
       "  <th>year_2011.0</th>          <td>    0.0657</td> <td>    0.055</td> <td>    1.199</td> <td> 0.231</td> <td>   -0.042</td> <td>    0.173</td>\n",
       "</tr>\n",
       "<tr>\n",
       "  <th>year_2012.0</th>          <td>    0.5129</td> <td>    0.055</td> <td>    9.399</td> <td> 0.000</td> <td>    0.406</td> <td>    0.620</td>\n",
       "</tr>\n",
       "<tr>\n",
       "  <th>year_2013.0</th>          <td>    1.4020</td> <td>    0.055</td> <td>   25.555</td> <td> 0.000</td> <td>    1.294</td> <td>    1.510</td>\n",
       "</tr>\n",
       "<tr>\n",
       "  <th>year_2014.0</th>          <td>    1.6123</td> <td>    0.057</td> <td>   28.462</td> <td> 0.000</td> <td>    1.501</td> <td>    1.723</td>\n",
       "</tr>\n",
       "<tr>\n",
       "  <th>year_2015.0</th>          <td>    1.9954</td> <td>    0.075</td> <td>   26.526</td> <td> 0.000</td> <td>    1.848</td> <td>    2.143</td>\n",
       "</tr>\n",
       "<tr>\n",
       "  <th>passenger_count_2</th>    <td>    0.1197</td> <td>    0.052</td> <td>    2.323</td> <td> 0.020</td> <td>    0.019</td> <td>    0.221</td>\n",
       "</tr>\n",
       "<tr>\n",
       "  <th>passenger_count_3</th>    <td>    0.3595</td> <td>    0.089</td> <td>    4.045</td> <td> 0.000</td> <td>    0.185</td> <td>    0.534</td>\n",
       "</tr>\n",
       "<tr>\n",
       "  <th>passenger_count_4</th>    <td>    0.1898</td> <td>    0.126</td> <td>    1.505</td> <td> 0.132</td> <td>   -0.057</td> <td>    0.437</td>\n",
       "</tr>\n",
       "<tr>\n",
       "  <th>passenger_count_5</th>    <td>    0.1595</td> <td>    0.072</td> <td>    2.204</td> <td> 0.028</td> <td>    0.018</td> <td>    0.301</td>\n",
       "</tr>\n",
       "<tr>\n",
       "  <th>passenger_count_6</th>    <td>    0.2426</td> <td>    0.129</td> <td>    1.875</td> <td> 0.061</td> <td>   -0.011</td> <td>    0.496</td>\n",
       "</tr>\n",
       "<tr>\n",
       "  <th>remarks_month_start</th>  <td>    0.1727</td> <td>    0.109</td> <td>    1.579</td> <td> 0.114</td> <td>   -0.042</td> <td>    0.387</td>\n",
       "</tr>\n",
       "<tr>\n",
       "  <th>remarks_normal</th>       <td>    0.0520</td> <td>    0.048</td> <td>    1.095</td> <td> 0.274</td> <td>   -0.041</td> <td>    0.145</td>\n",
       "</tr>\n",
       "<tr>\n",
       "  <th>time_peakeveningtime</th> <td>   -0.3942</td> <td>    0.047</td> <td>   -8.465</td> <td> 0.000</td> <td>   -0.486</td> <td>   -0.303</td>\n",
       "</tr>\n",
       "<tr>\n",
       "  <th>time_peaknighttime</th>   <td>   -0.9135</td> <td>    0.051</td> <td>  -17.802</td> <td> 0.000</td> <td>   -1.014</td> <td>   -0.813</td>\n",
       "</tr>\n",
       "<tr>\n",
       "  <th>time_regular</th>         <td>   -0.5166</td> <td>    0.051</td> <td>  -10.092</td> <td> 0.000</td> <td>   -0.617</td> <td>   -0.416</td>\n",
       "</tr>\n",
       "<tr>\n",
       "  <th>season_spring</th>        <td>    0.0329</td> <td>    0.049</td> <td>    0.667</td> <td> 0.505</td> <td>   -0.064</td> <td>    0.130</td>\n",
       "</tr>\n",
       "</table>\n",
       "<table class=\"simpletable\">\n",
       "<tr>\n",
       "  <th>Omnibus:</th>       <td>4361.875</td> <th>  Durbin-Watson:     </th> <td>   1.996</td> \n",
       "</tr>\n",
       "<tr>\n",
       "  <th>Prob(Omnibus):</th>  <td> 0.000</td>  <th>  Jarque-Bera (JB):  </th> <td>22679.300</td>\n",
       "</tr>\n",
       "<tr>\n",
       "  <th>Skew:</th>           <td> 1.462</td>  <th>  Prob(JB):          </th> <td>    0.00</td> \n",
       "</tr>\n",
       "<tr>\n",
       "  <th>Kurtosis:</th>       <td> 8.621</td>  <th>  Cond. No.          </th> <td>    11.5</td> \n",
       "</tr>\n",
       "</table><br/><br/>Warnings:<br/>[1] Standard Errors assume that the covariance matrix of the errors is correctly specified."
      ],
      "text/plain": [
       "<class 'statsmodels.iolib.summary.Summary'>\n",
       "\"\"\"\n",
       "                            OLS Regression Results                            \n",
       "==============================================================================\n",
       "Dep. Variable:            fare_amount   R-squared:                       0.694\n",
       "Model:                            OLS   Adj. R-squared:                  0.693\n",
       "Method:                 Least Squares   F-statistic:                     1703.\n",
       "Date:                Wed, 11 Sep 2019   Prob (F-statistic):               0.00\n",
       "Time:                        15:25:23   Log-Likelihood:                -29029.\n",
       "No. Observations:               13560   AIC:                         5.810e+04\n",
       "Df Residuals:                   13541   BIC:                         5.824e+04\n",
       "Df Model:                          18                                         \n",
       "Covariance Type:            nonrobust                                         \n",
       "========================================================================================\n",
       "                           coef    std err          t      P>|t|      [0.025      0.975]\n",
       "----------------------------------------------------------------------------------------\n",
       "const                    2.9239      0.073     40.084      0.000       2.781       3.067\n",
       "month                    0.6484      0.062     10.421      0.000       0.526       0.770\n",
       "euclid_dis              13.8394      0.081    169.820      0.000      13.680      13.999\n",
       "year_2011.0              0.0657      0.055      1.199      0.231      -0.042       0.173\n",
       "year_2012.0              0.5129      0.055      9.399      0.000       0.406       0.620\n",
       "year_2013.0              1.4020      0.055     25.555      0.000       1.294       1.510\n",
       "year_2014.0              1.6123      0.057     28.462      0.000       1.501       1.723\n",
       "year_2015.0              1.9954      0.075     26.526      0.000       1.848       2.143\n",
       "passenger_count_2        0.1197      0.052      2.323      0.020       0.019       0.221\n",
       "passenger_count_3        0.3595      0.089      4.045      0.000       0.185       0.534\n",
       "passenger_count_4        0.1898      0.126      1.505      0.132      -0.057       0.437\n",
       "passenger_count_5        0.1595      0.072      2.204      0.028       0.018       0.301\n",
       "passenger_count_6        0.2426      0.129      1.875      0.061      -0.011       0.496\n",
       "remarks_month_start      0.1727      0.109      1.579      0.114      -0.042       0.387\n",
       "remarks_normal           0.0520      0.048      1.095      0.274      -0.041       0.145\n",
       "time_peakeveningtime    -0.3942      0.047     -8.465      0.000      -0.486      -0.303\n",
       "time_peaknighttime      -0.9135      0.051    -17.802      0.000      -1.014      -0.813\n",
       "time_regular            -0.5166      0.051    -10.092      0.000      -0.617      -0.416\n",
       "season_spring            0.0329      0.049      0.667      0.505      -0.064       0.130\n",
       "==============================================================================\n",
       "Omnibus:                     4361.875   Durbin-Watson:                   1.996\n",
       "Prob(Omnibus):                  0.000   Jarque-Bera (JB):            22679.300\n",
       "Skew:                           1.462   Prob(JB):                         0.00\n",
       "Kurtosis:                       8.621   Cond. No.                         11.5\n",
       "==============================================================================\n",
       "\n",
       "Warnings:\n",
       "[1] Standard Errors assume that the covariance matrix of the errors is correctly specified.\n",
       "\"\"\""
      ]
     },
     "execution_count": 112,
     "metadata": {},
     "output_type": "execute_result"
    }
   ],
   "source": [
    "\n",
    "iv = model_data_orig.drop(['fare_amount','weekday','day','year_2010.0','season_winter','season_summer'],axis=1)\n",
    "dv = model_data_orig['fare_amount']\n",
    "cmp_model(iv,dv)\n"
   ]
  },
  {
   "cell_type": "markdown",
   "metadata": {},
   "source": [
    "#### looking at the p value, remarks_month_start,remarks_normal,season_Spring,passenger_count_4, year_2011 is not significant since p-value is greater than 0.05, sttaing that we fail to reject the null hypothesis and these variables are independent wrt our target fare_amount\n",
    "- LinearRegression gives overall best results\n",
    "- with cube root of fare_Amount, random forest is little better"
   ]
  },
  {
   "cell_type": "markdown",
   "metadata": {},
   "source": [
    "## Predict for the test records"
   ]
  },
  {
   "cell_type": "code",
   "execution_count": 113,
   "metadata": {},
   "outputs": [],
   "source": [
    "iv = model_data_cbrt_fare.drop(['cbrt_fare'],axis=1)\n",
    "dv = model_data_cbrt_fare['cbrt_fare']\n",
    "iv_test = model_test\n",
    "model = LinearRegression().fit(iv,dv)#using all records for training now\n",
    "dv_test_pred = model.predict(iv_test)#predict test records\n",
    "iv_test['fare_amount'] = pow(dv_test_pred,(3))#converting back\n",
    "\n",
    "#write back the results\n",
    "iv_test.to_csv(submitted_data_path,index=False)\n"
   ]
  },
  {
   "cell_type": "code",
   "execution_count": null,
   "metadata": {},
   "outputs": [],
   "source": []
  }
 ],
 "metadata": {
  "kernelspec": {
   "display_name": "Python 3",
   "language": "python",
   "name": "python3"
  },
  "language_info": {
   "codemirror_mode": {
    "name": "ipython",
    "version": 3
   },
   "file_extension": ".py",
   "mimetype": "text/x-python",
   "name": "python",
   "nbconvert_exporter": "python",
   "pygments_lexer": "ipython3",
   "version": "3.7.3"
  }
 },
 "nbformat": 4,
 "nbformat_minor": 2
}
